{
  "cells": [
    {
      "cell_type": "markdown",
      "metadata": {
        "id": "view-in-github",
        "colab_type": "text"
      },
      "source": [
        "<a href=\"https://colab.research.google.com/github/ThorGroth/D-D/blob/master/04_homework.ipynb\" target=\"_parent\"><img src=\"https://colab.research.google.com/assets/colab-badge.svg\" alt=\"Open In Colab\"/></a>"
      ]
    },
    {
      "cell_type": "markdown",
      "metadata": {
        "id": "rD96Xrma4q_Y"
      },
      "source": [
        "# Python Schleifen: Einfache Übungsaufgaben\n",
        "Dieses Jupyter Notebook enthält einfache Übungsaufgaben zu Schleifen in Python. Du kannst die Code-Zellen direkt ausführen und die Lösungen anpassen.\n",
        "## 1. While-Schleifen\n",
        "\n",
        "### Übung 1.1: Basiszähler\n",
        "Schreibe eine while-Schleife, die die Zahlen von 1 bis 10 ausgibt."
      ]
    },
    {
      "cell_type": "code",
      "execution_count": 1,
      "metadata": {
        "colab": {
          "base_uri": "https://localhost:8080/"
        },
        "id": "8X5ZgoBh4q_g",
        "outputId": "98144cdc-fd74-4959-daf4-489dbef3e966"
      },
      "outputs": [
        {
          "output_type": "stream",
          "name": "stdout",
          "text": [
            "1\n",
            "2\n",
            "3\n",
            "4\n",
            "5\n",
            "6\n",
            "7\n",
            "8\n",
            "9\n",
            "10\n"
          ]
        }
      ],
      "source": [
        "# Deine Lösung hier\n",
        "count = 1\n",
        "while count <= 10:\n",
        "    print(count)\n",
        "    count += 1"
      ]
    },
    {
      "cell_type": "markdown",
      "metadata": {
        "id": "ce6ykI7w4q_j"
      },
      "source": [
        "### Übung 1.2: Rückwärtszählen\n",
        "Schreibe eine while-Schleife, die von 10 bis 1 rückwärts zählt."
      ]
    },
    {
      "cell_type": "code",
      "execution_count": 2,
      "metadata": {
        "colab": {
          "base_uri": "https://localhost:8080/"
        },
        "id": "cY1baOky4q_k",
        "outputId": "00b53784-52c4-46fc-e418-cd63ba30741e"
      },
      "outputs": [
        {
          "output_type": "stream",
          "name": "stdout",
          "text": [
            "10\n",
            "9\n",
            "8\n",
            "7\n",
            "6\n",
            "5\n",
            "4\n",
            "3\n",
            "2\n",
            "1\n"
          ]
        }
      ],
      "source": [
        "# Deine Lösung hier\n",
        "count = 10\n",
        "while count >= 1:\n",
        "    print(count)\n",
        "    count -= 1"
      ]
    },
    {
      "cell_type": "markdown",
      "metadata": {
        "id": "H-FUv7IC4q_l"
      },
      "source": [
        "### Übung 1.4: Gerade Zahlen\n",
        "Gib mit einer while-Schleife alle geraden Zahlen zwischen 2 und 20 aus."
      ]
    },
    {
      "cell_type": "code",
      "execution_count": 3,
      "metadata": {
        "colab": {
          "base_uri": "https://localhost:8080/"
        },
        "id": "otLlixMb4q_l",
        "outputId": "ecbe026a-5d43-4125-fafa-d7f23592befc"
      },
      "outputs": [
        {
          "output_type": "stream",
          "name": "stdout",
          "text": [
            "2\n",
            "4\n",
            "6\n",
            "8\n",
            "10\n",
            "12\n",
            "14\n",
            "16\n",
            "18\n",
            "20\n"
          ]
        }
      ],
      "source": [
        "# Deine Lösung hier\n",
        "i = 2\n",
        "\n",
        "while i <= 20:\n",
        "    print(i)\n",
        "    i += 2"
      ]
    },
    {
      "cell_type": "markdown",
      "metadata": {
        "id": "lRzTbcGy4q_m"
      },
      "source": [
        "## 2. For-Schleifen\n",
        "\n",
        "### Übung 2.1: Listenverarbeitung\n",
        "Erstelle eine Liste mit fünf Früchten und gib jede Frucht in einer eigenen Zeile aus."
      ]
    },
    {
      "cell_type": "code",
      "execution_count": 4,
      "metadata": {
        "colab": {
          "base_uri": "https://localhost:8080/"
        },
        "id": "9VsRv7RB4q_m",
        "outputId": "16b12ba0-a9f3-409c-a5d5-602f3815075c"
      },
      "outputs": [
        {
          "output_type": "stream",
          "name": "stdout",
          "text": [
            "Apfel\n",
            "Banane\n",
            "Orange\n",
            "Erdbeere\n",
            "Kiwi\n"
          ]
        }
      ],
      "source": [
        "# Deine Lösung hier\n",
        "fruechte = [\"Apfel\", \"Banane\", \"Orange\", \"Erdbeere\", \"Kiwi\"]\n",
        "\n",
        "for frucht in fruechte:\n",
        "    print(frucht)"
      ]
    },
    {
      "cell_type": "markdown",
      "metadata": {
        "id": "B6OIinkt4q_n"
      },
      "source": [
        "### Übung 2.3: Schrittwerte\n",
        "Gib mit einer for-Schleife alle Zahlen von 0 bis 20 in 2er-Schritten aus."
      ]
    },
    {
      "cell_type": "code",
      "execution_count": 5,
      "metadata": {
        "colab": {
          "base_uri": "https://localhost:8080/"
        },
        "id": "h_OExucs4q_o",
        "outputId": "6f87c1a7-7906-4fab-d11f-fcebb4ff2a04"
      },
      "outputs": [
        {
          "output_type": "stream",
          "name": "stdout",
          "text": [
            "0\n",
            "2\n",
            "4\n",
            "6\n",
            "8\n",
            "10\n",
            "12\n",
            "14\n",
            "16\n",
            "18\n",
            "20\n"
          ]
        }
      ],
      "source": [
        "# Deine Lösung hier\n",
        "for i in range(0, 21, 2):\n",
        "    print(i)"
      ]
    },
    {
      "cell_type": "markdown",
      "metadata": {
        "id": "nOf_W9Br4q_o"
      },
      "source": [
        "## 3. Schleifensteuerung\n",
        "\n",
        "### Übung 3.1: Break-Anweisung\n",
        "Schreibe eine for-Schleife, die die Zahlen von 1 bis 20 ausgibt, aber abbricht, wenn sie auf die Zahl 13 trifft."
      ]
    },
    {
      "cell_type": "code",
      "execution_count": 6,
      "metadata": {
        "colab": {
          "base_uri": "https://localhost:8080/"
        },
        "id": "cQlgXuql4q_p",
        "outputId": "e922b7ef-90af-47cc-8842-13bbda41d18a"
      },
      "outputs": [
        {
          "output_type": "stream",
          "name": "stdout",
          "text": [
            "1\n",
            "2\n",
            "3\n",
            "4\n",
            "5\n",
            "6\n",
            "7\n",
            "8\n",
            "9\n",
            "10\n",
            "11\n",
            "12\n"
          ]
        }
      ],
      "source": [
        "# Deine Lösung hier\n",
        "for i in range(1, 21):\n",
        "    if i == 13:\n",
        "        break\n",
        "    print(i)"
      ]
    },
    {
      "cell_type": "markdown",
      "metadata": {
        "id": "JL-UHHIA4q_p"
      },
      "source": [
        "### Übung 3.2: Continue-Anweisung\n",
        "Schreibe eine Schleife, die die Zahlen von 1 bis 10 ausgibt, aber die Zahl 7 überspringt."
      ]
    },
    {
      "cell_type": "code",
      "execution_count": 7,
      "metadata": {
        "colab": {
          "base_uri": "https://localhost:8080/"
        },
        "id": "kYX06eNS4q_p",
        "outputId": "f62124e0-f616-4803-ea89-fff1d8de9f66"
      },
      "outputs": [
        {
          "output_type": "stream",
          "name": "stdout",
          "text": [
            "1\n",
            "2\n",
            "3\n",
            "4\n",
            "5\n",
            "6\n",
            "8\n",
            "9\n",
            "10\n"
          ]
        }
      ],
      "source": [
        "# Deine Lösung hier\n",
        "for i in range(1, 11):\n",
        "    if i == 7:\n",
        "        continue\n",
        "    print(i)"
      ]
    },
    {
      "cell_type": "markdown",
      "metadata": {
        "id": "i5r5aS6O4q_q"
      },
      "source": [
        "## 4. Bonusaufgabe: Verschachtelte Schleifen\n",
        "\n",
        "### Übung 4.1: Einfaches Rechteck\n",
        "Erstelle ein Rechteck aus Sternchen mit 3 Zeilen und 5 Spalten."
      ]
    },
    {
      "cell_type": "code",
      "execution_count": 8,
      "metadata": {
        "colab": {
          "base_uri": "https://localhost:8080/"
        },
        "id": "LBje_aZp4q_q",
        "outputId": "26fd9777-e0d1-42a0-e006-cbaa3b7c9de3"
      },
      "outputs": [
        {
          "output_type": "stream",
          "name": "stdout",
          "text": [
            "*****\n",
            "*****\n",
            "*****\n"
          ]
        }
      ],
      "source": [
        "# Deine Lösung hier\n",
        "for i in range(3):\n",
        "    for j in range(5):\n",
        "        print(\"*\", end=\"\")\n",
        "    print()"
      ]
    },
    {
      "cell_type": "markdown",
      "metadata": {
        "id": "kvXAyU094q_q"
      },
      "source": [
        "### Übung 4.2: Multiplikationstabelle\n",
        "Erstelle eine kleine Multiplikationstabelle für die Zahlen 1 bis 3."
      ]
    },
    {
      "cell_type": "code",
      "execution_count": 11,
      "metadata": {
        "colab": {
          "base_uri": "https://localhost:8080/"
        },
        "id": "UX-5INej4q_q",
        "outputId": "548a8009-edcf-4b82-f6a0-d140e6f4cc61"
      },
      "outputs": [
        {
          "output_type": "stream",
          "name": "stdout",
          "text": [
            "1 2 3 \n",
            "2 4 6 \n",
            "3 6 9 \n"
          ]
        }
      ],
      "source": [
        "# Deine Lösung hier\n",
        "for i in range(1, 4):\n",
        "    for j in range(1, 4):\n",
        "        produkt = i * j\n",
        "        print(f\"{produkt}\", end=\" \")\n",
        "    print()"
      ]
    },
    {
      "cell_type": "markdown",
      "metadata": {
        "id": "ip0HW1fB4q_r"
      },
      "source": [
        "## Bonus-Übungen\n",
        "\n",
        "### Bonus 1: FizzBuzz\n",
        "Schreibe eine Schleife, die die Zahlen von 1 bis 20 durchläuft. Gibt \"Fizz\" aus, wenn die Zahl durch 3 teilbar ist, \"Buzz\", wenn sie durch 5 teilbar ist, und \"FizzBuzz\", wenn sie durch beide teilbar ist. Sonst gib einfach die Zahl aus."
      ]
    },
    {
      "cell_type": "code",
      "execution_count": 12,
      "metadata": {
        "colab": {
          "base_uri": "https://localhost:8080/"
        },
        "id": "qyJ23NhQ4q_r",
        "outputId": "949f43af-614a-4527-b1e5-257a20ecb938"
      },
      "outputs": [
        {
          "output_type": "stream",
          "name": "stdout",
          "text": [
            "1\n",
            "2\n",
            "Fizz\n",
            "4\n",
            "Buzz\n",
            "Fizz\n",
            "7\n",
            "8\n",
            "Fizz\n",
            "Buzz\n",
            "11\n",
            "Fizz\n",
            "13\n",
            "14\n",
            "FizzBuzz\n",
            "16\n",
            "17\n",
            "Fizz\n",
            "19\n",
            "Buzz\n"
          ]
        }
      ],
      "source": [
        "# Deine Lösung hier\n",
        "for i in range(1, 21):  # Durchläuft die Zahlen von 1 bis 20\n",
        "    if i % 3 == 0 and i % 5 == 0:\n",
        "        print(\"FizzBuzz\")\n",
        "    elif i % 3 == 0:\n",
        "        print(\"Fizz\")\n",
        "    elif i % 5 == 0:\n",
        "        print(\"Buzz\")\n",
        "    else:\n",
        "        print(i)"
      ]
    },
    {
      "cell_type": "markdown",
      "metadata": {
        "id": "kpqX6GWO4q_r"
      },
      "source": [
        "### Bonus 2: Einfacher Taschenrechner\n",
        "Erstelle einen einfachen Taschenrechner mit einer while-Schleife, der Operationen (+, -, *, /) durchführt, bis der Benutzer \"ende\" eingibt."
      ]
    },
    {
      "cell_type": "code",
      "execution_count": 22,
      "metadata": {
        "id": "tHpPPMAi4q_s"
      },
      "outputs": [],
      "source": [
        "# Diese Lösung simuliert Eingaben, da input() in Jupyter blockieren würde\n",
        "# In einer normalen Python-Umgebung würdest du input() verwenden\n",
        "\n",
        "# Simulierte Eingaben\n",
        "eingaben = [\"5\", \"+\", \"3\", \"=\", \"8\", \"-\", \"2\", \"=\", \"ende\"]\n",
        "eingabe_index = 0\n",
        "\n",
        "def simuliere_eingabe(prompt):\n",
        "    global eingabe_index\n",
        "    if eingabe_index < len(eingaben):\n",
        "        wert = eingaben[eingabe_index]\n",
        "        eingabe_index += 1\n",
        "        print(f\"{prompt}{wert}\")\n",
        "        return wert\n",
        "    return \"ende\"\n",
        "\n",
        "# Taschenrechner\n",
        "# Hier kommt deine Lösung:"
      ]
    },
    {
      "cell_type": "markdown",
      "metadata": {
        "id": "VuLGXvan4q_s"
      },
      "source": [
        "### Bonus 3: Zahlenraten-Spiel\n",
        "Implementiere ein einfaches Spiel, bei dem der Computer eine Zahl zwischen 1 und 100 \"denkt\" und der Spieler sie erraten muss."
      ]
    },
    {
      "cell_type": "code",
      "execution_count": 17,
      "metadata": {
        "colab": {
          "base_uri": "https://localhost:8080/"
        },
        "id": "sVYBy7Wm4q_s",
        "outputId": "096f29c0-eda9-4b02-f25b-ae5a5dda63c0"
      },
      "outputs": [
        {
          "output_type": "stream",
          "name": "stdout",
          "text": [
            "[Für Testzwecke: Die geheime Zahl ist 74]\n"
          ]
        }
      ],
      "source": [
        "# Simulierte Eingaben für das Spiel\n",
        "import random\n",
        "\n",
        "# Computer wählt eine Zahl\n",
        "geheimzahl = random.randint(1, 100)\n",
        "print(f\"[Für Testzwecke: Die geheime Zahl ist {geheimzahl}]\")\n",
        "\n",
        "# Simulierte Eingaben - normalerweise würdest du input() verwenden\n",
        "# Der Einfachheit halber raten wir schrittweise\n",
        "rateindex = 0\n",
        "rateversuche = []\n",
        "\n",
        "def simuliere_ratespiel():\n",
        "    global rateindex\n",
        "    if rateindex == 0:\n",
        "        # Erster Rateversuch in der Mitte\n",
        "        versuch = 50\n",
        "    else:\n",
        "        # Folgende Versuche basierend auf Hinweisen\n",
        "        letzter_versuch = rateversuche[-1]\n",
        "        if letzter_versuch < geheimzahl:\n",
        "            versuch = min(letzter_versuch + 10, 100)  # Höher raten\n",
        "        else:\n",
        "            versuch = max(letzter_versuch - 10, 1)    # Niedriger raten\n",
        "\n",
        "    rateversuche.append(versuch)\n",
        "    rateindex += 1\n",
        "    return str(versuch)\n",
        "\n",
        "# Hier kommt deine Lösung:"
      ]
    }
  ],
  "metadata": {
    "kernelspec": {
      "display_name": "Python 3",
      "language": "python",
      "name": "python3"
    },
    "language_info": {
      "name": "python",
      "version": "3.11.11"
    },
    "colab": {
      "provenance": [],
      "include_colab_link": true
    }
  },
  "nbformat": 4,
  "nbformat_minor": 0
}