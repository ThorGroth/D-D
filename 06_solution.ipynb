{
  "cells": [
    {
      "cell_type": "markdown",
      "metadata": {
        "id": "view-in-github",
        "colab_type": "text"
      },
      "source": [
        "<a href=\"https://colab.research.google.com/github/ThorGroth/D-D/blob/master/06_solution.ipynb\" target=\"_parent\"><img src=\"https://colab.research.google.com/assets/colab-badge.svg\" alt=\"Open In Colab\"/></a>"
      ]
    },
    {
      "cell_type": "markdown",
      "metadata": {
        "id": "a3Im_WusaAcK"
      },
      "source": [
        "# Python Funktionen, Module und Ausnahmebehandlung\n",
        "\n",
        "## PCEP-Prüfungsvorbereitung - Interaktives Lernmaterial\n",
        "\n",
        "Dieses Jupyter Notebook dient als interaktive Lernumgebung zum Thema Funktionen und Module in Python. Du kannst die Code-Beispiele direkt ausführen, modifizieren und mit den Übungsaufgaben dein Verständnis vertiefen.\n",
        "\n",
        "### Inhaltsverzeichnis\n",
        "1. [Funktionsgrundlagen](#1-funktionsgrundlagen)\n",
        "2. [Rückgabewerte](#2-rückgabewerte)\n",
        "3. [Funktionsparameter](#3-funktionsparameter)\n",
        "4. [Fortgeschrittene Funktionskonzepte](#4-fortgeschrittene-funktionskonzepte)\n",
        "5. [Gültigkeitsbereich (Scope)](#5-gültigkeitsbereich-scope)\n",
        "6. [Module und Pakete](#6-module-und-pakete)\n",
        "7. [Ausnahmebehandlung](#7-ausnahmebehandlung)\n",
        "\n",
        "## 1. Funktionsgrundlagen\n",
        "\n",
        "Funktionen sind wiederverwendbare Codeblöcke, die eine bestimmte Aufgabe erfüllen. Sie ermöglichen es uns, Code zu organisieren, zu strukturieren und mehrfach zu verwenden, ohne ihn wiederholen zu müssen.\n",
        "\n",
        "### 💡 Leitfrage:\n",
        "Warum sind Funktionen ein zentrales Konzept in der Programmierung und wie verbessern sie den Code?\n",
        "- Übersichtlichkeit: Code wird in einzelne Teile bzw. logische Einheiten strukturiert\n",
        "- Wartbarkeit: Einzelne Funktionen testen und einfacher anzupassen, weniger fehleranfällig, da nur an einer Stelle implementiert\n",
        "- Lesbarkeit: Schneller Fehler finden und Funktionen erleichtern es, den Code zu lesen\n",
        "- Modularität: Komplexe Probleme werden in kleinere, leichter lösbare Teilprobleme zerlegt (Divide & Conquer)\n",
        "\n",
        "### 1.1 Definition und Aufruf von Funktionen\n",
        "\n",
        "In Python werden Funktionen mit dem Schlüsselwort `def` definiert, gefolgt vom Funktionsnamen und Klammern `()`.\n"
      ]
    },
    {
      "cell_type": "code",
      "execution_count": null,
      "metadata": {
        "id": "mcVSn9DWaAcN",
        "outputId": "b8e40b57-fc1e-474c-8886-4b66f7bd82ab"
      },
      "outputs": [
        {
          "name": "stdout",
          "output_type": "stream",
          "text": [
            "Hallo! Willkommen zu Python-Funktionen\n",
            "\n",
            "Wir rufen die Funktion erneut auf:\n",
            "Hallo! Willkommen zu Python-Funktionen\n",
            "Hallo! Willkommen zu Python-Funktionen\n",
            "Hallo! Willkommen zu Python-Funktionen\n",
            "Hallo! Willkommen zu Python-Funktionen\n",
            "Hallo! Willkommen zu Python-Funktionen\n",
            "Hallo! Willkommen zu Python-Funktionen\n",
            "Hallo! Willkommen zu Python-Funktionen\n"
          ]
        }
      ],
      "source": [
        "# Eine einfache Funktion definieren\n",
        "def greet():\n",
        "    \"\"\"Diese Funktion gibt eine Begrüßung aus.\"\"\"  # Docstring - Dokumentation der Funktion\n",
        "    print(\"Hallo! Willkommen zu Python-Funktionen\")\n",
        "\n",
        "# # Die Funktion aufrufen\n",
        "greet()\n",
        "\n",
        "# # Eine Funktion kann mehrmals aufgerufen werden\n",
        "print(\"\\nWir rufen die Funktion erneut auf:\")\n",
        "greet()\n",
        "greet()\n",
        "greet()\n",
        "greet()\n",
        "greet()\n",
        "greet()\n",
        "greet()\n"
      ]
    },
    {
      "cell_type": "markdown",
      "metadata": {
        "id": "GBoROHiDaAcO"
      },
      "source": [
        "### 1.2 Parameter und Argumente\n",
        "\n",
        "Parameter sind Variablen, die in der Funktionsdefinition angegeben werden. Argumente sind die tatsächlichen Werte, die beim Aufruf einer Funktion übergeben werden."
      ]
    },
    {
      "cell_type": "code",
      "execution_count": null,
      "metadata": {
        "id": "wdFF-aBeaAcO",
        "outputId": "7165415d-0a83-43f8-c5cd-621a97308335"
      },
      "outputs": [
        {
          "name": "stdout",
          "output_type": "stream",
          "text": [
            "Hallo Max! Schön, dich kennenzulernen. du bist 23 Jahre alt\n",
            "Hallo Anna! Schön, dich kennenzulernen. du bist 18 Jahre alt\n",
            "Hallo Helen! Schön, dich kennenzulernen. du bist 30 Jahre alt\n",
            "Lisa ist 28 Jahre alt und lebt in Berlin.\n",
            "Tom ist 35 Jahre alt und lebt in München.\n"
          ]
        }
      ],
      "source": [
        "# Funktion mit einem Parameter\n",
        "## Achtung: name heißt hier (Übergabe-) Parameter\n",
        "def greet_person(name, alter):\n",
        "    \"\"\"Begrüßt eine Person mit ihrem Namen.\"\"\"\n",
        "    print(f\"Hallo {name}! Schön, dich kennenzulernen. du bist {alter} Jahre alt\")\n",
        "\n",
        "# Funktionsaufruf mit einem Argument\n",
        "## Achtung: \"Max\" heißt hier das Argument\n",
        "greet_person(\"Max\", 23)\n",
        "greet_person(\"Anna\", 18)\n",
        "\n",
        "tier = \"Helen\"\n",
        "kaffee = 30\n",
        "greet_person(tier, kaffee)\n",
        "\n",
        "# Funktion mit mehreren Parametern\n",
        "def describe_person(name, age, city):\n",
        "    \"\"\"Gibt Informationen über eine Person aus.\"\"\"\n",
        "    print(f\"{name} ist {age} Jahre alt und lebt in {city}.\")\n",
        "\n",
        "# Funktionsaufruf mit mehreren Argumenten\n",
        "describe_person(\"Lisa\", 28, \"Berlin\")\n",
        "describe_person(\"Tom\", 35, \"München\")"
      ]
    },
    {
      "cell_type": "markdown",
      "metadata": {
        "id": "7AxZYiSLaAcP"
      },
      "source": [
        "\n",
        "**Übung 1.2a**: Schreibe eine Funktion `calculate_rectangle_area`, die die Fläche eines Rechtecks berechnet. Die Funktion soll zwei Parameter haben: Länge und Breite. Rufe die Funktion mit verschiedenen Werten auf."
      ]
    },
    {
      "cell_type": "code",
      "execution_count": null,
      "metadata": {
        "id": "jbksatyVaAcP",
        "outputId": "7c4f015d-123b-456d-a26f-3c4c3260978c"
      },
      "outputs": [
        {
          "name": "stdout",
          "output_type": "stream",
          "text": [
            "Die Fläche vom Rechteck 6 mal 5 ist 30\n",
            "Berechnete Summe an Flächen von 2 Rechtecken 27\n"
          ]
        }
      ],
      "source": [
        "def calculate_rectangle_area(length, width):\n",
        "    area = length * width\n",
        "    return area\n",
        "def calculate_more_rectangles(area1, area2):\n",
        "    sum_area = 0\n",
        "    sum_area = area1 + area2\n",
        "    return sum_area\n",
        "#   alternativ: return length * width\n",
        "\n",
        "# rectangle_3_times_5 = calculate_rectangle_area(3,5)\n",
        "# print(rectangle_3_times_5)\n",
        "\n",
        "print(f\"Die Fläche vom Rechteck 6 mal 5 ist {calculate_rectangle_area(6,5)}\")\n",
        "\n",
        "# rectangle_2_times6 = calculate_rectangle_area(2,6)\n",
        "\n",
        "\n",
        "\n",
        "\n",
        "print(f\"Berechnete Summe an Flächen von 2 Rechtecken {calculate_more_rectangles(calculate_rectangle_area(3,5), calculate_rectangle_area(2,6))}\")\n",
        "\n",
        "\n"
      ]
    },
    {
      "cell_type": "code",
      "execution_count": null,
      "metadata": {
        "id": "h8ZZPKYkaAcP"
      },
      "outputs": [],
      "source": [
        "# def calculate_rectangle_area(length, width):\n",
        "#     area = length * width\n",
        "#     return area\n",
        "# def calculate_more_rectangles(func, area1, area2):\n",
        "#     result = func(area1, area2)\n",
        "#     result += 1\n",
        "#     return result\n",
        "\n",
        "# print(f\"Das Ergebnis ist {calculate_more_rectangles(calculate_rectangle_area(3,4), 3,4)}\")\n",
        "\n",
        "# Beispiel folgt"
      ]
    },
    {
      "cell_type": "code",
      "execution_count": null,
      "metadata": {
        "id": "bJk1TsjTaAcP",
        "outputId": "2792fa71-bd85-4f9b-bc3f-065c6ddddd9c"
      },
      "outputs": [
        {
          "name": "stdout",
          "output_type": "stream",
          "text": [
            "Die Fläche von dem Rechteck 3 x 5 ergibt 15\n"
          ]
        }
      ],
      "source": [
        "def calculate_rectangle_area(length, width):\n",
        "    area = length * width\n",
        "    print(f\"Die Fläche von dem Rechteck {length} x {width} ergibt {area}\")\n",
        "#   alternativ: return length * width\n",
        "\n",
        "calculate_rectangle_area(3,5)\n",
        "# print(rectangle_3_times_5)\n",
        "# print(f\"Die Fläche vom Rechteck 6 mal 5 ist {calculate_rectangle_area(6,5)}\")"
      ]
    },
    {
      "cell_type": "markdown",
      "metadata": {
        "id": "7wdVY8lJaAcQ"
      },
      "source": [
        "**Übung 1.2b**: Schreibe eine Funktion `print_personal_info`, die persönliche Informationen ausgibt. Die Funktion soll Parameter für Name, Alter, Stadt und Beruf haben. Rufe die Funktion mit deinen eigenen Daten auf."
      ]
    },
    {
      "cell_type": "code",
      "execution_count": null,
      "metadata": {
        "id": "Z9R7X2XKaAcQ",
        "outputId": "dd02e989-3b7d-4e33-d4d0-b0ae143de4bd"
      },
      "outputs": [
        {
          "name": "stdout",
          "output_type": "stream",
          "text": [
            "Name: Max Mustermann\n",
            "Alter: 30\n",
            "Stadt: Berlin\n",
            "Beruf: Softwareentwickler\n",
            "--------------------\n"
          ]
        }
      ],
      "source": [
        "def print_personal_info(name, age, city, profession):\n",
        "    \"\"\"Gibt persönliche Informationen aus.\"\"\"\n",
        "    print(f\"Name: {name}\")\n",
        "    print(f\"Alter: {age}\")\n",
        "    print(f\"Stadt: {city}\")\n",
        "    print(f\"Beruf: {profession}\")\n",
        "    print(\"-\" * 20)  # Trennlinie für bessere Lesbarkeit\n",
        "\n",
        "# Testen mit eigenen Daten\n",
        "print_personal_info(\"Max Mustermann\", 30, \"Berlin\", \"Softwareentwickler\")"
      ]
    },
    {
      "cell_type": "markdown",
      "metadata": {
        "id": "sgDmpz2ZaAcQ"
      },
      "source": [
        "## 2. Rückgabewerte\n",
        "\n",
        "Funktionen können Werte zurückgeben, die später im Programm verwendet werden können. Dies geschieht mit der `return`-Anweisung.\n",
        "\n",
        "### 💡 Leitfrage:\n",
        "Warum ist es oft besser, einen Wert zurückzugeben, anstatt ihn direkt in der Funktion auszugeben?\n",
        "- Flexibler, wenn zurückgegebene Werte später nochmal verarbeitet werden sollen, dann haben wir die nämlich fest iwo zwischengespeichert\n",
        "- Wiederverwendbar (s.o.)\n",
        "- Trennung von Logik und Darstellung (Separation of Concern): Berechung wird von Ausgabe getrennt\n",
        "- Komposition: Wenn wir die Rückgabewerte als Eingabe für andere Funktionen haben wollen\n",
        "\n",
        "### 2.1 return-Anweisung"
      ]
    },
    {
      "cell_type": "code",
      "execution_count": null,
      "metadata": {
        "id": "chMT4wd9aAcQ",
        "outputId": "e25087bc-8dfe-4adc-9c4b-2e3b66cba03d"
      },
      "outputs": [
        {
          "name": "stdout",
          "output_type": "stream",
          "text": [
            "Das Quadrat von 5 ist 25.\n",
            "Das Quadrat von 7 ist 49.\n",
            "Die Summe der Quadrate von 3 und 4 ist 25.\n",
            "Hallo!\n",
            "Der Rückgabewert ist: None\n",
            "Die Zahl ist positiv!\n",
            "Die Zahl ist nicht positiv.\n"
          ]
        }
      ],
      "source": [
        "# Funktion mit Rückgabewert\n",
        "def square(number):\n",
        "    \"\"\"Gibt das Quadrat einer Zahl zurück.\"\"\"\n",
        "    result = number ** 2\n",
        "    return result\n",
        "    # return number ** 2\n",
        "\n",
        "# Verwendung des Rückgabewerts\n",
        "squared_value = square(5)\n",
        "print(f\"Das Quadrat von 5 ist {squared_value}.\")\n",
        "\n",
        "# Direktere Verwendung\n",
        "print(f\"Das Quadrat von 7 ist {square(7)}.\")\n",
        "\n",
        "# Rückgabewerte in Berechnungen verwenden\n",
        "sum_of_squares = square(3) + square(4)\n",
        "print(f\"Die Summe der Quadrate von 3 und 4 ist {sum_of_squares}.\")\n",
        "\n",
        "# Funktion ohne expliziten Rückgabewert\n",
        "def greet_without_return():\n",
        "    \"\"\"Gibt einen Gruß aus, ohne etwas zurückzugeben.\"\"\"\n",
        "    print(\"Hallo!\")\n",
        "    # Kein return-Statement\n",
        "\n",
        "# Wenn eine Funktion kein return-Statement hat, gibt sie None zurück\n",
        "result = greet_without_return()\n",
        "print(f\"Der Rückgabewert ist: {result}\")\n",
        "\n",
        "# Frühzeitiges Verlassen einer Funktion mit return\n",
        "## Achtung: Das nennen wir early-return\n",
        "def check_positive(number):\n",
        "    \"\"\"Prüft, ob eine Zahl positiv ist.\"\"\"\n",
        "    if number <= 0:\n",
        "        print(\"Die Zahl ist nicht positiv.\")\n",
        "        return  # Frühzeitiges Verlassen der Funktion\n",
        "\n",
        "    print(\"Die Zahl ist positiv!\")\n",
        "\n",
        "# Testen\n",
        "check_positive(5)\n",
        "check_positive(-3)"
      ]
    },
    {
      "cell_type": "markdown",
      "metadata": {
        "id": "2XtMx7_vaAcQ"
      },
      "source": [
        "### 2.2 Mehrere Rückgabewerte\n",
        "\n",
        "In Python können Funktionen mehrere Werte auf einmal zurückgeben, indem sie diese durch Kommas trennen."
      ]
    },
    {
      "cell_type": "code",
      "execution_count": null,
      "metadata": {
        "id": "DElwX7BAaAcQ",
        "outputId": "220f2912-9a3b-4543-e8f4-0f9ac0351c82"
      },
      "outputs": [
        {
          "name": "stdout",
          "output_type": "stream",
          "text": [
            "(1, 6)\n",
            "1 und 6\n"
          ]
        }
      ],
      "source": [
        "# Funktion mit mehreren Rückgabewerten\n",
        "def get_min_max(numbers):\n",
        "    \"\"\"\n",
        "    Description:\n",
        "        Gibt das Minimum und Maximum einer Zahlenliste zurück.\n",
        "    Args:\n",
        "        Bekommt eine Liste an Zahlen mitgegeben\n",
        "    Returns:\n",
        "        Ein Tupel bestehend aus minimalen Wert und maximalen Wert in dieser Reihenfolge\n",
        "    \"\"\"\n",
        "    min_value = min(numbers)\n",
        "    max_value = max(numbers)\n",
        "    return min_value, max_value  # Gibt ein Tupel zurück\n",
        "\n",
        "numbers = [1,2,3,4,5,6]\n",
        "tupel_with_min_and_max_number = get_min_max(numbers)\n",
        "print(tupel_with_min_and_max_number)\n",
        "min_value, max_value = tupel_with_min_and_max_number\n",
        "print(f\"{min_value} und {max_value}\")\n",
        "\n",
        "# tupel_example = (3,5,7) # = 3,5,7\n",
        "# x,y,z = tupel_example\n",
        "# print(f\"{x}, {y} und {z}\")\n",
        "\n",
        "# # wenn wir gleichzeitig mehrere Variablen initialisieren/deklarieren aka Wert zuweisen\n",
        "# a,b,c = 1,2,3 # 1,2,3 ist auch ein Tupel nur ohne Klammern (ist dasselbe, aber merken was hier passiert)\n",
        "\n",
        "# # Aufruf und Speichern der Rückgabewerte\n",
        "# my_list = [3, 7, 2, 9, 1, 8]\n",
        "# min_num, max_num = get_min_max(my_list)  # Tuple unpacking\n",
        "# print(f\"Minimum: {min_num}, Maximum: {max_num}\")\n",
        "\n",
        "# # Alternative: Rückgabewert als Tupel speichern\n",
        "# result = get_min_max(my_list)\n",
        "# print(f\"Ergebnis als Tupel: {result}\")\n",
        "# print(f\"Minimum: {result[0]}, Maximum: {result[1]}\")\n",
        "\n",
        "# # Funktion, die verschiedene Berechnungen zurückgibt\n",
        "# def analyze_numbers(numbers):\n",
        "#     \"\"\"Gibt verschiedene Statistiken zu einer Zahlenliste zurück.\"\"\"\n",
        "#     count = len(numbers)\n",
        "#     total = sum(numbers)\n",
        "#     average = total / count if count > 0 else 0\n",
        "#     minimum = min(numbers) if count > 0 else None\n",
        "#     maximum = max(numbers) if count > 0 else None\n",
        "\n",
        "#     return count, total, average, minimum, maximum\n",
        "\n",
        "# # Alle Werte entpacken\n",
        "# num_list = [15, 22, 8, 31, 17, 24]\n",
        "# count, total, avg, min_val, max_val = analyze_numbers(num_list)\n",
        "\n",
        "# print(f\"Anzahl: {count}\")\n",
        "# print(f\"Summe: {total}\")\n",
        "# print(f\"Durchschnitt: {avg:.2f}\")\n",
        "# print(f\"Minimum: {min_val}\")\n",
        "# print(f\"Maximum: {max_val}\")"
      ]
    },
    {
      "cell_type": "markdown",
      "metadata": {
        "id": "agQW8K0YaAcR"
      },
      "source": [
        "**Übung 2.2a**: Schreibe eine Funktion `calculate_circle`, die den Umfang und die Fläche eines Kreises berechnet und zurückgibt. Die Funktion soll einen Parameter für den Radius haben und ein Tupel mit beiden Werten zurückgeben. Verwende die Konstante `3.14159` für π."
      ]
    },
    {
      "cell_type": "code",
      "execution_count": null,
      "metadata": {
        "id": "dkkJ9-6qaAcR",
        "outputId": "5ee3ecd1-58ea-4f2b-f846-f2186a082276"
      },
      "outputs": [
        {
          "name": "stdout",
          "output_type": "stream",
          "text": [
            "Ein Kreis mit Radius 5 hat den Umfang 31.4159 und die Fläche 78.53975\n"
          ]
        }
      ],
      "source": [
        "def calculate_circle(radius):\n",
        "    \"\"\"\n",
        "    Definition:\n",
        "        Die Funktion soll den Umfang und die Fläche eines Kreises berechnen\n",
        "    Args:\n",
        "        radius: Der Radius eines Kreises\n",
        "    Returns:\n",
        "        Ein Tupel mit (Umfang, Fläche)\n",
        "    \"\"\"\n",
        "    PI = 3.14159\n",
        "    circumference = 2 * PI * radius # 2pir\n",
        "    area = PI * radius ** 2 # pir^2\n",
        "    return circumference, area\n",
        "\n",
        "radius_test = 5\n",
        "umfang, flaeche = calculate_circle(radius_test)\n",
        "print(f\"Ein Kreis mit Radius {radius_test} hat den Umfang {umfang} und die Fläche {flaeche}\")"
      ]
    },
    {
      "cell_type": "markdown",
      "metadata": {
        "id": "vSLj0_poaAcR"
      },
      "source": [
        "**Übung 2.2b**: Schreibe eine Funktion `analyze_text`, die einen Text als Parameter nimmt und die Anzahl der Wörter, die Anzahl der Zeichen (ohne Leerzeichen) und das längste Wort zurückgibt."
      ]
    },
    {
      "cell_type": "code",
      "execution_count": null,
      "metadata": {
        "id": "NZxQ5LRjaAcR",
        "outputId": "1c50a9ad-4de9-476a-9e53-489c2861a459"
      },
      "outputs": [
        {
          "name": "stdout",
          "output_type": "stream",
          "text": [
            "Textanalyse:\n",
            "Anzahl Wörter: 10\n",
            "Anzahl Zeichen (ohne Leerzeichen): 77\n",
            "Längstes Wort: 'Programmiersprache'\n"
          ]
        }
      ],
      "source": [
        "def analyze_text(text):\n",
        "    \"\"\"Analysiert einen Text und gibt Statistiken zurück.\n",
        "\n",
        "    Args:\n",
        "        text: Der zu analysierende Text\n",
        "\n",
        "    Returns:\n",
        "        Ein Tupel mit (Anzahl Wörter, Anzahl Zeichen ohne Leerzeichen, längstes Wort)\n",
        "    \"\"\"\n",
        "    # Text in Wörter aufteilen\n",
        "    words = text.split()\n",
        "\n",
        "    # Anzahl der Wörter\n",
        "    word_count = len(words)\n",
        "\n",
        "    # Anzahl der Zeichen (ohne Leerzeichen)\n",
        "    char_count = len(text) - text.count(\" \")\n",
        "\n",
        "    # Längstes Wort finden\n",
        "    longest_word = max(words, key=len)\n",
        "\n",
        "    return (word_count, char_count, longest_word)\n",
        "\n",
        "# Testen der Funktion\n",
        "sample_text = \"Python ist eine großartige Programmiersprache für Einsteiger und erfahrene Entwickler.\"\n",
        "word_count, char_count, longest_word = analyze_text(sample_text)\n",
        "\n",
        "print(f\"Textanalyse:\")\n",
        "print(f\"Anzahl Wörter: {word_count}\")\n",
        "print(f\"Anzahl Zeichen (ohne Leerzeichen): {char_count}\")\n",
        "print(f\"Längstes Wort: '{longest_word}'\")"
      ]
    },
    {
      "cell_type": "markdown",
      "metadata": {
        "id": "DRZJbpEdaAcR"
      },
      "source": [
        "## 3. Funktionsparameter\n",
        "\n",
        "Python bietet verschiedene Möglichkeiten, Parameter an Funktionen zu übergeben, was die Flexibilität und Lesbarkeit verbessert.\n",
        "\n",
        "### 💡 Leitfrage:\n",
        "Wie können wir Funktionen flexibler gestalten, damit sie in verschiedenen Situationen verwendet werden können?\n",
        "\n",
        "### 3.1 Positionsparameter vs. Schlüsselwortparameter\n",
        "\n",
        "Python erlaubt zwei Arten der Parameterübergabe:\n",
        "1. **Positionsparameter**: Die Argumente werden in der gleichen Reihenfolge übergeben wie die Parameter definiert wurden.\n",
        "2. **Schlüsselwortparameter** (Keyword Arguments): Die Argumente werden mit dem Parameternamen übergeben, was die Reihenfolge irrelevant macht."
      ]
    },
    {
      "cell_type": "code",
      "execution_count": 1,
      "metadata": {
        "id": "N8vM6CL8aAcR",
        "outputId": "c8806ebc-a436-4285-b946-fd5b3c7c0100",
        "colab": {
          "base_uri": "https://localhost:8080/",
          "height": 106
        }
      },
      "outputs": [
        {
          "output_type": "error",
          "ename": "SyntaxError",
          "evalue": "positional argument follows keyword argument (<ipython-input-1-31fa63dbd92a>, line 23)",
          "traceback": [
            "\u001b[0;36m  File \u001b[0;32m\"<ipython-input-1-31fa63dbd92a>\"\u001b[0;36m, line \u001b[0;32m23\u001b[0m\n\u001b[0;31m    display_info(name=\"Lisa\", 28, \"Frankfurt\")  # Dies wird einen Fehler verursachen\u001b[0m\n\u001b[0m                                             ^\u001b[0m\n\u001b[0;31mSyntaxError\u001b[0m\u001b[0;31m:\u001b[0m positional argument follows keyword argument\n"
          ]
        }
      ],
      "source": [
        "# Funktion mit mehreren Parametern\n",
        "def display_info(name, age, city):\n",
        "    \"\"\"Zeigt persönliche Informationen an.\"\"\"\n",
        "    print(f\"Name: {name}\")\n",
        "    print(f\"Alter: {age}\")\n",
        "    print(f\"Stadt: {city}\")\n",
        "    print(\"-\" * 20)\n",
        "\n",
        "# Aufruf mit Positionsparametern\n",
        "print(\"Mit Positionsparametern:\")\n",
        "display_info(\"Max\", 30, \"Berlin\")\n",
        "\n",
        "# Aufruf mit Schlüsselwortparametern\n",
        "print(\"Mit Schlüsselwortparametern:\")\n",
        "display_info(city=\"Hamburg\", name=\"Anna\", age=25)\n",
        "\n",
        "# Mischung aus Positions- und Schlüsselwortparametern\n",
        "print(\"Gemischt:\")\n",
        "display_info(\"Tom\", city=\"München\", age=35)  # Positionsparameter müssen vor Schlüsselwortparametern stehen\n",
        "\n",
        "# Fehlerhaft: Positionsparameter nach Schlüsselwortparametern\n",
        "try:\n",
        "    display_info(name=\"Lisa\", 28, \"Frankfurt\")  # Dies wird einen Fehler verursachen\n",
        "except SyntaxError:\n",
        "    print(\"Fehler: Positionsparameter müssen vor Schlüsselwortparametern stehen!\")"
      ]
    },
    {
      "cell_type": "markdown",
      "metadata": {
        "id": "CY1e3MTcaAcR"
      },
      "source": [
        "### 3.2 Standardwerte für Parameter\n",
        "\n",
        "Parameter können Standardwerte haben, die verwendet werden, wenn beim Funktionsaufruf kein entsprechendes Argument übergeben wird."
      ]
    },
    {
      "cell_type": "code",
      "execution_count": null,
      "metadata": {
        "id": "0AXeX_6EaAcR",
        "outputId": "79164382-569a-4a83-b2ce-81c14cf8ece6"
      },
      "outputs": [
        {
          "name": "stdout",
          "output_type": "stream",
          "text": [
            "Hallo, Gast!\n",
            "Hallo, Max!\n",
            "Willkommen, Anna!\n",
            "Willkommen, Helen!\n",
            "Einfaches Profil: {'name': 'Max', 'age': 30, 'city': 'Unbekannt', 'job': None, 'hobbies': None}\n",
            "Detailliertes Profil: {'name': 'Anna', 'age': 25, 'city': 'Berlin', 'job': 'Entwicklerin', 'hobbies': ['Lesen', 'Reisen', 'Programmieren']}\n",
            "Teilweise ausgefülltes Profil: {'name': 'Tom', 'age': 35, 'city': 'München', 'job': None, 'hobbies': ['Sport', 'Kochen']}\n"
          ]
        }
      ],
      "source": [
        "# Funktion mit Standardwerten\n",
        "def greet_with_defaults(name=\"Gast\", greeting=\"Hallo\"):\n",
        "    \"\"\"Begrüßt einen Benutzer mit anpassbarer Begrüßung.\"\"\"\n",
        "    print(f\"{greeting}, {name}!\")\n",
        "\n",
        "# Verschiedene Arten, die Funktion aufzurufen\n",
        "greet_with_defaults()  # Verwendet beide Standardwerte\n",
        "greet_with_defaults(\"Max\")  # Verwendet nur den Standardwert für greeting\n",
        "greet_with_defaults(\"Anna\", \"Willkommen\")  # Überschreibt beide Standardwerte\n",
        "# greet_with_defaults(greeting=\"Guten Tag\", \"Helen\")  # Überschreibt nur greeting\n",
        "greet_with_defaults(\"Helen\", greeting=\"Willkommen\")  # Überschreibt nur greeting\n",
        "\n",
        "\n",
        "# Komplexeres Beispiel\n",
        "def create_profile(name, age, job=None, city=\"Unbekannt\", hobbies=None):\n",
        "    \"\"\"Erstellt ein Benutzerprofil mit optionalen Feldern.\"\"\"\n",
        "    profile = {\n",
        "        \"name\": name,\n",
        "        \"age\": age,\n",
        "        \"city\": city\n",
        "    }\n",
        "\n",
        "    # Optionale Felder nur hinzufügen, wenn sie angegeben wurden\n",
        "    if job is not None:\n",
        "        profile[\"job\"] = job\n",
        "\n",
        "    if hobbies is not None:\n",
        "        profile[\"hobbies\"] = hobbies\n",
        "\n",
        "    return profile\n",
        "\n",
        "# Verschiedene Profile erstellen\n",
        "basic_profile = create_profile(\"Max\", 30)   # profile = {name: Max, age: 30, job: None, city: Unbgekannt, hobbies: None}\n",
        "detailed_profile = create_profile(\"Anna\", 25, \"Entwicklerin\", \"Berlin\", [\"Lesen\", \"Reisen\", \"Programmieren\"])\n",
        "partial_profile = create_profile(\"Tom\", 35, city=\"München\", hobbies=[\"Sport\", \"Kochen\"])\n",
        "\n",
        "print(\"Einfaches Profil:\", basic_profile)\n",
        "print(\"Detailliertes Profil:\", detailed_profile)\n",
        "print(\"Teilweise ausgefülltes Profil:\", partial_profile)"
      ]
    },
    {
      "cell_type": "markdown",
      "metadata": {
        "id": "NVVYyQuEaAcR"
      },
      "source": [
        "**Übung 3.2a**: Schreibe eine Funktion `calculate_price`, die den Endpreis einer Ware berechnet. Die Funktion soll Parameter für den Grundpreis und den Mehrwertsteuersatz haben, wobei der Mehrwertsteuersatz einen Standardwert von 19% haben soll. Optional soll auch ein Rabatt in Prozent angegeben werden können (Standardwert: 0%)."
      ]
    },
    {
      "cell_type": "code",
      "execution_count": 2,
      "metadata": {
        "id": "alKgHpNDaAcR",
        "outputId": "8f4d1fd0-7544-4e7f-bb93-b6867a7397e5",
        "colab": {
          "base_uri": "https://localhost:8080/"
        }
      },
      "outputs": [
        {
          "output_type": "stream",
          "name": "stdout",
          "text": [
            "Grundpreis 100€, Standard-MwSt: 119.00€\n",
            "Grundpreis 100€, 7% MwSt: 107.00€\n",
            "Grundpreis 100€, Standard-MwSt, 10% Rabatt: 107.10€\n",
            "Grundpreis 100€, 7% MwSt, 15% Rabatt: 90.95€\n"
          ]
        }
      ],
      "source": [
        "def calculate_price(base_price, tax_rate=19, discount=0):\n",
        "    \"\"\"Berechnet den Endpreis einer Ware.\n",
        "\n",
        "    Args:\n",
        "        base_price: Grundpreis in Euro\n",
        "        tax_rate: Mehrwertsteuersatz in Prozent (Standard: 19%)\n",
        "        discount: Rabatt in Prozent (Standard: 0%)\n",
        "\n",
        "    Returns:\n",
        "        Der berechnete Endpreis in Euro\n",
        "    \"\"\"\n",
        "    # Rabatt anwenden\n",
        "    discounted_price = base_price * (1 - discount / 100)\n",
        "\n",
        "    # Mehrwertsteuer hinzufügen\n",
        "    final_price = discounted_price * (1 + tax_rate / 100)\n",
        "\n",
        "    return final_price\n",
        "\n",
        "# Testen der Funktion\n",
        "print(f\"Grundpreis 100€, Standard-MwSt: {calculate_price(100):.2f}€\")\n",
        "print(f\"Grundpreis 100€, 7% MwSt: {calculate_price(100, 7):.2f}€\")\n",
        "print(f\"Grundpreis 100€, Standard-MwSt, 10% Rabatt: {calculate_price(100, discount=10):.2f}€\")\n",
        "print(f\"Grundpreis 100€, 7% MwSt, 15% Rabatt: {calculate_price(100, 7, 15):.2f}€\")"
      ]
    },
    {
      "cell_type": "markdown",
      "metadata": {
        "id": "ODUuI6MmaAcS"
      },
      "source": [
        "**Übung 3.2b**: Schreibe eine Funktion `create_email`, die eine E-Mail-Nachricht erstellt. Die Funktion soll Parameter für Empfänger, Betreff und Nachrichtentext haben. Füge optionale Parameter für CC, BCC und Anhänge hinzu (mit leeren Listen als Standardwerte)."
      ]
    },
    {
      "cell_type": "code",
      "execution_count": 3,
      "metadata": {
        "id": "erUIYgXwaAcS",
        "outputId": "fa9e0bf9-24b9-411d-b47a-5594e8283eff",
        "colab": {
          "base_uri": "https://localhost:8080/"
        }
      },
      "outputs": [
        {
          "output_type": "stream",
          "name": "stdout",
          "text": [
            "Die erste E-Mail sieht so aus: mit Empfänger {'recipient': 'test@mail.de', 'subject': 'test', 'body': 'testing', 'cc': None, 'bcc': None, 'attachments': None}\n"
          ]
        }
      ],
      "source": [
        "def create_email(recipient, subject, body, cc=None, bcc=None, attachments=None):\n",
        "    \"\"\"\n",
        "    Description:\n",
        "        Funktion soll eine E-Mail-Nachricht erstellen\n",
        "    Args:\n",
        "        recipient: Empfänger der E-Mail\n",
        "        subject: Betreff der E-Mail\n",
        "        body: Textfeld der E-Mail\n",
        "        cc: Liste der CC-Empfänger (Standard: leere Liste), optional\n",
        "        bcc: Liste der BCC-Empfänger (Standard: leere Liste), optional\n",
        "        attachments: Liste der Anhänge (Standard: leere Liste), optional\n",
        "    Returns:\n",
        "        Ein Dictionary mit den E-Mail-Informationen\n",
        "    \"\"\"\n",
        "    email = {\n",
        "        \"recipient\": recipient,\n",
        "        \"subject\": subject,\n",
        "        \"body\": body,\n",
        "        \"cc\": cc,\n",
        "        \"bcc\": bcc,\n",
        "        \"attachments\": attachments\n",
        "    }\n",
        "\n",
        "    if cc is None:\n",
        "        cc = []\n",
        "    if bcc is None:\n",
        "        bcc = []\n",
        "    if attachments is None:\n",
        "        attachments = []\n",
        "\n",
        "    # if cc is not None:\n",
        "    #     cc = list(cc)\n",
        "\n",
        "    return email\n",
        "\n",
        "\n",
        "\n",
        "email1 = create_email(recipient=\"test@mail.de\", subject=\"test\", body=\"testing\")\n",
        "print(f\"Die erste E-Mail sieht so aus: mit Empfänger {email1}\")\n",
        "\n"
      ]
    },
    {
      "cell_type": "markdown",
      "metadata": {
        "id": "vfLNOEXnaAcS"
      },
      "source": [
        "## 4. Fortgeschrittene Funktionskonzepte\n",
        "\n",
        "Python behandelt Funktionen als \"first-class objects\", was bedeutet, dass sie wie jedes andere Objekt verwendet werden können - sie können anderen Variablen zugewiesen, als Argumente an andere Funktionen übergeben und als Rückgabewerte von anderen Funktionen zurückgegeben werden.\n",
        "\n",
        "### 💡 Leitfrage:\n",
        "Wie kann die Behandlung von Funktionen als Objekte die Flexibilität und Ausdruckskraft von Code erhöhen?\n",
        "\n",
        "### 4.1 Funktionen als Objekte"
      ]
    },
    {
      "cell_type": "code",
      "execution_count": null,
      "metadata": {
        "id": "x57OF4AJaAcS",
        "outputId": "087ba5f2-7097-4f3e-c86e-0f2830a29713"
      },
      "outputs": [
        {
          "name": "stdout",
          "output_type": "stream",
          "text": [
            "Hallo, Max!\n",
            "Die Funktion gibt Hallo, Helen! zurück\n",
            "10 + 5 = 15\n",
            "10 - 5 = 5\n",
            "10 * 5 = 50\n",
            "10 / 5 = 2.0\n",
            "Das Ergebnis von add(15, 7) ist: 22\n",
            "Das Ergebnis von multiply(8, 6) ist: 48\n"
          ]
        }
      ],
      "source": [
        "# Funktion definieren\n",
        "def greet(name):\n",
        "    \"\"\"Begrüßt eine Person.\"\"\"\n",
        "    return f\"Hallo, {name}!\"\n",
        "\n",
        "# Funktion einer Variablen zuweisen\n",
        "# Benenne die Funktion um mit einem neuen Namen\n",
        "greeting_function = greet\n",
        "\n",
        "# Die zugewiesene Funktion aufrufen\n",
        "result = greeting_function(\"Max\")\n",
        "print(result)  # Gibt \"Hallo, Max!\" aus\n",
        "print(f\"Die Funktion gibt {greeting_function('Helen')} zurück\")\n",
        "\n",
        "# Funktionen in Datenstrukturen speichern\n",
        "def add(a, b):\n",
        "    return a + b\n",
        "\n",
        "def subtract(a, b):\n",
        "    return a - b\n",
        "\n",
        "def multiply(a, b):\n",
        "    return a * b\n",
        "\n",
        "def divide(a, b):\n",
        "    return a / b if b != 0 else \"Division durch Null nicht möglich\"\n",
        "\n",
        "# Funktionen in einem Dictionary speichern\n",
        "operations = {\n",
        "    \"+\": add,\n",
        "    \"-\": subtract,\n",
        "    \"*\": multiply,\n",
        "    \"/\": divide\n",
        "}\n",
        "\n",
        "# Funktionen aus dem Dictionary verwenden\n",
        "a, b = 10, 5\n",
        "for symbol, operation in operations.items():\n",
        "    result = operation(a, b)\n",
        "    print(f\"{a} {symbol} {b} = {result}\")\n",
        "\n",
        "# Funktionen als Parameter übergeben\n",
        "def apply_operation(func, x, y):\n",
        "    \"\"\"Wendet eine übergebene Funktion auf zwei Zahlen an.\"\"\"\n",
        "    return func(x, y)\n",
        "\n",
        "result = apply_operation(add, 15, 7)\n",
        "print(f\"Das Ergebnis von add(15, 7) ist: {result}\")\n",
        "\n",
        "result = apply_operation(multiply, 8, 6)\n",
        "print(f\"Das Ergebnis von multiply(8, 6) ist: {result}\")"
      ]
    },
    {
      "cell_type": "markdown",
      "metadata": {
        "id": "a2Bw063CaAcS"
      },
      "source": [
        "### 4.2 Lambda-Funktionen\n",
        "\n",
        "Lambda-Funktionen sind kleine, anonyme Funktionen, die \"on the fly\" definiert werden können. Sie werden mit dem Schlüsselwort `lambda` erstellt und bestehen aus einem einzigen Ausdruck."
      ]
    },
    {
      "cell_type": "code",
      "execution_count": null,
      "metadata": {
        "id": "hSHwWkIkaAcS",
        "outputId": "a6bfd7b6-66e3-4ff6-b372-6b027faf6e30"
      },
      "outputs": [
        {
          "name": "stdout",
          "output_type": "stream",
          "text": [
            "Das Quadrat von 5 ist: 25\n",
            "Normal sortiert: [1, 2, 3, 4, 5, 7, 8, 9]\n",
            "Sortiert nach Quadrat: [1, 2, 3, 4, 5, 7, 8, 9]\n",
            "Summe von 3 und 4: 7\n",
            "Gerade Zahlen: [2, 4, 6, 8, 10, 12, 14, 16, 18, 20]\n",
            "['P', 'y', 't', 'h', 'o', 'n']\n",
            "Quadrierte Zahlen: [1, 4, 9, 16, 25, 36, 49, 64, 81, 100, 121, 144, 169, 196, 225, 256, 289, 324, 361, 400]\n",
            "1 ist ungerade.\n",
            "2 ist gerade.\n",
            "3 ist ungerade.\n",
            "4 ist gerade.\n",
            "5 ist ungerade.\n"
          ]
        }
      ],
      "source": [
        "# Einfache Lambda-Funktion\n",
        "square = lambda x: x ** 2\n",
        "\n",
        "## def square(x):\n",
        "    # return x ** 2\n",
        "\n",
        "# Verwendung wie eine normale Funktion\n",
        "print(f\"Das Quadrat von 5 ist: {square(5)}\")\n",
        "\n",
        "# Lambda-Funktionen werden oft als Argumente übergeben\n",
        "numbers = [1, 5, 3, 9, 2, 8, 4, 7]\n",
        "\n",
        "# Sortieren mit einer Schlüsselfunktion\n",
        "sorted_numbers = sorted(numbers)\n",
        "print(\"Normal sortiert:\", sorted_numbers)\n",
        "\n",
        "# Sortieren nach dem Quadrat der Zahlen mit Lambda\n",
        "sorted_by_square = sorted(numbers, key=lambda x: x ** 2)\n",
        "print(\"Sortiert nach Quadrat:\", sorted_by_square)\n",
        "\n",
        "# Lambda mit mehreren Parametern\n",
        "sum_lambda = lambda a, b: a + b\n",
        "print(f\"Summe von 3 und 4: {sum_lambda(3, 4)}\")\n",
        "\n",
        "# Praktisches Beispiel: Filtern mit Lambda\n",
        "numbers = list(range(1, 21))  # Zahlen von 1 bis 20\n",
        "even_numbers = list(filter(lambda x: x % 2 == 0, numbers))\n",
        "print(\"Gerade Zahlen:\", even_numbers)\n",
        "\n",
        "# string_example = \"Python\"\n",
        "# string_list = list(string_example)\n",
        "# print(string_list)\n",
        "\n",
        "# Praktisches Beispiel: Transformieren mit map()\n",
        "squared_numbers = list(map(lambda x: x ** 2, numbers))\n",
        "print(\"Quadrierte Zahlen:\", squared_numbers)\n",
        "\n",
        "# Lambda mit Bedingung (Ternary Operator)\n",
        "## Erinnerung Ternary Operator\n",
        "# x = 0\n",
        "# bedingung = 'wahr' if x == 0 else \"falsch\"\n",
        "\n",
        "get_parity = lambda x: \"gerade\" if x % 2 == 0 else \"ungerade\"\n",
        "for num in range(1, 6):\n",
        "    print(f\"{num} ist {get_parity(num)}.\")"
      ]
    },
    {
      "cell_type": "markdown",
      "metadata": {
        "id": "vaY7SDI8aAcS"
      },
      "source": [
        "**Übung 4.2a**: Schreibe eine Lambda-Funktion, die prüft, ob eine Zahl positiv, negativ oder Null ist und entsprechend \"positiv\", \"negativ\" oder \"Null\" zurückgibt. Teste sie mit verschiedenen Zahlen."
      ]
    },
    {
      "cell_type": "code",
      "execution_count": null,
      "metadata": {
        "id": "3HzHcdjjaAcS",
        "outputId": "3534e454-c563-40d4-a8cb-894baa9dfdcb"
      },
      "outputs": [
        {
          "name": "stdout",
          "output_type": "stream",
          "text": [
            "Die Zahl 1 ist positiv\n",
            "Die Zahl -4 ist nicht positiv\n",
            "Die Zahl 6 ist positiv\n",
            "Die Zahl 7 ist positiv\n",
            "Die Zahl 0 ist nicht positiv\n"
          ]
        }
      ],
      "source": [
        "number_state = lambda x: 'positiv' if x > 0 else 'nicht positiv'\n",
        "# number_state = lambda x: 'positiv' if x > 0 else ('negativ' if x < 0 else 'Null')\n",
        "test_list_of_numbers = [1,-4,6,7,-0]\n",
        "for number in test_list_of_numbers:\n",
        "    print(f\"Die Zahl {number} ist {number_state(number)}\")"
      ]
    },
    {
      "cell_type": "markdown",
      "metadata": {
        "id": "YbtjPupcaAcS"
      },
      "source": [
        "**Übung 4.2b**: Gegeben sei eine Liste von Wörtern. Sortiere die Liste nach:\n",
        "1. Der Länge der Wörter\n",
        "2. Der Anzahl der Vokale in jedem Wort\n",
        "Verwende Lambda-Funktionen für beide Sortierungen."
      ]
    },
    {
      "cell_type": "code",
      "execution_count": 4,
      "metadata": {
        "id": "_c6dc4iIaAcS",
        "outputId": "ff6be09b-05d4-439e-deee-54d542d8c287",
        "colab": {
          "base_uri": "https://localhost:8080/"
        }
      },
      "outputs": [
        {
          "output_type": "stream",
          "name": "stdout",
          "text": [
            "Nach Länge sortiert: ['Code', 'Python', 'Lambda', 'Funktion', 'Entwicklung', 'Algorithmus', 'Datenstruktur', 'Programmierung']\n",
            "Nach Anzahl der Vokale sortiert: ['Python', 'Lambda', 'Code', 'Funktion', 'Entwicklung', 'Algorithmus', 'Datenstruktur', 'Programmierung']\n",
            "'Python' hat 1 Vokale\n",
            "'Lambda' hat 2 Vokale\n",
            "'Code' hat 2 Vokale\n",
            "'Funktion' hat 3 Vokale\n",
            "'Entwicklung' hat 3 Vokale\n",
            "'Algorithmus' hat 4 Vokale\n",
            "'Datenstruktur' hat 4 Vokale\n",
            "'Programmierung' hat 5 Vokale\n"
          ]
        }
      ],
      "source": [
        "# Liste von Wörtern\n",
        "words = [\"Python\", \"Programmierung\", \"Funktion\", \"Lambda\", \"Entwicklung\", \"Code\", \"Algorithmus\", \"Datenstruktur\"]\n",
        "\n",
        "# 1. Nach Länge der Wörter sortieren\n",
        "sorted_by_length = sorted(words, key=lambda word: len(word))\n",
        "print(\"Nach Länge sortiert:\", sorted_by_length)\n",
        "\n",
        "# Hilfsfunktion: Zählt Vokale in einem Wort\n",
        "def count_vowels(word):\n",
        "    vowels = \"aeiouAEIOU\"\n",
        "    return sum(1 for char in word if char in vowels)\n",
        "\n",
        "# 2. Nach Anzahl der Vokale sortieren (mit Lambda)\n",
        "sorted_by_vowels = sorted(words, key=lambda word: sum(1 for char in word if char.lower() in \"aeiou\"))\n",
        "print(\"Nach Anzahl der Vokale sortiert:\", sorted_by_vowels)\n",
        "\n",
        "# Ausgabe der Vokalzahlen zur Überprüfung\n",
        "for word in sorted_by_vowels:\n",
        "    vowel_count = sum(1 for char in word if char.lower() in \"aeiou\")\n",
        "    print(f\"'{word}' hat {vowel_count} Vokale\")"
      ]
    },
    {
      "cell_type": "markdown",
      "metadata": {
        "id": "82I04h7vaAcS"
      },
      "source": [
        "## 5. Gültigkeitsbereich (Scope)\n",
        "\n",
        "Der Gültigkeitsbereich oder \"Scope\" bestimmt, wo eine Variable sichtbar und zugänglich ist. Ein Verständnis der Scope-Regeln in Python ist entscheidend, um Fehler zu vermeiden und effizienten Code zu schreiben.\n",
        "\n",
        "### 💡 Leitfrage:\n",
        "Warum ist es wichtig, den Gültigkeitsbereich von Variablen zu verstehen, und welche Probleme kann ein falsches Verständnis verursachen?\n",
        "\n",
        "### 5.1 Lokale und globale Variablen"
      ]
    },
    {
      "cell_type": "code",
      "execution_count": 6,
      "metadata": {
        "id": "dtOm-8PVaAcS",
        "outputId": "f1148901-b75c-4b47-e6b1-4d563c239aa4",
        "colab": {
          "base_uri": "https://localhost:8080/"
        }
      },
      "outputs": [
        {
          "output_type": "stream",
          "name": "stdout",
          "text": [
            "Vor den Funktionsaufrufen: Ich bin global\n",
            "In function1: Ich bin global\n",
            "In function2: Ich bin lokal in function2\n",
            "In function3: Ich bin eine lokale Variable mit demselben Namen wie die globale\n",
            "Nach function3: Ich bin global\n",
            "Nach function4: Ich wurde in function4 geändert\n"
          ]
        }
      ],
      "source": [
        "# Globale Variable\n",
        "global_var = \"Ich bin global\"\n",
        "\n",
        "def function1():\n",
        "    \"\"\"Zeigt, wie auf globale Variablen zugegriffen wird.\"\"\"\n",
        "    print(f\"In function1: {global_var}\")  # Zugriff auf globale Variable\n",
        "\n",
        "def function2():\n",
        "    \"\"\"Zeigt, wie lokale Variablen funktionieren.\"\"\"\n",
        "    local_var = \"Ich bin lokal in function2\"  # Lokale Variable\n",
        "    print(f\"In function2: {local_var}\")\n",
        "\n",
        "def function3():\n",
        "    \"\"\"Zeigt den Unterschied zwischen lokalen und globalen Variablen mit demselben Namen.\"\"\"\n",
        "    global_var = \"Ich bin eine lokale Variable mit demselben Namen wie die globale\"  # Lokale Variable!\n",
        "    print(f\"In function3: {global_var}\")  # Zeigt die lokale Version\n",
        "\n",
        "def function4():\n",
        "    \"\"\"Zeigt, wie eine globale Variable in einer Funktion geändert werden kann.\"\"\"\n",
        "    global global_var  # Sagt Python, dass wir die globale Variable ändern wollen\n",
        "    global_var = \"Ich wurde in function4 geändert\"\n",
        "\n",
        "# Funktionen aufrufen und Ergebnisse überprüfen\n",
        "print(f\"Vor den Funktionsaufrufen: {global_var}\")\n",
        "\n",
        "function1()\n",
        "function2()\n",
        "# print(local_var)  # Dies würde einen Fehler verursachen, da local_var nur in function2 existiert\n",
        "\n",
        "function3()\n",
        "print(f\"Nach function3: {global_var}\")  # Die globale Variable ist unverändert\n",
        "\n",
        "function4()\n",
        "print(f\"Nach function4: {global_var}\")  # Die globale Variable wurde geändert"
      ]
    },
    {
      "cell_type": "markdown",
      "metadata": {
        "id": "E6g0FEjyaAcS"
      },
      "source": [
        "### 5.2 Namensräume und LEGB-Regel\n",
        "\n",
        "Python folgt der sogenannten LEGB-Regel, um zu bestimmen, in welcher Reihenfolge nach Variablennamen gesucht wird:\n",
        "- **L**ocal (lokal): Variablen innerhalb der aktuellen Funktion\n",
        "- **E**nclosing (umschließend): Variablen in umschließenden Funktionen (bei verschachtelten Funktionen)\n",
        "- **G**lobal (global): Variablen auf Modulebene\n",
        "- **B**uilt-in (eingebaut): Pythons eingebaute Namen (wie print, len, etc.)"
      ]
    },
    {
      "cell_type": "code",
      "execution_count": 7,
      "metadata": {
        "id": "8mHXGXCwaAcS",
        "outputId": "6b66e38b-c835-4e47-ee2b-e0f8486f6a4b",
        "colab": {
          "base_uri": "https://localhost:8080/"
        }
      },
      "outputs": [
        {
          "output_type": "stream",
          "name": "stdout",
          "text": [
            "Inner: inner x\n",
            "Outer: outer x\n",
            "Global: global x\n",
            "Zähler vor Aufruf: 0\n",
            "Zähler innerhalb inner_function2: 1\n",
            "Zähler nach Aufruf: 1\n",
            "Die Länge von 'Hallo' ist: 5\n"
          ]
        }
      ],
      "source": [
        "# Beispiel für die LEGB-Regel\n",
        "\n",
        "x = \"global x\"  # Global\n",
        "\n",
        "def outer_function():\n",
        "    \"\"\"Äußere Funktion zur Demonstration von Namensräumen.\"\"\"\n",
        "    x = \"outer x\"  # Enclosing (umschließend)\n",
        "\n",
        "    def inner_function():\n",
        "        \"\"\"Innere Funktion zur Demonstration von Namensräumen.\"\"\"\n",
        "        x = \"inner x\"  # Local (lokal)\n",
        "        print(f\"Inner: {x}\")\n",
        "\n",
        "    inner_function()\n",
        "    print(f\"Outer: {x}\")\n",
        "\n",
        "outer_function()\n",
        "print(f\"Global: {x}\")\n",
        "\n",
        "# Beispiel mit nonlocal\n",
        "def outer_function2():\n",
        "    \"\"\"Demonstration der nonlocal-Anweisung.\"\"\"\n",
        "    counter = 0\n",
        "\n",
        "    def inner_function2():\n",
        "        nonlocal counter  # Zeigt, dass wir die Variable aus dem umschließenden Scope verwenden wollen\n",
        "        counter += 1\n",
        "        print(f\"Zähler innerhalb inner_function2: {counter}\")\n",
        "\n",
        "    print(f\"Zähler vor Aufruf: {counter}\")\n",
        "    inner_function2()\n",
        "    print(f\"Zähler nach Aufruf: {counter}\")  # Der Wert wurde auch für den äußeren Scope geändert\n",
        "\n",
        "outer_function2()\n",
        "\n",
        "# Beispiel mit eingebauten Namen (built-in)\n",
        "def built_in_example():\n",
        "    \"\"\"Zeigt, wie eingebaute Funktionen überschrieben werden können.\"\"\"\n",
        "    # Dies ist nicht empfohlen, sondern dient nur der Demonstration!\n",
        "    # len = 100  # Überschreibt die eingebaute len()-Funktion im lokalen Scope\n",
        "    print(f\"Die Länge von 'Hallo' ist: {len('Hallo')}\")  # Verwendet die eingebaute len()-Funktion\n",
        "\n",
        "built_in_example()"
      ]
    },
    {
      "cell_type": "markdown",
      "metadata": {
        "id": "DWmf8OjaaAcT"
      },
      "source": [
        "**Übung 5.2a**: Schreibe eine Funktion `counter_function`, die eine verschachtelte Funktion enthält. Die äußere Funktion soll einen Zähler initialisieren und die innere Funktion soll den Zähler erhöhen und seinen Wert zurückgeben. Die äußere Funktion soll die innere Funktion zurückgeben. Teste, ob du mehrere Zähler unabhängig voneinander erstellen kannst."
      ]
    },
    {
      "cell_type": "code",
      "execution_count": 9,
      "metadata": {
        "id": "OQD0IZXEaAcW",
        "outputId": "d43c639b-bfb0-4609-adb4-2ab30bcb667a",
        "colab": {
          "base_uri": "https://localhost:8080/"
        }
      },
      "outputs": [
        {
          "output_type": "stream",
          "name": "stdout",
          "text": [
            "counter1: 1\n",
            "counter1: 2\n",
            "counter2: 1\n",
            "counter1: 3\n",
            "counter2: 2\n"
          ]
        }
      ],
      "source": [
        "# Deine Lösung hier\n",
        "def counter_function():\n",
        "    zaehler = 0\n",
        "\n",
        "    def inner():\n",
        "        nonlocal zaehler\n",
        "        zaehler += 1\n",
        "        return zaehler\n",
        "\n",
        "    return inner\n",
        "\n",
        "# zwei unabhängige zähler\n",
        "counter1 = counter_function()\n",
        "counter2 = counter_function()\n",
        "\n",
        "# test & ausgabe\n",
        "print(\"counter1:\", counter1())  # Ausgabe: 1\n",
        "print(\"counter1:\", counter1())  # Ausgabe: 2\n",
        "print(\"counter2:\", counter2())  # Ausgabe: 1 (eigener Zähler!)\n",
        "print(\"counter1:\", counter1())  # Ausgabe: 3\n",
        "print(\"counter2:\", counter2())  # Ausgabe: 2"
      ]
    },
    {
      "cell_type": "markdown",
      "metadata": {
        "id": "toOgE-5baAcW"
      },
      "source": [
        "**Übung 5.2b**: Schreibe eine Funktion, die eine globale Liste um ein Element erweitert. Schreibe dann eine weitere Funktion, die eine neue lokale Liste erstellt und ein Element hinzufügt. Demonstriere den Unterschied im Verhalten.\n"
      ]
    },
    {
      "cell_type": "code",
      "execution_count": null,
      "metadata": {
        "id": "xzyP1eiuaAcW"
      },
      "outputs": [],
      "source": [
        "# Deine Lösung hier\n"
      ]
    },
    {
      "cell_type": "markdown",
      "metadata": {
        "id": "zspz7wYmaAcX"
      },
      "source": [
        "## 6. Module und Pakete\n",
        "\n",
        "Module und Pakete erlauben es, Code zu organisieren und wiederzuverwenden. Ein Modul ist eine Python-Datei, die Definitionen und Anweisungen enthält. Ein Paket ist ein Verzeichnis, das mehrere Module enthält.\n",
        "\n",
        "### 💡 Leitfrage:\n",
        "Wie verbessern Module und Pakete die Organisation, Wartung und Wiederverwendbarkeit von Code?\n",
        "\n",
        "### 6.1 Importieren von Modulen\n",
        "\n",
        "Python hat eine umfangreiche Standardbibliothek, aus der wir verschiedene Module importieren können."
      ]
    },
    {
      "cell_type": "code",
      "execution_count": null,
      "metadata": {
        "id": "6Nf9496iaAcX"
      },
      "outputs": [],
      "source": [
        "# Grundlegende Importe\n",
        "import math  # Importiert das gesamte math-Modul\n",
        "\n",
        "# Modul verwenden\n",
        "print(f\"Pi ist ungefähr {math.pi}\")\n",
        "print(f\"Die Quadratwurzel von 16 ist {math.sqrt(16)}\")\n",
        "\n",
        "# Spezifische Funktionen oder Objekte importieren\n",
        "from math import sin, cos, radians\n",
        "\n",
        "# Direkte Verwendung ohne Modulpräfix\n",
        "angle = radians(45)  # Konvertiert 45 Grad in Bogenmaß\n",
        "print(f\"Sinus von 45 Grad: {sin(angle):.4f}\")\n",
        "print(f\"Kosinus von 45 Grad: {cos(angle):.4f}\")\n",
        "\n",
        "# Importieren mit Alias (Kurzname)\n",
        "import datetime as dt\n",
        "\n",
        "current_time = dt.datetime.now()\n",
        "print(f\"Aktuelle Zeit: {current_time}\")\n",
        "\n",
        "# Alles aus einem Modul importieren (wird generell nicht empfohlen)\n",
        "from random import *\n",
        "\n",
        "# Dies kann zu Namenskonflikten führen und macht den Code weniger lesbar\n",
        "print(f\"Zufallszahl zwischen 1 und 10: {randint(1, 10)}\")  # Von wo kommt randint?"
      ]
    },
    {
      "cell_type": "markdown",
      "metadata": {
        "id": "-ZP63kOqaAcX"
      },
      "source": [
        "### 6.2 Standardbibliothek\n",
        "\n",
        "Python hat eine umfangreiche Standardbibliothek, die viele nützliche Module für verschiedene Aufgaben enthält."
      ]
    },
    {
      "cell_type": "code",
      "execution_count": null,
      "metadata": {
        "id": "yVmPkjijaAcX"
      },
      "outputs": [],
      "source": [
        "# Beispiel 1: random-Modul für Zufallszahlen\n",
        "import random\n",
        "\n",
        "# Zufallszahl zwischen 1 und 100\n",
        "random_number = random.randint(1, 100)\n",
        "print(f\"Zufallszahl: {random_number}\")\n",
        "\n",
        "# Zufällige Auswahl aus einer Liste\n",
        "fruits = [\"Apfel\", \"Banane\", \"Kirsche\", \"Dattel\", \"Erdbeere\"]\n",
        "random_fruit = random.choice(fruits)\n",
        "print(f\"Zufällig ausgewählte Frucht: {random_fruit}\")\n",
        "\n",
        "# Liste mischen\n",
        "random.shuffle(fruits)\n",
        "print(f\"Gemischte Obstliste: {fruits}\")\n",
        "\n",
        "# Beispiel 2: datetime-Modul für Datums- und Zeitoperationen\n",
        "import datetime\n",
        "\n",
        "# Aktuelles Datum und Uhrzeit\n",
        "now = datetime.datetime.now()\n",
        "print(f\"Aktuelles Datum und Uhrzeit: {now}\")\n",
        "\n",
        "# Spezifisches Datum erstellen\n",
        "birthday = datetime.date(1990, 5, 15)\n",
        "print(f\"Geburtsdatum: {birthday}\")\n",
        "\n",
        "# Zeitdifferenz berechnen\n",
        "days_alive = (datetime.date.today() - birthday).days\n",
        "print(f\"Tage seit Geburt: {days_alive}\")\n",
        "\n",
        "# Beispiel 3: time-Modul für Zeitfunktionen\n",
        "import time\n",
        "\n",
        "print(\"Countdown:\")\n",
        "for i in range(3, 0, -1):\n",
        "    print(i)\n",
        "    time.sleep(1)  # Pausiert das Programm für 1 Sekunde\n",
        "print(\"Start!\")\n",
        "\n",
        "# Beispiel 4: sys-Modul für Systemfunktionen\n",
        "import sys\n",
        "\n",
        "# Python-Version anzeigen\n",
        "print(f\"Python-Version: {sys.version}\")\n",
        "\n",
        "# Pfad zu Modulen anzeigen\n",
        "print(f\"Modul-Suchpfade: {sys.path}\")\n",
        "\n",
        "# Beispiel 5: os-Modul für Betriebssystemfunktionen\n",
        "import os\n",
        "\n",
        "# Aktuelles Arbeitsverzeichnis anzeigen\n",
        "print(f\"Aktuelles Verzeichnis: {os.getcwd()}\")\n",
        "\n",
        "# Dateien im aktuellen Verzeichnis auflisten\n",
        "print(\"Dateien im aktuellen Verzeichnis:\")\n",
        "for i, item in enumerate(os.listdir(\".\")[:5], 1):  # Begrenzt auf die ersten 5 Elemente\n",
        "    print(f\"{i}. {item}\")"
      ]
    },
    {
      "cell_type": "markdown",
      "metadata": {
        "id": "PluUreOtaAcX"
      },
      "source": [
        "**Übung 6.2a**: Schreibe ein Programm, das das `random`-Modul verwendet, um eine einfache Zahlenrateaufgabe zu erstellen. Das Programm soll:\n",
        "1. Eine zufällige Zahl zwischen 1 und 100 generieren\n",
        "2. Den Benutzer nach einer Schätzung fragen\n",
        "3. Hinweise geben, ob die Schätzung zu hoch oder zu niedrig ist\n",
        "4. Weitermachen, bis der Benutzer die richtige Zahl erraten hat"
      ]
    },
    {
      "cell_type": "code",
      "execution_count": null,
      "metadata": {
        "id": "7h9vMr6raAcX"
      },
      "outputs": [],
      "source": [
        "# Deine Lösung hier\n"
      ]
    },
    {
      "cell_type": "markdown",
      "metadata": {
        "id": "URWrdtVLaAcX"
      },
      "source": [
        "**Übung 6.2b**: Erstelle ein Programm, das das `datetime`-Modul verwendet, um das Alter einer Person in Jahren, Monaten und Tagen zu berechnen. Das Programm soll das Geburtsdatum als Eingabe annehmen und das genaue Alter ausgeben."
      ]
    },
    {
      "cell_type": "code",
      "execution_count": null,
      "metadata": {
        "id": "MsMePHuPaAcX"
      },
      "outputs": [],
      "source": [
        "# Deine Lösung hier\n"
      ]
    },
    {
      "cell_type": "markdown",
      "metadata": {
        "id": "lylBWabLaAcX"
      },
      "source": [
        "## 7. Ausnahmebehandlung\n",
        "\n",
        "Ausnahmen (Exceptions) sind Ereignisse, die während der Ausführung eines Programms auftreten und den normalen Programmfluss unterbrechen. Python bietet Mechanismen, um Ausnahmen zu behandeln und ordnungsgemäß darauf zu reagieren.\n",
        "\n",
        "### 💡 Leitfrage:\n",
        "Warum ist es wichtig, potenzielle Fehler in Programmen zu behandeln, und wie hilft uns die Ausnahmebehandlung dabei?\n",
        "\n",
        "### 7.1 try-except Blöcke"
      ]
    },
    {
      "cell_type": "code",
      "execution_count": null,
      "metadata": {
        "id": "ABQEPDwsaAcX"
      },
      "outputs": [],
      "source": [
        "# Grundlegende try-except Struktur\n",
        "try:\n",
        "    # Code, der Fehler verursachen könnte\n",
        "    result = 10 / 0\n",
        "    print(f\"Das Ergebnis ist: {result}\")\n",
        "except ZeroDivisionError:\n",
        "    # Behandelt den spezifischen Fehlertyp\n",
        "    print(\"Fehler: Division durch Null ist nicht erlaubt!\")\n",
        "\n",
        "# Mehrere except-Blöcke für verschiedene Ausnahmen\n",
        "try:\n",
        "    # Verschiedene potenzielle Fehlerquellen\n",
        "    num = int(input(\"Bitte gib eine Zahl ein: \"))\n",
        "    result = 100 / num\n",
        "    print(f\"100 geteilt durch {num} ist {result}\")\n",
        "except ValueError:\n",
        "    print(\"Fehler: Das war keine gültige Zahl!\")\n",
        "except ZeroDivisionError:\n",
        "    print(\"Fehler: Division durch Null ist nicht erlaubt!\")\n",
        "except Exception as e:\n",
        "    # Fängt alle anderen Ausnahmen ab\n",
        "    print(f\"Ein unerwarteter Fehler ist aufgetreten: {e}\")\n",
        "\n",
        "# try-except-else Struktur\n",
        "try:\n",
        "    num = int(input(\"Bitte gib eine positive Zahl ein: \"))\n",
        "    if num < 0:\n",
        "        raise ValueError(\"Die eingegebene Zahl ist negativ!\")\n",
        "except ValueError as error:\n",
        "    print(f\"Fehler: {error}\")\n",
        "else:\n",
        "    # Wird nur ausgeführt, wenn keine Ausnahme auftritt\n",
        "    print(f\"Sehr gut! Du hast {num} eingegeben.\")\n",
        "\n",
        "# try-except-finally Struktur\n",
        "try:\n",
        "    file = open(\"example.txt\", \"r\")\n",
        "    content = file.read()\n",
        "    print(content)\n",
        "except FileNotFoundError:\n",
        "    print(\"Fehler: Die Datei wurde nicht gefunden.\")\n",
        "finally:\n",
        "    # Wird immer ausgeführt, egal ob eine Ausnahme auftritt oder nicht\n",
        "    print(\"Dieser Block wird immer ausgeführt.\")\n",
        "    # Die Datei schließen, falls sie geöffnet wurde\n",
        "    if 'file' in locals() and not file.closed:\n",
        "        file.close()\n",
        "        print(\"Datei geschlossen.\")"
      ]
    },
    {
      "cell_type": "markdown",
      "metadata": {
        "id": "QDDypvxiaAcX"
      },
      "source": [
        "### 7.2 Ausnahmetypen\n",
        "\n",
        "Python hat viele eingebaute Ausnahmetypen für verschiedene Fehlerarten:"
      ]
    },
    {
      "cell_type": "code",
      "execution_count": null,
      "metadata": {
        "id": "33K8oD4RaAcX"
      },
      "outputs": [],
      "source": [
        "# Beispiele für häufige Ausnahmetypen\n",
        "exceptions_to_test = [\n",
        "    (\"ZeroDivisionError\", lambda: 1/0),\n",
        "    (\"TypeError\", lambda: \"text\" + 5),\n",
        "    (\"ValueError\", lambda: int(\"nicht_numerisch\")),\n",
        "    (\"NameError\", lambda: undefined_variable),  # Variable nicht definiert\n",
        "    (\"IndexError\", lambda: [1, 2, 3][10]),\n",
        "    (\"KeyError\", lambda: {\"a\": 1}[\"b\"]),\n",
        "    (\"FileNotFoundError\", lambda: open(\"nicht_existent.txt\")),\n",
        "    (\"ImportError\", lambda: __import__(\"nicht_existierendes_modul\")),\n",
        "    (\"AttributeError\", lambda: \"string\".nicht_existierende_methode())\n",
        "]\n",
        "\n",
        "# Testen der Ausnahmen\n",
        "for exception_name, exception_code in exceptions_to_test:\n",
        "    try:\n",
        "        print(f\"Teste {exception_name}...\")\n",
        "        exception_code()\n",
        "        print(\"Kein Fehler aufgetreten.\")\n",
        "    except Exception as e:\n",
        "        print(f\"Gefangene Ausnahme: {type(e).__name__}: {e}\")\n",
        "    print(\"-\" * 40)"
      ]
    },
    {
      "cell_type": "markdown",
      "metadata": {
        "id": "E2rN-h11aAcX"
      },
      "source": [
        "### 7.3 Eigene Ausnahmen definieren\n",
        "\n",
        "Du kannst auch eigene Ausnahmen definieren, um spezifische Fehler in deinen Programmen zu behandeln:"
      ]
    },
    {
      "cell_type": "code",
      "execution_count": null,
      "metadata": {
        "id": "0L1oM6NoaAcX"
      },
      "outputs": [],
      "source": [
        "# Eigene Ausnahmeklasse definieren\n",
        "class NegativeNumberError(Exception):\n",
        "    \"\"\"Wird ausgelöst, wenn eine Zahl negativ ist, aber positiv sein sollte.\"\"\"\n",
        "    pass\n",
        "\n",
        "class InvalidEmailError(Exception):\n",
        "    \"\"\"Wird ausgelöst, wenn eine E-Mail-Adresse ungültig ist.\"\"\"\n",
        "    def __init__(self, email, message=\"Ungültige E-Mail-Adresse\"):\n",
        "        self.email = email\n",
        "        self.message = f\"{message}: {email}\"\n",
        "        super().__init__(self.message)\n",
        "\n",
        "# Verwendung der eigenen Ausnahmen\n",
        "def calculate_square_root(number):\n",
        "    \"\"\"Berechnet die Quadratwurzel einer Zahl.\"\"\"\n",
        "    if number < 0:\n",
        "        raise NegativeNumberError(f\"Kann keine Quadratwurzel aus {number} berechnen.\")\n",
        "    return number ** 0.5\n",
        "\n",
        "def validate_email(email):\n",
        "    \"\"\"Überprüft, ob eine E-Mail-Adresse gültig ist (vereinfachte Prüfung).\"\"\"\n",
        "    if \"@\" not in email or \".\" not in email:\n",
        "        raise InvalidEmailError(email)\n",
        "    return True\n",
        "\n",
        "# Testen der eigenen Ausnahmen\n",
        "try:\n",
        "    result = calculate_square_root(-5)\n",
        "except NegativeNumberError as e:\n",
        "    print(f\"Fehler: {e}\")\n",
        "\n",
        "try:\n",
        "    validate_email(\"benutzer@example.com\")\n",
        "    print(\"E-Mail ist gültig.\")\n",
        "\n",
        "    validate_email(\"ungültige_email\")\n",
        "    print(\"Diese Zeile wird nicht erreicht.\")\n",
        "except InvalidEmailError as e:\n",
        "    print(f\"Fehler: {e}\")"
      ]
    },
    {
      "cell_type": "markdown",
      "metadata": {
        "id": "cwxxfA1faAcX"
      },
      "source": [
        "**Übung 7.3a**: Schreibe eine Funktion `divide_numbers`, die zwei Zahlen teilt. Die Funktion soll angemessene Ausnahmebehandlung für mögliche Fehler implementieren (z.B. Division durch Null, ungültige Eingaben)."
      ]
    },
    {
      "cell_type": "code",
      "execution_count": null,
      "metadata": {
        "id": "uWJm2x5QaAcX"
      },
      "outputs": [],
      "source": [
        "# Deine Lösung hier\n"
      ]
    },
    {
      "cell_type": "markdown",
      "metadata": {
        "id": "wPITKqXdaAcY"
      },
      "source": [
        "**Übung 7.3b**: Erstelle eine benutzerdefinierte Ausnahme `InvalidPasswordError` und eine Funktion `validate_password`, die prüft, ob ein Passwort den folgenden Anforderungen entspricht:\n",
        "- Mindestens 8 Zeichen lang\n",
        "- Enthält mindestens eine Ziffer\n",
        "- Enthält mindestens einen Großbuchstaben\n",
        "- Enthält mindestens ein Sonderzeichen (!, @, #, $, %, etc.)\n",
        "\n",
        "Wenn das Passwort einer der Anforderungen nicht entspricht, soll die Funktion deine benutzerdefinierte Ausnahme mit einer aussagekräftigen Fehlermeldung auslösen."
      ]
    },
    {
      "cell_type": "code",
      "execution_count": null,
      "metadata": {
        "id": "A1c0VjmzaAcY"
      },
      "outputs": [],
      "source": [
        "# Deine Lösung hier\n"
      ]
    },
    {
      "cell_type": "markdown",
      "metadata": {
        "id": "n2_iahDsaAcY"
      },
      "source": [
        "## Zusammenfassung\n",
        "\n",
        "In diesem Notebook haben wir die wichtigsten Konzepte zu Funktionen, Modulen und Ausnahmebehandlung in Python kennengelernt:\n",
        "\n",
        "1. **Funktionsgrundlagen**\n",
        "   - Definition und Aufruf von Funktionen\n",
        "   - Parameter und Argumente\n",
        "   - Rückgabewerte\n",
        "\n",
        "2. **Fortgeschrittene Funktionskonzepte**\n",
        "   - Funktionen als Objekte\n",
        "   - Lambda-Funktionen\n",
        "   - Positionsparameter vs. Schlüsselwortparameter\n",
        "   - Standardwerte für Parameter\n",
        "\n",
        "3. **Gültigkeitsbereich (Scope)**\n",
        "   - Lokale und globale Variablen\n",
        "   - Namensräume und LEGB-Regel\n",
        "\n",
        "4. **Module und Pakete**\n",
        "   - Importieren von Modulen\n",
        "   - Standardbibliothek\n",
        "\n",
        "5. **Ausnahmebehandlung**\n",
        "   - try-except Blöcke\n",
        "   - Ausnahmetypen\n",
        "   - Eigene Ausnahmen definieren\n",
        "\n",
        "Diese Konzepte bilden die Grundlage für die strukturierte und modulare Programmierung in Python und sind entscheidend für die Entwicklung robuster und wartbarer Software. Für die PCEP-Prüfung ist ein gutes Verständnis dieser Themen wichtig, da sie einen wesentlichen Teil des Prüfungsstoffs abdecken.\n",
        "\n",
        "## Weiterführende Ressourcen\n",
        "\n",
        "- [Offizielle Python-Dokumentation zu Funktionen](https://docs.python.org/3/tutorial/controlflow.html#defining-functions)\n",
        "- [Offizielle Python-Dokumentation zu Modulen](https://docs.python.org/3/tutorial/modules.html)\n",
        "- [Offizielle Python-Dokumentation zu Ausnahmen](https://docs.python.org/3/tutorial/errors.html)\n",
        "- [Offizielle Python-Dokumentation zu Ein-/Ausgabe](https://docs.python.org/3/tutorial/inputoutput.html)\n",
        "- [PCEP – Certified Entry-Level Python Programmer](https://pythoninstitute.org/certification/pcep-certification-entry-level/)\n",
        "- [Python for Everybody - Coursera-Kurs](https://www.coursera.org/specializations/python)\n",
        "- [Automate the Boring Stuff with Python](https://automatetheboringstuff.com/)"
      ]
    }
  ],
  "metadata": {
    "kernelspec": {
      "display_name": "Python 3",
      "language": "python",
      "name": "python3"
    },
    "language_info": {
      "codemirror_mode": {
        "name": "ipython",
        "version": 3
      },
      "file_extension": ".py",
      "mimetype": "text/x-python",
      "name": "python",
      "nbconvert_exporter": "python",
      "pygments_lexer": "ipython3",
      "version": "3.11.11"
    },
    "colab": {
      "provenance": [],
      "include_colab_link": true
    }
  },
  "nbformat": 4,
  "nbformat_minor": 0
}