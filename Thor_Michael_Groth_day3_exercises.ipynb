{
  "cells": [
    {
      "cell_type": "markdown",
      "metadata": {
        "id": "view-in-github",
        "colab_type": "text"
      },
      "source": [
        "<a href=\"https://colab.research.google.com/github/ThorGroth/D-D/blob/master/Thor_Michael_Groth_day3_exercises.ipynb\" target=\"_parent\"><img src=\"https://colab.research.google.com/assets/colab-badge.svg\" alt=\"Open In Colab\"/></a>"
      ]
    },
    {
      "cell_type": "markdown",
      "metadata": {
        "id": "CDo6XSjQSIkC"
      },
      "source": [
        "## Übungsaufgaben\n",
        "\n",
        "### Aufgabe 1: Wetterdaten\n",
        "\n",
        "Schreibe ein Programm, das die Temperatur in Celsius einliest und basierend darauf eine Wetterempfehlung gibt:\n",
        "\n",
        "- Unter 0°C: \"Es ist frostig. Trage warme Kleidung.\"\n",
        "- 0-10°C: \"Es ist kalt. Eine Jacke ist empfehlenswert.\"\n",
        "- 11-20°C: \"Angenehmes Wetter. Eine leichte Jacke könnte nützlich sein.\"\n",
        "- 21-30°C: \"Es ist warm. Leichte Kleidung ist ausreichend.\"\n",
        "- Über 30°C: \"Es ist heiß. Denke an Sonnenschutz und viel Wasser.\"\n"
      ]
    },
    {
      "cell_type": "code",
      "execution_count": 1,
      "metadata": {
        "id": "Uysr2SxaSIkE",
        "colab": {
          "base_uri": "https://localhost:8080/"
        },
        "outputId": "367ead8c-2585-4cb4-ca63-2be7298e3e88"
      },
      "outputs": [
        {
          "output_type": "stream",
          "name": "stdout",
          "text": [
            "Gib die Temperatur in °C ein: 13\n",
            "Angenehmes Wetter. Eine leichte Jacke könnte nützlich sein.\n"
          ]
        }
      ],
      "source": [
        "# Temperatur in Celsius abfragen\n",
        "temperatur = float(input(\"Gib die Temperatur in °C ein: \"))\n",
        "\n",
        "# Wetterempfehlung basierend auf Temperatur\n",
        "if temperatur < 0:\n",
        "    print(\"Es ist frostig. Trage warme Kleidung.\")\n",
        "elif temperatur <= 10:\n",
        "    print(\"Es ist kalt. Eine Jacke ist empfehlenswert.\")\n",
        "elif temperatur <= 20:\n",
        "    print(\"Angenehmes Wetter. Eine leichte Jacke könnte nützlich sein.\")\n",
        "elif temperatur <= 30:\n",
        "    print(\"Es ist warm. Leichte Kleidung ist ausreichend.\")\n",
        "else:\n",
        "    print(\"Es ist heiß. Denke an Sonnenschutz und viel Wasser.\")"
      ]
    },
    {
      "cell_type": "markdown",
      "metadata": {
        "id": "R0uuLJ1NSIkF"
      },
      "source": [
        "### Aufgabe 2: Gehaltsrechner\n",
        "\n",
        "Schreibe ein Programm, das das Bruttogehalt eines Mitarbeiters einliest und dann den Nettolohn berechnet. Verwende dafür folgende Steuersätze:\n",
        "\n",
        "- Bis 1000€: 0% Steuer\n",
        "- 1001€ bis 2500€: 15% Steuer\n",
        "- 2501€ bis 4000€: 25% Steuer\n",
        "- Über 4000€: 40% Steuer\n"
      ]
    },
    {
      "cell_type": "code",
      "execution_count": 3,
      "metadata": {
        "id": "Ge4bwUd7SIkG",
        "colab": {
          "base_uri": "https://localhost:8080/"
        },
        "outputId": "5125e914-a1d0-4044-d3e4-061e81894c13"
      },
      "outputs": [
        {
          "output_type": "stream",
          "name": "stdout",
          "text": [
            "Gib dein Bruttogehalt in € ein: 2500\n",
            "Bruttogehalt: 2500.00 €\n",
            "Steuersatz: 15%\n",
            "Abgezogene Steuer: 375.00 €\n",
            "Nettolohn: 2125.00 €\n"
          ]
        }
      ],
      "source": [
        "# Bruttogehalt einlesen\n",
        "bruttogehalt = float(input(\"Gib dein Bruttogehalt in € ein: \"))\n",
        "\n",
        "# Steuerberechnung\n",
        "if bruttogehalt <= 1000:\n",
        "    steuersatz = 0.0\n",
        "elif bruttogehalt <= 2500:\n",
        "    steuersatz = 0.15\n",
        "elif bruttogehalt <= 4000:\n",
        "    steuersatz = 0.25\n",
        "else:\n",
        "    steuersatz = 0.40\n",
        "\n",
        "# Steuer und Nettolohn berechnen\n",
        "steuer = bruttogehalt * steuersatz\n",
        "nettolohn = bruttogehalt - steuer\n",
        "\n",
        "# Ausgabe\n",
        "print(f\"Bruttogehalt: {bruttogehalt:.2f} €\")\n",
        "print(f\"Steuersatz: {steuersatz * 100:.0f}%\")\n",
        "print(f\"Abgezogene Steuer: {steuer:.2f} €\")\n",
        "print(f\"Nettolohn: {nettolohn:.2f} €\")"
      ]
    },
    {
      "cell_type": "markdown",
      "metadata": {
        "id": "x2iMtQ-0SIkG"
      },
      "source": [
        "### Aufgabe 3: Schaltjahrprüfung\n",
        "\n",
        "Schreibe ein Programm, das prüft, ob ein eingegebenes Jahr ein Schaltjahr ist. Ein Jahr ist ein Schaltjahr, wenn:\n",
        "\n",
        "- Es durch 4 teilbar ist UND\n",
        "- Es nicht durch 100 teilbar ist ODER es durch 400 teilbar ist\n"
      ]
    },
    {
      "cell_type": "code",
      "execution_count": 4,
      "metadata": {
        "id": "FmoWMffKSIkG",
        "colab": {
          "base_uri": "https://localhost:8080/"
        },
        "outputId": "94d2507f-931b-4502-9685-863da9868cc6"
      },
      "outputs": [
        {
          "output_type": "stream",
          "name": "stdout",
          "text": [
            "Gib ein Jahr ein: 2020\n",
            "2020 ist ein Schaltjahr.\n"
          ]
        }
      ],
      "source": [
        "# Jahr einlesen\n",
        "jahr = int(input(\"Gib ein Jahr ein: \"))\n",
        "\n",
        "# Schaltjahr-Regel anwenden\n",
        "if (jahr % 4 == 0) and ((jahr % 100 != 0) or (jahr % 400 == 0)):\n",
        "    print(f\"{jahr} ist ein Schaltjahr.\")\n",
        "else:\n",
        "    print(f\"{jahr} ist kein Schaltjahr.\")"
      ]
    },
    {
      "cell_type": "markdown",
      "metadata": {
        "id": "OXmvLZMlSIkG"
      },
      "source": [
        "### Aufgabe 4: Notenverwaltung\n",
        "\n",
        "Schreibe ein Programm, das Noten einliest (1-6) und den Durchschnitt berechnet. Nach jeder Eingabe soll der Benutzer gefragt werden, ob er eine weitere Note eingeben möchte.\n"
      ]
    },
    {
      "cell_type": "code",
      "execution_count": 5,
      "metadata": {
        "id": "4kESH3qPSIkG",
        "colab": {
          "base_uri": "https://localhost:8080/"
        },
        "outputId": "fc49ec1a-e996-46cf-8615-b9eeace9566e"
      },
      "outputs": [
        {
          "output_type": "stream",
          "name": "stdout",
          "text": [
            "Gib eine Note (1-6) ein: 2\n",
            "Aktueller Durchschnitt: 2.00\n",
            "Möchtest du eine weitere Note eingeben? (ja/nein): ja\n",
            "Gib eine Note (1-6) ein: 3\n",
            "Aktueller Durchschnitt: 2.50\n",
            "Möchtest du eine weitere Note eingeben? (ja/nein): ja\n",
            "Gib eine Note (1-6) ein: 2\n",
            "Aktueller Durchschnitt: 2.33\n",
            "Möchtest du eine weitere Note eingeben? (ja/nein): ja\n",
            "Gib eine Note (1-6) ein: 3\n",
            "Aktueller Durchschnitt: 2.50\n",
            "Möchtest du eine weitere Note eingeben? (ja/nein): ja\n",
            "Gib eine Note (1-6) ein: 3\n",
            "Aktueller Durchschnitt: 2.60\n",
            "Möchtest du eine weitere Note eingeben? (ja/nein): nein\n",
            "Der endgültige Durchschnitt ist: 2.60\n"
          ]
        }
      ],
      "source": [
        "# Variablen initialisieren\n",
        "noten = []  # Liste für die Noten\n",
        "\n",
        "# Noten eingeben und Durchschnitt berechnen\n",
        "while True:\n",
        "    # Note eingeben\n",
        "    note = float(input(\"Gib eine Note (1-6) ein: \"))\n",
        "\n",
        "    # Validierung der Note\n",
        "    if note < 1 or note > 6:\n",
        "        print(\"Ungültige Note. Bitte gib eine Note zwischen 1 und 6 ein.\")\n",
        "        continue\n",
        "\n",
        "    # Note zur Liste hinzufügen\n",
        "    noten.append(note)\n",
        "\n",
        "    # Berechnung des Durchschnitts\n",
        "    durchschnitt = sum(noten) / len(noten)\n",
        "    print(f\"Aktueller Durchschnitt: {durchschnitt:.2f}\")\n",
        "\n",
        "    # Abfrage, ob weitere Noten eingegeben werden sollen\n",
        "    weiter = input(\"Möchtest du eine weitere Note eingeben? (ja/nein): \").lower()\n",
        "    if weiter != 'ja':\n",
        "        break\n",
        "\n",
        "# Endgültiger Durchschnitt ausgeben\n",
        "final_durchschnitt = sum(noten) / len(noten)\n",
        "print(f\"Der endgültige Durchschnitt ist: {final_durchschnitt:.2f}\")"
      ]
    },
    {
      "cell_type": "markdown",
      "metadata": {
        "id": "w7Fws2erSIkG"
      },
      "source": [
        "### Aufgabe 5: Textanalyse\n",
        "\n",
        "Schreibe ein Programm, das einen eingegebenen Text analysiert und ausgibt:\n",
        "\n",
        "- Anzahl der Zeichen (mit und ohne Leerzeichen)\n",
        "- Anzahl der Wörter\n",
        "- Ob der Text ein Palindrom ist (vorwärts und rückwärts gelesen gleich, z.B. \"Anna\")\n",
        "- Ob der Text mit einem Großbuchstaben beginnt\n",
        "- Ob der Text mit einem Satzzeichen endet (., !, ?)"
      ]
    },
    {
      "cell_type": "code",
      "execution_count": 6,
      "metadata": {
        "id": "VTOh4rzjSIkH",
        "colab": {
          "base_uri": "https://localhost:8080/"
        },
        "outputId": "73353375-99e2-4ae2-fb7f-c587185fa515"
      },
      "outputs": [
        {
          "output_type": "stream",
          "name": "stdout",
          "text": [
            "Gib einen Text ein: Hallo Welt!\n",
            "\n",
            "Analyse des Textes:\n",
            "Anzahl der Zeichen (mit Leerzeichen): 11\n",
            "Anzahl der Zeichen (ohne Leerzeichen): 10\n",
            "Anzahl der Wörter: 2\n",
            "Der Text ist ein Palindrom: Nein\n",
            "Der Text beginnt mit einem Großbuchstaben: Ja\n",
            "Der Text endet mit einem Satzzeichen: Ja\n"
          ]
        }
      ],
      "source": [
        "import string\n",
        "\n",
        "# Text eingeben\n",
        "text = input(\"Gib einen Text ein: \")\n",
        "\n",
        "# Anzahl der Zeichen mit und ohne Leerzeichen\n",
        "zeichen_mit_leerzeichen = len(text)\n",
        "zeichen_ohne_leerzeichen = len(text.replace(\" \", \"\"))\n",
        "\n",
        "# Anzahl der Wörter (durch Leerzeichen getrennt)\n",
        "woerter = text.split()\n",
        "anzahl_woerter = len(woerter)\n",
        "\n",
        "# Überprüfen, ob der Text ein Palindrom ist (ignoriere Leerzeichen und Groß-/Kleinschreibung)\n",
        "text_ohne_leerzeichen = text.replace(\" \", \"\").lower()\n",
        "palindrom = text_ohne_leerzeichen == text_ohne_leerzeichen[::-1]\n",
        "\n",
        "# Überprüfen, ob der Text mit einem Großbuchstaben beginnt\n",
        "anfang_grossbuchstabe = text[0].isupper()\n",
        "\n",
        "# Überprüfen, ob der Text mit einem Satzzeichen endet\n",
        "satzzeichen = string.punctuation\n",
        "endet_mit_satzzeichen = text[-1] in satzzeichen\n",
        "\n",
        "# Ergebnisse ausgeben\n",
        "print(\"\\nAnalyse des Textes:\")\n",
        "print(f\"Anzahl der Zeichen (mit Leerzeichen): {zeichen_mit_leerzeichen}\")\n",
        "print(f\"Anzahl der Zeichen (ohne Leerzeichen): {zeichen_ohne_leerzeichen}\")\n",
        "print(f\"Anzahl der Wörter: {anzahl_woerter}\")\n",
        "print(f\"Der Text ist ein Palindrom: {'Ja' if palindrom else 'Nein'}\")\n",
        "print(f\"Der Text beginnt mit einem Großbuchstaben: {'Ja' if anfang_grossbuchstabe else 'Nein'}\")\n",
        "print(f\"Der Text endet mit einem Satzzeichen: {'Ja' if endet_mit_satzzeichen else 'Nein'}\")\n"
      ]
    },
    {
      "cell_type": "markdown",
      "metadata": {
        "id": "OUQ6xnnzSIkH"
      },
      "source": [
        "### Aufgabe 6: Bankkonto-Simulator\n",
        "\n",
        "Erstelle einen einfachen Bankkonto-Simulator, der folgende Funktionen bietet:\n",
        "- Kontostand anzeigen\n",
        "- Geld einzahlen\n",
        "- Geld abheben\n",
        "- Programm beenden\n"
      ]
    },
    {
      "cell_type": "code",
      "execution_count": 8,
      "metadata": {
        "id": "nK4nl9-WSIkH",
        "colab": {
          "base_uri": "https://localhost:8080/"
        },
        "outputId": "0bd80d66-a44f-4987-8862-86a55af27a68"
      },
      "outputs": [
        {
          "output_type": "stream",
          "name": "stdout",
          "text": [
            "\n",
            "Bankkonto-Simulator\n",
            "1. Kontostand anzeigen\n",
            "2. Geld einzahlen\n",
            "3. Geld abheben\n",
            "4. Programm beenden\n",
            "Wähle eine Option (1/2/3/4): 1\n",
            "Dein aktueller Kontostand beträgt: 0.00 €\n",
            "\n",
            "Bankkonto-Simulator\n",
            "1. Kontostand anzeigen\n",
            "2. Geld einzahlen\n",
            "3. Geld abheben\n",
            "4. Programm beenden\n",
            "Wähle eine Option (1/2/3/4): 2\n",
            "Wie viel möchtest du einzahlen? 2500\n",
            "Du hast 2500.00 € eingezahlt.\n",
            "\n",
            "Bankkonto-Simulator\n",
            "1. Kontostand anzeigen\n",
            "2. Geld einzahlen\n",
            "3. Geld abheben\n",
            "4. Programm beenden\n",
            "Wähle eine Option (1/2/3/4): 3\n",
            "Wie viel möchtest du abheben? 200\n",
            "Du hast 200.00 € abgehoben.\n",
            "\n",
            "Bankkonto-Simulator\n",
            "1. Kontostand anzeigen\n",
            "2. Geld einzahlen\n",
            "3. Geld abheben\n",
            "4. Programm beenden\n",
            "Wähle eine Option (1/2/3/4): 1\n",
            "Dein aktueller Kontostand beträgt: 2300.00 €\n",
            "\n",
            "Bankkonto-Simulator\n",
            "1. Kontostand anzeigen\n",
            "2. Geld einzahlen\n",
            "3. Geld abheben\n",
            "4. Programm beenden\n",
            "Wähle eine Option (1/2/3/4): 4\n",
            "Wir Bedanken uns für ihren besuch.\n"
          ]
        }
      ],
      "source": [
        "# Initialer Kontostand\n",
        "kontostand = 0.0\n",
        "\n",
        "# Funktion, um den Kontostand anzuzeigen\n",
        "def kontostand_anzeigen():\n",
        "    print(f\"Dein aktueller Kontostand beträgt: {kontostand:.2f} €\")\n",
        "\n",
        "# Funktion, um Geld einzuzahlen\n",
        "def geld_einzahlen():\n",
        "    global kontostand\n",
        "    betrag = float(input(\"Wie viel möchtest du einzahlen? \"))\n",
        "    if betrag > 0:\n",
        "        kontostand += betrag\n",
        "        print(f\"Du hast {betrag:.2f} € eingezahlt.\")\n",
        "    else:\n",
        "        print(\"Bitte einen positiven Betrag eingeben.\")\n",
        "\n",
        "# Funktion, um Geld abzuheben\n",
        "def geld_abheben():\n",
        "    global kontostand\n",
        "    betrag = float(input(\"Wie viel möchtest du abheben? \"))\n",
        "    if betrag > 0 and betrag <= kontostand:\n",
        "        kontostand -= betrag\n",
        "        print(f\"Du hast {betrag:.2f} € abgehoben.\")\n",
        "    elif betrag > kontostand:\n",
        "        print(\"Unzureichender Kontostand!\")\n",
        "    else:\n",
        "        print(\"Bitte einen positiven Betrag eingeben.\")\n",
        "\n",
        "# Menü des Programms\n",
        "while True:\n",
        "    print(\"\\nBankkonto-Simulator\")\n",
        "    print(\"1. Kontostand anzeigen\")\n",
        "    print(\"2. Geld einzahlen\")\n",
        "    print(\"3. Geld abheben\")\n",
        "    print(\"4. Programm beenden\")\n",
        "\n",
        "    # Benutzerauswahl\n",
        "    wahl = input(\"Wähle eine Option (1/2/3/4): \")\n",
        "\n",
        "    if wahl == '1':\n",
        "        kontostand_anzeigen()\n",
        "    elif wahl == '2':\n",
        "        geld_einzahlen()\n",
        "    elif wahl == '3':\n",
        "        geld_abheben()\n",
        "    elif wahl == '4':\n",
        "        print(\"Wir Bedanken uns für ihren besuch.\")\n",
        "        break\n",
        "    else:\n",
        "        print(\"Ungültige Auswahl, bitte versuche es erneut.\")\n"
      ]
    }
  ],
  "metadata": {
    "kernelspec": {
      "display_name": "Python 3",
      "language": "python",
      "name": "python3"
    },
    "language_info": {
      "name": "python",
      "version": "3.13.2"
    },
    "colab": {
      "provenance": [],
      "include_colab_link": true
    }
  },
  "nbformat": 4,
  "nbformat_minor": 0
}