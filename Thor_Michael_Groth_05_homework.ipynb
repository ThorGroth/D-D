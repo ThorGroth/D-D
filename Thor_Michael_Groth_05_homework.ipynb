{
  "cells": [
    {
      "cell_type": "markdown",
      "metadata": {
        "id": "view-in-github",
        "colab_type": "text"
      },
      "source": [
        "<a href=\"https://colab.research.google.com/github/ThorGroth/D-D/blob/master/Thor_Michael_Groth_05_homework.ipynb\" target=\"_parent\"><img src=\"https://colab.research.google.com/assets/colab-badge.svg\" alt=\"Open In Colab\"/></a>"
      ]
    },
    {
      "cell_type": "markdown",
      "metadata": {
        "id": "Yr6nhbUeKG1r"
      },
      "source": [
        "# Python Datenstrukturen: Einfache Übungsaufgaben\n",
        "\n",
        "## 1. Listen\n",
        "\n",
        "### Übung 1.1: Listen erstellen und zugreifen"
      ]
    },
    {
      "cell_type": "code",
      "execution_count": 1,
      "metadata": {
        "colab": {
          "base_uri": "https://localhost:8080/"
        },
        "id": "y-cMY2hPKG1x",
        "outputId": "37630df2-96c6-421f-9cd3-62d410aa2169"
      },
      "outputs": [
        {
          "output_type": "stream",
          "name": "stdout",
          "text": [
            "Erste Farbe: Blau\n",
            "Dritte Farbe: Rot\n",
            "Letzte Farbe: Türkis\n",
            "Geänderte Farbliste: ['Blau', 'Gelb', 'Rot', 'Schwarz', 'Türkis', 'Lila']\n"
          ]
        }
      ],
      "source": [
        "# Erstelle eine Liste mit 5 deiner Lieblingsfarben\n",
        "farben = [\"Blau\", \"Grün\", \"Rot\", \"Schwarz\", \"Türkis\"]\n",
        "\n",
        "# Gib die erste, dritte und letzte Farbe aus\n",
        "# Dein Code hier\n",
        "print(\"Erste Farbe:\", farben[0])\n",
        "print(\"Dritte Farbe:\", farben[2])\n",
        "print(\"Letzte Farbe:\", farben[-1])\n",
        "\n",
        "# Füge eine neue Farbe am Ende hinzu\n",
        "# Dein Code hier\n",
        "farben.append(\"Lila\")\n",
        "\n",
        "# Ändere die zweite Farbe in der Liste\n",
        "# Dein Code hier\n",
        "farben[1] = \"Gelb\"\n",
        "\n",
        "# Gib die geänderte Liste aus\n",
        "# Dein Code hier\n",
        "print(\"Geänderte Farbliste:\", farben)"
      ]
    },
    {
      "cell_type": "markdown",
      "metadata": {
        "id": "vc4KmXUVKG10"
      },
      "source": [
        "### Übung 1.2: Listenoperationen\n"
      ]
    },
    {
      "cell_type": "code",
      "execution_count": 4,
      "metadata": {
        "colab": {
          "base_uri": "https://localhost:8080/"
        },
        "id": "7TacmK2EKG11",
        "outputId": "af5288b8-b0a2-424c-ccd0-2d451fd738e7"
      },
      "outputs": [
        {
          "output_type": "stream",
          "name": "stdout",
          "text": [
            "Entgültige Liste: ['Apfel', 'Banane', 'Brokkoli', 'Karotte', 'Orange']\n",
            "Anzahl 'Apfel' in der endgültigen Liste: 1\n"
          ]
        }
      ],
      "source": [
        "# Erstelle zwei Listen: eine mit Früchten und eine mit Gemüsesorten\n",
        "fruechte = [\"Apfel\", \"Banane\", \"Orange\"]\n",
        "gemuese = [\"Karotte\", \"Brokkoli\", \"Spinat\"]\n",
        "\n",
        "# Verbinde beide Listen zu einer neuen Liste\n",
        "# Dein Code hier\n",
        "lebensmittel = fruechte + gemuese\n",
        "\n",
        "# Sortiere die neue Liste alphabetisch\n",
        "# Dein Code hier\n",
        "lebensmittel.sort()\n",
        "\n",
        "# Zähle, wie oft \"Apfel\" in der Liste vorkommt (falls vorhanden)\n",
        "# Dein Code hier\n",
        "anzahl_apfel = lebensmittel.count(\"Apfel\")\n",
        "\n",
        "# Entferne das letzte Element der Liste\n",
        "# Dein Code hier\n",
        "lebensmittel.pop()\n",
        "\n",
        "# Gib die endgültige Liste aus\n",
        "# Dein Code hier\n",
        "print(\"Entgültige Liste:\", lebensmittel)\n",
        "print(\"Anzahl 'Apfel' in der endgültigen Liste:\", anzahl_apfel)"
      ]
    },
    {
      "cell_type": "markdown",
      "metadata": {
        "id": "4-zRP7MQKG12"
      },
      "source": [
        "### Übung 1.3: Slicing\n"
      ]
    },
    {
      "cell_type": "code",
      "execution_count": 5,
      "metadata": {
        "colab": {
          "base_uri": "https://localhost:8080/"
        },
        "id": "7kCVTZS5KG13",
        "outputId": "a96ca4b8-ad53-4942-880d-d5100f789784"
      },
      "outputs": [
        {
          "output_type": "stream",
          "name": "stdout",
          "text": [
            "Ursprüngliche Liste: [1, 2, 3, 4, 5, 6, 7, 8, 9, 10]\n",
            "Erste 3 Elemente: [1, 2, 3]\n",
            "Jede zweite Zahl [1, 3, 5, 7, 9]\n",
            "Umgekehrte Liste: [10, 9, 8, 7, 6, 5, 4, 3, 2, 1]\n"
          ]
        }
      ],
      "source": [
        "# Erstelle eine Liste mit den Zahlen von 1 bis 10\n",
        "zahlen = list(range(1, 11))\n",
        "print(\"Ursprüngliche Liste:\", zahlen)\n",
        "\n",
        "# Extrahiere die ersten 3 Elemente\n",
        "# Dein Code hier\n",
        "erste_drei = zahlen[:3]\n",
        "print(\"Erste 3 Elemente:\", erste_drei)\n",
        "\n",
        "# Extrahiere jede zweite Zahl\n",
        "# Dein Code hier\n",
        "jede_zweite = zahlen[::2]\n",
        "print(\"Jede zweite Zahl\", jede_zweite)\n",
        "\n",
        "# Kehre die Reihenfolge der Liste um\n",
        "# Dein Code hier\n",
        "umgekehrt = zahlen[::-1]\n",
        "print(\"Umgekehrte Liste:\", umgekehrt)"
      ]
    },
    {
      "cell_type": "markdown",
      "metadata": {
        "id": "IwpgacUAKG15"
      },
      "source": [
        "## 2. Tupel\n",
        "\n",
        "### Übung 2.1: Tupel erstellen und verwenden"
      ]
    },
    {
      "cell_type": "code",
      "execution_count": 9,
      "metadata": {
        "colab": {
          "base_uri": "https://localhost:8080/"
        },
        "id": "lulj5tmOKG16",
        "outputId": "8edeab80-30e2-4e02-fc11-78619c089373"
      },
      "outputs": [
        {
          "output_type": "stream",
          "name": "stdout",
          "text": [
            "Farben-Tupel: ('Rot', 'Blau', 'Grün')\n",
            "Fehler beim Ändern eines Tupels: 'tuple' object does not support item assignment\n",
            "x: 10\n",
            "y: 20\n",
            "z: 30\n"
          ]
        }
      ],
      "source": [
        "# Erstelle ein Tupel mit 3 verschiedenen Farben\n",
        "farben_tupel = (\"Rot\", \"Blau\", \"Grün\")\n",
        "print(\"Farben-Tupel:\", farben_tupel)\n",
        "\n",
        "# Versuche, ein Element im Tupel zu ändern und beobachte den Fehler\n",
        "# Dein Code hier\n",
        "try:\n",
        "    farben_tupel[0] = \"Gelb\"  # Tupel sind unveränderlich!\n",
        "except TypeError as e:\n",
        "    print(\"Fehler beim Ändern eines Tupels:\", e)\n",
        "\n",
        "# Erstelle ein Tupel mit Koordinaten (x, y, z)\n",
        "koordinaten = (10, 20, 30)\n",
        "\n",
        "# Packe das Tupel in einzelne Variablen aus\n",
        "# Dein Code hier\n",
        "x, y, z = koordinaten\n",
        "\n",
        "# Gib die einzelnen Variablen aus\n",
        "# Dein Code hier\n",
        "print(\"x:\", x)\n",
        "print(\"y:\", y)\n",
        "print(\"z:\", z)"
      ]
    },
    {
      "cell_type": "markdown",
      "metadata": {
        "id": "bxQVZIrrKG17"
      },
      "source": [
        "### Übung 2.2: Tupel und Listen kombinieren\n"
      ]
    },
    {
      "cell_type": "code",
      "execution_count": 10,
      "metadata": {
        "colab": {
          "base_uri": "https://localhost:8080/"
        },
        "id": "4J6IqI5SKG18",
        "outputId": "6eb71cea-354e-423a-e060-ae3dbde44e6f"
      },
      "outputs": [
        {
          "output_type": "stream",
          "name": "stdout",
          "text": [
            "Namen: ['Anna', 'Ben', 'Clara', 'David']\n",
            "Älteste Person: David mit 35 Jahren\n"
          ]
        }
      ],
      "source": [
        "# Erstelle eine Liste von Tupeln, wobei jedes Tupel einen Namen und ein Alter enthält\n",
        "personen = [(\"Anna\", 25), (\"Ben\", 30), (\"Clara\", 22), (\"David\", 35)]\n",
        "\n",
        "# Gib nur die Namen aus der Liste aus\n",
        "# Dein Code hier\n",
        "namen = [name for name, alter in personen]\n",
        "print(\"Namen:\", namen)\n",
        "\n",
        "# Finde die Person mit dem höchsten Alter\n",
        "# Dein Code hier\n",
        "aelteste_person = max(personen, key=lambda p: p[1])\n",
        "print(\"Älteste Person:\", aelteste_person[0], \"mit\", aelteste_person[1], \"Jahren\")"
      ]
    },
    {
      "cell_type": "markdown",
      "metadata": {
        "id": "sCgh5UqjKG19"
      },
      "source": [
        "## 3. Dictionaries\n",
        "\n",
        "### Übung 3.1: Dictionary erstellen und verwenden"
      ]
    },
    {
      "cell_type": "code",
      "execution_count": 11,
      "metadata": {
        "colab": {
          "base_uri": "https://localhost:8080/"
        },
        "id": "yvfDcurLKG19",
        "outputId": "cc6546cd-c336-47f9-b2bc-f95c9c3492a5"
      },
      "outputs": [
        {
          "output_type": "stream",
          "name": "stdout",
          "text": [
            "Länder: ['Deutschland', 'Frankreich', 'Italien', 'Spanien', 'Japan', 'USA']\n",
            "Hauptstädte: ['Berlin', 'Paris', 'Mailand', 'Madrid', 'Tokio', 'Washington, D:C:']\n",
            "Aktualisiertes Dictionary: {'Deutschland': 'Berlin', 'Italien': 'Mailand', 'Spanien': 'Madrid', 'Japan': 'Tokio', 'USA': 'Washington, D:C:'}\n"
          ]
        }
      ],
      "source": [
        "# Erstelle ein Dictionary mit 5 Ländern und ihren Hauptstädten\n",
        "laender = {\n",
        "    \"Deutschland\": \"Berlin\",\n",
        "    \"Frankreich\": \"Paris\",\n",
        "    \"Italien\": \"Rom\",\n",
        "    \"Spanien\": \"Madrid\",\n",
        "    \"Japan\": \"Tokio\"\n",
        "}\n",
        "\n",
        "# Füge ein neues Land hinzu\n",
        "# Dein Code hier\n",
        "laender[\"USA\"] = \"Washington, D:C:\"\n",
        "\n",
        "# Ändere die Hauptstadt eines Landes\n",
        "# Dein Code hier\n",
        "laender[\"Italien\"] = \"Mailand\"\n",
        "\n",
        "# Gib alle Länder aus\n",
        "# Dein Code hier\n",
        "print(\"Länder:\", list(laender.keys()))\n",
        "\n",
        "# Gib alle Hauptstädte aus\n",
        "# Dein Code hier\n",
        "print(\"Hauptstädte:\", list(laender.values()))\n",
        "\n",
        "# Entferne ein Land aus dem Dictionary\n",
        "# Dein Code hier\n",
        "del laender[\"Frankreich\"]\n",
        "\n",
        "# Gib das aktualisierte Dictionary aus\n",
        "# Dein Code hier\n",
        "print(\"Aktualisiertes Dictionary:\", laender)"
      ]
    },
    {
      "cell_type": "markdown",
      "metadata": {
        "id": "R5WqrswaKG1-"
      },
      "source": [
        "### Übung 3.2: Verschachtelte Dictionaries\n"
      ]
    },
    {
      "cell_type": "code",
      "execution_count": 13,
      "metadata": {
        "colab": {
          "base_uri": "https://localhost:8080/"
        },
        "id": "HIy4NvOfKG1-",
        "outputId": "a38cb2cb-55b7-46dd-9c4f-dad690b4f44b"
      },
      "outputs": [
        {
          "output_type": "stream",
          "name": "stdout",
          "text": [
            "Anna's Notendurchschnitt: 85.00\n",
            "Ben's Notendurchschnitt: 90.00\n",
            "Clara's Notendurchschnitt: 86.00\n",
            "Anna hat die beste Note in Deutsch mit 92.\n",
            "Ben hat die beste Note in Englisch mit 95.\n",
            "Clara hat die beste Note in Englisch mit 92.\n"
          ]
        }
      ],
      "source": [
        "# Erstelle ein Dictionary für 3 Schüler mit Noten in verschiedenen Fächern\n",
        "schueler = {\n",
        "    \"Anna\": {\"Mathe\": 85, \"Deutsch\": 92, \"Englisch\": 78},\n",
        "    \"Ben\": {\"Mathe\": 90, \"Deutsch\": 85, \"Englisch\": 95},\n",
        "    \"Clara\": {\"Mathe\": 78, \"Deutsch\": 88, \"Englisch\": 92}\n",
        "}\n",
        "\n",
        "# Berechne den Notendurchschnitt für jeden Schüler\n",
        "# Dein Code hier\n",
        "for name, noten in schueler.items():\n",
        "    durchschnitt = sum(noten.values()) / len(noten)\n",
        "    print(f\"{name}'s Notendurchschnitt: {durchschnitt:.2f}\")\n",
        "\n",
        "# Finde das Fach, in dem ein bestimmter Schüler die beste Note hat\n",
        "# Dein Code hier\n",
        "for name, noten in schueler.items():\n",
        "    bestes_fach = max(noten, key=noten.get)\n",
        "    beste_note = noten[bestes_fach]\n",
        "    print(f\"{name} hat die beste Note in {bestes_fach} mit {beste_note}.\")"
      ]
    },
    {
      "cell_type": "markdown",
      "metadata": {
        "id": "B4jKT_uwKG1-"
      },
      "source": [
        "## 4. Sets\n",
        "\n",
        "### Übung 4.1: Sets erstellen und verwenden"
      ]
    },
    {
      "cell_type": "code",
      "execution_count": 23,
      "metadata": {
        "colab": {
          "base_uri": "https://localhost:8080/"
        },
        "id": "dd_8I0W5KG1_",
        "outputId": "7d3a5131-164a-425e-d401-e97cf9b419e1"
      },
      "outputs": [
        {
          "output_type": "stream",
          "name": "stdout",
          "text": [
            "Vereinigung der Sets: {1, 2, 3, 4, 5, 6, 7, 8, 9, 10}\n",
            "Schnittmenge der Sets: set()\n",
            "Gerade Zahlen nach Hinzufügen einer ungeraden Zahl: {2, 4, 6, 8, 10, 11}\n",
            "Gerade Zahlen nach Entfernen eines Elements: {2, 4, 8, 10, 11}\n",
            "Gerade Zahlen Set: {2, 4, 8, 10, 11}\n",
            "Ungerade Zahlen Set: {1, 3, 5, 7, 9}\n"
          ]
        }
      ],
      "source": [
        "# Erstelle zwei Sets: eins mit geraden Zahlen von 2-10 und eins mit ungeraden Zahlen von 1-9\n",
        "gerade_zahlen = set([2, 4, 6, 8, 10])\n",
        "ungerade_zahlen = set([1, 3, 5, 7, 9])\n",
        "\n",
        "# Finde die Vereinigung der beiden Sets\n",
        "# Dein Code hier\n",
        "vereinigung = gerade_zahlen | ungerade_zahlen\n",
        "print(\"Vereinigung der Sets:\", vereinigung)\n",
        "\n",
        "# Finde die Schnittmenge der beiden Sets (sollte leer sein)\n",
        "# Dein Code hier\n",
        "schnittmenge = gerade_zahlen & ungerade_zahlen\n",
        "print(\"Schnittmenge der Sets:\", schnittmenge)\n",
        "\n",
        "# Füge dem Set mit geraden Zahlen eine ungerade Zahl hinzu\n",
        "# Dein Code hier\n",
        "gerade_zahlen.add(11)\n",
        "print(\"Gerade Zahlen nach Hinzufügen einer ungeraden Zahl:\", gerade_zahlen)\n",
        "\n",
        "# Entferne ein Element aus einem Set\n",
        "# Dein Code hier\n",
        "gerade_zahlen.remove(6)\n",
        "print(\"Gerade Zahlen nach Entfernen eines Elements:\", gerade_zahlen)\n",
        "\n",
        "# Gib beide Sets aus\n",
        "# Dein Code hier\n",
        "print(\"Gerade Zahlen Set:\", gerade_zahlen)\n",
        "print(\"Ungerade Zahlen Set:\", ungerade_zahlen)"
      ]
    },
    {
      "cell_type": "markdown",
      "metadata": {
        "id": "AgjdBF8UKG1_"
      },
      "source": [
        "### Übung 4.2: Duplikate entfernen\n"
      ]
    },
    {
      "cell_type": "code",
      "execution_count": 24,
      "metadata": {
        "colab": {
          "base_uri": "https://localhost:8080/"
        },
        "id": "0qn9nqyQKG1_",
        "outputId": "83b63b6e-ae76-4dd4-b7a5-216b88b3a332"
      },
      "outputs": [
        {
          "output_type": "stream",
          "name": "stdout",
          "text": [
            "Eindeutige zahlen (ohne duplikate): {1, 2, 3, 4, 5, 6, 7, 8, 9}\n",
            "Anzahl der eindeutigen Elemente: 9\n"
          ]
        }
      ],
      "source": [
        "# Erstelle eine Liste mit mehreren wiederholten Elementen\n",
        "zahlen_mit_duplikaten = [1, 2, 3, 2, 4, 5, 1, 6, 7, 8, 5, 9, 9, 3]\n",
        "\n",
        "# Entferne alle Duplikate mithilfe eines Sets\n",
        "# Dein Code hier\n",
        "einzigartige_zahlen = set(zahlen_mit_duplikaten)\n",
        "print(\"Eindeutige zahlen (ohne duplikate):\", einzigartige_zahlen)\n",
        "\n",
        "# Zähle, wie viele eindeutige Elemente in der ursprünglichen Liste waren\n",
        "# Dein Code hier\n",
        "anzahl_eindeutige = len(einzigartige_zahlen)\n",
        "print(\"Anzahl der eindeutigen Elemente:\", anzahl_eindeutige)"
      ]
    },
    {
      "cell_type": "markdown",
      "metadata": {
        "id": "XSz9XkKbKG2A"
      },
      "source": [
        "## 5. Bonusaufgabe: Dateien\n",
        "\n",
        "### Übung 5.1: Textdateien lesen und schreiben"
      ]
    },
    {
      "cell_type": "code",
      "execution_count": 31,
      "metadata": {
        "colab": {
          "base_uri": "https://localhost:8080/"
        },
        "id": "c4mblA1tKG2A",
        "outputId": "96f632fd-42ee-4e1e-f17d-112f44484405"
      },
      "outputs": [
        {
          "output_type": "stream",
          "name": "stdout",
          "text": [
            "Zeile 1: Dies ist die erste Zeile.\n",
            "Zeile 2: Hier ist die zweite Zeile.\n",
            "Zeile 3: Die dritte Zeile folgt.\n",
            "Zeile 4: Nun kommt die vierte Zeile.\n",
            "Zeile 5: Hier ist die letzte Zeile.\n",
            "\n",
            "--- Datei nach dem Hinzufügen weiterer Zeilen ---\n",
            "Zeile 1: Dies ist die erste Zeile.\n",
            "Zeile 2: Hier ist die zweite Zeile.\n",
            "Zeile 3: Die dritte Zeile folgt.\n",
            "Zeile 4: Nun kommt die vierte Zeile.\n",
            "Zeile 5: Hier ist die letzte Zeile.\n",
            "Zeile 6: Dies ist eineweitere Zeile.\n",
            "Zeile 7: Und noch eine Zeile.\n",
            "Gesamtzahl der Wörter in der Datei: 32\n"
          ]
        }
      ],
      "source": [
        "# Erstelle eine Textdatei mit 5 Zeilen Text\n",
        "with open(\"uebung.txt\", \"w\") as datei:\n",
        "    datei.write(\"Dies ist die erste Zeile.\\n\")\n",
        "    datei.write(\"Hier ist die zweite Zeile.\\n\")\n",
        "    datei.write(\"Die dritte Zeile folgt.\\n\")\n",
        "    datei.write(\"Nun kommt die vierte Zeile.\\n\")\n",
        "    datei.write(\"Hier ist die letzte Zeile.\\n\")\n",
        "\n",
        "# Lies die Datei ein und gib jede Zeile mit Zeilennummer aus\n",
        "# Dein Code hier\n",
        "with open(\"uebung.txt\", \"r\") as datei:\n",
        "    for zeilennummer, zeile in enumerate(datei, start=1):\n",
        "        print(f\"Zeile {zeilennummer}: {zeile.strip()}\")\n",
        "\n",
        "# Füge zwei weitere Zeilen am Ende der Datei hinzu\n",
        "# Dein Code hier\n",
        "with open(\"uebung.txt\", \"a\") as datei:\n",
        "    datei.write(\"Dies ist eineweitere Zeile.\\n\")\n",
        "    datei.write(\"Und noch eine Zeile.\\n\")\n",
        "\n",
        "print(\"\\n--- Datei nach dem Hinzufügen weiterer Zeilen ---\")\n",
        "with open(\"uebung.txt\", \"r\") as datei:\n",
        "    for zeilennummer, zeile in enumerate(datei, start=1):\n",
        "        print(f\"Zeile {zeilennummer}: {zeile.strip()}\")\n",
        "\n",
        "# Lies die Datei erneut ein und zähle die Gesamtanzahl der Wörter\n",
        "# Dein Code hier\n",
        "with open(\"uebung.txt\", \"r\") as datei:\n",
        "    text = datei.read()\n",
        "    woerter = text.split()\n",
        "    anzahl_woerter = len(woerter)\n",
        "    print(f\"Gesamtzahl der Wörter in der Datei: {anzahl_woerter}\")"
      ]
    },
    {
      "cell_type": "markdown",
      "metadata": {
        "id": "SpFpHJqYKG2A"
      },
      "source": [
        "### Übung 5.2: Einfache Datenverarbeitung\n"
      ]
    },
    {
      "cell_type": "code",
      "execution_count": 32,
      "metadata": {
        "colab": {
          "base_uri": "https://localhost:8080/"
        },
        "id": "0FvALTKXKG2A",
        "outputId": "84e999b0-b620-480b-8a74-75c18f7b861b"
      },
      "outputs": [
        {
          "output_type": "stream",
          "name": "stdout",
          "text": [
            "Summe der Zahlen: 150\n"
          ]
        }
      ],
      "source": [
        "# Erstelle eine Textdatei mit Zahlen (eine pro Zeile)\n",
        "with open(\"zahlen.txt\", \"w\") as datei:\n",
        "    datei.write(\"10\\n\")\n",
        "    datei.write(\"20\\n\")\n",
        "    datei.write(\"30\\n\")\n",
        "    datei.write(\"40\\n\")\n",
        "    datei.write(\"50\\n\")\n",
        "\n",
        "# Lies die Datei ein und berechne die Summe aller Zahlen\n",
        "# Dein Code hier\n",
        "with open(\"zahlen.txt\", \"r\") as datei:\n",
        "    zahlen = [int(zeile.strip()) for zeile in datei]\n",
        "    gesamt = sum(zahlen)\n",
        "    print(\"Summe der Zahlen:\", gesamt)\n",
        "\n",
        "# Schreibe das Ergebnis in eine neue Datei\n",
        "# Dein Code hier\n",
        "with open(\"ergebnis.txt\", \"w\") as datei:\n",
        "    datei.write(f\"Die Summe der Zahlen beträgt: {gesamt}\\n\")"
      ]
    },
    {
      "cell_type": "markdown",
      "metadata": {
        "id": "6hf9kMrpKG2B"
      },
      "source": [
        "## 6. Bonusaufabe: List Comprehensions\n",
        "\n",
        "### Übung 6.1: List Comprehensions üben"
      ]
    },
    {
      "cell_type": "code",
      "execution_count": 34,
      "metadata": {
        "colab": {
          "base_uri": "https://localhost:8080/"
        },
        "id": "SmTvm0l6KG2B",
        "outputId": "c6abff3f-7b68-4da6-807a-e99af7df5afc"
      },
      "outputs": [
        {
          "output_type": "stream",
          "name": "stdout",
          "text": [
            "Quadratzahlen von 1 bis 10: [1, 4, 9, 16, 25, 36, 49, 64, 81, 100]\n",
            "Buchstaben in Großbuchstaben: ['P', 'Y', 'T', 'H', 'O', 'N']\n",
            "Gerade Zahlen von 1 bis 20: [2, 4, 6, 8, 10, 12, 14, 16, 18, 20]\n"
          ]
        }
      ],
      "source": [
        "# Erstelle eine Liste mit den Quadratzahlen von 1 bis 10\n",
        "# Dein Code hier\n",
        "quadratzahlen = [x**2 for x in range(1, 11)]\n",
        "print(\"Quadratzahlen von 1 bis 10:\", quadratzahlen)\n",
        "\n",
        "# Erstelle eine Liste mit allen Buchstaben eines Wortes in Großbuchstaben\n",
        "wort = \"python\"\n",
        "# Dein Code hier\n",
        "buchstaben_gross = [buchstabe.upper() for buchstabe in wort]\n",
        "print(\"Buchstaben in Großbuchstaben:\", buchstaben_gross)\n",
        "\n",
        "\n",
        "# Filtere alle geraden Zahlen aus einer Liste heraus\n",
        "zahlen = list(range(1, 21))\n",
        "# Dein Code hier\n",
        "gerade_zahlen = [zahl for zahl in zahlen if zahl % 2 == 0]\n",
        "print(\"Gerade Zahlen von 1 bis 20:\", gerade_zahlen)"
      ]
    },
    {
      "cell_type": "markdown",
      "metadata": {
        "id": "EB42oNCrKG2C"
      },
      "source": [
        "## Bonus-Übungen\n",
        "\n",
        "### Bonus 1: Kombination von Datenstrukturen"
      ]
    },
    {
      "cell_type": "code",
      "execution_count": 35,
      "metadata": {
        "colab": {
          "base_uri": "https://localhost:8080/"
        },
        "id": "a8L_mGi4KG2C",
        "outputId": "a18ffea1-225d-4247-a74a-3e854e0a6471"
      },
      "outputs": [
        {
          "output_type": "stream",
          "name": "stdout",
          "text": [
            "Anna: Beste Note = 92, Schlechtteste Note = 78\n",
            "Ben: Beste Note = 91, Schlechtteste Note = 76\n",
            "Clara: Beste Note = 95, Schlechtteste Note = 87\n"
          ]
        }
      ],
      "source": [
        "# Erstelle ein Dictionary, das Studentennamen als Schlüssel und\n",
        "# eine Liste ihrer Noten als Werte enthält\n",
        "studenten = {}\n",
        "\n",
        "# Füge drei Studenten mit jeweils 4 Noten hinzu\n",
        "# Dein Code hier\n",
        "studenten[\"Anna\"] = [85, 90, 78, 92]\n",
        "studenten[\"Ben\"] = [76, 88, 91, 83]\n",
        "studenten[\"Clara\"] = [93, 95, 89, 87]\n",
        "\n",
        "# Berechne für jeden Studenten die beste und die schlechteste Note\n",
        "# Dein Code hier\n",
        "for name, noten in studenten.items():\n",
        "    beste_note = max(noten)\n",
        "    schlechteste_note = min(noten)\n",
        "    print(f\"{name}: Beste Note = {beste_note}, Schlechtteste Note = {schlechteste_note}\")"
      ]
    },
    {
      "cell_type": "markdown",
      "metadata": {
        "id": "GfyhrlkJKG2C"
      },
      "source": [
        "### Bonus 2: Textanalyse\n"
      ]
    },
    {
      "cell_type": "code",
      "execution_count": null,
      "metadata": {
        "id": "XK_d1IzmKG2D"
      },
      "outputs": [],
      "source": [
        "# Analysiere folgenden Text:\n",
        "text = \"\"\"Python ist eine einfache aber mächtige Programmiersprache.\n",
        "Python ist bei Anfängern und Experten gleichermaßen beliebt.\n",
        "Mit Python kann man Datenanalyse, Webentwicklung und vieles mehr machen.\"\"\"\n",
        "\n",
        "# Zähle, wie oft jedes Wort im Text vorkommt (Groß-/Kleinschreibung ignorieren)\n",
        "# Dein Code hier\n",
        "\n",
        "# Finde das am häufigsten vorkommende Wort\n",
        "# Dein Code hier"
      ]
    }
  ],
  "metadata": {
    "kernelspec": {
      "display_name": "Python 3",
      "language": "python",
      "name": "python3"
    },
    "language_info": {
      "codemirror_mode": {
        "name": "ipython",
        "version": 3
      },
      "file_extension": ".py",
      "mimetype": "text/x-python",
      "name": "python",
      "nbconvert_exporter": "python",
      "pygments_lexer": "ipython3",
      "version": "3.11.11"
    },
    "colab": {
      "provenance": [],
      "include_colab_link": true
    }
  },
  "nbformat": 4,
  "nbformat_minor": 0
}