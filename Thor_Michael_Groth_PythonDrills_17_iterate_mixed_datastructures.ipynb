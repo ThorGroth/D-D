{
  "cells": [
    {
      "cell_type": "markdown",
      "metadata": {
        "id": "view-in-github",
        "colab_type": "text"
      },
      "source": [
        "<a href=\"https://colab.research.google.com/github/ThorGroth/D-D/blob/master/Thor_Michael_Groth_PythonDrills_17_iterate_mixed_datastructures.ipynb\" target=\"_parent\"><img src=\"https://colab.research.google.com/assets/colab-badge.svg\" alt=\"Open In Colab\"/></a>"
      ]
    },
    {
      "cell_type": "markdown",
      "id": "1ec875bc",
      "metadata": {
        "id": "1ec875bc"
      },
      "source": [
        "## Aufgabe 1: Iteration durch eine Liste von Listen"
      ]
    },
    {
      "cell_type": "markdown",
      "id": "8b8f8aff",
      "metadata": {
        "id": "8b8f8aff"
      },
      "source": [
        "Ergänze den Code, um alle Elemente in `matrix` auszugeben."
      ]
    },
    {
      "cell_type": "code",
      "execution_count": 1,
      "id": "3acb0530",
      "metadata": {
        "id": "3acb0530",
        "colab": {
          "base_uri": "https://localhost:8080/"
        },
        "outputId": "bf1d8dfd-1e92-4176-f76c-514485c6a916"
      },
      "outputs": [
        {
          "output_type": "stream",
          "name": "stdout",
          "text": [
            "1\n",
            "2\n",
            "3\n",
            "4\n",
            "5\n",
            "6\n",
            "7\n",
            "8\n",
            "9\n"
          ]
        }
      ],
      "source": [
        "matrix = [[1, 2, 3], [4, 5, 6], [7, 8, 9]]\n",
        "for zeile in matrix:\n",
        "    for zahl in zeile:\n",
        "        print(zahl)"
      ]
    },
    {
      "cell_type": "markdown",
      "id": "78c6953e",
      "metadata": {
        "id": "78c6953e"
      },
      "source": [
        "## Aufgabe 2: Zeilensummen berechnen"
      ]
    },
    {
      "cell_type": "markdown",
      "id": "d32d77ab",
      "metadata": {
        "id": "d32d77ab"
      },
      "source": [
        "Ergänze den Code, um die Summe jeder Zeile in `matrix` zu berechnen."
      ]
    },
    {
      "cell_type": "code",
      "execution_count": 2,
      "id": "1c6d2f15",
      "metadata": {
        "id": "1c6d2f15",
        "colab": {
          "base_uri": "https://localhost:8080/"
        },
        "outputId": "8f7afa3c-dcec-4bb8-8aa7-e044d1b6b166"
      },
      "outputs": [
        {
          "output_type": "stream",
          "name": "stdout",
          "text": [
            "12\n",
            "9\n",
            "24\n"
          ]
        }
      ],
      "source": [
        "matrix = [[2, 4, 6], [1, 3, 5], [7, 8, 9]]\n",
        "for zeile in matrix:\n",
        "    summe = sum(zeile)\n",
        "    print(summe)"
      ]
    },
    {
      "cell_type": "markdown",
      "id": "05bd1da5",
      "metadata": {
        "id": "05bd1da5"
      },
      "source": [
        "## Aufgabe 3: Nur gerade Zahlen ausgeben"
      ]
    },
    {
      "cell_type": "markdown",
      "id": "85b86dda",
      "metadata": {
        "id": "85b86dda"
      },
      "source": [
        "Ergänze den Code, um nur die **geraden Zahlen** aus `matrix` auszugeben."
      ]
    },
    {
      "cell_type": "code",
      "execution_count": 3,
      "id": "ae2a86d9",
      "metadata": {
        "id": "ae2a86d9",
        "colab": {
          "base_uri": "https://localhost:8080/"
        },
        "outputId": "e70bb730-c760-42ff-c3f7-be5121428096"
      },
      "outputs": [
        {
          "output_type": "stream",
          "name": "stdout",
          "text": [
            "2\n",
            "4\n",
            "6\n",
            "8\n"
          ]
        }
      ],
      "source": [
        "matrix = [[1, 2, 3], [4, 5, 6], [7, 8, 9]]\n",
        "for zeile in matrix:\n",
        "    for zahl in zeile:\n",
        "        if zahl % 2 == 0:\n",
        "            print(zahl)"
      ]
    },
    {
      "cell_type": "markdown",
      "id": "e3f175ac",
      "metadata": {
        "id": "e3f175ac"
      },
      "source": [
        "## Aufgabe 4: Maximale Werte pro Zeile finden"
      ]
    },
    {
      "cell_type": "markdown",
      "id": "6962b378",
      "metadata": {
        "id": "6962b378"
      },
      "source": [
        "Ergänze den Code, um das größte Element jeder Zeile in `matrix` zu finden."
      ]
    },
    {
      "cell_type": "code",
      "execution_count": 4,
      "id": "1e876f59",
      "metadata": {
        "id": "1e876f59",
        "colab": {
          "base_uri": "https://localhost:8080/"
        },
        "outputId": "e95eaef7-62b1-4366-aace-c01cc0ba5eda"
      },
      "outputs": [
        {
          "output_type": "stream",
          "name": "stdout",
          "text": [
            "8\n",
            "9\n",
            "6\n"
          ]
        }
      ],
      "source": [
        "matrix = [[3, 8, 1], [9, 2, 7], [4, 5, 6]]\n",
        "for zeile in matrix:\n",
        "    print(max(zeile))"
      ]
    },
    {
      "cell_type": "markdown",
      "id": "7de82303",
      "metadata": {
        "id": "7de82303"
      },
      "source": [
        "## Aufgabe 5: Matrix transponieren"
      ]
    },
    {
      "cell_type": "markdown",
      "id": "75b6603d",
      "metadata": {
        "id": "75b6603d"
      },
      "source": [
        "Ergänze den Code, um eine neue Liste `transponierte_matrix` mit der transponierten Matrix zu erstellen."
      ]
    },
    {
      "cell_type": "code",
      "execution_count": 5,
      "id": "6adc60b6",
      "metadata": {
        "id": "6adc60b6",
        "colab": {
          "base_uri": "https://localhost:8080/"
        },
        "outputId": "969f4bda-f93a-4609-a029-a382f981151f"
      },
      "outputs": [
        {
          "output_type": "stream",
          "name": "stdout",
          "text": [
            "[[1, 4, 7], [2, 5, 8], [3, 6, 9]]\n"
          ]
        }
      ],
      "source": [
        "matrix = [[1, 2, 3], [4, 5, 6], [7, 8, 9]]\n",
        "transponierte_matrix = [[matrix[j][i] for j in range(len(matrix))] for i in range(len(matrix[0]))]\n",
        "print(transponierte_matrix)"
      ]
    },
    {
      "cell_type": "markdown",
      "id": "28b4c39c",
      "metadata": {
        "id": "28b4c39c"
      },
      "source": [
        "## Aufgabe 6: Iteration durch ein Dictionary von Dictionaries"
      ]
    },
    {
      "cell_type": "markdown",
      "id": "57feee0d",
      "metadata": {
        "id": "57feee0d"
      },
      "source": [
        "Ergänze den Code, um alle Namen aus `personen` auszugeben."
      ]
    },
    {
      "cell_type": "code",
      "execution_count": 6,
      "id": "437a7a5c",
      "metadata": {
        "id": "437a7a5c",
        "colab": {
          "base_uri": "https://localhost:8080/"
        },
        "outputId": "0693dfc2-4d89-4ebe-fa17-4d35ef8cca3a"
      },
      "outputs": [
        {
          "output_type": "stream",
          "name": "stdout",
          "text": [
            "Anna\n",
            "Ben\n"
          ]
        }
      ],
      "source": [
        "personen = {\"Anna\": {\"Alter\": 25, \"Stadt\": \"Berlin\"}, \"Ben\": {\"Alter\": 30, \"Stadt\": \"Hamburg\"}}\n",
        "for name in personen:\n",
        "    print(name)"
      ]
    },
    {
      "cell_type": "markdown",
      "id": "1a662a49",
      "metadata": {
        "id": "1a662a49"
      },
      "source": [
        "## Aufgabe 7: Städte aus einem Dictionary abrufen"
      ]
    },
    {
      "cell_type": "markdown",
      "id": "c1ec8b68",
      "metadata": {
        "id": "c1ec8b68"
      },
      "source": [
        "Ergänze den Code, um alle Städte der Personen in `personen` auszugeben."
      ]
    },
    {
      "cell_type": "code",
      "execution_count": 9,
      "id": "46714316",
      "metadata": {
        "id": "46714316",
        "colab": {
          "base_uri": "https://localhost:8080/"
        },
        "outputId": "fb8bfaa8-155b-4ef5-a461-b2487c54a437"
      },
      "outputs": [
        {
          "output_type": "stream",
          "name": "stdout",
          "text": [
            "Berlin\n",
            "Hamburg\n"
          ]
        }
      ],
      "source": [
        "personen = {\"Anna\": {\"Alter\": 25, \"Stadt\": \"Berlin\"}, \"Ben\": {\"Alter\": 30, \"Stadt\": \"Hamburg\"}}\n",
        "for person in personen.values():\n",
        "    print(person[\"Stadt\"])"
      ]
    },
    {
      "cell_type": "markdown",
      "id": "23329125",
      "metadata": {
        "id": "23329125"
      },
      "source": [
        "## Aufgabe 8: Personen mit bestimmtem Alter filtern"
      ]
    },
    {
      "cell_type": "markdown",
      "id": "3f61ae1d",
      "metadata": {
        "id": "3f61ae1d"
      },
      "source": [
        "Ergänze den Code, um nur Personen mit einem Alter über 26 auszugeben."
      ]
    },
    {
      "cell_type": "code",
      "execution_count": 16,
      "id": "3208c6e1",
      "metadata": {
        "id": "3208c6e1",
        "colab": {
          "base_uri": "https://localhost:8080/"
        },
        "outputId": "ee133abc-f647-4fa3-b49a-2d497edab158"
      },
      "outputs": [
        {
          "output_type": "stream",
          "name": "stdout",
          "text": [
            "Ben\n"
          ]
        }
      ],
      "source": [
        "personen = {\"Anna\": {\"Alter\": 25, \"Stadt\": \"Berlin\"}, \"Ben\": {\"Alter\": 30, \"Stadt\": \"Hamburg\"}}\n",
        "for name, daten in personen.items():\n",
        "    if daten[\"Alter\"] > 26:\n",
        "        print(name)"
      ]
    },
    {
      "cell_type": "markdown",
      "id": "4c3d7ffb",
      "metadata": {
        "id": "4c3d7ffb"
      },
      "source": [
        "## Aufgabe 9: Anzahl der Personen berechnen"
      ]
    },
    {
      "cell_type": "markdown",
      "id": "3edd2de7",
      "metadata": {
        "id": "3edd2de7"
      },
      "source": [
        "Ergänze den Code, um die Gesamtzahl der Personen in `personen` zu berechnen."
      ]
    },
    {
      "cell_type": "code",
      "execution_count": 17,
      "id": "df82e913",
      "metadata": {
        "id": "df82e913",
        "colab": {
          "base_uri": "https://localhost:8080/"
        },
        "outputId": "88448d59-4d14-414e-8b4c-5ba4e222ba13"
      },
      "outputs": [
        {
          "output_type": "stream",
          "name": "stdout",
          "text": [
            "2\n"
          ]
        }
      ],
      "source": [
        "personen = {\"Anna\": {\"Alter\": 25, \"Stadt\": \"Berlin\"}, \"Ben\": {\"Alter\": 30, \"Stadt\": \"Hamburg\"}}\n",
        "anzahl = len(personen)\n",
        "print(anzahl)"
      ]
    },
    {
      "cell_type": "markdown",
      "id": "f01ca46c",
      "metadata": {
        "id": "f01ca46c"
      },
      "source": [
        "## Aufgabe 10: Iteration durch eine Liste von Dictionaries"
      ]
    },
    {
      "cell_type": "markdown",
      "id": "5ecb4cbc",
      "metadata": {
        "id": "5ecb4cbc"
      },
      "source": [
        "Ergänze den Code, um alle Namen aus `personen` auszugeben."
      ]
    },
    {
      "cell_type": "code",
      "execution_count": 19,
      "id": "6119d308",
      "metadata": {
        "id": "6119d308",
        "colab": {
          "base_uri": "https://localhost:8080/"
        },
        "outputId": "e0d81b72-f447-49f5-fd9c-63f694ad1858"
      },
      "outputs": [
        {
          "output_type": "stream",
          "name": "stdout",
          "text": [
            "Anna\n",
            "Ben\n"
          ]
        }
      ],
      "source": [
        "personen = [{\"Name\": \"Anna\", \"Alter\": 25}, {\"Name\": \"Ben\", \"Alter\": 30}]\n",
        "for person in personen:\n",
        "    print(person[\"Name\"])"
      ]
    },
    {
      "cell_type": "markdown",
      "id": "0acfc427",
      "metadata": {
        "id": "0acfc427"
      },
      "source": [
        "## Aufgabe 11: Durchschnittsalter berechnen"
      ]
    },
    {
      "cell_type": "markdown",
      "id": "5ad8e7cc",
      "metadata": {
        "id": "5ad8e7cc"
      },
      "source": [
        "Ergänze den Code, um das Durchschnittsalter in `personen` zu berechnen."
      ]
    },
    {
      "cell_type": "code",
      "execution_count": 21,
      "id": "a9f82d10",
      "metadata": {
        "id": "a9f82d10",
        "colab": {
          "base_uri": "https://localhost:8080/"
        },
        "outputId": "9592d45b-8ef7-4f8e-e64e-65d17a56d7d9"
      },
      "outputs": [
        {
          "output_type": "stream",
          "name": "stdout",
          "text": [
            "27.333333333333332\n"
          ]
        }
      ],
      "source": [
        "personen = [{\"Name\": \"Anna\", \"Alter\": 25}, {\"Name\": \"Ben\", \"Alter\": 30}, {\"Name\": \"Clara\", \"Alter\": 27}]\n",
        "durchschnitt = sum(person[\"Alter\"] for person in personen) / len(personen)\n",
        "print(durchschnitt)"
      ]
    },
    {
      "cell_type": "markdown",
      "id": "f976003a",
      "metadata": {
        "id": "f976003a"
      },
      "source": [
        "## Aufgabe 12: Personen unter 30 filtern"
      ]
    },
    {
      "cell_type": "markdown",
      "id": "239084a0",
      "metadata": {
        "id": "239084a0"
      },
      "source": [
        "Ergänze den Code, um nur Personen mit `Alter < 30` auszugeben."
      ]
    },
    {
      "cell_type": "code",
      "execution_count": 22,
      "id": "5ea11cab",
      "metadata": {
        "id": "5ea11cab",
        "colab": {
          "base_uri": "https://localhost:8080/"
        },
        "outputId": "3742cea9-2603-4e40-f42c-d5ed67d1fe80"
      },
      "outputs": [
        {
          "output_type": "stream",
          "name": "stdout",
          "text": [
            "{'Name': 'Anna', 'Alter': 25}\n",
            "{'Name': 'Clara', 'Alter': 27}\n"
          ]
        }
      ],
      "source": [
        "personen = [{\"Name\": \"Anna\", \"Alter\": 25}, {\"Name\": \"Ben\", \"Alter\": 30}, {\"Name\": \"Clara\", \"Alter\": 27}]\n",
        "for person in personen:\n",
        "    if person[\"Alter\"] < 30:\n",
        "        print(person)"
      ]
    },
    {
      "cell_type": "markdown",
      "id": "b0e9ae2f",
      "metadata": {
        "id": "b0e9ae2f"
      },
      "source": [
        "## Aufgabe 13: Iteration durch ein Dictionary mit Listen als Werten"
      ]
    },
    {
      "cell_type": "markdown",
      "id": "5ff52a60",
      "metadata": {
        "id": "5ff52a60"
      },
      "source": [
        "Ergänze den Code, um alle Fächer in `klassen` auszugeben."
      ]
    },
    {
      "cell_type": "code",
      "execution_count": 23,
      "id": "a6616d04",
      "metadata": {
        "id": "a6616d04",
        "colab": {
          "base_uri": "https://localhost:8080/"
        },
        "outputId": "fa2bfc72-32d6-4d87-94fd-e8ea10005f29"
      },
      "outputs": [
        {
          "output_type": "stream",
          "name": "stdout",
          "text": [
            "Mathe\n",
            "Englisch\n"
          ]
        }
      ],
      "source": [
        "klassen = {\"Mathe\": [\"Anna\", \"Ben\"], \"Englisch\": [\"Clara\", \"Tom\"]}\n",
        "for klasse in klassen:\n",
        "    print(klasse)"
      ]
    },
    {
      "cell_type": "markdown",
      "id": "b00a6bf3",
      "metadata": {
        "id": "b00a6bf3"
      },
      "source": [
        "## Aufgabe 14: Anzahl der Schüler pro Klasse berechnen"
      ]
    },
    {
      "cell_type": "markdown",
      "id": "d070997d",
      "metadata": {
        "id": "d070997d"
      },
      "source": [
        "Ergänze den Code, um die Anzahl der Schüler in jeder Klasse zu berechnen."
      ]
    },
    {
      "cell_type": "code",
      "execution_count": 28,
      "id": "e2648490",
      "metadata": {
        "id": "e2648490",
        "colab": {
          "base_uri": "https://localhost:8080/"
        },
        "outputId": "07f44dec-05cc-4208-b1bc-60d99b84a6d3"
      },
      "outputs": [
        {
          "output_type": "stream",
          "name": "stdout",
          "text": [
            "Mathe 2\n",
            "Englisch 2\n"
          ]
        }
      ],
      "source": [
        "klassen = {\"Mathe\": [\"Anna\", \"Ben\"], \"Englisch\": [\"Clara\", \"Tom\"]}\n",
        "for fach, schueler in klassen.items():\n",
        "    print(fach, len(schueler))"
      ]
    },
    {
      "cell_type": "markdown",
      "id": "b79571bc",
      "metadata": {
        "id": "b79571bc"
      },
      "source": [
        "## Aufgabe 15: Klassen mit mehr als einem Schüler filtern"
      ]
    },
    {
      "cell_type": "markdown",
      "id": "f5ebc237",
      "metadata": {
        "id": "f5ebc237"
      },
      "source": [
        "Ergänze den Code, um nur Klassen mit mehr als 1 Schüler auszugeben."
      ]
    },
    {
      "cell_type": "code",
      "execution_count": 31,
      "id": "94c3d623",
      "metadata": {
        "id": "94c3d623",
        "colab": {
          "base_uri": "https://localhost:8080/"
        },
        "outputId": "293734c7-2976-442e-e72c-0d947f3f0bb9"
      },
      "outputs": [
        {
          "output_type": "stream",
          "name": "stdout",
          "text": [
            "Mathe\n",
            "Englisch\n"
          ]
        }
      ],
      "source": [
        "klassen = {\"Mathe\": [\"Anna\", \"Ben\"], \"Englisch\": [\"Clara\", \"Tom\"], \"Physik\": [\"Lena\"]}\n",
        "for fach, schueler in klassen.items():\n",
        "    if len(schueler) > 1:\n",
        "        print(fach)"
      ]
    }
  ],
  "metadata": {
    "colab": {
      "provenance": [],
      "include_colab_link": true
    },
    "language_info": {
      "name": "python"
    },
    "kernelspec": {
      "name": "python3",
      "display_name": "Python 3"
    }
  },
  "nbformat": 4,
  "nbformat_minor": 5
}