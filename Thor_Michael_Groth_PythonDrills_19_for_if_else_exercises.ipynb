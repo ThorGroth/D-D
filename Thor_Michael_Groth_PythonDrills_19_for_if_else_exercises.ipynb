{
  "cells": [
    {
      "cell_type": "markdown",
      "metadata": {
        "id": "view-in-github",
        "colab_type": "text"
      },
      "source": [
        "<a href=\"https://colab.research.google.com/github/ThorGroth/D-D/blob/master/Thor_Michael_Groth_PythonDrills_19_for_if_else_exercises.ipynb\" target=\"_parent\"><img src=\"https://colab.research.google.com/assets/colab-badge.svg\" alt=\"Open In Colab\"/></a>"
      ]
    },
    {
      "cell_type": "markdown",
      "id": "30928783",
      "metadata": {
        "id": "30928783"
      },
      "source": [
        "## Aufgabe 1: Nur gerade Zahlen ausgeben"
      ]
    },
    {
      "cell_type": "markdown",
      "id": "43cc8b1b",
      "metadata": {
        "id": "43cc8b1b"
      },
      "source": [
        "Ergänze den Code, um nur gerade Zahlen aus `zahlen` auszugeben."
      ]
    },
    {
      "cell_type": "code",
      "execution_count": 1,
      "id": "71c716b9",
      "metadata": {
        "id": "71c716b9",
        "colab": {
          "base_uri": "https://localhost:8080/"
        },
        "outputId": "71276d61-d6bf-44b9-eb27-9bc1ecfb7d8e"
      },
      "outputs": [
        {
          "output_type": "stream",
          "name": "stdout",
          "text": [
            "2\n",
            "4\n",
            "6\n",
            "8\n",
            "10\n"
          ]
        }
      ],
      "source": [
        "zahlen = [1, 2, 3, 4, 5, 6, 7, 8, 9, 10]\n",
        "for zahl in zahlen:\n",
        "    if zahl % 2 == 0:\n",
        "        print(zahl)"
      ]
    },
    {
      "cell_type": "markdown",
      "id": "907fec9d",
      "metadata": {
        "id": "907fec9d"
      },
      "source": [
        "## Aufgabe 2: Nur ungerade Zahlen ausgeben"
      ]
    },
    {
      "cell_type": "markdown",
      "id": "071ea447",
      "metadata": {
        "id": "071ea447"
      },
      "source": [
        "Ergänze den Code, um nur ungerade Zahlen aus `zahlen` auszugeben."
      ]
    },
    {
      "cell_type": "code",
      "execution_count": 2,
      "id": "db042760",
      "metadata": {
        "id": "db042760",
        "colab": {
          "base_uri": "https://localhost:8080/"
        },
        "outputId": "d43a49aa-8839-4b3d-b4b6-33ec9f2097ba"
      },
      "outputs": [
        {
          "output_type": "stream",
          "name": "stdout",
          "text": [
            "1\n",
            "3\n",
            "5\n",
            "7\n",
            "9\n"
          ]
        }
      ],
      "source": [
        "zahlen = [1, 2, 3, 4, 5, 6, 7, 8, 9, 10]\n",
        "for zahl in zahlen:\n",
        "    if zahl % 2 != 0:\n",
        "        print(zahl)"
      ]
    },
    {
      "cell_type": "markdown",
      "id": "18660982",
      "metadata": {
        "id": "18660982"
      },
      "source": [
        "## Aufgabe 3: Zahlen größer als 5 ausgeben"
      ]
    },
    {
      "cell_type": "markdown",
      "id": "9b75cbe7",
      "metadata": {
        "id": "9b75cbe7"
      },
      "source": [
        "Ergänze den Code, um nur Zahlen größer als 5 auszugeben."
      ]
    },
    {
      "cell_type": "code",
      "execution_count": 4,
      "id": "49f9d9f2",
      "metadata": {
        "id": "49f9d9f2",
        "colab": {
          "base_uri": "https://localhost:8080/"
        },
        "outputId": "3a59525b-eea0-4d7f-c98c-5e8e9e298d2f"
      },
      "outputs": [
        {
          "output_type": "stream",
          "name": "stdout",
          "text": [
            "7\n",
            "8\n",
            "6\n",
            "9\n"
          ]
        }
      ],
      "source": [
        "zahlen = [3, 5, 7, 2, 8, 6, 1, 9]\n",
        "for zahl in zahlen:\n",
        "    if zahl > 5:\n",
        "        print(zahl)"
      ]
    },
    {
      "cell_type": "markdown",
      "id": "248c555d",
      "metadata": {
        "id": "248c555d"
      },
      "source": [
        "## Aufgabe 4: Gerade oder ungerade Zahlen anzeigen"
      ]
    },
    {
      "cell_type": "markdown",
      "id": "8ccc8e21",
      "metadata": {
        "id": "8ccc8e21"
      },
      "source": [
        "Ergänze den Code, um für jede Zahl auszugeben, ob sie gerade oder ungerade ist."
      ]
    },
    {
      "cell_type": "code",
      "execution_count": 5,
      "id": "99ceda5e",
      "metadata": {
        "id": "99ceda5e",
        "colab": {
          "base_uri": "https://localhost:8080/"
        },
        "outputId": "519e316d-556e-4f20-84ba-5648381cf070"
      },
      "outputs": [
        {
          "output_type": "stream",
          "name": "stdout",
          "text": [
            "2 ist gerade\n",
            "7 ist ungerade\n",
            "10 ist gerade\n",
            "13 ist ungerade\n",
            "16 ist gerade\n"
          ]
        }
      ],
      "source": [
        "zahlen = [2, 7, 10, 13, 16]\n",
        "for zahl in zahlen:\n",
        "    if zahl % 2 == 0:\n",
        "        print(zahl, \"ist gerade\")\n",
        "    else:\n",
        "        print(zahl, \"ist ungerade\")"
      ]
    },
    {
      "cell_type": "markdown",
      "id": "e78cda7b",
      "metadata": {
        "id": "e78cda7b"
      },
      "source": [
        "## Aufgabe 5: Lange oder kurze Wörter erkennen"
      ]
    },
    {
      "cell_type": "markdown",
      "id": "cc0020d9",
      "metadata": {
        "id": "cc0020d9"
      },
      "source": [
        "Ergänze den Code, um für jedes Wort auszugeben, ob es lang oder kurz ist."
      ]
    },
    {
      "cell_type": "code",
      "execution_count": 6,
      "id": "ed41e966",
      "metadata": {
        "id": "ed41e966",
        "colab": {
          "base_uri": "https://localhost:8080/"
        },
        "outputId": "5b0af9f5-189f-4cdc-e16e-9267fbb15969"
      },
      "outputs": [
        {
          "output_type": "stream",
          "name": "stdout",
          "text": [
            "Auto ist ein kurzes Wort\n",
            "Haus ist ein kurzes Wort\n",
            "Schmetterling ist ein langes Wort\n",
            "Baum ist ein kurzes Wort\n"
          ]
        }
      ],
      "source": [
        "wörter = [\"Auto\", \"Haus\", \"Schmetterling\", \"Baum\"]\n",
        "for wort in wörter:\n",
        "    if len(wort) > 5:\n",
        "        print(wort, \"ist ein langes Wort\")\n",
        "    else:\n",
        "        print(wort, \"ist ein kurzes Wort\")"
      ]
    },
    {
      "cell_type": "markdown",
      "id": "1e7f8fc4",
      "metadata": {
        "id": "1e7f8fc4"
      },
      "source": [
        "## Aufgabe 6: `HALBZEIT` bei 5 ausgeben"
      ]
    },
    {
      "cell_type": "markdown",
      "id": "e5c2c2bc",
      "metadata": {
        "id": "e5c2c2bc"
      },
      "source": [
        "Ergänze den Code, um alle Zahlen zwischen 1 und 10 auszugeben. Wenn die Zahl `5` ist, soll stattdessen `HALBZEIT` ausgegeben werden."
      ]
    },
    {
      "cell_type": "code",
      "execution_count": 7,
      "id": "6427d064",
      "metadata": {
        "id": "6427d064",
        "colab": {
          "base_uri": "https://localhost:8080/"
        },
        "outputId": "90d6d597-5b23-48d5-ba77-52ad969ef4db"
      },
      "outputs": [
        {
          "output_type": "stream",
          "name": "stdout",
          "text": [
            "1\n",
            "2\n",
            "3\n",
            "4\n",
            "HALBZEIT\n",
            "6\n",
            "7\n",
            "8\n",
            "9\n",
            "10\n"
          ]
        }
      ],
      "source": [
        "for zahl in range(1, 11):\n",
        "    if zahl == 5:\n",
        "        print(\"HALBZEIT\")\n",
        "    else:\n",
        "        print(zahl)"
      ]
    },
    {
      "cell_type": "markdown",
      "id": "453f5818",
      "metadata": {
        "id": "453f5818"
      },
      "source": [
        "## Aufgabe 7: Notenskala mit `if-elif-else`"
      ]
    },
    {
      "cell_type": "markdown",
      "id": "34369ca3",
      "metadata": {
        "id": "34369ca3"
      },
      "source": [
        "Ergänze den Code, um die Noten entsprechend der Punktzahl zuzuweisen."
      ]
    },
    {
      "cell_type": "code",
      "execution_count": 8,
      "id": "b84a988a",
      "metadata": {
        "id": "b84a988a",
        "colab": {
          "base_uri": "https://localhost:8080/"
        },
        "outputId": "3f8dad30-2436-4710-86be-933031003c25"
      },
      "outputs": [
        {
          "output_type": "stream",
          "name": "stdout",
          "text": [
            "Sehr gut\n",
            "Gut\n",
            "Befriedigend\n",
            "Nicht bestanden\n",
            "Nicht bestanden\n"
          ]
        }
      ],
      "source": [
        "punkte = [92, 75, 61, 48, 88]\n",
        "for punktzahl in punkte:\n",
        "    if punktzahl == 92:\n",
        "        print(\"Sehr gut\")\n",
        "    elif punktzahl == 75:\n",
        "        print(\"Gut\")\n",
        "    elif punktzahl == 61:\n",
        "        print(\"Befriedigend\")\n",
        "    else:\n",
        "        print(\"Nicht bestanden\")"
      ]
    },
    {
      "cell_type": "markdown",
      "id": "7ff7cfae",
      "metadata": {
        "id": "7ff7cfae"
      },
      "source": [
        "## Aufgabe 8: Altersklassifikation"
      ]
    },
    {
      "cell_type": "markdown",
      "id": "28108846",
      "metadata": {
        "id": "28108846"
      },
      "source": [
        "Ergänze den Code, um für jedes Alter eine Klassifikation auszugeben."
      ]
    },
    {
      "cell_type": "code",
      "execution_count": 9,
      "id": "08908199",
      "metadata": {
        "id": "08908199",
        "colab": {
          "base_uri": "https://localhost:8080/"
        },
        "outputId": "5746f418-ade9-483c-c034-5f54115d59e0"
      },
      "outputs": [
        {
          "output_type": "stream",
          "name": "stdout",
          "text": [
            "3 ist ein Kleinkind\n",
            "10 ist ein Kind\n",
            "17 ist ein Teenager\n",
            "25 ist ein Erwachsener\n"
          ]
        }
      ],
      "source": [
        "alter = [3, 10, 17, 25]\n",
        "for a in alter:\n",
        "    if a == 3:\n",
        "        print(a, \"ist ein Kleinkind\")\n",
        "    elif a == 10:\n",
        "        print(a, \"ist ein Kind\")\n",
        "    elif a == 17:\n",
        "        print(a, \"ist ein Teenager\")\n",
        "    else:\n",
        "        print(a, \"ist ein Erwachsener\")"
      ]
    },
    {
      "cell_type": "markdown",
      "id": "fa3a779a",
      "metadata": {
        "id": "fa3a779a"
      },
      "source": [
        "## Aufgabe 9: Gerade Zahlen in Liste speichern"
      ]
    },
    {
      "cell_type": "markdown",
      "id": "a1a4995d",
      "metadata": {
        "id": "a1a4995d"
      },
      "source": [
        "Ergänze den Code, um eine neue Liste `gerade_zahlen` mit allen geraden Zahlen aus `zahlen` zu erstellen."
      ]
    },
    {
      "cell_type": "code",
      "execution_count": 10,
      "id": "7de31451",
      "metadata": {
        "id": "7de31451",
        "colab": {
          "base_uri": "https://localhost:8080/"
        },
        "outputId": "0e8a6c14-e44a-4f45-c4b8-00ad169e03b7"
      },
      "outputs": [
        {
          "output_type": "stream",
          "name": "stdout",
          "text": [
            "[2, 4, 6, 8]\n"
          ]
        }
      ],
      "source": [
        "zahlen = [1, 2, 3, 4, 5, 6, 7, 8]\n",
        "gerade_zahlen = []\n",
        "for zahl in zahlen:\n",
        "    if zahl % 2 == 0:\n",
        "        gerade_zahlen.append(zahl)\n",
        "print(gerade_zahlen)"
      ]
    },
    {
      "cell_type": "markdown",
      "id": "e86239ce",
      "metadata": {
        "id": "e86239ce"
      },
      "source": [
        "## Aufgabe 10: Lange Wörter in Liste speichern"
      ]
    },
    {
      "cell_type": "markdown",
      "id": "e54f6b23",
      "metadata": {
        "id": "e54f6b23"
      },
      "source": [
        "Ergänze den Code, um eine Liste `lange_wörter` mit allen Wörtern zu füllen, die mehr als 5 Buchstaben haben."
      ]
    },
    {
      "cell_type": "code",
      "execution_count": 11,
      "id": "6338fe3e",
      "metadata": {
        "id": "6338fe3e",
        "colab": {
          "base_uri": "https://localhost:8080/"
        },
        "outputId": "0629a6ee-23d5-477f-d415-e4d97c38aa80"
      },
      "outputs": [
        {
          "output_type": "stream",
          "name": "stdout",
          "text": [
            "['Schule', 'Schmetterling']\n"
          ]
        }
      ],
      "source": [
        "woerter = [\"Apfel\", \"Schule\", \"Katze\", \"Schmetterling\"]\n",
        "lange_woerter = []\n",
        "for wort in woerter:\n",
        "    if len(wort) > 5:\n",
        "        lange_woerter.append(wort)\n",
        "print(lange_woerter)"
      ]
    },
    {
      "cell_type": "markdown",
      "id": "d415ae1d",
      "metadata": {
        "id": "d415ae1d"
      },
      "source": [
        "## Aufgabe 11: Schleife bei 5 stoppen"
      ]
    },
    {
      "cell_type": "markdown",
      "id": "aa3c0ab6",
      "metadata": {
        "id": "aa3c0ab6"
      },
      "source": [
        "Ergänze den Code, um die Schleife bei der Zahl `5` zu stoppen."
      ]
    },
    {
      "cell_type": "code",
      "execution_count": 12,
      "id": "c10ce002",
      "metadata": {
        "id": "c10ce002",
        "colab": {
          "base_uri": "https://localhost:8080/"
        },
        "outputId": "db1001ea-3e8e-4713-ca85-adab6068bbe1"
      },
      "outputs": [
        {
          "output_type": "stream",
          "name": "stdout",
          "text": [
            "1\n",
            "2\n",
            "3\n",
            "4\n"
          ]
        }
      ],
      "source": [
        "for zahl in range(1, 11):\n",
        "    if zahl == 5:\n",
        "        break\n",
        "    print(zahl)"
      ]
    },
    {
      "cell_type": "markdown",
      "id": "d3cd0432",
      "metadata": {
        "id": "d3cd0432"
      },
      "source": [
        "## Aufgabe 12: Alle Zahlen außer 5 ausgeben"
      ]
    },
    {
      "cell_type": "markdown",
      "id": "edde46fd",
      "metadata": {
        "id": "edde46fd"
      },
      "source": [
        "Ergänze den Code, um `continue` zu verwenden, um alle Zahlen außer `5` auszugeben."
      ]
    },
    {
      "cell_type": "code",
      "execution_count": 13,
      "id": "84145ecc",
      "metadata": {
        "id": "84145ecc",
        "colab": {
          "base_uri": "https://localhost:8080/"
        },
        "outputId": "37d18c85-c8d4-4acb-fe8c-97ee322e7020"
      },
      "outputs": [
        {
          "output_type": "stream",
          "name": "stdout",
          "text": [
            "1\n",
            "2\n",
            "3\n",
            "4\n",
            "6\n",
            "7\n",
            "8\n",
            "9\n",
            "10\n"
          ]
        }
      ],
      "source": [
        "for zahl in range(1, 11):\n",
        "    if zahl == 5:\n",
        "        continue\n",
        "    print(zahl)"
      ]
    },
    {
      "cell_type": "markdown",
      "id": "89a8e221",
      "metadata": {
        "id": "89a8e221"
      },
      "source": [
        "## Aufgabe 13: Anzahl der Vokale zählen"
      ]
    },
    {
      "cell_type": "markdown",
      "id": "542e2eb8",
      "metadata": {
        "id": "542e2eb8"
      },
      "source": [
        "Ergänze den Code, um die Anzahl der Vokale in jedem Wort aus `wörter` zu zählen."
      ]
    },
    {
      "cell_type": "code",
      "execution_count": 15,
      "id": "6b6cfe93",
      "metadata": {
        "id": "6b6cfe93",
        "colab": {
          "base_uri": "https://localhost:8080/"
        },
        "outputId": "8b201d62-9119-4d7a-e60f-0cba2656617c"
      },
      "outputs": [
        {
          "output_type": "stream",
          "name": "stdout",
          "text": [
            "Apfel hat 2 Vokale\n",
            "Banane hat 3 Vokale\n",
            "Elefant hat 3 Vokale\n"
          ]
        }
      ],
      "source": [
        "woerter = [\"Apfel\", \"Banane\", \"Elefant\"]\n",
        "for wort in woerter:\n",
        "    vokale = sum(1 for buchstabe in wort if buchstabe in \"aeiouAEIOU\")\n",
        "    print(wort, \"hat\", vokale,\"Vokale\")"
      ]
    },
    {
      "cell_type": "markdown",
      "id": "186b8902",
      "metadata": {
        "id": "186b8902"
      },
      "source": [
        "## Aufgabe 14: Summe der geraden Zahlen berechnen"
      ]
    },
    {
      "cell_type": "markdown",
      "id": "317523cd",
      "metadata": {
        "id": "317523cd"
      },
      "source": [
        "Ergänze den Code, um die Summe der geraden Zahlen aus `zahlen` zu berechnen."
      ]
    },
    {
      "cell_type": "code",
      "execution_count": 16,
      "id": "4d6d2016",
      "metadata": {
        "id": "4d6d2016",
        "colab": {
          "base_uri": "https://localhost:8080/"
        },
        "outputId": "a73e99fc-a50e-409d-ef4f-94b5dd6ee5ce"
      },
      "outputs": [
        {
          "output_type": "stream",
          "name": "stdout",
          "text": [
            "20\n"
          ]
        }
      ],
      "source": [
        "zahlen = [1, 2, 3, 4, 5, 6, 7, 8]\n",
        "summe = 0\n",
        "for zahl in zahlen:\n",
        "    if zahl % 2 == 0:\n",
        "        summe += zahl\n",
        "print(summe)"
      ]
    },
    {
      "cell_type": "markdown",
      "id": "abe84527",
      "metadata": {
        "id": "abe84527"
      },
      "source": [
        "## Aufgabe 15: Temperaturen klassifizieren"
      ]
    },
    {
      "cell_type": "markdown",
      "id": "42b610fc",
      "metadata": {
        "id": "42b610fc"
      },
      "source": [
        "Ergänze den Code, um für jede Temperatur die entsprechende Wetterbeschreibung auszugeben."
      ]
    },
    {
      "cell_type": "code",
      "execution_count": 17,
      "id": "edf10490",
      "metadata": {
        "id": "edf10490",
        "colab": {
          "base_uri": "https://localhost:8080/"
        },
        "outputId": "26a1f8f8-1e9a-4ec4-944a-065b32a14581"
      },
      "outputs": [
        {
          "output_type": "stream",
          "name": "stdout",
          "text": [
            "5 Grad - Es ist kalt.\n",
            "15 Grad - Es ist angenehm.\n",
            "22 Grad - Es ist angenehm.\n",
            "30 Grad - Es ist heiß.\n",
            "35 Grad - Es ist heiß.\n"
          ]
        }
      ],
      "source": [
        "temperaturen = [5, 15, 22, 30, 35]\n",
        "for temp in temperaturen:\n",
        "    if temp < 15:\n",
        "        print(temp, \"Grad - Es ist kalt.\")\n",
        "    elif temp <= 25:\n",
        "        print(temp, \"Grad - Es ist angenehm.\")\n",
        "    else:\n",
        "        print(temp, \"Grad - Es ist heiß.\")"
      ]
    },
    {
      "cell_type": "markdown",
      "id": "c2962a16",
      "metadata": {
        "id": "c2962a16"
      },
      "source": [
        "## Aufgabe 16: Werte klassifizieren"
      ]
    },
    {
      "cell_type": "markdown",
      "id": "6039b339",
      "metadata": {
        "id": "6039b339"
      },
      "source": [
        "Ergänze den Code, um zu bestimmen, ob ein Wert in `werte` positiv, negativ oder null ist."
      ]
    },
    {
      "cell_type": "code",
      "execution_count": 18,
      "id": "b54908ad",
      "metadata": {
        "id": "b54908ad",
        "colab": {
          "base_uri": "https://localhost:8080/"
        },
        "outputId": "c68a055e-0d43-4876-f264-2b0c3662a25b"
      },
      "outputs": [
        {
          "output_type": "stream",
          "name": "stdout",
          "text": [
            "-5 ist negativ\n",
            "0 ist null\n",
            "12 ist positiv\n",
            "-3 ist negativ\n",
            "8 ist positiv\n"
          ]
        }
      ],
      "source": [
        "werte = [-5, 0, 12, -3, 8]\n",
        "for wert in werte:\n",
        "    if wert < 0:\n",
        "        print(wert, \"ist negativ\")\n",
        "    elif wert == 0:\n",
        "        print(wert, \"ist null\")\n",
        "    else:\n",
        "        print(wert, \"ist positiv\")"
      ]
    },
    {
      "cell_type": "markdown",
      "id": "1e072356",
      "metadata": {
        "id": "1e072356"
      },
      "source": [
        "## Aufgabe 17: Personen nach Alter filtern"
      ]
    },
    {
      "cell_type": "markdown",
      "id": "372ab611",
      "metadata": {
        "id": "372ab611"
      },
      "source": [
        "Ergänze den Code, um alle Namen auszugeben, die älter als 18 Jahre sind."
      ]
    },
    {
      "cell_type": "code",
      "execution_count": 21,
      "id": "7fcbdbb2",
      "metadata": {
        "id": "7fcbdbb2",
        "colab": {
          "base_uri": "https://localhost:8080/"
        },
        "outputId": "4f05602b-272e-4687-97b1-b98990428943"
      },
      "outputs": [
        {
          "output_type": "stream",
          "name": "stdout",
          "text": [
            "Anna\n",
            "Clara\n"
          ]
        }
      ],
      "source": [
        "personen = {\"Anna\": 20, \"Ben\": 17, \"Clara\": 25, \"Daniel\": 15}\n",
        "for name, alter in personen.items():\n",
        "    if alter > 18:\n",
        "        print(name)"
      ]
    },
    {
      "cell_type": "markdown",
      "id": "f895e5d4",
      "metadata": {
        "id": "f895e5d4"
      },
      "source": [
        "## Aufgabe 18: Günstige Produkte ausgeben"
      ]
    },
    {
      "cell_type": "markdown",
      "id": "c56d5a90",
      "metadata": {
        "id": "c56d5a90"
      },
      "source": [
        "Ergänze den Code, um alle Produkte in `preise` auszugeben, die weniger als 10 € kosten."
      ]
    },
    {
      "cell_type": "code",
      "execution_count": 22,
      "id": "6ad5df00",
      "metadata": {
        "id": "6ad5df00",
        "colab": {
          "base_uri": "https://localhost:8080/"
        },
        "outputId": "da06a3b0-e9b8-485e-f64c-1ac863bd9bb1"
      },
      "outputs": [
        {
          "output_type": "stream",
          "name": "stdout",
          "text": [
            "Apfel\n",
            "Banane\n",
            "Brot\n"
          ]
        }
      ],
      "source": [
        "preise = {\"Apfel\": 3, \"Banane\": 2, \"Steak\": 15, \"Brot\": 5}\n",
        "for produkt, preis in preise.items():\n",
        "    if preis < 10:\n",
        "        print(produkt)"
      ]
    }
  ],
  "metadata": {
    "colab": {
      "provenance": [],
      "include_colab_link": true
    },
    "language_info": {
      "name": "python"
    },
    "kernelspec": {
      "name": "python3",
      "display_name": "Python 3"
    }
  },
  "nbformat": 4,
  "nbformat_minor": 5
}