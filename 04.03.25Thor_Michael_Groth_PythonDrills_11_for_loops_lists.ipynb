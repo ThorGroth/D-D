{
  "cells": [
    {
      "cell_type": "markdown",
      "metadata": {
        "id": "view-in-github",
        "colab_type": "text"
      },
      "source": [
        "<a href=\"https://colab.research.google.com/github/ThorGroth/D-D/blob/master/04.03.25Thor_Michael_Groth_PythonDrills_11_for_loops_lists.ipynb\" target=\"_parent\"><img src=\"https://colab.research.google.com/assets/colab-badge.svg\" alt=\"Open In Colab\"/></a>"
      ]
    },
    {
      "cell_type": "markdown",
      "id": "f0bde8b3",
      "metadata": {
        "id": "f0bde8b3"
      },
      "source": [
        "## Aufgabe 1: Elemente einer Liste ausgeben"
      ]
    },
    {
      "cell_type": "markdown",
      "id": "5a07f5bc",
      "metadata": {
        "id": "5a07f5bc"
      },
      "source": [
        "Ergänze den Code, um alle Elemente in der Liste `fruits` auszugeben."
      ]
    },
    {
      "cell_type": "code",
      "execution_count": null,
      "id": "7d337178",
      "metadata": {
        "id": "7d337178",
        "colab": {
          "base_uri": "https://localhost:8080/"
        },
        "outputId": "602b4723-27c4-4c43-ef56-ea1381bdb8f3"
      },
      "outputs": [
        {
          "output_type": "stream",
          "name": "stdout",
          "text": [
            "Apfel\n",
            "Banane\n",
            "Kirsche\n",
            "Mango\n"
          ]
        }
      ],
      "source": [
        "fruits = [\"Apfel\", \"Banane\", \"Kirsche\", \"Mango\"]\n",
        "for fruit in fruits:\n",
        "    print(fruit)"
      ]
    },
    {
      "cell_type": "markdown",
      "id": "3995ef09",
      "metadata": {
        "id": "3995ef09"
      },
      "source": [
        "## Aufgabe 2: Länge von Wörtern berechnen"
      ]
    },
    {
      "cell_type": "markdown",
      "id": "4db1e227",
      "metadata": {
        "id": "4db1e227"
      },
      "source": [
        "Ergänze den Code, um die **Längen** der Wörter in `words` auszugeben."
      ]
    },
    {
      "cell_type": "code",
      "execution_count": null,
      "id": "fff52b2e",
      "metadata": {
        "id": "fff52b2e",
        "colab": {
          "base_uri": "https://localhost:8080/"
        },
        "outputId": "abc622c9-2d97-4e9e-ff93-cdb785e3f81a"
      },
      "outputs": [
        {
          "output_type": "stream",
          "name": "stdout",
          "text": [
            "5\n",
            "4\n",
            "7\n"
          ]
        }
      ],
      "source": [
        "words = [\"Katze\", \"Hund\", \"Elefant\"]\n",
        "for word in words:\n",
        "    print(len(word))"
      ]
    },
    {
      "cell_type": "markdown",
      "id": "a0dded5d",
      "metadata": {
        "id": "a0dded5d"
      },
      "source": [
        "## Aufgabe 3: Zahlen verdoppeln"
      ]
    },
    {
      "cell_type": "markdown",
      "id": "c4b1fe68",
      "metadata": {
        "id": "c4b1fe68"
      },
      "source": [
        "Ergänze den Code, um jedes Element in `zahlen` zu verdoppeln und auszugeben."
      ]
    },
    {
      "cell_type": "code",
      "execution_count": null,
      "id": "fa9d7889",
      "metadata": {
        "id": "fa9d7889",
        "colab": {
          "base_uri": "https://localhost:8080/"
        },
        "outputId": "179dd1c5-0f12-4e19-a606-726203732ed3"
      },
      "outputs": [
        {
          "output_type": "stream",
          "name": "stdout",
          "text": [
            "2\n",
            "4\n",
            "6\n",
            "8\n",
            "10\n"
          ]
        }
      ],
      "source": [
        "zahlen = [1, 2, 3, 4, 5]\n",
        "for zahl in zahlen:\n",
        "    print(zahl * 2)"
      ]
    },
    {
      "cell_type": "markdown",
      "id": "e568eb7b",
      "metadata": {
        "id": "e568eb7b"
      },
      "source": [
        "## Aufgabe 4: Quadrate von Zahlen berechnen"
      ]
    },
    {
      "cell_type": "markdown",
      "id": "3b295b52",
      "metadata": {
        "id": "3b295b52"
      },
      "source": [
        "Ergänze den Code, um die **Quadrate** aller Zahlen in `werte` auszugeben."
      ]
    },
    {
      "cell_type": "code",
      "execution_count": null,
      "id": "c7ba6d4f",
      "metadata": {
        "id": "c7ba6d4f",
        "colab": {
          "base_uri": "https://localhost:8080/"
        },
        "outputId": "a630a3f9-b33a-4a07-a4ff-4c6ac042daaf"
      },
      "outputs": [
        {
          "output_type": "stream",
          "name": "stdout",
          "text": [
            "4\n",
            "16\n",
            "36\n",
            "64\n"
          ]
        }
      ],
      "source": [
        "werte = [2, 4, 6, 8]\n",
        "for wert in werte:\n",
        "    print(wert ** 2)"
      ]
    },
    {
      "cell_type": "markdown",
      "id": "3fae5e58",
      "metadata": {
        "id": "3fae5e58"
      },
      "source": [
        "## Aufgabe 5: Zeichen in Großbuchstaben umwandeln"
      ]
    },
    {
      "cell_type": "markdown",
      "id": "46d79ea0",
      "metadata": {
        "id": "46d79ea0"
      },
      "source": [
        "Ergänze den Code, um alle Elemente von `buchstaben` in **Großbuchstaben** auszugeben."
      ]
    },
    {
      "cell_type": "code",
      "execution_count": null,
      "id": "f65d2110",
      "metadata": {
        "id": "f65d2110",
        "colab": {
          "base_uri": "https://localhost:8080/"
        },
        "outputId": "5f3a31b2-76b6-4db1-f948-e0d41395aaac"
      },
      "outputs": [
        {
          "output_type": "stream",
          "name": "stdout",
          "text": [
            "A\n",
            "B\n",
            "C\n",
            "D\n"
          ]
        }
      ],
      "source": [
        "buchstaben = [\"a\", \"b\", \"c\", \"d\"]\n",
        "for buchstabe in buchstaben:\n",
        "    print(buchstabe.upper())"
      ]
    },
    {
      "cell_type": "markdown",
      "id": "38b99124",
      "metadata": {
        "id": "38b99124"
      },
      "source": [
        "## Aufgabe 6: Nur gerade Zahlen ausgeben"
      ]
    },
    {
      "cell_type": "markdown",
      "id": "8b092e5e",
      "metadata": {
        "id": "8b092e5e"
      },
      "source": [
        "Ergänze den Code, um nur die **geraden Zahlen** aus `zahlen` auszugeben."
      ]
    },
    {
      "cell_type": "code",
      "execution_count": null,
      "id": "a11f3f3f",
      "metadata": {
        "id": "a11f3f3f",
        "colab": {
          "base_uri": "https://localhost:8080/"
        },
        "outputId": "9bc6618d-40af-4391-feb5-03f9ed5fd071"
      },
      "outputs": [
        {
          "output_type": "stream",
          "name": "stdout",
          "text": [
            "2\n",
            "4\n",
            "6\n",
            "8\n"
          ]
        }
      ],
      "source": [
        "zahlen = [1, 2, 3, 4, 5, 6, 7, 8]\n",
        "for zahl in zahlen:\n",
        "    if zahl % 2 == 0:\n",
        "        print(zahl)"
      ]
    },
    {
      "cell_type": "markdown",
      "id": "d683397f",
      "metadata": {
        "id": "d683397f"
      },
      "source": [
        "## Aufgabe 7: Nur ungerade Zahlen ausgeben"
      ]
    },
    {
      "cell_type": "markdown",
      "id": "5fcac580",
      "metadata": {
        "id": "5fcac580"
      },
      "source": [
        "Ergänze den Code, um nur die **ungeraden Zahlen** aus `zahlen` auszugeben."
      ]
    },
    {
      "cell_type": "code",
      "execution_count": null,
      "id": "b58db3bd",
      "metadata": {
        "id": "b58db3bd",
        "colab": {
          "base_uri": "https://localhost:8080/"
        },
        "outputId": "6bc75dae-294e-43d1-92c1-484d19da13aa"
      },
      "outputs": [
        {
          "output_type": "stream",
          "name": "stdout",
          "text": [
            "11\n",
            "13\n",
            "15\n"
          ]
        }
      ],
      "source": [
        "zahlen = [10, 11, 12, 13, 14, 15]\n",
        "for zahl in zahlen:\n",
        "    if zahl % 2 != 0:\n",
        "        print(zahl)"
      ]
    },
    {
      "cell_type": "markdown",
      "id": "8a62fbfa",
      "metadata": {
        "id": "8a62fbfa"
      },
      "source": [
        "## Aufgabe 8: Wörter mit mehr als 4 Buchstaben ausgeben"
      ]
    },
    {
      "cell_type": "markdown",
      "id": "3ebbd4ec",
      "metadata": {
        "id": "3ebbd4ec"
      },
      "source": [
        "Ergänze den Code, um nur Wörter mit **mehr als 4 Zeichen** auszugeben."
      ]
    },
    {
      "cell_type": "code",
      "execution_count": null,
      "id": "f5879bfe",
      "metadata": {
        "id": "f5879bfe",
        "colab": {
          "base_uri": "https://localhost:8080/"
        },
        "outputId": "55427293-6789-4ea0-af63-8dad846abea1"
      },
      "outputs": [
        {
          "output_type": "stream",
          "name": "stdout",
          "text": [
            "Schmetterling\n"
          ]
        }
      ],
      "source": [
        "words = [\"Auto\", \"Haus\", \"Schmetterling\", \"Baum\"]\n",
        "for word in words:\n",
        "    if len(word) > 4 :\n",
        "        print(word)"
      ]
    },
    {
      "cell_type": "markdown",
      "id": "4d72bddb",
      "metadata": {
        "id": "4d72bddb"
      },
      "source": [
        "## Aufgabe 9: Wörter filtern, die mit 'A' beginnen"
      ]
    },
    {
      "cell_type": "markdown",
      "id": "cb7abdff",
      "metadata": {
        "id": "cb7abdff"
      },
      "source": [
        "Ergänze den Code, um nur Wörter auszugeben, die mit `\"A\"` beginnen."
      ]
    },
    {
      "cell_type": "code",
      "execution_count": null,
      "id": "1dd582ce",
      "metadata": {
        "id": "1dd582ce",
        "colab": {
          "base_uri": "https://localhost:8080/"
        },
        "outputId": "dcc67e53-cf31-4ffa-f8f1-6c58a4807487"
      },
      "outputs": [
        {
          "output_type": "stream",
          "name": "stdout",
          "text": [
            "Anna\n",
            "Alice\n"
          ]
        }
      ],
      "source": [
        "namen = [\"Anna\", \"Ben\", \"Alice\", \"Markus\"]\n",
        "for name in namen:\n",
        "    if name.startswith(\"A\"):\n",
        "        print(name)"
      ]
    },
    {
      "cell_type": "markdown",
      "id": "e98ff372",
      "metadata": {
        "id": "e98ff372"
      },
      "source": [
        "## Aufgabe 10: Zahlen größer als 5 und gerade ausgeben"
      ]
    },
    {
      "cell_type": "markdown",
      "id": "9022b2a1",
      "metadata": {
        "id": "9022b2a1"
      },
      "source": [
        "Ergänze den Code, um nur Zahlen auszugeben, die **größer als 5 und durch 2 teilbar** sind."
      ]
    },
    {
      "cell_type": "code",
      "execution_count": null,
      "id": "fa8b5d2f",
      "metadata": {
        "id": "fa8b5d2f",
        "colab": {
          "base_uri": "https://localhost:8080/"
        },
        "outputId": "326f4cc6-ac45-4904-9933-c072a2358f3a"
      },
      "outputs": [
        {
          "output_type": "stream",
          "name": "stdout",
          "text": [
            "6\n",
            "8\n",
            "10\n",
            "12\n"
          ]
        }
      ],
      "source": [
        "werte = [2, 4, 6, 8, 10, 12]\n",
        "for wert in werte:\n",
        "    if wert > 5 and wert % 2 == 0:\n",
        "        print(wert)"
      ]
    },
    {
      "cell_type": "markdown",
      "id": "8ef3b6f6",
      "metadata": {
        "id": "8ef3b6f6"
      },
      "source": [
        "## Aufgabe 11: Neue Liste mit Quadraten erstellen"
      ]
    },
    {
      "cell_type": "markdown",
      "id": "d8c80a9d",
      "metadata": {
        "id": "d8c80a9d"
      },
      "source": [
        "Ergänze den Code, um eine neue Liste `quadrate` mit den Quadraten der Werte in `zahlen` zu erstellen."
      ]
    },
    {
      "cell_type": "code",
      "execution_count": null,
      "id": "33db4858",
      "metadata": {
        "id": "33db4858",
        "colab": {
          "base_uri": "https://localhost:8080/"
        },
        "outputId": "dca048ee-7878-414f-b94f-062d25f6c7e4"
      },
      "outputs": [
        {
          "output_type": "stream",
          "name": "stdout",
          "text": [
            "[1, 4, 9, 16, 25]\n"
          ]
        }
      ],
      "source": [
        "zahlen = [1, 2, 3, 4, 5]\n",
        "quadrate = []\n",
        "for zahl in zahlen:\n",
        "    quadrate.append(zahl ** 2)\n",
        "print(quadrate)"
      ]
    },
    {
      "cell_type": "markdown",
      "id": "854fbc5f",
      "metadata": {
        "id": "854fbc5f"
      },
      "source": [
        "## Aufgabe 12: Neue Liste mit Großbuchstaben erstellen"
      ]
    },
    {
      "cell_type": "markdown",
      "id": "fc2ef325",
      "metadata": {
        "id": "fc2ef325"
      },
      "source": [
        "Ergänze den Code, um eine neue Liste `großbuchstaben` mit allen Buchstaben aus `kleinbuchstaben` in Großbuchstaben zu erstellen."
      ]
    },
    {
      "cell_type": "code",
      "execution_count": null,
      "id": "c0a4418a",
      "metadata": {
        "id": "c0a4418a",
        "colab": {
          "base_uri": "https://localhost:8080/"
        },
        "outputId": "043af849-42ab-4674-8bfc-30cba209bb85"
      },
      "outputs": [
        {
          "output_type": "stream",
          "name": "stdout",
          "text": [
            "['A', 'B', 'C', 'D']\n"
          ]
        }
      ],
      "source": [
        "kleinbuchstaben = [\"a\", \"b\", \"c\", \"d\"]\n",
        "grossbuchstaben = []\n",
        "for buchstabe in kleinbuchstaben:\n",
        "    grossbuchstaben.append(buchstabe.upper())\n",
        "print(grossbuchstaben)"
      ]
    },
    {
      "cell_type": "markdown",
      "id": "e8183948",
      "metadata": {
        "id": "e8183948"
      },
      "source": [
        "## Aufgabe 13: Neue Liste mit kurzen Wörtern erstellen"
      ]
    },
    {
      "cell_type": "markdown",
      "id": "0fd1c427",
      "metadata": {
        "id": "0fd1c427"
      },
      "source": [
        ":Ergänze den Code, um eine neue Liste `short_words` mit allen Wörtern mit **höchstens 4 Buchstaben** zu erstellen."
      ]
    },
    {
      "cell_type": "code",
      "execution_count": null,
      "id": "65901902",
      "metadata": {
        "id": "65901902",
        "colab": {
          "base_uri": "https://localhost:8080/"
        },
        "outputId": "bd6fd69e-87f3-47e5-f326-7a14f560f424"
      },
      "outputs": [
        {
          "output_type": "stream",
          "name": "stdout",
          "text": [
            "['Ei', 'Hund', 'Baum']\n"
          ]
        }
      ],
      "source": [
        "words = [\"Apfel\", \"Ei\", \"Katze\", \"Hund\", \"Baum\"]\n",
        "short_words = []\n",
        "for word in words:\n",
        "    if len(word) <= 4:\n",
        "        short_words.append(word)\n",
        "print(short_words)"
      ]
    },
    {
      "cell_type": "markdown",
      "id": "b4012873",
      "metadata": {
        "id": "b4012873"
      },
      "source": [
        "## Aufgabe 14: Längstes Wort in Liste finden"
      ]
    },
    {
      "cell_type": "markdown",
      "id": "3f653a34",
      "metadata": {
        "id": "3f653a34"
      },
      "source": [
        "Ergänze den Code, um das längste Wort in `words` zu finden und auszugeben."
      ]
    },
    {
      "cell_type": "code",
      "execution_count": null,
      "id": "2b619a29",
      "metadata": {
        "id": "2b619a29",
        "colab": {
          "base_uri": "https://localhost:8080/"
        },
        "outputId": "80464407-3fca-4fa9-eedf-90253c20df8b"
      },
      "outputs": [
        {
          "output_type": "stream",
          "name": "stdout",
          "text": [
            "Erdbeere\n"
          ]
        }
      ],
      "source": [
        "words = [\"Apfel\", \"Banane\", \"Kirsche\", \"Erdbeere\"]\n",
        "max_word = \"\"\n",
        "for word in words:\n",
        "    if len(word) > len(max_word):\n",
        "        max_word = word\n",
        "print(max_word)"
      ]
    },
    {
      "cell_type": "markdown",
      "id": "1e0dac56",
      "metadata": {
        "id": "1e0dac56"
      },
      "source": [
        "## Aufgabe 15: Anzahl der Vokale in Wörtern zählen"
      ]
    },
    {
      "cell_type": "markdown",
      "id": "183d4405",
      "metadata": {
        "id": "183d4405"
      },
      "source": [
        "Ergänze den Code, um die Anzahl der **Vokale** in jedem Wort aus `wörter` zu zählen und auszugeben."
      ]
    },
    {
      "cell_type": "code",
      "execution_count": null,
      "id": "30cebd06",
      "metadata": {
        "id": "30cebd06",
        "colab": {
          "base_uri": "https://localhost:8080/"
        },
        "outputId": "fe70c0bf-ab18-47a6-ad91-c4505605d8cc"
      },
      "outputs": [
        {
          "output_type": "stream",
          "name": "stdout",
          "text": [
            "Auto: 3\n",
            "Banane: 3\n",
            "Eule: 3\n"
          ]
        }
      ],
      "source": [
        "words = [\"Auto\", \"Banane\", \"Eule\"]\n",
        "for word in words:\n",
        "    count = 0\n",
        "    for character in word:\n",
        "        if character in \"aeiouAEIOU\":\n",
        "            count += 1\n",
        "    print(f\"{word}: {count}\")"
      ]
    },
    {
      "cell_type": "markdown",
      "id": "e7497260",
      "metadata": {
        "id": "e7497260"
      },
      "source": [
        "## Aufgabe 16: Summe aller Zahlen berechnen"
      ]
    },
    {
      "cell_type": "markdown",
      "id": "6946748f",
      "metadata": {
        "id": "6946748f"
      },
      "source": [
        "Ergänze den Code, um die **Summe aller Zahlen** in `werte` zu berechnen."
      ]
    },
    {
      "cell_type": "code",
      "execution_count": null,
      "id": "f032b8be",
      "metadata": {
        "id": "f032b8be",
        "colab": {
          "base_uri": "https://localhost:8080/"
        },
        "outputId": "30bd75d8-867d-438a-b511-edd7cd7bd1f0"
      },
      "outputs": [
        {
          "output_type": "stream",
          "name": "stdout",
          "text": [
            "21\n"
          ]
        }
      ],
      "source": [
        "werte = [3, 7, 1, 8, 2]\n",
        "summe = 0\n",
        "for wert in werte:\n",
        "    summe += wert\n",
        "print(summe)"
      ]
    },
    {
      "cell_type": "markdown",
      "id": "ec69f86e",
      "metadata": {
        "id": "ec69f86e"
      },
      "source": [
        "## Aufgabe 17: Liste in einen einzigen String umwandeln"
      ]
    },
    {
      "cell_type": "markdown",
      "id": "6135bebe",
      "metadata": {
        "id": "6135bebe"
      },
      "source": [
        "Ergänze den Code, um die Liste `namen` in einen einzigen String zusammenzuführen."
      ]
    },
    {
      "cell_type": "code",
      "execution_count": null,
      "id": "402b5cef",
      "metadata": {
        "id": "402b5cef",
        "colab": {
          "base_uri": "https://localhost:8080/"
        },
        "outputId": "f3203f3d-9874-4223-d134-0da7a9ab1b2b"
      },
      "outputs": [
        {
          "output_type": "stream",
          "name": "stdout",
          "text": [
            "AnnaBenClara\n"
          ]
        }
      ],
      "source": [
        "namen = [\"Anna\", \"Ben\", \"Clara\"]\n",
        "gesamttext = \"\"\n",
        "for name in namen:\n",
        "    gesamttext += name\n",
        "print(gesamttext)"
      ]
    },
    {
      "cell_type": "markdown",
      "id": "6892d566",
      "metadata": {
        "id": "6892d566"
      },
      "source": [
        "## Aufgabe 18: Anzahl der Wörter in Sätzen zählen"
      ]
    },
    {
      "cell_type": "markdown",
      "id": "2a32dace",
      "metadata": {
        "id": "2a32dace"
      },
      "source": [
        "Ergänze den Code, um die Anzahl der Wörter in `texte` zu zählen."
      ]
    },
    {
      "cell_type": "code",
      "execution_count": null,
      "id": "e20fc066",
      "metadata": {
        "id": "e20fc066",
        "colab": {
          "base_uri": "https://localhost:8080/"
        },
        "outputId": "9843dafc-f4f0-4053-84bc-f0ffff7fb851"
      },
      "outputs": [
        {
          "output_type": "stream",
          "name": "stdout",
          "text": [
            "9\n"
          ]
        }
      ],
      "source": [
        "texte = [\"Ich liebe Python\", \"For-Schleifen sind nützlich\", \"Listen sind toll\"]\n",
        "gesamtanzahl = 0\n",
        "for text in texte:\n",
        "    gesamtanzahl += len(text.split())\n",
        "print(gesamtanzahl)"
      ]
    },
    {
      "cell_type": "markdown",
      "id": "d2821019",
      "metadata": {
        "id": "d2821019"
      },
      "source": [
        "## Aufgabe 19: Erste gerade Zahl finden und Schleife stoppen"
      ]
    },
    {
      "cell_type": "markdown",
      "id": "e34691d8",
      "metadata": {
        "id": "e34691d8"
      },
      "source": [
        "Ergänze den Code, um nach der ersten **geraden Zahl** in `zahlen` die Schleife zu beenden."
      ]
    },
    {
      "cell_type": "code",
      "execution_count": null,
      "id": "1c47a67d",
      "metadata": {
        "id": "1c47a67d",
        "colab": {
          "base_uri": "https://localhost:8080/"
        },
        "outputId": "7a8cf5d6-0f7a-4d9c-bfb0-3770034b0e2d"
      },
      "outputs": [
        {
          "output_type": "stream",
          "name": "stdout",
          "text": [
            "8\n"
          ]
        }
      ],
      "source": [
        "zahlen = [1, 3, 5, 8, 9]\n",
        "for zahl in zahlen:\n",
        "    if zahl % 2 == 0:\n",
        "        print(zahl)\n",
        "        break"
      ]
    },
    {
      "cell_type": "markdown",
      "id": "6256973a",
      "metadata": {
        "id": "6256973a"
      },
      "source": [
        "## Aufgabe 20: Zahl `5` überspringen"
      ]
    },
    {
      "cell_type": "markdown",
      "id": "88118a68",
      "metadata": {
        "id": "88118a68"
      },
      "source": [
        "Ergänze den Code, um alle **Zahlen außer 5** auszugeben."
      ]
    },
    {
      "cell_type": "code",
      "execution_count": null,
      "id": "e70fc83e",
      "metadata": {
        "id": "e70fc83e",
        "colab": {
          "base_uri": "https://localhost:8080/"
        },
        "outputId": "4a58d9c5-ac25-43b9-a603-a4d76612bcad"
      },
      "outputs": [
        {
          "output_type": "stream",
          "name": "stdout",
          "text": [
            "1\n",
            "2\n",
            "3\n",
            "4\n",
            "6\n",
            "7\n"
          ]
        }
      ],
      "source": [
        "zahlen = [1, 2, 3, 4, 5, 6, 7]\n",
        "for zahl in zahlen:\n",
        "    if zahl == 5:\n",
        "        continue\n",
        "    print(zahl)"
      ]
    }
  ],
  "metadata": {
    "colab": {
      "provenance": [],
      "include_colab_link": true
    },
    "language_info": {
      "name": "python"
    },
    "kernelspec": {
      "name": "python3",
      "display_name": "Python 3"
    }
  },
  "nbformat": 4,
  "nbformat_minor": 5
}