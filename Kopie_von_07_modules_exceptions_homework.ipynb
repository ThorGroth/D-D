{
  "nbformat": 4,
  "nbformat_minor": 0,
  "metadata": {
    "colab": {
      "provenance": [],
      "include_colab_link": true
    },
    "kernelspec": {
      "name": "python3",
      "display_name": "Python 3"
    },
    "language_info": {
      "name": "python"
    }
  },
  "cells": [
    {
      "cell_type": "markdown",
      "metadata": {
        "id": "view-in-github",
        "colab_type": "text"
      },
      "source": [
        "<a href=\"https://colab.research.google.com/github/ThorGroth/D-D/blob/master/Kopie_von_07_modules_exceptions_homework.ipynb\" target=\"_parent\"><img src=\"https://colab.research.google.com/assets/colab-badge.svg\" alt=\"Open In Colab\"/></a>"
      ]
    },
    {
      "cell_type": "markdown",
      "source": [
        "# Python Übungsaufgaben\n",
        "\n",
        "## Übungsaufgaben zu Funktionen\n",
        "\n",
        "### Aufgabe 1: Grundlegende Funktion\n",
        "Schreibe eine Funktion `begruessung`, die einen Namen als Parameter akzeptiert und einen Begrüßungstext zurückgibt (z.B. \"Hallo [Name]!\").\n"
      ],
      "metadata": {
        "id": "Hz5o5HL_WuO1"
      }
    },
    {
      "cell_type": "code",
      "source": [
        "# Deine Lösung hier\n",
        "def begruessung(name):\n",
        "    return f\"Hallo {name}!\"\n",
        "\n",
        "name = input(\"wie heißt du? \")\n",
        "print(begruessung(name))"
      ],
      "metadata": {
        "id": "84PnTmIxW92E",
        "outputId": "ee90457a-2c90-4868-d544-38e10697d0d7",
        "colab": {
          "base_uri": "https://localhost:8080/"
        }
      },
      "execution_count": null,
      "outputs": [
        {
          "output_type": "stream",
          "name": "stdout",
          "text": [
            "wie heißt du? Thor\n",
            "Hallo Thor!\n"
          ]
        }
      ]
    },
    {
      "cell_type": "markdown",
      "source": [
        "### Aufgabe 2: Funktionen mit mehreren Parametern\n",
        "Erstelle eine Funktion `rechteck_flaeche`, die Länge und Breite eines Rechtecks als Parameter nimmt und die Fläche berechnet und zurückgibt.\n"
      ],
      "metadata": {
        "id": "B924CFvHW_EH"
      }
    },
    {
      "cell_type": "code",
      "source": [
        "# Deine Lösung hier\n",
        "def rechteck_flaeche(length, width):\n",
        "    return length * width\n",
        "\n",
        "length = float(input(\"Gib die Länge des Rechtecks in cm ein: \"))\n",
        "width = float(input(\"Gib die breite des rechtecks in cm ein: \"))\n",
        "print(f\"Die Fläche des rechtecks beträgt: {rechteck_flaeche(length, width)} cm²\")"
      ],
      "metadata": {
        "id": "uS9v19oQXAq9",
        "outputId": "4cc1cd54-02c8-46de-f5ce-788003a6fe61",
        "colab": {
          "base_uri": "https://localhost:8080/"
        }
      },
      "execution_count": null,
      "outputs": [
        {
          "output_type": "stream",
          "name": "stdout",
          "text": [
            "Gib die Länge des Rechtecks in cm ein: 10\n",
            "Gib die breite des rechtecks in cm ein: 10\n",
            "Die Fläche des rechtecks beträgt: 100.0 cm²\n"
          ]
        }
      ]
    },
    {
      "cell_type": "markdown",
      "source": [
        "\n",
        "### Aufgabe 3: Standardwerte für Parameter\n",
        "Schreibe eine Funktion `power`, die eine Zahl und einen Exponenten als Parameter akzeptiert. Der Exponent soll den Standardwert 2 haben (für Quadratzahlen)."
      ],
      "metadata": {
        "id": "igklGM-lXCHI"
      }
    },
    {
      "cell_type": "code",
      "source": [
        "# Deine Lösung hier\n",
        "def power(base, exponent=2):\n",
        "    return base ** exponent\n",
        "\n",
        "zahl = float(input(\"Gib eine Zahl ein: \"))\n",
        "exponent = input(\"Gib den Exponenten ein (Drücke Enter für Standartwert 2): \")\n",
        "\n",
        "if exponent == \"\":\n",
        "    print(f\"Das Ergebnis ist: {power(zahl)}\")\n",
        "else:\n",
        "    print(f\"Das Ergebnis ist: {power(zahl, int(exponent))}\")"
      ],
      "metadata": {
        "id": "naZQwnftXDlg",
        "outputId": "080128d5-662e-4bd3-f185-d2218f54e414",
        "colab": {
          "base_uri": "https://localhost:8080/"
        }
      },
      "execution_count": null,
      "outputs": [
        {
          "output_type": "stream",
          "name": "stdout",
          "text": [
            "Gib eine Zahl ein: 10\n",
            "Gib den Exponenten ein (Drücke Enter für Standartwert 2): 5\n",
            "Das Ergebnis ist: 100000.0\n"
          ]
        }
      ]
    },
    {
      "cell_type": "markdown",
      "source": [
        "### Aufgabe 4: Einfache Lambda-Funktion\n",
        "Erstelle eine Lambda-Funktion, die die Summe zweier Zahlen berechnet, und teste sie mit verschiedenen Werten.\n"
      ],
      "metadata": {
        "id": "qU9JsmW7XFBE"
      }
    },
    {
      "cell_type": "code",
      "source": [
        "# Deine Lösung hier\n",
        "summe = lambda x, y: x + y\n",
        "\n",
        "print(summe(3, 5))\n",
        "print(summe(10, 20))\n",
        "print(summe(-5, 15))\n",
        "print(summe(0, 0))"
      ],
      "metadata": {
        "id": "auLgf34KXGvh"
      },
      "execution_count": null,
      "outputs": []
    },
    {
      "cell_type": "markdown",
      "source": [
        "## Übungsaufgaben zu Gültigkeitsbereich (Scope)\n",
        "\n",
        "### Aufgabe 5: Lokale und globale Variablen\n",
        "Schreibe ein Programm mit einer globalen Variable `counter` und einer Funktion `increment()`, die den Wert von `counter` um 1 erhöht. Die Funktion soll explizit mit dem `global`-Schlüsselwort auf die globale Variable zugreifen."
      ],
      "metadata": {
        "id": "yBADSKeTXIQW"
      }
    },
    {
      "cell_type": "code",
      "source": [
        "# Deine Lösung hier\n",
        "counter = 0\n",
        "\n",
        "def increment():\n",
        "    global counter\n",
        "    counter += 1\n",
        "\n",
        "print(f\"Anfangswert von counter: {counter}\")\n",
        "increment()\n",
        "print(f\"Wert von counter nach einem Inkrement: {counter}\")\n",
        "increment()\n",
        "print(f\"Wert von counter nach einem weiteren Inkrement: {counter}\")"
      ],
      "metadata": {
        "id": "SnYJPyW3XLdA",
        "outputId": "4622d10c-020f-48f3-beb7-d80010df6eca",
        "colab": {
          "base_uri": "https://localhost:8080/"
        }
      },
      "execution_count": null,
      "outputs": [
        {
          "output_type": "stream",
          "name": "stdout",
          "text": [
            "Anfangswert von counter: 0\n",
            "Wert von counter nach einem Inkrement: 1\n",
            "Wert von counter nach einem weiteren Inkrement: 2\n"
          ]
        }
      ]
    },
    {
      "cell_type": "markdown",
      "source": [
        "### Aufgabe 6: Verschachtelte Funktionen\n",
        "Schreibe eine Funktion `create_multiplier`, die einen Faktor als Parameter akzeptiert und eine innere Funktion zurückgibt. Die innere Funktion soll eine Zahl als Parameter akzeptieren und diese mit dem Faktor multiplizieren.\n"
      ],
      "metadata": {
        "id": "gi4j3D3BXMrp"
      }
    },
    {
      "cell_type": "code",
      "source": [
        "# Deine Lösung hier\n",
        "def create_multiplier(faktor):\n",
        "    def multiplier(number):\n",
        "        return number * faktor\n",
        "    return multiplier\n",
        "\n",
        "multiplier_mit_2 = create_multiplier(2)\n",
        "multiplier_mit_3 = create_multiplier(3)\n",
        "\n",
        "print(multiplier_mit_2(5))\n",
        "print(multiplier_mit_3(5))"
      ],
      "metadata": {
        "id": "niJcYF7kXPrX",
        "outputId": "008714b7-b2cb-4ae0-af2e-9b482af46a74",
        "colab": {
          "base_uri": "https://localhost:8080/"
        }
      },
      "execution_count": null,
      "outputs": [
        {
          "output_type": "stream",
          "name": "stdout",
          "text": [
            "10\n",
            "15\n"
          ]
        }
      ]
    },
    {
      "cell_type": "markdown",
      "source": [
        "## Übungsaufgaben zu Modulen\n",
        "\n",
        "### Aufgabe 7: Verwendung des `random`-Moduls\n",
        "Schreibe ein Programm, das das `random`-Modul importiert und:\n",
        "- Eine zufällige Zahl zwischen 1 und 10 ausgibt\n",
        "- Ein zufälliges Element aus einer Liste von Farben auswählt\n",
        "- Eine Liste von Zahlen in zufälliger Reihenfolge ausgibt"
      ],
      "metadata": {
        "id": "I4m_9SksXQ5e"
      }
    },
    {
      "cell_type": "code",
      "source": [
        "# Deine Lösung hier\n",
        "import random\n",
        "\n",
        "zufallszahl = random.randint(1, 10)\n",
        "print(f\"Zufällige Zahl zwischen 1 und 10: {zufallszahl}\")\n",
        "\n",
        "farben = ['rot', 'Blau', 'Grün', 'Gelb', 'Lila', 'Orange']\n",
        "zufallsfarbe = random.choice(farben)\n",
        "print(f\"Zufällige Farbe: {zufallsfarbe}\")\n",
        "\n",
        "zahlen = [1, 2, 3, 4, 5, 6, 7, 8, 9, 10]\n",
        "random.shuffle(zahlen)\n",
        "print(f\"Zahlen in zufälliger Reihenfolge: {zahlen}\")"
      ],
      "metadata": {
        "id": "87mIPidtXTPv",
        "outputId": "cc25527c-31e2-406b-97e5-74d1c9309b78",
        "colab": {
          "base_uri": "https://localhost:8080/"
        }
      },
      "execution_count": null,
      "outputs": [
        {
          "output_type": "stream",
          "name": "stdout",
          "text": [
            "Zufällige Zahl zwischen 1 und 10: 7\n",
            "Zufällige Farbe: Blau\n",
            "Zahlen in zufälliger Reihenfolge: [3, 8, 7, 6, 4, 2, 1, 9, 10, 5]\n"
          ]
        }
      ]
    },
    {
      "cell_type": "markdown",
      "source": [
        "\n",
        "### Aufgabe 8: Verwendung des `datetime`-Moduls\n",
        "Schreibe ein Programm, das das `datetime`-Modul importiert und:\n",
        "- Das aktuelle Datum und die aktuelle Uhrzeit ausgibt\n",
        "- Berechnet, wie viele Tage bis zum nächsten Neujahr verbleiben\n"
      ],
      "metadata": {
        "id": "LNzpAZqMXUcl"
      }
    },
    {
      "cell_type": "code",
      "source": [
        "# Deine Lösung hier\n",
        "import datetime\n",
        "\n",
        "jetzt = datetime.datetime.now()\n",
        "print(f\"Aktuelles Datum und Uhrzeit: {jetzt}\")\n",
        "\n",
        "heute = datetime.date.today()\n",
        "naechstes_neujahr = datetime.date(heute.year + 1, 1, 1)\n",
        "tage_bis_neujahr = (naechstes_neujahr - heute).days\n",
        "\n",
        "print(f\"Es verbleiben noch {tage_bis_neujahr} Tage bis zum nächsten Neujahr.\")"
      ],
      "metadata": {
        "id": "Eysalv3HXWFg",
        "outputId": "6e2cca23-73a5-4554-cf3f-0da1c977f53b",
        "colab": {
          "base_uri": "https://localhost:8080/"
        }
      },
      "execution_count": null,
      "outputs": [
        {
          "output_type": "stream",
          "name": "stdout",
          "text": [
            "Aktuelles Datum und Uhrzeit: 2025-04-10 11:13:49.069344\n",
            "Es verbleiben noch 266 Tage bis zum nächsten Neujahr.\n"
          ]
        }
      ]
    },
    {
      "cell_type": "markdown",
      "source": [
        "## Übungsaufgaben zur Ausnahmebehandlung\n",
        "\n",
        "### Aufgabe 9: Grundlegende Ausnahmebehandlung\n",
        "Schreibe ein Programm, das den Benutzer nach zwei Zahlen fragt und diese dividiert. Verwende einen `try-except`-Block, um Fehler wie Division durch Null oder ungültige Eingaben abzufangen.\n"
      ],
      "metadata": {
        "id": "TcfNh2uNXXI6"
      }
    },
    {
      "cell_type": "code",
      "source": [
        "# Deine Lösung hier\n",
        "def division():\n",
        "    try:\n",
        "        zahl1 = float(input(\"Gib die erste Zahl ein: \"))\n",
        "        zahl2 = float(input(\"Gib die zweite Zahl ein: \"))\n",
        "\n",
        "        ergebnis = zahl1 / zahl2\n",
        "        print(f\"Das Ergebnis der Division ist: {ergebnis}\")\n",
        "\n",
        "    except ValueError:\n",
        "        print(\"Fehler: Gib gültige zahlen ein.\")\n",
        "\n",
        "    except ZeroDivisionError:\n",
        "        print(\"Fehler: Division durch Null ist nicht erlaubt.\")\n",
        "\n",
        "division()"
      ],
      "metadata": {
        "id": "ozWrJ-qgXZXs",
        "outputId": "c67bb757-e258-4ed9-f76a-5fd6cecb0551",
        "colab": {
          "base_uri": "https://localhost:8080/"
        }
      },
      "execution_count": null,
      "outputs": [
        {
          "output_type": "stream",
          "name": "stdout",
          "text": [
            "Gib die erste Zahl ein: 10\n",
            "Gib die zweite Zahl ein: 10\n",
            "Das Ergebnis der Division ist: 1.0\n"
          ]
        }
      ]
    },
    {
      "cell_type": "markdown",
      "source": [
        "### Aufgabe 10: Eigene Ausnahmen definieren\n",
        "Definiere eine eigene Ausnahmeklasse `InvalidAgeError` und schreibe eine Funktion `validate_age`, die sicherstellt, dass ein Alter zwischen 0 und 120 Jahren liegt. Wenn nicht, soll die Funktion deine benutzerdefinierte Ausnahme auslösen.\n"
      ],
      "metadata": {
        "id": "FadRursOXatS"
      }
    },
    {
      "cell_type": "code",
      "source": [
        "# Deine Lösung hier\n",
        "class InvalidAgeError(Exception):\n",
        "    def __init__(self, age):\n",
        "        super().__init__(f\"Ungültiges Alter: {age}. Das Alter muss zwischen 0 und 120 Jahren liegen.\")\n",
        "        self.age = age\n",
        "\n",
        "def validate_age(age):\n",
        "    if age < 0 or age > 120:\n",
        "        raise InvalidAgeError(age)\n",
        "    else:\n",
        "        print(f\"Das Alter {age} ist gültig.\")\n",
        "\n",
        "try:\n",
        "    alter = int(input(\"Gib dein Alter ein: \"))\n",
        "    validate_age(alter)\n",
        "except InvalidAgeError as e:\n",
        "    print(e)\n",
        "except ValueError:\n",
        "    print(\"Gib eine gültige zahl für das alter ein.\")"
      ],
      "metadata": {
        "id": "b9VnGOJaXev4",
        "outputId": "a7e8dc35-1f09-4e84-feb5-e5d70cd0ab89",
        "colab": {
          "base_uri": "https://localhost:8080/"
        }
      },
      "execution_count": null,
      "outputs": [
        {
          "output_type": "stream",
          "name": "stdout",
          "text": [
            "Gib dein Alter ein: 150\n",
            "Ungültiges Alter: 150. Das Alter muss zwischen 0 und 120 Jahren liegen.\n"
          ]
        }
      ]
    }
  ]
}