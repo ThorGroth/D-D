{
  "cells": [
    {
      "cell_type": "markdown",
      "metadata": {
        "id": "view-in-github",
        "colab_type": "text"
      },
      "source": [
        "<a href=\"https://colab.research.google.com/github/ThorGroth/D-D/blob/master/05.03.25Thor_Michael_Groth_PythonDrills_14_lists_dicts_basics.ipynb\" target=\"_parent\"><img src=\"https://colab.research.google.com/assets/colab-badge.svg\" alt=\"Open In Colab\"/></a>"
      ]
    },
    {
      "cell_type": "markdown",
      "id": "5e3562db",
      "metadata": {
        "id": "5e3562db"
      },
      "source": [
        "## Aufgabe 1: Liste erstellen"
      ]
    },
    {
      "cell_type": "markdown",
      "id": "ec668e28",
      "metadata": {
        "id": "ec668e28"
      },
      "source": [
        "Ergänze den Code, um eine **Liste** mit den Zahlen `1, 2, 3, 4, 5` zu erstellen."
      ]
    },
    {
      "cell_type": "code",
      "execution_count": null,
      "id": "6af6f6ef",
      "metadata": {
        "id": "6af6f6ef",
        "colab": {
          "base_uri": "https://localhost:8080/"
        },
        "outputId": "d5249772-1965-4734-b9bb-71e0b352bef0"
      },
      "outputs": [
        {
          "output_type": "stream",
          "name": "stdout",
          "text": [
            "[1, 2, 3, 4, 5]\n"
          ]
        }
      ],
      "source": [
        "zahlen = [1, 2, 3, 4, 5]\n",
        "print(zahlen)  # Erwartete Ausgabe: [1, 2, 3, 4, 5]"
      ]
    },
    {
      "cell_type": "markdown",
      "id": "123672dc",
      "metadata": {
        "id": "123672dc"
      },
      "source": [
        "## Aufgabe 2: Dictionary erstellen"
      ]
    },
    {
      "cell_type": "markdown",
      "id": "3736cfba",
      "metadata": {
        "id": "3736cfba"
      },
      "source": [
        "Ergänze den Code, um ein **Dictionary** mit Namen als Schlüssel und Alter als Werte zu erstellen."
      ]
    },
    {
      "cell_type": "code",
      "execution_count": null,
      "id": "42cc749d",
      "metadata": {
        "id": "42cc749d",
        "colab": {
          "base_uri": "https://localhost:8080/"
        },
        "outputId": "7499cec4-4a0c-4fe9-ad76-0378247ac3f2"
      },
      "outputs": [
        {
          "output_type": "stream",
          "name": "stdout",
          "text": [
            "{'Anna': 25, 'Ben': 30, 'Clara': 22}\n"
          ]
        }
      ],
      "source": [
        "personen = {\"Anna\": 25, \"Ben\": 30, \"Clara\": 22}\n",
        "print(personen)  # Erwartete Ausgabe: {'Anna': 25, 'Ben': 30, 'Clara': 22}"
      ]
    },
    {
      "cell_type": "markdown",
      "id": "07933bf0",
      "metadata": {
        "id": "07933bf0"
      },
      "source": [
        "## Aufgabe 3: Drittes Element aus Liste abrufen"
      ]
    },
    {
      "cell_type": "markdown",
      "id": "66288e57",
      "metadata": {
        "id": "66288e57"
      },
      "source": [
        "Ergänze den Code, um das **dritte Element** aus der Liste `früchte` zu erhalten."
      ]
    },
    {
      "cell_type": "code",
      "execution_count": null,
      "id": "52f5569a",
      "metadata": {
        "id": "52f5569a",
        "colab": {
          "base_uri": "https://localhost:8080/"
        },
        "outputId": "ca1f41b9-f815-468d-b523-bbb218a3501e"
      },
      "outputs": [
        {
          "output_type": "stream",
          "name": "stdout",
          "text": [
            "Kirsche\n"
          ]
        }
      ],
      "source": [
        "fruechte = [\"Apfel\", \"Banane\", \"Kirsche\"]\n",
        "drittes_element = fruechte[2]\n",
        "print(drittes_element)"
      ]
    },
    {
      "cell_type": "markdown",
      "id": "e2f1fa8b",
      "metadata": {
        "id": "e2f1fa8b"
      },
      "source": [
        "## Aufgabe 4: Wert aus Dictionary abrufen"
      ]
    },
    {
      "cell_type": "markdown",
      "id": "19390351",
      "metadata": {
        "id": "19390351"
      },
      "source": [
        "Ergänze den Code, um das **Alter von Ben** aus dem Dictionary `personen` abzurufen."
      ]
    },
    {
      "cell_type": "code",
      "execution_count": null,
      "id": "818b6cae",
      "metadata": {
        "id": "818b6cae",
        "colab": {
          "base_uri": "https://localhost:8080/"
        },
        "outputId": "bd5aed95-e179-4baa-9a4a-52bbba93e05f"
      },
      "outputs": [
        {
          "output_type": "stream",
          "name": "stdout",
          "text": [
            "30\n"
          ]
        }
      ],
      "source": [
        "personen = {\"Anna\": 25, \"Ben\": 30, \"Clara\": 22}\n",
        "alter_ben = personen[\"Ben\"]\n",
        "print(alter_ben)"
      ]
    },
    {
      "cell_type": "markdown",
      "id": "304bbbbd",
      "metadata": {
        "id": "304bbbbd"
      },
      "source": [
        "## Aufgabe 5: Element zu Liste hinzufügen"
      ]
    },
    {
      "cell_type": "markdown",
      "id": "f5f53cb1",
      "metadata": {
        "id": "f5f53cb1"
      },
      "source": [
        "Ergänze den Code, um `'Mango'` am Ende der Liste `früchte` hinzuzufügen."
      ]
    },
    {
      "cell_type": "code",
      "execution_count": null,
      "id": "51a05770",
      "metadata": {
        "id": "51a05770",
        "colab": {
          "base_uri": "https://localhost:8080/"
        },
        "outputId": "67fd9778-e4d6-4b2c-fc7c-6dce7180743c"
      },
      "outputs": [
        {
          "output_type": "stream",
          "name": "stdout",
          "text": [
            "['Apfel', 'Banane', 'Kirsche', 'Mango']\n"
          ]
        }
      ],
      "source": [
        "fruechte = [\"Apfel\", \"Banane\", \"Kirsche\"]\n",
        "fruechte.append(\"Mango\")\n",
        "print(fruechte)"
      ]
    },
    {
      "cell_type": "markdown",
      "id": "ef8e1ebc",
      "metadata": {
        "id": "ef8e1ebc"
      },
      "source": [
        "## Aufgabe 6: Schlüssel-Wert zu Dictionary hinzufügen"
      ]
    },
    {
      "cell_type": "markdown",
      "id": "0f27fe4e",
      "metadata": {
        "id": "0f27fe4e"
      },
      "source": [
        "Ergänze den Code, um `'David': 27` zu `personen` hinzuzufügen."
      ]
    },
    {
      "cell_type": "code",
      "execution_count": null,
      "id": "0eb35115",
      "metadata": {
        "id": "0eb35115",
        "colab": {
          "base_uri": "https://localhost:8080/"
        },
        "outputId": "5b5798fb-8293-4c99-85fb-74458ee7e5cc"
      },
      "outputs": [
        {
          "output_type": "stream",
          "name": "stdout",
          "text": [
            "{'Anna': 25, 'Ben': 30, 'Clara': 22, 'David': 27}\n"
          ]
        }
      ],
      "source": [
        "personen = {\"Anna\": 25, \"Ben\": 30, \"Clara\": 22}\n",
        "personen[\"David\"] = 27\n",
        "print(personen)"
      ]
    },
    {
      "cell_type": "markdown",
      "id": "9ff5a828",
      "metadata": {
        "id": "9ff5a828"
      },
      "source": [
        "## Aufgabe 7: Element an den Anfang einer Liste einfügen"
      ]
    },
    {
      "cell_type": "markdown",
      "id": "99de7134",
      "metadata": {
        "id": "99de7134"
      },
      "source": [
        "Ergänze den Code, um `'Birne'` an den **Anfang** der Liste `früchte` einzufügen."
      ]
    },
    {
      "cell_type": "code",
      "execution_count": null,
      "id": "773539c1",
      "metadata": {
        "id": "773539c1",
        "colab": {
          "base_uri": "https://localhost:8080/"
        },
        "outputId": "cd18e022-8c63-4b75-ae8a-2c04c74ebc5e"
      },
      "outputs": [
        {
          "output_type": "stream",
          "name": "stdout",
          "text": [
            "['Birne', 'Apfel', 'Banane', 'Kirsche']\n"
          ]
        }
      ],
      "source": [
        "fruechte = [\"Apfel\", \"Banane\", \"Kirsche\"]\n",
        "fruechte.insert(0, \"Birne\")\n",
        "print(fruechte)"
      ]
    },
    {
      "cell_type": "markdown",
      "id": "e8cae2f6",
      "metadata": {
        "id": "e8cae2f6"
      },
      "source": [
        "## Aufgabe 8: Neues Auto zum Dictionary hinzufügen"
      ]
    },
    {
      "cell_type": "markdown",
      "id": "cbd22788",
      "metadata": {
        "id": "cbd22788"
      },
      "source": [
        "Ergänze den Code, um `'Tesla': 'Model 3'` zum Dictionary `autos` hinzuzufügen."
      ]
    },
    {
      "cell_type": "code",
      "execution_count": null,
      "id": "930a357d",
      "metadata": {
        "id": "930a357d",
        "colab": {
          "base_uri": "https://localhost:8080/"
        },
        "outputId": "7e3d14dd-c800-4383-b9a0-9bceeb7f5335"
      },
      "outputs": [
        {
          "output_type": "stream",
          "name": "stdout",
          "text": [
            "{'BMW': 'X5', 'Audi': 'A6', 'Tesla': 'Model 3'}\n"
          ]
        }
      ],
      "source": [
        "autos = {\"BMW\": \"X5\", \"Audi\": \"A6\"}\n",
        "autos[\"Tesla\"] = \"Model 3\"\n",
        "print(autos)"
      ]
    },
    {
      "cell_type": "markdown",
      "id": "a2fa8644",
      "metadata": {
        "id": "a2fa8644"
      },
      "source": [
        "## Aufgabe 9: Element aus Liste entfernen"
      ]
    },
    {
      "cell_type": "markdown",
      "id": "37147ab2",
      "metadata": {
        "id": "37147ab2"
      },
      "source": [
        "Ergänze den Code, um `'Banane'` aus der Liste `früchte` zu entfernen."
      ]
    },
    {
      "cell_type": "code",
      "execution_count": null,
      "id": "166f088e",
      "metadata": {
        "id": "166f088e",
        "colab": {
          "base_uri": "https://localhost:8080/"
        },
        "outputId": "278c5273-110b-4432-ded9-c4b6ae5e875d"
      },
      "outputs": [
        {
          "output_type": "stream",
          "name": "stdout",
          "text": [
            "['Apfel', 'Kirsche']\n"
          ]
        }
      ],
      "source": [
        "fruechte = [\"Apfel\", \"Banane\", \"Kirsche\"]\n",
        "fruechte.remove(\"Banane\")\n",
        "print(fruechte)"
      ]
    },
    {
      "cell_type": "markdown",
      "id": "3b45ab9b",
      "metadata": {
        "id": "3b45ab9b"
      },
      "source": [
        "## Aufgabe 10: Schlüssel aus Dictionary entfernen"
      ]
    },
    {
      "cell_type": "markdown",
      "id": "deca3461",
      "metadata": {
        "id": "deca3461"
      },
      "source": [
        "Ergänze den Code, um `'Clara'` aus `personen` zu entfernen."
      ]
    },
    {
      "cell_type": "code",
      "execution_count": null,
      "id": "fe92b1df",
      "metadata": {
        "id": "fe92b1df",
        "colab": {
          "base_uri": "https://localhost:8080/"
        },
        "outputId": "3db3eef9-d119-4b92-edc9-a8eeb1d56fc6"
      },
      "outputs": [
        {
          "output_type": "stream",
          "name": "stdout",
          "text": [
            "{'Anna': 25, 'Ben': 30}\n"
          ]
        }
      ],
      "source": [
        "personen = {\"Anna\": 25, \"Ben\": 30, \"Clara\": 22}\n",
        "del personen[\"Clara\"]\n",
        "print(personen)"
      ]
    },
    {
      "cell_type": "markdown",
      "id": "0bdec34b",
      "metadata": {
        "id": "0bdec34b"
      },
      "source": [
        "## Aufgabe 11: Letztes Element aus Liste entfernen"
      ]
    },
    {
      "cell_type": "markdown",
      "id": "75b40fb4",
      "metadata": {
        "id": "75b40fb4"
      },
      "source": [
        "Ergänze den Code, um das letzte Element aus der Liste `zahlen` zu entfernen."
      ]
    },
    {
      "cell_type": "code",
      "execution_count": null,
      "id": "47dd2373",
      "metadata": {
        "id": "47dd2373",
        "colab": {
          "base_uri": "https://localhost:8080/"
        },
        "outputId": "656a0538-2dac-4a7f-929a-4428196be4c1"
      },
      "outputs": [
        {
          "output_type": "stream",
          "name": "stdout",
          "text": [
            "[10, 20, 30, 40]\n"
          ]
        }
      ],
      "source": [
        "zahlen = [10, 20, 30, 40, 50]\n",
        "del zahlen [4]\n",
        "print(zahlen)"
      ]
    },
    {
      "cell_type": "markdown",
      "id": "2c1b7d70",
      "metadata": {
        "id": "2c1b7d70"
      },
      "source": [
        "## Aufgabe 12: Schlüssel aus Dictionary entfernen"
      ]
    },
    {
      "cell_type": "markdown",
      "id": "83e4d6ce",
      "metadata": {
        "id": "83e4d6ce"
      },
      "source": [
        "Ergänze den Code, um `'Audi'` aus `autos` zu entfernen."
      ]
    },
    {
      "cell_type": "code",
      "execution_count": null,
      "id": "fd9675a9",
      "metadata": {
        "id": "fd9675a9",
        "colab": {
          "base_uri": "https://localhost:8080/"
        },
        "outputId": "4a16b207-369f-49ca-adc9-bc0f7d47dbff"
      },
      "outputs": [
        {
          "output_type": "stream",
          "name": "stdout",
          "text": [
            "{'BMW': 'X5', 'Tesla': 'Model 3'}\n"
          ]
        }
      ],
      "source": [
        "autos = {\"BMW\": \"X5\", \"Audi\": \"A6\", \"Tesla\": \"Model 3\"}\n",
        "del autos [\"Audi\"]\n",
        "print(autos)"
      ]
    },
    {
      "cell_type": "markdown",
      "id": "8f75eda1",
      "metadata": {
        "id": "8f75eda1"
      },
      "source": [
        "## Aufgabe 13: Ersten Buchstaben eines Listenelements abrufen"
      ]
    },
    {
      "cell_type": "markdown",
      "id": "6b8e1453",
      "metadata": {
        "id": "6b8e1453"
      },
      "source": [
        "Ergänze den Code, um den **ersten Buchstaben** des ersten Elements in `früchte` auszugeben."
      ]
    },
    {
      "cell_type": "code",
      "execution_count": null,
      "id": "6855e961",
      "metadata": {
        "id": "6855e961",
        "colab": {
          "base_uri": "https://localhost:8080/"
        },
        "outputId": "4d90ec0a-d9b3-46fb-9162-c26469c15afe"
      },
      "outputs": [
        {
          "output_type": "stream",
          "name": "stdout",
          "text": [
            "A\n"
          ]
        }
      ],
      "source": [
        "fruechte = [\"Apfel\", \"Banane\", \"Kirsche\"]\n",
        "erster_buchstabe = fruechte [0][0]\n",
        "print(erster_buchstabe)"
      ]
    },
    {
      "cell_type": "markdown",
      "id": "18fadf4e",
      "metadata": {
        "id": "18fadf4e"
      },
      "source": [
        "## Aufgabe 14: Wert in einem Dictionary ändern"
      ]
    },
    {
      "cell_type": "markdown",
      "id": "8084c390",
      "metadata": {
        "id": "8084c390"
      },
      "source": [
        "Ergänze den Code, um das Alter von `'Ben'` im Dictionary `personen` auf `35` zu ändern."
      ]
    },
    {
      "cell_type": "code",
      "execution_count": null,
      "id": "358c6b39",
      "metadata": {
        "id": "358c6b39",
        "colab": {
          "base_uri": "https://localhost:8080/"
        },
        "outputId": "7e26c555-b473-436a-c59b-91445e78e76c"
      },
      "outputs": [
        {
          "output_type": "stream",
          "name": "stdout",
          "text": [
            "{'Anna': 25, 'Ben': 35, 'Clara': 22}\n"
          ]
        }
      ],
      "source": [
        "personen = {\"Anna\": 25, \"Ben\": 30, \"Clara\": 22}\n",
        "personen [\"Ben\"] = 35\n",
        "print(personen)"
      ]
    },
    {
      "cell_type": "markdown",
      "id": "ff45d357",
      "metadata": {
        "id": "ff45d357"
      },
      "source": [
        "## Aufgabe 15: Liste mit `for`-Schleife ausgeben"
      ]
    },
    {
      "cell_type": "markdown",
      "id": "b120720b",
      "metadata": {
        "id": "b120720b"
      },
      "source": [
        "Ergänze den Code, um alle Elemente in der Liste `zahlen` auszugeben."
      ]
    },
    {
      "cell_type": "code",
      "execution_count": null,
      "id": "3ccaced5",
      "metadata": {
        "id": "3ccaced5",
        "colab": {
          "base_uri": "https://localhost:8080/"
        },
        "outputId": "27acecbb-9a08-4aed-cb4a-8af60da92a01"
      },
      "outputs": [
        {
          "output_type": "stream",
          "name": "stdout",
          "text": [
            "1\n",
            "2\n",
            "3\n",
            "4\n",
            "5\n"
          ]
        }
      ],
      "source": [
        "zahlen = [1, 2, 3, 4, 5]\n",
        "for zahl in zahlen:\n",
        "    print(zahl)"
      ]
    },
    {
      "cell_type": "markdown",
      "id": "0b98d9fd",
      "metadata": {
        "id": "0b98d9fd"
      },
      "source": [
        "## Aufgabe 16: Schlüssel eines Dictionaries mit `for`-Schleife ausgeben"
      ]
    },
    {
      "cell_type": "markdown",
      "id": "7356e410",
      "metadata": {
        "id": "7356e410"
      },
      "source": [
        "Ergänze den Code, um alle Schlüssel in `autos` auszugeben."
      ]
    },
    {
      "cell_type": "code",
      "execution_count": null,
      "id": "e5a2c9df",
      "metadata": {
        "id": "e5a2c9df",
        "colab": {
          "base_uri": "https://localhost:8080/"
        },
        "outputId": "153243bb-d3c6-4c3b-d9e2-b0f9b648f1fd"
      },
      "outputs": [
        {
          "output_type": "stream",
          "name": "stdout",
          "text": [
            "BMW\n",
            "Audi\n",
            "Tesla\n"
          ]
        }
      ],
      "source": [
        "autos = {\"BMW\": \"X5\", \"Audi\": \"A6\", \"Tesla\": \"Model 3\"}\n",
        "for auto in autos:\n",
        "    print(auto)"
      ]
    },
    {
      "cell_type": "markdown",
      "id": "6e2709e0",
      "metadata": {
        "id": "6e2709e0"
      },
      "source": [
        "## Aufgabe 17: Schlüssel-Wert-Paare eines Dictionaries ausgeben"
      ]
    },
    {
      "cell_type": "markdown",
      "id": "0fdc1ff3",
      "metadata": {
        "id": "0fdc1ff3"
      },
      "source": [
        "Ergänze den Code, um alle Schlüssel-Wert-Paare aus `personen` auszugeben."
      ]
    },
    {
      "cell_type": "code",
      "execution_count": null,
      "id": "b0448ad2",
      "metadata": {
        "id": "b0448ad2",
        "colab": {
          "base_uri": "https://localhost:8080/"
        },
        "outputId": "adb36a65-04e7-459a-82ec-fadf0e176156"
      },
      "outputs": [
        {
          "output_type": "stream",
          "name": "stdout",
          "text": [
            "Anna : 25\n",
            "Ben : 30\n",
            "Clara : 22\n"
          ]
        }
      ],
      "source": [
        "personen = {\"Anna\": 25, \"Ben\": 30, \"Clara\": 22}\n",
        "for name, alter in personen.items():\n",
        "    print(name,\":\", alter)"
      ]
    },
    {
      "cell_type": "markdown",
      "id": "7d1c27f2",
      "metadata": {
        "id": "7d1c27f2"
      },
      "source": [
        "## Aufgabe 18: Nur gerade Zahlen in einer Liste ausgeben"
      ]
    },
    {
      "cell_type": "markdown",
      "id": "78d3551f",
      "metadata": {
        "id": "78d3551f"
      },
      "source": [
        "Ergänze den Code, um nur die geraden Zahlen in `zahlen` auszugeben."
      ]
    },
    {
      "cell_type": "code",
      "execution_count": null,
      "id": "537d846e",
      "metadata": {
        "id": "537d846e",
        "colab": {
          "base_uri": "https://localhost:8080/"
        },
        "outputId": "049679e3-ef3a-4eee-882c-a26c1b4a9772"
      },
      "outputs": [
        {
          "output_type": "stream",
          "name": "stdout",
          "text": [
            "2\n",
            "4\n",
            "6\n"
          ]
        }
      ],
      "source": [
        "zahlen = [1, 2, 3, 4, 5, 6]\n",
        "for zahl in zahlen:\n",
        "    if zahl % 2 == 0:\n",
        "        print(zahl)"
      ]
    },
    {
      "cell_type": "markdown",
      "id": "9e63c232",
      "metadata": {
        "id": "9e63c232"
      },
      "source": [
        "## Aufgabe 19: Personen über 25 aus einem Dictionary filtern"
      ]
    },
    {
      "cell_type": "markdown",
      "id": "cc2f9ce3",
      "metadata": {
        "id": "cc2f9ce3"
      },
      "source": [
        "Ergänze den Code, um nur Personen mit einem Alter über `25` auszugeben."
      ]
    },
    {
      "cell_type": "code",
      "execution_count": null,
      "id": "2c3f5091",
      "metadata": {
        "id": "2c3f5091",
        "colab": {
          "base_uri": "https://localhost:8080/"
        },
        "outputId": "fc967039-718a-4ef8-b7cf-8c5bd9ccbaf3"
      },
      "outputs": [
        {
          "output_type": "stream",
          "name": "stdout",
          "text": [
            "Ben 30\n"
          ]
        }
      ],
      "source": [
        "personen = {\"Anna\": 25, \"Ben\": 30, \"Clara\": 22}\n",
        "for name, alter in personen.items():\n",
        "    if alter > 25:\n",
        "        print(name, alter)"
      ]
    },
    {
      "cell_type": "markdown",
      "id": "8cb4be80",
      "metadata": {
        "id": "8cb4be80"
      },
      "source": [
        "## Aufgabe 20: Element an spezifischer Position in einer Liste einfügen"
      ]
    },
    {
      "cell_type": "markdown",
      "id": "ccfb7082",
      "metadata": {
        "id": "ccfb7082"
      },
      "source": [
        "Ergänze den Code, um `'Python'` am **zweiten Platz** in der Liste `sprachen` einzufügen."
      ]
    },
    {
      "cell_type": "code",
      "execution_count": null,
      "id": "f10163e9",
      "metadata": {
        "id": "f10163e9",
        "colab": {
          "base_uri": "https://localhost:8080/"
        },
        "outputId": "2782a233-2f57-4d04-ec27-bc4e708e3914"
      },
      "outputs": [
        {
          "output_type": "stream",
          "name": "stdout",
          "text": [
            "['C++', 'Python', 'JavaScript']\n"
          ]
        }
      ],
      "source": [
        "sprachen = [\"C++\", \"JavaScript\"]\n",
        "sprachen.insert(1, \"Python\")\n",
        "print(sprachen)"
      ]
    }
  ],
  "metadata": {
    "colab": {
      "provenance": [],
      "include_colab_link": true
    },
    "language_info": {
      "name": "python"
    },
    "kernelspec": {
      "name": "python3",
      "display_name": "Python 3"
    }
  },
  "nbformat": 4,
  "nbformat_minor": 5
}