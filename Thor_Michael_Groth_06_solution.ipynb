{
  "cells": [
    {
      "cell_type": "markdown",
      "metadata": {
        "id": "view-in-github",
        "colab_type": "text"
      },
      "source": [
        "<a href=\"https://colab.research.google.com/github/ThorGroth/D-D/blob/master/Thor_Michael_Groth_06_solution.ipynb\" target=\"_parent\"><img src=\"https://colab.research.google.com/assets/colab-badge.svg\" alt=\"Open In Colab\"/></a>"
      ]
    },
    {
      "cell_type": "markdown",
      "metadata": {
        "id": "zsR1cXXdgh4i"
      },
      "source": [
        "# Python Funktionen, Module und Ausnahmebehandlung\n",
        "\n",
        "## PCEP-Prüfungsvorbereitung - Interaktives Lernmaterial\n",
        "\n",
        "Dieses Jupyter Notebook dient als interaktive Lernumgebung zum Thema Funktionen und Module in Python. Du kannst die Code-Beispiele direkt ausführen, modifizieren und mit den Übungsaufgaben dein Verständnis vertiefen.\n",
        "\n",
        "### Inhaltsverzeichnis\n",
        "1. [Funktionsgrundlagen](#1-funktionsgrundlagen)\n",
        "2. [Rückgabewerte](#2-rückgabewerte)\n",
        "3. [Funktionsparameter](#3-funktionsparameter)\n",
        "4. [Fortgeschrittene Funktionskonzepte](#4-fortgeschrittene-funktionskonzepte)\n",
        "5. [Gültigkeitsbereich (Scope)](#5-gültigkeitsbereich-scope)\n",
        "6. [Module und Pakete](#6-module-und-pakete)\n",
        "7. [Ausnahmebehandlung](#7-ausnahmebehandlung)\n",
        "\n",
        "## 1. Funktionsgrundlagen\n",
        "\n",
        "Funktionen sind wiederverwendbare Codeblöcke, die eine bestimmte Aufgabe erfüllen. Sie ermöglichen es uns, Code zu organisieren, zu strukturieren und mehrfach zu verwenden, ohne ihn wiederholen zu müssen.\n",
        "\n",
        "### 💡 Leitfrage:\n",
        "Warum sind Funktionen ein zentrales Konzept in der Programmierung und wie verbessern sie den Code?\n",
        "- Übersichtlichkeit: Code wird in einzelne Teile bzw. logische Einheiten strukturiert\n",
        "- Wartbarkeit: Einzelne Funktionen testen und einfacher anzupassen, weniger fehleranfällig, da nur an einer Stelle implementiert\n",
        "- Lesbarkeit: Schneller Fehler finden und Funktionen erleichtern es, den Code zu lesen\n",
        "- Modularität: Komplexe Probleme werden in kleinere, leichter lösbare Teilprobleme zerlegt (Divide & Conquer)\n",
        "\n",
        "### 1.1 Definition und Aufruf von Funktionen\n",
        "\n",
        "In Python werden Funktionen mit dem Schlüsselwort `def` definiert, gefolgt vom Funktionsnamen und Klammern `()`.\n"
      ]
    },
    {
      "cell_type": "code",
      "execution_count": null,
      "metadata": {
        "id": "l0kexUr0gh4q",
        "outputId": "ecff7f9b-923a-47bf-895e-6050bc517730"
      },
      "outputs": [
        {
          "name": "stdout",
          "output_type": "stream",
          "text": [
            "Hallo! Willkommen zu Python-Funktionen\n",
            "\n",
            "Wir rufen die Funktion erneut auf:\n",
            "Hallo! Willkommen zu Python-Funktionen\n",
            "Hallo! Willkommen zu Python-Funktionen\n",
            "Hallo! Willkommen zu Python-Funktionen\n",
            "Hallo! Willkommen zu Python-Funktionen\n",
            "Hallo! Willkommen zu Python-Funktionen\n",
            "Hallo! Willkommen zu Python-Funktionen\n",
            "Hallo! Willkommen zu Python-Funktionen\n"
          ]
        }
      ],
      "source": [
        "# Eine einfache Funktion definieren\n",
        "def greet():\n",
        "    \"\"\"Diese Funktion gibt eine Begrüßung aus.\"\"\"  # Docstring - Dokumentation der Funktion\n",
        "    print(\"Hallo! Willkommen zu Python-Funktionen\")\n",
        "\n",
        "# # Die Funktion aufrufen\n",
        "greet()\n",
        "\n",
        "# # Eine Funktion kann mehrmals aufgerufen werden\n",
        "print(\"\\nWir rufen die Funktion erneut auf:\")\n",
        "greet()\n",
        "greet()\n",
        "greet()\n",
        "greet()\n",
        "greet()\n",
        "greet()\n",
        "greet()\n"
      ]
    },
    {
      "cell_type": "markdown",
      "metadata": {
        "id": "eB55MZR2gh4u"
      },
      "source": [
        "### 1.2 Parameter und Argumente\n",
        "\n",
        "Parameter sind Variablen, die in der Funktionsdefinition angegeben werden. Argumente sind die tatsächlichen Werte, die beim Aufruf einer Funktion übergeben werden."
      ]
    },
    {
      "cell_type": "code",
      "execution_count": null,
      "metadata": {
        "id": "YSUVnCuWgh4u",
        "outputId": "b2eab95f-2105-463f-bcf3-3b96ad52cef4"
      },
      "outputs": [
        {
          "name": "stdout",
          "output_type": "stream",
          "text": [
            "Hallo Max! Schön, dich kennenzulernen. du bist 23 Jahre alt\n",
            "Hallo Anna! Schön, dich kennenzulernen. du bist 18 Jahre alt\n",
            "Hallo Helen! Schön, dich kennenzulernen. du bist 30 Jahre alt\n",
            "Lisa ist 28 Jahre alt und lebt in Berlin.\n",
            "Tom ist 35 Jahre alt und lebt in München.\n"
          ]
        }
      ],
      "source": [
        "# Funktion mit einem Parameter\n",
        "## Achtung: name heißt hier (Übergabe-) Parameter\n",
        "def greet_person(name, alter):\n",
        "    \"\"\"Begrüßt eine Person mit ihrem Namen.\"\"\"\n",
        "    print(f\"Hallo {name}! Schön, dich kennenzulernen. du bist {alter} Jahre alt\")\n",
        "\n",
        "# Funktionsaufruf mit einem Argument\n",
        "## Achtung: \"Max\" heißt hier das Argument\n",
        "greet_person(\"Max\", 23)\n",
        "greet_person(\"Anna\", 18)\n",
        "\n",
        "tier = \"Helen\"\n",
        "kaffee = 30\n",
        "greet_person(tier, kaffee)\n",
        "\n",
        "# Funktion mit mehreren Parametern\n",
        "def describe_person(name, age, city):\n",
        "    \"\"\"Gibt Informationen über eine Person aus.\"\"\"\n",
        "    print(f\"{name} ist {age} Jahre alt und lebt in {city}.\")\n",
        "\n",
        "# Funktionsaufruf mit mehreren Argumenten\n",
        "describe_person(\"Lisa\", 28, \"Berlin\")\n",
        "describe_person(\"Tom\", 35, \"München\")"
      ]
    },
    {
      "cell_type": "markdown",
      "metadata": {
        "id": "widIOyM2gh4v"
      },
      "source": [
        "\n",
        "**Übung 1.2a**: Schreibe eine Funktion `calculate_rectangle_area`, die die Fläche eines Rechtecks berechnet. Die Funktion soll zwei Parameter haben: Länge und Breite. Rufe die Funktion mit verschiedenen Werten auf."
      ]
    },
    {
      "cell_type": "code",
      "execution_count": null,
      "metadata": {
        "id": "OqsSxYm6gh4w",
        "outputId": "ce448243-62d4-4bdc-a0a4-af717cdf73c3"
      },
      "outputs": [
        {
          "name": "stdout",
          "output_type": "stream",
          "text": [
            "Die Fläche vom Rechteck 6 mal 5 ist 30\n",
            "Berechnete Summe an Flächen von 2 Rechtecken 27\n"
          ]
        }
      ],
      "source": [
        "def calculate_rectangle_area(length, width):\n",
        "    area = length * width\n",
        "    return area\n",
        "def calculate_more_rectangles(area1, area2):\n",
        "    sum_area = 0\n",
        "    sum_area = area1 + area2\n",
        "    return sum_area\n",
        "#   alternativ: return length * width\n",
        "\n",
        "# rectangle_3_times_5 = calculate_rectangle_area(3,5)\n",
        "# print(rectangle_3_times_5)\n",
        "\n",
        "print(f\"Die Fläche vom Rechteck 6 mal 5 ist {calculate_rectangle_area(6,5)}\")\n",
        "\n",
        "# rectangle_2_times6 = calculate_rectangle_area(2,6)\n",
        "\n",
        "\n",
        "\n",
        "\n",
        "print(f\"Berechnete Summe an Flächen von 2 Rechtecken {calculate_more_rectangles(calculate_rectangle_area(3,5), calculate_rectangle_area(2,6))}\")\n",
        "\n",
        "\n"
      ]
    },
    {
      "cell_type": "code",
      "execution_count": null,
      "metadata": {
        "id": "UYqImENAgh4x"
      },
      "outputs": [],
      "source": [
        "# def calculate_rectangle_area(length, width):\n",
        "#     area = length * width\n",
        "#     return area\n",
        "# def calculate_more_rectangles(func, area1, area2):\n",
        "#     result = func(area1, area2)\n",
        "#     result += 1\n",
        "#     return result\n",
        "\n",
        "# print(f\"Das Ergebnis ist {calculate_more_rectangles(calculate_rectangle_area(3,4), 3,4)}\")\n",
        "\n",
        "# Beispiel folgt"
      ]
    },
    {
      "cell_type": "code",
      "execution_count": null,
      "metadata": {
        "id": "_uA5Pe6-gh4y",
        "outputId": "db546e52-4c9c-42fc-d2c9-6a3e69b0854d"
      },
      "outputs": [
        {
          "name": "stdout",
          "output_type": "stream",
          "text": [
            "Die Fläche von dem Rechteck 3 x 5 ergibt 15\n"
          ]
        }
      ],
      "source": [
        "def calculate_rectangle_area(length, width):\n",
        "    area = length * width\n",
        "    print(f\"Die Fläche von dem Rechteck {length} x {width} ergibt {area}\")\n",
        "#   alternativ: return length * width\n",
        "\n",
        "calculate_rectangle_area(3,5)\n",
        "# print(rectangle_3_times_5)\n",
        "# print(f\"Die Fläche vom Rechteck 6 mal 5 ist {calculate_rectangle_area(6,5)}\")"
      ]
    },
    {
      "cell_type": "markdown",
      "metadata": {
        "id": "XcuR8DOigh4z"
      },
      "source": [
        "**Übung 1.2b**: Schreibe eine Funktion `print_personal_info`, die persönliche Informationen ausgibt. Die Funktion soll Parameter für Name, Alter, Stadt und Beruf haben. Rufe die Funktion mit deinen eigenen Daten auf."
      ]
    },
    {
      "cell_type": "code",
      "execution_count": null,
      "metadata": {
        "id": "SF33mOnegh40",
        "outputId": "e7b4df56-1d72-4265-e86c-9af23e35e64e"
      },
      "outputs": [
        {
          "name": "stdout",
          "output_type": "stream",
          "text": [
            "Name: Max Mustermann\n",
            "Alter: 30\n",
            "Stadt: Berlin\n",
            "Beruf: Softwareentwickler\n",
            "--------------------\n"
          ]
        }
      ],
      "source": [
        "def print_personal_info(name, age, city, profession):\n",
        "    \"\"\"Gibt persönliche Informationen aus.\"\"\"\n",
        "    print(f\"Name: {name}\")\n",
        "    print(f\"Alter: {age}\")\n",
        "    print(f\"Stadt: {city}\")\n",
        "    print(f\"Beruf: {profession}\")\n",
        "    print(\"-\" * 20)  # Trennlinie für bessere Lesbarkeit\n",
        "\n",
        "# Testen mit eigenen Daten\n",
        "print_personal_info(\"Max Mustermann\", 30, \"Berlin\", \"Softwareentwickler\")"
      ]
    },
    {
      "cell_type": "markdown",
      "metadata": {
        "id": "yE1AWx_Bgh41"
      },
      "source": [
        "## 2. Rückgabewerte\n",
        "\n",
        "Funktionen können Werte zurückgeben, die später im Programm verwendet werden können. Dies geschieht mit der `return`-Anweisung.\n",
        "\n",
        "### 💡 Leitfrage:\n",
        "Warum ist es oft besser, einen Wert zurückzugeben, anstatt ihn direkt in der Funktion auszugeben?\n",
        "- Flexibler, wenn zurückgegebene Werte später nochmal verarbeitet werden sollen, dann haben wir die nämlich fest iwo zwischengespeichert\n",
        "- Wiederverwendbar (s.o.)\n",
        "- Trennung von Logik und Darstellung (Separation of Concern): Berechung wird von Ausgabe getrennt\n",
        "- Komposition: Wenn wir die Rückgabewerte als Eingabe für andere Funktionen haben wollen\n",
        "\n",
        "### 2.1 return-Anweisung"
      ]
    },
    {
      "cell_type": "code",
      "execution_count": null,
      "metadata": {
        "id": "P0bEmX0Kgh41",
        "outputId": "4c733b3e-234b-4e39-856c-824985be3116"
      },
      "outputs": [
        {
          "name": "stdout",
          "output_type": "stream",
          "text": [
            "Das Quadrat von 5 ist 25.\n",
            "Das Quadrat von 7 ist 49.\n",
            "Die Summe der Quadrate von 3 und 4 ist 25.\n",
            "Hallo!\n",
            "Der Rückgabewert ist: None\n",
            "Die Zahl ist positiv!\n",
            "Die Zahl ist nicht positiv.\n"
          ]
        }
      ],
      "source": [
        "# Funktion mit Rückgabewert\n",
        "def square(number):\n",
        "    \"\"\"Gibt das Quadrat einer Zahl zurück.\"\"\"\n",
        "    result = number ** 2\n",
        "    return result\n",
        "    # return number ** 2\n",
        "\n",
        "# Verwendung des Rückgabewerts\n",
        "squared_value = square(5)\n",
        "print(f\"Das Quadrat von 5 ist {squared_value}.\")\n",
        "\n",
        "# Direktere Verwendung\n",
        "print(f\"Das Quadrat von 7 ist {square(7)}.\")\n",
        "\n",
        "# Rückgabewerte in Berechnungen verwenden\n",
        "sum_of_squares = square(3) + square(4)\n",
        "print(f\"Die Summe der Quadrate von 3 und 4 ist {sum_of_squares}.\")\n",
        "\n",
        "# Funktion ohne expliziten Rückgabewert\n",
        "def greet_without_return():\n",
        "    \"\"\"Gibt einen Gruß aus, ohne etwas zurückzugeben.\"\"\"\n",
        "    print(\"Hallo!\")\n",
        "    # Kein return-Statement\n",
        "\n",
        "# Wenn eine Funktion kein return-Statement hat, gibt sie None zurück\n",
        "result = greet_without_return()\n",
        "print(f\"Der Rückgabewert ist: {result}\")\n",
        "\n",
        "# Frühzeitiges Verlassen einer Funktion mit return\n",
        "## Achtung: Das nennen wir early-return\n",
        "def check_positive(number):\n",
        "    \"\"\"Prüft, ob eine Zahl positiv ist.\"\"\"\n",
        "    if number <= 0:\n",
        "        print(\"Die Zahl ist nicht positiv.\")\n",
        "        return  # Frühzeitiges Verlassen der Funktion\n",
        "\n",
        "    print(\"Die Zahl ist positiv!\")\n",
        "\n",
        "# Testen\n",
        "check_positive(5)\n",
        "check_positive(-3)"
      ]
    },
    {
      "cell_type": "markdown",
      "metadata": {
        "id": "2ge_7uLTgh42"
      },
      "source": [
        "### 2.2 Mehrere Rückgabewerte\n",
        "\n",
        "In Python können Funktionen mehrere Werte auf einmal zurückgeben, indem sie diese durch Kommas trennen."
      ]
    },
    {
      "cell_type": "code",
      "execution_count": null,
      "metadata": {
        "id": "9uHRkek3gh42",
        "outputId": "293a43b2-4210-4aab-e52b-0365477af9af"
      },
      "outputs": [
        {
          "name": "stdout",
          "output_type": "stream",
          "text": [
            "(1, 6)\n",
            "1 und 6\n"
          ]
        }
      ],
      "source": [
        "# Funktion mit mehreren Rückgabewerten\n",
        "def get_min_max(numbers):\n",
        "    \"\"\"\n",
        "    Description:\n",
        "        Gibt das Minimum und Maximum einer Zahlenliste zurück.\n",
        "    Args:\n",
        "        Bekommt eine Liste an Zahlen mitgegeben\n",
        "    Returns:\n",
        "        Ein Tupel bestehend aus minimalen Wert und maximalen Wert in dieser Reihenfolge\n",
        "    \"\"\"\n",
        "    min_value = min(numbers)\n",
        "    max_value = max(numbers)\n",
        "    return min_value, max_value  # Gibt ein Tupel zurück\n",
        "\n",
        "numbers = [1,2,3,4,5,6]\n",
        "tupel_with_min_and_max_number = get_min_max(numbers)\n",
        "print(tupel_with_min_and_max_number)\n",
        "min_value, max_value = tupel_with_min_and_max_number\n",
        "print(f\"{min_value} und {max_value}\")\n",
        "\n",
        "# tupel_example = (3,5,7) # = 3,5,7\n",
        "# x,y,z = tupel_example\n",
        "# print(f\"{x}, {y} und {z}\")\n",
        "\n",
        "# # wenn wir gleichzeitig mehrere Variablen initialisieren/deklarieren aka Wert zuweisen\n",
        "# a,b,c = 1,2,3 # 1,2,3 ist auch ein Tupel nur ohne Klammern (ist dasselbe, aber merken was hier passiert)\n",
        "\n",
        "# # Aufruf und Speichern der Rückgabewerte\n",
        "# my_list = [3, 7, 2, 9, 1, 8]\n",
        "# min_num, max_num = get_min_max(my_list)  # Tuple unpacking\n",
        "# print(f\"Minimum: {min_num}, Maximum: {max_num}\")\n",
        "\n",
        "# # Alternative: Rückgabewert als Tupel speichern\n",
        "# result = get_min_max(my_list)\n",
        "# print(f\"Ergebnis als Tupel: {result}\")\n",
        "# print(f\"Minimum: {result[0]}, Maximum: {result[1]}\")\n",
        "\n",
        "# # Funktion, die verschiedene Berechnungen zurückgibt\n",
        "# def analyze_numbers(numbers):\n",
        "#     \"\"\"Gibt verschiedene Statistiken zu einer Zahlenliste zurück.\"\"\"\n",
        "#     count = len(numbers)\n",
        "#     total = sum(numbers)\n",
        "#     average = total / count if count > 0 else 0\n",
        "#     minimum = min(numbers) if count > 0 else None\n",
        "#     maximum = max(numbers) if count > 0 else None\n",
        "\n",
        "#     return count, total, average, minimum, maximum\n",
        "\n",
        "# # Alle Werte entpacken\n",
        "# num_list = [15, 22, 8, 31, 17, 24]\n",
        "# count, total, avg, min_val, max_val = analyze_numbers(num_list)\n",
        "\n",
        "# print(f\"Anzahl: {count}\")\n",
        "# print(f\"Summe: {total}\")\n",
        "# print(f\"Durchschnitt: {avg:.2f}\")\n",
        "# print(f\"Minimum: {min_val}\")\n",
        "# print(f\"Maximum: {max_val}\")"
      ]
    },
    {
      "cell_type": "markdown",
      "metadata": {
        "id": "udtF-cSEgh43"
      },
      "source": [
        "**Übung 2.2a**: Schreibe eine Funktion `calculate_circle`, die den Umfang und die Fläche eines Kreises berechnet und zurückgibt. Die Funktion soll einen Parameter für den Radius haben und ein Tupel mit beiden Werten zurückgeben. Verwende die Konstante `3.14159` für π."
      ]
    },
    {
      "cell_type": "code",
      "execution_count": null,
      "metadata": {
        "id": "_jq9-osFgh43",
        "outputId": "586dcd03-1195-4fa8-aedb-1d8947d49704"
      },
      "outputs": [
        {
          "name": "stdout",
          "output_type": "stream",
          "text": [
            "Ein Kreis mit Radius 5 hat den Umfang 31.4159 und die Fläche 78.53975\n"
          ]
        }
      ],
      "source": [
        "def calculate_circle(radius):\n",
        "    \"\"\"\n",
        "    Definition:\n",
        "        Die Funktion soll den Umfang und die Fläche eines Kreises berechnen\n",
        "    Args:\n",
        "        radius: Der Radius eines Kreises\n",
        "    Returns:\n",
        "        Ein Tupel mit (Umfang, Fläche)\n",
        "    \"\"\"\n",
        "    PI = 3.14159\n",
        "    circumference = 2 * PI * radius # 2pir\n",
        "    area = PI * radius ** 2 # pir^2\n",
        "    return circumference, area\n",
        "\n",
        "radius_test = 5\n",
        "umfang, flaeche = calculate_circle(radius_test)\n",
        "print(f\"Ein Kreis mit Radius {radius_test} hat den Umfang {umfang} und die Fläche {flaeche}\")"
      ]
    },
    {
      "cell_type": "markdown",
      "metadata": {
        "id": "6o0lftKCgh44"
      },
      "source": [
        "**Übung 2.2b**: Schreibe eine Funktion `analyze_text`, die einen Text als Parameter nimmt und die Anzahl der Wörter, die Anzahl der Zeichen (ohne Leerzeichen) und das längste Wort zurückgibt."
      ]
    },
    {
      "cell_type": "code",
      "execution_count": null,
      "metadata": {
        "id": "6CKagSSygh44",
        "outputId": "6a7efd2f-3900-4e05-9d72-656ab662dbdf"
      },
      "outputs": [
        {
          "name": "stdout",
          "output_type": "stream",
          "text": [
            "Textanalyse:\n",
            "Anzahl Wörter: 10\n",
            "Anzahl Zeichen (ohne Leerzeichen): 77\n",
            "Längstes Wort: 'Programmiersprache'\n"
          ]
        }
      ],
      "source": [
        "def analyze_text(text):\n",
        "    \"\"\"Analysiert einen Text und gibt Statistiken zurück.\n",
        "\n",
        "    Args:\n",
        "        text: Der zu analysierende Text\n",
        "\n",
        "    Returns:\n",
        "        Ein Tupel mit (Anzahl Wörter, Anzahl Zeichen ohne Leerzeichen, längstes Wort)\n",
        "    \"\"\"\n",
        "    # Text in Wörter aufteilen\n",
        "    words = text.split()\n",
        "\n",
        "    # Anzahl der Wörter\n",
        "    word_count = len(words)\n",
        "\n",
        "    # Anzahl der Zeichen (ohne Leerzeichen)\n",
        "    char_count = len(text) - text.count(\" \")\n",
        "\n",
        "    # Längstes Wort finden\n",
        "    longest_word = max(words, key=len)\n",
        "\n",
        "    return (word_count, char_count, longest_word)\n",
        "\n",
        "# Testen der Funktion\n",
        "sample_text = \"Python ist eine großartige Programmiersprache für Einsteiger und erfahrene Entwickler.\"\n",
        "word_count, char_count, longest_word = analyze_text(sample_text)\n",
        "\n",
        "print(f\"Textanalyse:\")\n",
        "print(f\"Anzahl Wörter: {word_count}\")\n",
        "print(f\"Anzahl Zeichen (ohne Leerzeichen): {char_count}\")\n",
        "print(f\"Längstes Wort: '{longest_word}'\")"
      ]
    },
    {
      "cell_type": "markdown",
      "metadata": {
        "id": "qlkI-faugh45"
      },
      "source": [
        "## 3. Funktionsparameter\n",
        "\n",
        "Python bietet verschiedene Möglichkeiten, Parameter an Funktionen zu übergeben, was die Flexibilität und Lesbarkeit verbessert.\n",
        "\n",
        "### 💡 Leitfrage:\n",
        "Wie können wir Funktionen flexibler gestalten, damit sie in verschiedenen Situationen verwendet werden können?\n",
        "\n",
        "### 3.1 Positionsparameter vs. Schlüsselwortparameter\n",
        "\n",
        "Python erlaubt zwei Arten der Parameterübergabe:\n",
        "1. **Positionsparameter**: Die Argumente werden in der gleichen Reihenfolge übergeben wie die Parameter definiert wurden.\n",
        "2. **Schlüsselwortparameter** (Keyword Arguments): Die Argumente werden mit dem Parameternamen übergeben, was die Reihenfolge irrelevant macht."
      ]
    },
    {
      "cell_type": "code",
      "execution_count": null,
      "metadata": {
        "id": "4KXacR5Zgh45",
        "outputId": "76070895-bb43-4e72-ec86-456599e283e9"
      },
      "outputs": [
        {
          "ename": "SyntaxError",
          "evalue": "positional argument follows keyword argument (2788145804.py, line 23)",
          "output_type": "error",
          "traceback": [
            "  \u001b[36mCell\u001b[39m\u001b[36m \u001b[39m\u001b[32mIn[79]\u001b[39m\u001b[32m, line 23\u001b[39m\n\u001b[31m    \u001b[39m\u001b[31mdisplay_info(name=\"Lisa\", 28, \"Frankfurt\")  # Dies wird einen Fehler verursachen\u001b[39m\n                                             ^\n\u001b[31mSyntaxError\u001b[39m\u001b[31m:\u001b[39m positional argument follows keyword argument\n"
          ]
        }
      ],
      "source": [
        "# Funktion mit mehreren Parametern\n",
        "def display_info(name, age, city):\n",
        "    \"\"\"Zeigt persönliche Informationen an.\"\"\"\n",
        "    print(f\"Name: {name}\")\n",
        "    print(f\"Alter: {age}\")\n",
        "    print(f\"Stadt: {city}\")\n",
        "    print(\"-\" * 20)\n",
        "\n",
        "# Aufruf mit Positionsparametern\n",
        "print(\"Mit Positionsparametern:\")\n",
        "display_info(\"Max\", 30, \"Berlin\")\n",
        "\n",
        "# Aufruf mit Schlüsselwortparametern\n",
        "print(\"Mit Schlüsselwortparametern:\")\n",
        "display_info(city=\"Hamburg\", name=\"Anna\", age=25)\n",
        "\n",
        "# Mischung aus Positions- und Schlüsselwortparametern\n",
        "print(\"Gemischt:\")\n",
        "display_info(\"Tom\", city=\"München\", age=35)  # Positionsparameter müssen vor Schlüsselwortparametern stehen\n",
        "\n",
        "# Fehlerhaft: Positionsparameter nach Schlüsselwortparametern\n",
        "try:\n",
        "    display_info(name=\"Lisa\", 28, \"Frankfurt\")  # Dies wird einen Fehler verursachen\n",
        "except SyntaxError:\n",
        "    print(\"Fehler: Positionsparameter müssen vor Schlüsselwortparametern stehen!\")"
      ]
    },
    {
      "cell_type": "markdown",
      "metadata": {
        "id": "aRP27Izugh46"
      },
      "source": [
        "### 3.2 Standardwerte für Parameter\n",
        "\n",
        "Parameter können Standardwerte haben, die verwendet werden, wenn beim Funktionsaufruf kein entsprechendes Argument übergeben wird."
      ]
    },
    {
      "cell_type": "code",
      "execution_count": null,
      "metadata": {
        "id": "jrfdgUxSgh46",
        "outputId": "9496e538-d9bd-4bce-ce00-4abdfaf3c2c4"
      },
      "outputs": [
        {
          "name": "stdout",
          "output_type": "stream",
          "text": [
            "Hallo, Gast!\n",
            "Hallo, Max!\n",
            "Willkommen, Anna!\n",
            "Willkommen, Helen!\n",
            "Einfaches Profil: {'name': 'Max', 'age': 30, 'city': 'Unbekannt', 'job': None, 'hobbies': None}\n",
            "Detailliertes Profil: {'name': 'Anna', 'age': 25, 'city': 'Berlin', 'job': 'Entwicklerin', 'hobbies': ['Lesen', 'Reisen', 'Programmieren']}\n",
            "Teilweise ausgefülltes Profil: {'name': 'Tom', 'age': 35, 'city': 'München', 'job': None, 'hobbies': ['Sport', 'Kochen']}\n"
          ]
        }
      ],
      "source": [
        "# Funktion mit Standardwerten\n",
        "def greet_with_defaults(name=\"Gast\", greeting=\"Hallo\"):\n",
        "    \"\"\"Begrüßt einen Benutzer mit anpassbarer Begrüßung.\"\"\"\n",
        "    print(f\"{greeting}, {name}!\")\n",
        "\n",
        "# Verschiedene Arten, die Funktion aufzurufen\n",
        "greet_with_defaults()  # Verwendet beide Standardwerte\n",
        "greet_with_defaults(\"Max\")  # Verwendet nur den Standardwert für greeting\n",
        "greet_with_defaults(\"Anna\", \"Willkommen\")  # Überschreibt beide Standardwerte\n",
        "# greet_with_defaults(greeting=\"Guten Tag\", \"Helen\")  # Überschreibt nur greeting\n",
        "greet_with_defaults(\"Helen\", greeting=\"Willkommen\")  # Überschreibt nur greeting\n",
        "\n",
        "\n",
        "# Komplexeres Beispiel\n",
        "def create_profile(name, age, job=None, city=\"Unbekannt\", hobbies=None):\n",
        "    \"\"\"Erstellt ein Benutzerprofil mit optionalen Feldern.\"\"\"\n",
        "    profile = {\n",
        "        \"name\": name,\n",
        "        \"age\": age,\n",
        "        \"city\": city\n",
        "    }\n",
        "\n",
        "    # Optionale Felder nur hinzufügen, wenn sie angegeben wurden\n",
        "    if job is not None:\n",
        "        profile[\"job\"] = job\n",
        "\n",
        "    if hobbies is not None:\n",
        "        profile[\"hobbies\"] = hobbies\n",
        "\n",
        "    return profile\n",
        "\n",
        "# Verschiedene Profile erstellen\n",
        "basic_profile = create_profile(\"Max\", 30)   # profile = {name: Max, age: 30, job: None, city: Unbgekannt, hobbies: None}\n",
        "detailed_profile = create_profile(\"Anna\", 25, \"Entwicklerin\", \"Berlin\", [\"Lesen\", \"Reisen\", \"Programmieren\"])\n",
        "partial_profile = create_profile(\"Tom\", 35, city=\"München\", hobbies=[\"Sport\", \"Kochen\"])\n",
        "\n",
        "print(\"Einfaches Profil:\", basic_profile)\n",
        "print(\"Detailliertes Profil:\", detailed_profile)\n",
        "print(\"Teilweise ausgefülltes Profil:\", partial_profile)"
      ]
    },
    {
      "cell_type": "markdown",
      "metadata": {
        "id": "NlcfcQ4Fgh46"
      },
      "source": [
        "**Übung 3.2a**: Schreibe eine Funktion `calculate_price`, die den Endpreis einer Ware berechnet. Die Funktion soll Parameter für den Grundpreis und den Mehrwertsteuersatz haben, wobei der Mehrwertsteuersatz einen Standardwert von 19% haben soll. Optional soll auch ein Rabatt in Prozent angegeben werden können (Standardwert: 0%)."
      ]
    },
    {
      "cell_type": "code",
      "execution_count": 1,
      "metadata": {
        "colab": {
          "base_uri": "https://localhost:8080/"
        },
        "id": "4WNUKuolgh47",
        "outputId": "a44b95c8-2f1f-467e-e034-26593f631df0"
      },
      "outputs": [
        {
          "output_type": "stream",
          "name": "stdout",
          "text": [
            "Grundpreis 100€, Standard-MwSt: 119.00€\n",
            "Grundpreis 100€, 7% MwSt: 107.00€\n",
            "Grundpreis 100€, Standard-MwSt, 10% Rabatt: 107.10€\n",
            "Grundpreis 100€, 7% MwSt, 15% Rabatt: 90.95€\n"
          ]
        }
      ],
      "source": [
        "def calculate_price(base_price, tax_rate=19, discount=0):\n",
        "    \"\"\"Berechnet den Endpreis einer Ware.\n",
        "\n",
        "    Args:\n",
        "        base_price: Grundpreis in Euro\n",
        "        tax_rate: Mehrwertsteuersatz in Prozent (Standard: 19%)\n",
        "        discount: Rabatt in Prozent (Standard: 0%)\n",
        "\n",
        "    Returns:\n",
        "        Der berechnete Endpreis in Euro\n",
        "    \"\"\"\n",
        "    # Rabatt anwenden\n",
        "    discounted_price = base_price * (1 - discount / 100)\n",
        "\n",
        "    # Mehrwertsteuer hinzufügen\n",
        "    final_price = discounted_price * (1 + tax_rate / 100)\n",
        "\n",
        "    return final_price\n",
        "\n",
        "# Testen der Funktion\n",
        "print(f\"Grundpreis 100€, Standard-MwSt: {calculate_price(100):.2f}€\")\n",
        "print(f\"Grundpreis 100€, 7% MwSt: {calculate_price(100, 7):.2f}€\")\n",
        "print(f\"Grundpreis 100€, Standard-MwSt, 10% Rabatt: {calculate_price(100, discount=10):.2f}€\")\n",
        "print(f\"Grundpreis 100€, 7% MwSt, 15% Rabatt: {calculate_price(100, 7, 15):.2f}€\")"
      ]
    },
    {
      "cell_type": "markdown",
      "metadata": {
        "id": "fCUnnQm3gh47"
      },
      "source": [
        "**Übung 3.2b**: Schreibe eine Funktion `create_email`, die eine E-Mail-Nachricht erstellt. Die Funktion soll Parameter für Empfänger, Betreff und Nachrichtentext haben. Füge optionale Parameter für CC, BCC und Anhänge hinzu (mit leeren Listen als Standardwerte)."
      ]
    },
    {
      "cell_type": "code",
      "execution_count": null,
      "metadata": {
        "id": "CktgI67Ogh47",
        "outputId": "db816024-dcfb-4b4a-d763-d4c9b4de464b"
      },
      "outputs": [
        {
          "name": "stdout",
          "output_type": "stream",
          "text": [
            "Die erste E-Mail sieht so aus: mit Empfänger {'recipient': 'test@mail.de', 'subject': 'test', 'body': 'testing', 'cc': None, 'bcc': None, 'attachments': None}\n"
          ]
        }
      ],
      "source": [
        "def create_email(recipient, subject, body, cc=None, bcc=None, attachments=None):\n",
        "    \"\"\"\n",
        "    Description:\n",
        "        Funktion soll eine E-Mail-Nachricht erstellen\n",
        "    Args:\n",
        "        recipient: Empfänger der E-Mail\n",
        "        subject: Betreff der E-Mail\n",
        "        body: Textfeld der E-Mail\n",
        "        cc: Liste der CC-Empfänger (Standard: leere Liste), optional\n",
        "        bcc: Liste der BCC-Empfänger (Standard: leere Liste), optional\n",
        "        attachments: Liste der Anhänge (Standard: leere Liste), optional\n",
        "    Returns:\n",
        "        Ein Dictionary mit den E-Mail-Informationen\n",
        "    \"\"\"\n",
        "    email = {\n",
        "        \"recipient\": recipient,\n",
        "        \"subject\": subject,\n",
        "        \"body\": body,\n",
        "        \"cc\": cc,\n",
        "        \"bcc\": bcc,\n",
        "        \"attachments\": attachments\n",
        "    }\n",
        "\n",
        "    if cc is None:\n",
        "        cc = []\n",
        "    if bcc is None:\n",
        "        bcc = []\n",
        "    if attachments is None:\n",
        "        attachments = []\n",
        "\n",
        "    # if cc is not None:\n",
        "    #     cc = list(cc)\n",
        "\n",
        "    return email\n",
        "\n",
        "\n",
        "\n",
        "email1 = create_email(recipient=\"test@mail.de\", subject=\"test\", body=\"testing\")\n",
        "print(f\"Die erste E-Mail sieht so aus: mit Empfänger {email1}\")\n",
        "\n"
      ]
    },
    {
      "cell_type": "markdown",
      "metadata": {
        "id": "Dc2BFuSvgh48"
      },
      "source": [
        "## 4. Fortgeschrittene Funktionskonzepte\n",
        "\n",
        "Python behandelt Funktionen als \"first-class objects\", was bedeutet, dass sie wie jedes andere Objekt verwendet werden können - sie können anderen Variablen zugewiesen, als Argumente an andere Funktionen übergeben und als Rückgabewerte von anderen Funktionen zurückgegeben werden.\n",
        "\n",
        "### 💡 Leitfrage:\n",
        "Wie kann die Behandlung von Funktionen als Objekte die Flexibilität und Ausdruckskraft von Code erhöhen?\n",
        "\n",
        "### 4.1 Funktionen als Objekte"
      ]
    },
    {
      "cell_type": "code",
      "execution_count": null,
      "metadata": {
        "id": "eXuHuSqfgh48",
        "outputId": "65d3b66a-a278-44ef-a8cf-92ac01811605"
      },
      "outputs": [
        {
          "name": "stdout",
          "output_type": "stream",
          "text": [
            "Hallo, Max!\n",
            "Die Funktion gibt Hallo, Helen! zurück\n",
            "10 + 5 = 15\n",
            "10 - 5 = 5\n",
            "10 * 5 = 50\n",
            "10 / 5 = 2.0\n",
            "Das Ergebnis von add(15, 7) ist: 22\n",
            "Das Ergebnis von multiply(8, 6) ist: 48\n"
          ]
        }
      ],
      "source": [
        "# Funktion definieren\n",
        "def greet(name):\n",
        "    \"\"\"Begrüßt eine Person.\"\"\"\n",
        "    return f\"Hallo, {name}!\"\n",
        "\n",
        "# Funktion einer Variablen zuweisen\n",
        "# Benenne die Funktion um mit einem neuen Namen\n",
        "greeting_function = greet\n",
        "\n",
        "# Die zugewiesene Funktion aufrufen\n",
        "result = greeting_function(\"Max\")\n",
        "print(result)  # Gibt \"Hallo, Max!\" aus\n",
        "print(f\"Die Funktion gibt {greeting_function('Helen')} zurück\")\n",
        "\n",
        "# Funktionen in Datenstrukturen speichern\n",
        "def add(a, b):\n",
        "    return a + b\n",
        "\n",
        "def subtract(a, b):\n",
        "    return a - b\n",
        "\n",
        "def multiply(a, b):\n",
        "    return a * b\n",
        "\n",
        "def divide(a, b):\n",
        "    return a / b if b != 0 else \"Division durch Null nicht möglich\"\n",
        "\n",
        "# Funktionen in einem Dictionary speichern\n",
        "operations = {\n",
        "    \"+\": add,\n",
        "    \"-\": subtract,\n",
        "    \"*\": multiply,\n",
        "    \"/\": divide\n",
        "}\n",
        "\n",
        "# Funktionen aus dem Dictionary verwenden\n",
        "a, b = 10, 5\n",
        "for symbol, operation in operations.items():\n",
        "    result = operation(a, b)\n",
        "    print(f\"{a} {symbol} {b} = {result}\")\n",
        "\n",
        "# Funktionen als Parameter übergeben\n",
        "def apply_operation(func, x, y):\n",
        "    \"\"\"Wendet eine übergebene Funktion auf zwei Zahlen an.\"\"\"\n",
        "    return func(x, y)\n",
        "\n",
        "result = apply_operation(add, 15, 7)\n",
        "print(f\"Das Ergebnis von add(15, 7) ist: {result}\")\n",
        "\n",
        "result = apply_operation(multiply, 8, 6)\n",
        "print(f\"Das Ergebnis von multiply(8, 6) ist: {result}\")"
      ]
    },
    {
      "cell_type": "markdown",
      "metadata": {
        "id": "CxIECXlygh48"
      },
      "source": [
        "### 4.2 Lambda-Funktionen\n",
        "\n",
        "Lambda-Funktionen sind kleine, anonyme Funktionen, die \"on the fly\" definiert werden können. Sie werden mit dem Schlüsselwort `lambda` erstellt und bestehen aus einem einzigen Ausdruck."
      ]
    },
    {
      "cell_type": "code",
      "execution_count": null,
      "metadata": {
        "id": "Ep6Iq_HHgh49",
        "outputId": "41c45e0d-4f2d-48da-a2b6-4d5c1f7931b1"
      },
      "outputs": [
        {
          "name": "stdout",
          "output_type": "stream",
          "text": [
            "Das Quadrat von 5 ist: 25\n",
            "Normal sortiert: [1, 2, 3, 4, 5, 7, 8, 9]\n",
            "Sortiert nach Quadrat: [1, 2, 3, 4, 5, 7, 8, 9]\n",
            "Summe von 3 und 4: 7\n",
            "Gerade Zahlen: [2, 4, 6, 8, 10, 12, 14, 16, 18, 20]\n",
            "['P', 'y', 't', 'h', 'o', 'n']\n",
            "Quadrierte Zahlen: [1, 4, 9, 16, 25, 36, 49, 64, 81, 100, 121, 144, 169, 196, 225, 256, 289, 324, 361, 400]\n",
            "1 ist ungerade.\n",
            "2 ist gerade.\n",
            "3 ist ungerade.\n",
            "4 ist gerade.\n",
            "5 ist ungerade.\n"
          ]
        }
      ],
      "source": [
        "# Einfache Lambda-Funktion\n",
        "square = lambda x: x ** 2\n",
        "\n",
        "## def square(x):\n",
        "    # return x ** 2\n",
        "\n",
        "# Verwendung wie eine normale Funktion\n",
        "print(f\"Das Quadrat von 5 ist: {square(5)}\")\n",
        "\n",
        "# Lambda-Funktionen werden oft als Argumente übergeben\n",
        "numbers = [1, 5, 3, 9, 2, 8, 4, 7]\n",
        "\n",
        "# Sortieren mit einer Schlüsselfunktion\n",
        "sorted_numbers = sorted(numbers)\n",
        "print(\"Normal sortiert:\", sorted_numbers)\n",
        "\n",
        "# Sortieren nach dem Quadrat der Zahlen mit Lambda\n",
        "sorted_by_square = sorted(numbers, key=lambda x: x ** 2)\n",
        "print(\"Sortiert nach Quadrat:\", sorted_by_square)\n",
        "\n",
        "# Lambda mit mehreren Parametern\n",
        "sum_lambda = lambda a, b: a + b\n",
        "print(f\"Summe von 3 und 4: {sum_lambda(3, 4)}\")\n",
        "\n",
        "# Praktisches Beispiel: Filtern mit Lambda\n",
        "numbers = list(range(1, 21))  # Zahlen von 1 bis 20\n",
        "even_numbers = list(filter(lambda x: x % 2 == 0, numbers))\n",
        "print(\"Gerade Zahlen:\", even_numbers)\n",
        "\n",
        "# string_example = \"Python\"\n",
        "# string_list = list(string_example)\n",
        "# print(string_list)\n",
        "\n",
        "# Praktisches Beispiel: Transformieren mit map()\n",
        "squared_numbers = list(map(lambda x: x ** 2, numbers))\n",
        "print(\"Quadrierte Zahlen:\", squared_numbers)\n",
        "\n",
        "# Lambda mit Bedingung (Ternary Operator)\n",
        "## Erinnerung Ternary Operator\n",
        "# x = 0\n",
        "# bedingung = 'wahr' if x == 0 else \"falsch\"\n",
        "\n",
        "get_parity = lambda x: \"gerade\" if x % 2 == 0 else \"ungerade\"\n",
        "for num in range(1, 6):\n",
        "    print(f\"{num} ist {get_parity(num)}.\")"
      ]
    },
    {
      "cell_type": "markdown",
      "metadata": {
        "id": "qKjbgKH8gh49"
      },
      "source": [
        "**Übung 4.2a**: Schreibe eine Lambda-Funktion, die prüft, ob eine Zahl positiv, negativ oder Null ist und entsprechend \"positiv\", \"negativ\" oder \"Null\" zurückgibt. Teste sie mit verschiedenen Zahlen."
      ]
    },
    {
      "cell_type": "code",
      "execution_count": null,
      "metadata": {
        "id": "zZ_kFrqJgh49",
        "outputId": "14a716c8-3a5b-4d59-ae26-37f258ed9618"
      },
      "outputs": [
        {
          "name": "stdout",
          "output_type": "stream",
          "text": [
            "Die Zahl 1 ist positiv\n",
            "Die Zahl -4 ist nicht positiv\n",
            "Die Zahl 6 ist positiv\n",
            "Die Zahl 7 ist positiv\n",
            "Die Zahl 0 ist nicht positiv\n"
          ]
        }
      ],
      "source": [
        "number_state = lambda x: 'positiv' if x > 0 else 'nicht positiv'\n",
        "# number_state = lambda x: 'positiv' if x > 0 else ('negativ' if x < 0 else 'Null')\n",
        "test_list_of_numbers = [1,-4,6,7,-0]\n",
        "for number in test_list_of_numbers:\n",
        "    print(f\"Die Zahl {number} ist {number_state(number)}\")"
      ]
    },
    {
      "cell_type": "markdown",
      "metadata": {
        "id": "IbcK80M3gh4-"
      },
      "source": [
        "**Übung 4.2b**: Gegeben sei eine Liste von Wörtern. Sortiere die Liste nach:\n",
        "1. Der Länge der Wörter\n",
        "2. Der Anzahl der Vokale in jedem Wort\n",
        "Verwende Lambda-Funktionen für beide Sortierungen."
      ]
    },
    {
      "cell_type": "code",
      "execution_count": null,
      "metadata": {
        "id": "xCZzgvWIgh4-"
      },
      "outputs": [],
      "source": [
        "# Liste von Wörtern\n",
        "words = [\"Python\", \"Programmierung\", \"Funktion\", \"Lambda\", \"Entwicklung\", \"Code\", \"Algorithmus\", \"Datenstruktur\"]\n",
        "\n",
        "# 1. Nach Länge der Wörter sortieren\n",
        "sorted_by_length = sorted(words, key=lambda word: len(word))\n",
        "print(\"Nach Länge sortiert:\", sorted_by_length)\n",
        "\n",
        "# Hilfsfunktion: Zählt Vokale in einem Wort\n",
        "def count_vowels(word):\n",
        "    vowels = \"aeiouAEIOU\"\n",
        "    return sum(1 for char in word if char in vowels)\n",
        "\n",
        "# 2. Nach Anzahl der Vokale sortieren (mit Lambda)\n",
        "sorted_by_vowels = sorted(words, key=lambda word: sum(1 for char in word if char.lower() in \"aeiou\"))\n",
        "print(\"Nach Anzahl der Vokale sortiert:\", sorted_by_vowels)\n",
        "\n",
        "# Ausgabe der Vokalzahlen zur Überprüfung\n",
        "for word in sorted_by_vowels:\n",
        "    vowel_count = sum(1 for char in word if char.lower() in \"aeiou\")\n",
        "    print(f\"'{word}' hat {vowel_count} Vokale\")"
      ]
    },
    {
      "cell_type": "markdown",
      "metadata": {
        "id": "O2XgB84sgh4-"
      },
      "source": [
        "## 5. Gültigkeitsbereich (Scope)\n",
        "\n",
        "Der Gültigkeitsbereich oder \"Scope\" bestimmt, wo eine Variable sichtbar und zugänglich ist. Ein Verständnis der Scope-Regeln in Python ist entscheidend, um Fehler zu vermeiden und effizienten Code zu schreiben.\n",
        "\n",
        "### 💡 Leitfrage:\n",
        "Warum ist es wichtig, den Gültigkeitsbereich von Variablen zu verstehen, und welche Probleme kann ein falsches Verständnis verursachen?\n",
        "\n",
        "### 5.1 Lokale und globale Variablen"
      ]
    },
    {
      "cell_type": "code",
      "execution_count": 3,
      "metadata": {
        "colab": {
          "base_uri": "https://localhost:8080/"
        },
        "id": "qw3enoB5gh4_",
        "outputId": "3ca852f7-d91d-42f6-dd87-92efbf00361d"
      },
      "outputs": [
        {
          "output_type": "stream",
          "name": "stdout",
          "text": [
            "Vor den Funktionsaufrufen: Ich bin global\n",
            "In function1: Ich bin global\n",
            "In function2: Ich bin lokal in function2\n",
            "In function3: Ich bin eine lokale Variable mit demselben Namen wie die globale\n",
            "Nach function3: Ich bin global\n",
            "Nach function4: Ich wurde in function4 geändert\n"
          ]
        }
      ],
      "source": [
        "# Globale Variable\n",
        "global_var = \"Ich bin global\"\n",
        "\n",
        "def function1():\n",
        "    \"\"\"Zeigt, wie auf globale Variablen zugegriffen wird.\"\"\"\n",
        "    print(f\"In function1: {global_var}\")  # Zugriff auf globale Variable\n",
        "\n",
        "def function2():\n",
        "    \"\"\"Zeigt, wie lokale Variablen funktionieren.\"\"\"\n",
        "    local_var = \"Ich bin lokal in function2\"  # Lokale Variable\n",
        "    print(f\"In function2: {local_var}\")\n",
        "\n",
        "def function3():\n",
        "    \"\"\"Zeigt den Unterschied zwischen lokalen und globalen Variablen mit demselben Namen.\"\"\"\n",
        "    global_var = \"Ich bin eine lokale Variable mit demselben Namen wie die globale\"  # Lokale Variable!\n",
        "    print(f\"In function3: {global_var}\")  # Zeigt die lokale Version\n",
        "\n",
        "def function4():\n",
        "    \"\"\"Zeigt, wie eine globale Variable in einer Funktion geändert werden kann.\"\"\"\n",
        "    global global_var  # Sagt Python, dass wir die globale Variable ändern wollen\n",
        "    global_var = \"Ich wurde in function4 geändert\"\n",
        "\n",
        "# Funktionen aufrufen und Ergebnisse überprüfen\n",
        "print(f\"Vor den Funktionsaufrufen: {global_var}\")\n",
        "\n",
        "function1()\n",
        "function2()\n",
        "# print(local_var)  # Dies würde einen Fehler verursachen, da local_var nur in function2 existiert\n",
        "\n",
        "function3()\n",
        "print(f\"Nach function3: {global_var}\")  # Die globale Variable ist unverändert\n",
        "\n",
        "function4()\n",
        "print(f\"Nach function4: {global_var}\")  # Die globale Variable wurde geändert"
      ]
    },
    {
      "cell_type": "markdown",
      "metadata": {
        "id": "tTxbrHVZgh4_"
      },
      "source": [
        "### 5.2 Namensräume und LEGB-Regel\n",
        "\n",
        "Python folgt der sogenannten LEGB-Regel, um zu bestimmen, in welcher Reihenfolge nach Variablennamen gesucht wird:\n",
        "- **L**ocal (lokal): Variablen innerhalb der aktuellen Funktion\n",
        "- **E**nclosing (umschließend): Variablen in umschließenden Funktionen (bei verschachtelten Funktionen)\n",
        "- **G**lobal (global): Variablen auf Modulebene\n",
        "- **B**uilt-in (eingebaut): Pythons eingebaute Namen (wie print, len, etc.)"
      ]
    },
    {
      "cell_type": "code",
      "execution_count": 4,
      "metadata": {
        "colab": {
          "base_uri": "https://localhost:8080/"
        },
        "id": "gKEWoS4ogh4_",
        "outputId": "64a1a2bf-b97e-46df-a27a-9f01db6cde39"
      },
      "outputs": [
        {
          "output_type": "stream",
          "name": "stdout",
          "text": [
            "Inner: inner x\n",
            "Outer: outer x\n",
            "Global: global x\n",
            "Zähler vor Aufruf: 0\n",
            "Zähler innerhalb inner_function2: 1\n",
            "Zähler nach Aufruf: 1\n",
            "Die Länge von 'Hallo' ist: 5\n"
          ]
        }
      ],
      "source": [
        "# Beispiel für die LEGB-Regel\n",
        "\n",
        "x = \"global x\"  # Global\n",
        "\n",
        "def outer_function():\n",
        "    \"\"\"Äußere Funktion zur Demonstration von Namensräumen.\"\"\"\n",
        "    x = \"outer x\"  # Enclosing (umschließend)\n",
        "\n",
        "    def inner_function():\n",
        "        \"\"\"Innere Funktion zur Demonstration von Namensräumen.\"\"\"\n",
        "        x = \"inner x\"  # Local (lokal)\n",
        "        print(f\"Inner: {x}\")\n",
        "\n",
        "    inner_function()\n",
        "    print(f\"Outer: {x}\")\n",
        "\n",
        "outer_function()\n",
        "print(f\"Global: {x}\")\n",
        "\n",
        "# Beispiel mit nonlocal\n",
        "def outer_function2():\n",
        "    \"\"\"Demonstration der nonlocal-Anweisung.\"\"\"\n",
        "    counter = 0\n",
        "\n",
        "    def inner_function2():\n",
        "        nonlocal counter  # Zeigt, dass wir die Variable aus dem umschließenden Scope verwenden wollen\n",
        "        counter += 1\n",
        "        print(f\"Zähler innerhalb inner_function2: {counter}\")\n",
        "\n",
        "    print(f\"Zähler vor Aufruf: {counter}\")\n",
        "    inner_function2()\n",
        "    print(f\"Zähler nach Aufruf: {counter}\")  # Der Wert wurde auch für den äußeren Scope geändert\n",
        "\n",
        "outer_function2()\n",
        "\n",
        "# Beispiel mit eingebauten Namen (built-in)\n",
        "def built_in_example():\n",
        "    \"\"\"Zeigt, wie eingebaute Funktionen überschrieben werden können.\"\"\"\n",
        "    # Dies ist nicht empfohlen, sondern dient nur der Demonstration!\n",
        "    # len = 100  # Überschreibt die eingebaute len()-Funktion im lokalen Scope\n",
        "    print(f\"Die Länge von 'Hallo' ist: {len('Hallo')}\")  # Verwendet die eingebaute len()-Funktion\n",
        "\n",
        "built_in_example()"
      ]
    },
    {
      "cell_type": "markdown",
      "metadata": {
        "id": "p0Lk-jOxgh4_"
      },
      "source": [
        "**Übung 5.2a**: Schreibe eine Funktion `counter_function`, die eine verschachtelte Funktion enthält. Die äußere Funktion soll einen Zähler initialisieren und die innere Funktion soll den Zähler erhöhen und seinen Wert zurückgeben. Die äußere Funktion soll die innere Funktion zurückgeben. Teste, ob du mehrere Zähler unabhängig voneinander erstellen kannst."
      ]
    },
    {
      "cell_type": "code",
      "execution_count": 5,
      "metadata": {
        "colab": {
          "base_uri": "https://localhost:8080/"
        },
        "id": "QmKWFiDqgh5J",
        "outputId": "88549fb3-b8a3-4d0a-c591-a7ef731fb359"
      },
      "outputs": [
        {
          "output_type": "stream",
          "name": "stdout",
          "text": [
            "1\n",
            "2\n",
            "1\n",
            "3\n",
            "2\n"
          ]
        }
      ],
      "source": [
        "# Deine Lösung hier\n",
        "def counter_function():\n",
        "    count = 0\n",
        "\n",
        "    def inner():\n",
        "        nonlocal count\n",
        "        count += 1\n",
        "        return count\n",
        "\n",
        "    return inner\n",
        "\n",
        "counter1 = counter_function()\n",
        "counter2 = counter_function()\n",
        "\n",
        "print(counter1())\n",
        "print(counter1())\n",
        "print(counter2())\n",
        "print(counter1())\n",
        "print(counter2())"
      ]
    },
    {
      "cell_type": "markdown",
      "metadata": {
        "id": "8UwS4LPDgh5K"
      },
      "source": [
        "**Übung 5.2b**: Schreibe eine Funktion, die eine globale Liste um ein Element erweitert. Schreibe dann eine weitere Funktion, die eine neue lokale Liste erstellt und ein Element hinzufügt. Demonstriere den Unterschied im Verhalten.\n"
      ]
    },
    {
      "cell_type": "code",
      "execution_count": 6,
      "metadata": {
        "colab": {
          "base_uri": "https://localhost:8080/"
        },
        "id": "QoB7Xk6Lgh5K",
        "outputId": "9470f413-b1bb-46b1-fd8b-03968336a4cd"
      },
      "outputs": [
        {
          "output_type": "stream",
          "name": "stdout",
          "text": [
            "Globale Liste nach Hinzufügen: ['Apfel', 'Banane']\n",
            "Lokale Liste in Funktion: ['Kirsche']\n",
            "Globale Liste nach Aufruf der lokalen Funktion: ['Apfel', 'Banane']\n"
          ]
        }
      ],
      "source": [
        "# Deine Lösung hier\n",
        "my_global_list = []\n",
        "\n",
        "def add_to_global_list(element):\n",
        "    my_global_list.append(element)\n",
        "\n",
        "def create_local_list_and_add(element):\n",
        "    my_local_list = []\n",
        "    my_local_list.append(element)\n",
        "    print(\"Lokale Liste in Funktion:\", my_local_list)\n",
        "\n",
        "add_to_global_list(\"Apfel\")\n",
        "add_to_global_list(\"Banane\")\n",
        "\n",
        "print(\"Globale Liste nach Hinzufügen:\", my_global_list)\n",
        "\n",
        "create_local_list_and_add(\"Kirsche\")\n",
        "\n",
        "print(\"Globale Liste nach Aufruf der lokalen Funktion:\", my_global_list)"
      ]
    },
    {
      "cell_type": "markdown",
      "metadata": {
        "id": "JAK7wqmrgh5K"
      },
      "source": [
        "## 6. Module und Pakete\n",
        "\n",
        "Module und Pakete erlauben es, Code zu organisieren und wiederzuverwenden. Ein Modul ist eine Python-Datei, die Definitionen und Anweisungen enthält. Ein Paket ist ein Verzeichnis, das mehrere Module enthält.\n",
        "\n",
        "### 💡 Leitfrage:\n",
        "Wie verbessern Module und Pakete die Organisation, Wartung und Wiederverwendbarkeit von Code?\n",
        "### Meine Antwort:\n",
        "Module erlauben es, Code in logische Einheiten aufzuteilen.\n",
        "### 6.1 Importieren von Modulen\n",
        "\n",
        "Python hat eine umfangreiche Standardbibliothek, aus der wir verschiedene Module importieren können."
      ]
    },
    {
      "cell_type": "code",
      "execution_count": 7,
      "metadata": {
        "colab": {
          "base_uri": "https://localhost:8080/"
        },
        "id": "UJXS-F61gh5L",
        "outputId": "b7416586-5596-40ac-8ee9-a7543e13f0f1"
      },
      "outputs": [
        {
          "output_type": "stream",
          "name": "stdout",
          "text": [
            "Pi ist ungefähr 3.141592653589793\n",
            "Die Quadratwurzel von 16 ist 4.0\n",
            "Sinus von 45 Grad: 0.7071\n",
            "Kosinus von 45 Grad: 0.7071\n",
            "Aktuelle Zeit: 2025-04-10 07:51:44.697045\n",
            "Zufallszahl zwischen 1 und 10: 2\n"
          ]
        }
      ],
      "source": [
        "# Grundlegende Importe\n",
        "import math  # Importiert das gesamte math-Modul\n",
        "\n",
        "# Modul verwenden\n",
        "print(f\"Pi ist ungefähr {math.pi}\")\n",
        "print(f\"Die Quadratwurzel von 16 ist {math.sqrt(16)}\")\n",
        "\n",
        "# Spezifische Funktionen oder Objekte importieren\n",
        "from math import sin, cos, radians\n",
        "\n",
        "# Direkte Verwendung ohne Modulpräfix\n",
        "angle = radians(45)  # Konvertiert 45 Grad in Bogenmaß\n",
        "print(f\"Sinus von 45 Grad: {sin(angle):.4f}\")\n",
        "print(f\"Kosinus von 45 Grad: {cos(angle):.4f}\")\n",
        "\n",
        "# Importieren mit Alias (Kurzname)\n",
        "import datetime as dt\n",
        "\n",
        "current_time = dt.datetime.now()\n",
        "print(f\"Aktuelle Zeit: {current_time}\")\n",
        "\n",
        "# Alles aus einem Modul importieren (wird generell nicht empfohlen)\n",
        "from random import *\n",
        "\n",
        "# Dies kann zu Namenskonflikten führen und macht den Code weniger lesbar\n",
        "print(f\"Zufallszahl zwischen 1 und 10: {randint(1, 10)}\")  # Von wo kommt randint?"
      ]
    },
    {
      "cell_type": "markdown",
      "metadata": {
        "id": "eDKPc6_Lgh5L"
      },
      "source": [
        "### 6.2 Standardbibliothek\n",
        "\n",
        "Python hat eine umfangreiche Standardbibliothek, die viele nützliche Module für verschiedene Aufgaben enthält."
      ]
    },
    {
      "cell_type": "code",
      "execution_count": 8,
      "metadata": {
        "colab": {
          "base_uri": "https://localhost:8080/"
        },
        "id": "SY7qkF8xgh5L",
        "outputId": "c6acc1c0-a030-4fbb-a775-b2e9ebb6ca39"
      },
      "outputs": [
        {
          "output_type": "stream",
          "name": "stdout",
          "text": [
            "Zufallszahl: 18\n",
            "Zufällig ausgewählte Frucht: Dattel\n",
            "Gemischte Obstliste: ['Kirsche', 'Erdbeere', 'Apfel', 'Banane', 'Dattel']\n",
            "Aktuelles Datum und Uhrzeit: 2025-04-10 07:53:16.422097\n",
            "Geburtsdatum: 1990-05-15\n",
            "Tage seit Geburt: 12749\n",
            "Countdown:\n",
            "3\n",
            "2\n",
            "1\n",
            "Start!\n",
            "Python-Version: 3.11.11 (main, Dec  4 2024, 08:55:07) [GCC 11.4.0]\n",
            "Modul-Suchpfade: ['/content', '/env/python', '/usr/lib/python311.zip', '/usr/lib/python3.11', '/usr/lib/python3.11/lib-dynload', '', '/usr/local/lib/python3.11/dist-packages', '/usr/lib/python3/dist-packages', '/usr/local/lib/python3.11/dist-packages/IPython/extensions', '/root/.ipython']\n",
            "Aktuelles Verzeichnis: /content\n",
            "Dateien im aktuellen Verzeichnis:\n",
            "1. .config\n",
            "2. sample_data\n"
          ]
        }
      ],
      "source": [
        "# Beispiel 1: random-Modul für Zufallszahlen\n",
        "import random\n",
        "\n",
        "# Zufallszahl zwischen 1 und 100\n",
        "random_number = random.randint(1, 100)\n",
        "print(f\"Zufallszahl: {random_number}\")\n",
        "\n",
        "# Zufällige Auswahl aus einer Liste\n",
        "fruits = [\"Apfel\", \"Banane\", \"Kirsche\", \"Dattel\", \"Erdbeere\"]\n",
        "random_fruit = random.choice(fruits)\n",
        "print(f\"Zufällig ausgewählte Frucht: {random_fruit}\")\n",
        "\n",
        "# Liste mischen\n",
        "random.shuffle(fruits)\n",
        "print(f\"Gemischte Obstliste: {fruits}\")\n",
        "\n",
        "# Beispiel 2: datetime-Modul für Datums- und Zeitoperationen\n",
        "import datetime\n",
        "\n",
        "# Aktuelles Datum und Uhrzeit\n",
        "now = datetime.datetime.now()\n",
        "print(f\"Aktuelles Datum und Uhrzeit: {now}\")\n",
        "\n",
        "# Spezifisches Datum erstellen\n",
        "birthday = datetime.date(1990, 5, 15)\n",
        "print(f\"Geburtsdatum: {birthday}\")\n",
        "\n",
        "# Zeitdifferenz berechnen\n",
        "days_alive = (datetime.date.today() - birthday).days\n",
        "print(f\"Tage seit Geburt: {days_alive}\")\n",
        "\n",
        "# Beispiel 3: time-Modul für Zeitfunktionen\n",
        "import time\n",
        "\n",
        "print(\"Countdown:\")\n",
        "for i in range(3, 0, -1):\n",
        "    print(i)\n",
        "    time.sleep(1)  # Pausiert das Programm für 1 Sekunde\n",
        "print(\"Start!\")\n",
        "\n",
        "# Beispiel 4: sys-Modul für Systemfunktionen\n",
        "import sys\n",
        "\n",
        "# Python-Version anzeigen\n",
        "print(f\"Python-Version: {sys.version}\")\n",
        "\n",
        "# Pfad zu Modulen anzeigen\n",
        "print(f\"Modul-Suchpfade: {sys.path}\")\n",
        "\n",
        "# Beispiel 5: os-Modul für Betriebssystemfunktionen\n",
        "import os\n",
        "\n",
        "# Aktuelles Arbeitsverzeichnis anzeigen\n",
        "print(f\"Aktuelles Verzeichnis: {os.getcwd()}\")\n",
        "\n",
        "# Dateien im aktuellen Verzeichnis auflisten\n",
        "print(\"Dateien im aktuellen Verzeichnis:\")\n",
        "for i, item in enumerate(os.listdir(\".\")[:5], 1):  # Begrenzt auf die ersten 5 Elemente\n",
        "    print(f\"{i}. {item}\")"
      ]
    },
    {
      "cell_type": "markdown",
      "metadata": {
        "id": "Rkxl7m6Bgh5M"
      },
      "source": [
        "**Übung 6.2a**: Schreibe ein Programm, das das `random`-Modul verwendet, um eine einfache Zahlenrateaufgabe zu erstellen. Das Programm soll:\n",
        "1. Eine zufällige Zahl zwischen 1 und 100 generieren\n",
        "2. Den Benutzer nach einer Schätzung fragen\n",
        "3. Hinweise geben, ob die Schätzung zu hoch oder zu niedrig ist\n",
        "4. Weitermachen, bis der Benutzer die richtige Zahl erraten hat"
      ]
    },
    {
      "cell_type": "code",
      "execution_count": 10,
      "metadata": {
        "colab": {
          "base_uri": "https://localhost:8080/"
        },
        "id": "vOujc2aZgh5M",
        "outputId": "e923c624-1f2d-4a26-ccec-aff38f213582"
      },
      "outputs": [
        {
          "output_type": "stream",
          "name": "stdout",
          "text": [
            "Willkommen beim Zahlenratespiel!\n",
            "ich habe mir eine Zahl zwischen 1 und 100 ausgesucht.\n",
            "Dein Tipp: 50\n",
            "Zu niedrig!\n",
            "Dein Tipp: 60\n",
            "Zu niedrig!\n",
            "Dein Tipp: 70\n",
            "Zu niedrig!\n",
            "Dein Tipp: 80\n",
            "Zu niedrig!\n",
            "Dein Tipp: 90\n",
            "Zu hoch!\n",
            "Dein Tipp: 85\n",
            "Richtig! Du hast die zahl in 6 Versuchen erraten.\n"
          ]
        }
      ],
      "source": [
        "# Deine Lösung hier\n",
        "import random\n",
        "\n",
        "def zahlenraten():\n",
        "    geheimzahl = random.randint(1, 100)\n",
        "    versuche = 0\n",
        "\n",
        "    print(\"Willkommen beim Zahlenratespiel!\")\n",
        "    print(\"ich habe mir eine Zahl zwischen 1 und 100 ausgesucht.\")\n",
        "\n",
        "    while True:\n",
        "        try:\n",
        "            tipp = int(input(\"Dein Tipp: \"))\n",
        "            versuche += 1\n",
        "\n",
        "            if tipp < geheimzahl:\n",
        "                print(\"Zu niedrig!\")\n",
        "\n",
        "            elif tipp > geheimzahl:\n",
        "              print(\"Zu hoch!\")\n",
        "\n",
        "            else:\n",
        "              print(f\"Richtig! Du hast die zahl in {versuche} Versuchen erraten.\")\n",
        "              break\n",
        "\n",
        "        except ValueError:\n",
        "            print(\"Bitte gib eine gültige zahl ein.\")\n",
        "\n",
        "zahlenraten()"
      ]
    },
    {
      "cell_type": "markdown",
      "metadata": {
        "id": "m33OZqQqgh5N"
      },
      "source": [
        "**Übung 6.2b**: Erstelle ein Programm, das das `datetime`-Modul verwendet, um das Alter einer Person in Jahren, Monaten und Tagen zu berechnen. Das Programm soll das Geburtsdatum als Eingabe annehmen und das genaue Alter ausgeben."
      ]
    },
    {
      "cell_type": "code",
      "execution_count": 15,
      "metadata": {
        "colab": {
          "base_uri": "https://localhost:8080/"
        },
        "id": "Ieov7Xvkgh5N",
        "outputId": "e8f8119c-e547-4bb5-c8e7-28b2184b6c22"
      },
      "outputs": [
        {
          "output_type": "stream",
          "name": "stdout",
          "text": [
            "Gib dein Geburtsdatum ein (TT.MM.JJJJ): 09.08.1988\n",
            "Du bist 36 Jahre, 8 Monate und 1 Tage alt.\n"
          ]
        }
      ],
      "source": [
        "# Deine Lösung hier\n",
        "from datetime import datetime\n",
        "from dateutil.relativedelta import relativedelta\n",
        "\n",
        "def berechne_alter():\n",
        "    geburtsdatum_str = input(\"Gib dein Geburtsdatum ein (TT.MM.JJJJ): \")\n",
        "\n",
        "    try:\n",
        "        geburtsdatum = datetime.strptime(geburtsdatum_str, \"%d.%m.%Y\").date()\n",
        "        heute = datetime.today().date()\n",
        "\n",
        "        if geburtsdatum > heute:\n",
        "            print(\"Das datum bedeutet das du noch nicht geboren bist.\")\n",
        "            return\n",
        "\n",
        "        differenz = relativedelta(heute, geburtsdatum)\n",
        "\n",
        "        print(f\"Du bist {differenz.years} Jahre, {differenz.months} Monate und {differenz.days} Tage alt.\")\n",
        "\n",
        "    except ValueError:\n",
        "        print(\"Ungültiges Format. Bitte TT.MM.JJJJ (z.b. 10.04.2025)\")\n",
        "\n",
        "berechne_alter()"
      ]
    },
    {
      "cell_type": "markdown",
      "metadata": {
        "id": "6lmUUb46gh5N"
      },
      "source": [
        "## 7. Ausnahmebehandlung\n",
        "\n",
        "Ausnahmen (Exceptions) sind Ereignisse, die während der Ausführung eines Programms auftreten und den normalen Programmfluss unterbrechen. Python bietet Mechanismen, um Ausnahmen zu behandeln und ordnungsgemäß darauf zu reagieren.\n",
        "\n",
        "### 💡 Leitfrage:\n",
        "Warum ist es wichtig, potenzielle Fehler in Programmen zu behandeln, und wie hilft uns die Ausnahmebehandlung dabei?\n",
        "\n",
        "### 7.1 try-except Blöcke"
      ]
    },
    {
      "cell_type": "code",
      "execution_count": 17,
      "metadata": {
        "colab": {
          "base_uri": "https://localhost:8080/"
        },
        "id": "az1e8dEvgh5N",
        "outputId": "0fca0534-9463-4b32-9766-05a07859ca5f"
      },
      "outputs": [
        {
          "output_type": "stream",
          "name": "stdout",
          "text": [
            "Fehler: Division durch Null ist nicht erlaubt!\n",
            "Bitte gib eine Zahl ein: 10\n",
            "100 geteilt durch 10 ist 10.0\n",
            "Bitte gib eine positive Zahl ein: 1\n",
            "Sehr gut! Du hast 1 eingegeben.\n",
            "Fehler: Die Datei wurde nicht gefunden.\n",
            "Dieser Block wird immer ausgeführt.\n"
          ]
        }
      ],
      "source": [
        "# Grundlegende try-except Struktur\n",
        "try:\n",
        "    # Code, der Fehler verursachen könnte\n",
        "    result = 10 / 0\n",
        "    print(f\"Das Ergebnis ist: {result}\")\n",
        "except ZeroDivisionError:\n",
        "    # Behandelt den spezifischen Fehlertyp\n",
        "    print(\"Fehler: Division durch Null ist nicht erlaubt!\")\n",
        "\n",
        "# Mehrere except-Blöcke für verschiedene Ausnahmen\n",
        "try:\n",
        "    # Verschiedene potenzielle Fehlerquellen\n",
        "    num = int(input(\"Bitte gib eine Zahl ein: \"))\n",
        "    result = 100 / num\n",
        "    print(f\"100 geteilt durch {num} ist {result}\")\n",
        "except ValueError:\n",
        "    print(\"Fehler: Das war keine gültige Zahl!\")\n",
        "except ZeroDivisionError:\n",
        "    print(\"Fehler: Division durch Null ist nicht erlaubt!\")\n",
        "except Exception as e:\n",
        "    # Fängt alle anderen Ausnahmen ab\n",
        "    print(f\"Ein unerwarteter Fehler ist aufgetreten: {e}\")\n",
        "\n",
        "# try-except-else Struktur\n",
        "try:\n",
        "    num = int(input(\"Bitte gib eine positive Zahl ein: \"))\n",
        "    if num < 0:\n",
        "        raise ValueError(\"Die eingegebene Zahl ist negativ!\")\n",
        "except ValueError as error:\n",
        "    print(f\"Fehler: {error}\")\n",
        "else:\n",
        "    # Wird nur ausgeführt, wenn keine Ausnahme auftritt\n",
        "    print(f\"Sehr gut! Du hast {num} eingegeben.\")\n",
        "\n",
        "# try-except-finally Struktur\n",
        "try:\n",
        "    file = open(\"example.txt\", \"r\")\n",
        "    content = file.read()\n",
        "    print(content)\n",
        "except FileNotFoundError:\n",
        "    print(\"Fehler: Die Datei wurde nicht gefunden.\")\n",
        "finally:\n",
        "    # Wird immer ausgeführt, egal ob eine Ausnahme auftritt oder nicht\n",
        "    print(\"Dieser Block wird immer ausgeführt.\")\n",
        "    # Die Datei schließen, falls sie geöffnet wurde\n",
        "    if 'file' in locals() and not file.closed:\n",
        "        file.close()\n",
        "        print(\"Datei geschlossen.\")"
      ]
    },
    {
      "cell_type": "markdown",
      "metadata": {
        "id": "yrNIeypXgh5N"
      },
      "source": [
        "### 7.2 Ausnahmetypen\n",
        "\n",
        "Python hat viele eingebaute Ausnahmetypen für verschiedene Fehlerarten:"
      ]
    },
    {
      "cell_type": "code",
      "execution_count": 18,
      "metadata": {
        "colab": {
          "base_uri": "https://localhost:8080/"
        },
        "id": "iCI23AH3gh5O",
        "outputId": "320debcc-dc9d-43bf-f826-5ef1e599cddb"
      },
      "outputs": [
        {
          "output_type": "stream",
          "name": "stdout",
          "text": [
            "Teste ZeroDivisionError...\n",
            "Gefangene Ausnahme: ZeroDivisionError: division by zero\n",
            "----------------------------------------\n",
            "Teste TypeError...\n",
            "Gefangene Ausnahme: TypeError: can only concatenate str (not \"int\") to str\n",
            "----------------------------------------\n",
            "Teste ValueError...\n",
            "Gefangene Ausnahme: ValueError: invalid literal for int() with base 10: 'nicht_numerisch'\n",
            "----------------------------------------\n",
            "Teste NameError...\n",
            "Gefangene Ausnahme: NameError: name 'undefined_variable' is not defined\n",
            "----------------------------------------\n",
            "Teste IndexError...\n",
            "Gefangene Ausnahme: IndexError: list index out of range\n",
            "----------------------------------------\n",
            "Teste KeyError...\n",
            "Gefangene Ausnahme: KeyError: 'b'\n",
            "----------------------------------------\n",
            "Teste FileNotFoundError...\n",
            "Gefangene Ausnahme: FileNotFoundError: [Errno 2] No such file or directory: 'nicht_existent.txt'\n",
            "----------------------------------------\n",
            "Teste ImportError...\n",
            "Gefangene Ausnahme: ModuleNotFoundError: No module named 'nicht_existierendes_modul'\n",
            "----------------------------------------\n",
            "Teste AttributeError...\n",
            "Gefangene Ausnahme: AttributeError: 'str' object has no attribute 'nicht_existierende_methode'\n",
            "----------------------------------------\n"
          ]
        }
      ],
      "source": [
        "# Beispiele für häufige Ausnahmetypen\n",
        "exceptions_to_test = [\n",
        "    (\"ZeroDivisionError\", lambda: 1/0),\n",
        "    (\"TypeError\", lambda: \"text\" + 5),\n",
        "    (\"ValueError\", lambda: int(\"nicht_numerisch\")),\n",
        "    (\"NameError\", lambda: undefined_variable),  # Variable nicht definiert\n",
        "    (\"IndexError\", lambda: [1, 2, 3][10]),\n",
        "    (\"KeyError\", lambda: {\"a\": 1}[\"b\"]),\n",
        "    (\"FileNotFoundError\", lambda: open(\"nicht_existent.txt\")),\n",
        "    (\"ImportError\", lambda: __import__(\"nicht_existierendes_modul\")),\n",
        "    (\"AttributeError\", lambda: \"string\".nicht_existierende_methode())\n",
        "]\n",
        "\n",
        "# Testen der Ausnahmen\n",
        "for exception_name, exception_code in exceptions_to_test:\n",
        "    try:\n",
        "        print(f\"Teste {exception_name}...\")\n",
        "        exception_code()\n",
        "        print(\"Kein Fehler aufgetreten.\")\n",
        "    except Exception as e:\n",
        "        print(f\"Gefangene Ausnahme: {type(e).__name__}: {e}\")\n",
        "    print(\"-\" * 40)"
      ]
    },
    {
      "cell_type": "markdown",
      "metadata": {
        "id": "GBKauP1Hgh5O"
      },
      "source": [
        "### 7.3 Eigene Ausnahmen definieren\n",
        "\n",
        "Du kannst auch eigene Ausnahmen definieren, um spezifische Fehler in deinen Programmen zu behandeln:"
      ]
    },
    {
      "cell_type": "code",
      "execution_count": 19,
      "metadata": {
        "colab": {
          "base_uri": "https://localhost:8080/"
        },
        "id": "ymprLuttgh5O",
        "outputId": "1145b35b-00c1-433b-ee2d-1a39180ef05e"
      },
      "outputs": [
        {
          "output_type": "stream",
          "name": "stdout",
          "text": [
            "Fehler: Kann keine Quadratwurzel aus -5 berechnen.\n",
            "E-Mail ist gültig.\n",
            "Fehler: Ungültige E-Mail-Adresse: ungültige_email\n"
          ]
        }
      ],
      "source": [
        "# Eigene Ausnahmeklasse definieren\n",
        "class NegativeNumberError(Exception):\n",
        "    \"\"\"Wird ausgelöst, wenn eine Zahl negativ ist, aber positiv sein sollte.\"\"\"\n",
        "    pass\n",
        "\n",
        "class InvalidEmailError(Exception):\n",
        "    \"\"\"Wird ausgelöst, wenn eine E-Mail-Adresse ungültig ist.\"\"\"\n",
        "    def __init__(self, email, message=\"Ungültige E-Mail-Adresse\"):\n",
        "        self.email = email\n",
        "        self.message = f\"{message}: {email}\"\n",
        "        super().__init__(self.message)\n",
        "\n",
        "# Verwendung der eigenen Ausnahmen\n",
        "def calculate_square_root(number):\n",
        "    \"\"\"Berechnet die Quadratwurzel einer Zahl.\"\"\"\n",
        "    if number < 0:\n",
        "        raise NegativeNumberError(f\"Kann keine Quadratwurzel aus {number} berechnen.\")\n",
        "    return number ** 0.5\n",
        "\n",
        "def validate_email(email):\n",
        "    \"\"\"Überprüft, ob eine E-Mail-Adresse gültig ist (vereinfachte Prüfung).\"\"\"\n",
        "    if \"@\" not in email or \".\" not in email:\n",
        "        raise InvalidEmailError(email)\n",
        "    return True\n",
        "\n",
        "# Testen der eigenen Ausnahmen\n",
        "try:\n",
        "    result = calculate_square_root(-5)\n",
        "except NegativeNumberError as e:\n",
        "    print(f\"Fehler: {e}\")\n",
        "\n",
        "try:\n",
        "    validate_email(\"benutzer@example.com\")\n",
        "    print(\"E-Mail ist gültig.\")\n",
        "\n",
        "    validate_email(\"ungültige_email\")\n",
        "    print(\"Diese Zeile wird nicht erreicht.\")\n",
        "except InvalidEmailError as e:\n",
        "    print(f\"Fehler: {e}\")"
      ]
    },
    {
      "cell_type": "markdown",
      "metadata": {
        "id": "sZpMubStgh5P"
      },
      "source": [
        "**Übung 7.3a**: Schreibe eine Funktion `divide_numbers`, die zwei Zahlen teilt. Die Funktion soll angemessene Ausnahmebehandlung für mögliche Fehler implementieren (z.B. Division durch Null, ungültige Eingaben)."
      ]
    },
    {
      "cell_type": "code",
      "execution_count": 24,
      "metadata": {
        "colab": {
          "base_uri": "https://localhost:8080/"
        },
        "id": "9Gsd3VZ0gh5P",
        "outputId": "1d4f984e-3ca1-44fe-ded9-60bb503d34c0"
      },
      "outputs": [
        {
          "output_type": "stream",
          "name": "stdout",
          "text": [
            "Gib die erste Zahl ein: 10\n",
            "Gib die zweite Zahl ein: Nice\n",
            "Ungültige Eingabe. Bitte gib gültige Zahlen ein.\n",
            "Vorgang abgeschlossen.\n"
          ]
        }
      ],
      "source": [
        "# Deine Lösung hier\n",
        "def divide_numbers():\n",
        "    try:\n",
        "        zahl1 = float(input(\"Gib die erste Zahl ein: \"))\n",
        "        zahl2 = float(input(\"Gib die zweite Zahl ein: \"))\n",
        "\n",
        "        ergebnis = zahl1 / zahl2\n",
        "        print(f\"Ergebnis: {zahl1} ÷ {zahl2} = {ergebnis}\")\n",
        "\n",
        "    except ValueError:\n",
        "        print(f\"Ungültige Eingabe. Bitte gib gültige Zahlen ein.\")\n",
        "\n",
        "    except ZeroDivisionError:\n",
        "        print(\"Fehler: Division durch Null ist nicht möglich.\")\n",
        "\n",
        "    except Exception as e:\n",
        "        print(f\"Das ist ein unerwarteter Fehler: {e}\")\n",
        "\n",
        "    else:\n",
        "        print(\"Division erfolgreich.\")\n",
        "\n",
        "    finally:\n",
        "        print(\"Vorgang abgeschlossen.\")\n",
        "\n",
        "divide_numbers()"
      ]
    },
    {
      "cell_type": "markdown",
      "metadata": {
        "id": "hCGc0iOogh5P"
      },
      "source": [
        "0**Übung 7.3b**: Erstelle eine benutzerdefinierte Ausnahme `InvalidPasswordError` und eine Funktion `validate_password`, die prüft, ob ein Passwort den folgenden Anforderungen entspricht:\n",
        "- Mindestens 8 Zeichen lang\n",
        "- Enthält mindestens eine Ziffer\n",
        "- Enthält mindestens einen Großbuchstaben\n",
        "- Enthält mindestens ein Sonderzeichen (!, @, #, $, %, etc.)\n",
        "\n",
        "Wenn das Passwort einer der Anforderungen nicht entspricht, soll die Funktion deine benutzerdefinierte Ausnahme mit einer aussagekräftigen Fehlermeldung auslösen."
      ]
    },
    {
      "cell_type": "code",
      "execution_count": 31,
      "metadata": {
        "colab": {
          "base_uri": "https://localhost:8080/"
        },
        "id": "5rJ8n-9_gh5P",
        "outputId": "db3c1155-6fcc-442c-8391-627a2360856b"
      },
      "outputs": [
        {
          "output_type": "stream",
          "name": "stdout",
          "text": [
            "Gib ein Passwort ein: thorgroth\n",
            "Fehler: Das Passwort mus mindestens eine ziffer enthalten.\n",
            "Gib ein Passwort ein: thorgroth9888\n",
            "Fehler: Das Passwort muss mindestens einen Großbuchstaben enthalten.\n",
            "Gib ein Passwort ein: ThorGroth9888\n",
            "Fehler: Das Passwort muss mindestens ein Sonderzeichen enthalten.\n",
            "Gib ein Passwort ein: ThorGroth9888!\n",
            "Das Passwort ist gültig!\n"
          ]
        }
      ],
      "source": [
        "# Deine Lösung hier\n",
        "import re\n",
        "\n",
        "class InvalidPasswordError(Exception):\n",
        "    def _init_(self, message=\"Das Passwort erfüllt nicht die Anforderungen.\"):\n",
        "        self.message = message\n",
        "        super()._init_(self.message)\n",
        "\n",
        "def validate_password(password):\n",
        "    if len(password) < 8:\n",
        "        raise InvalidPasswordError(\"Das Passwort muss mindestens 8 Zeichen lang sein.\")\n",
        "\n",
        "    if not re.search(r\"\\d\", password):\n",
        "        raise InvalidPasswordError(\"Das Passwort mus mindestens eine ziffer enthalten.\")\n",
        "\n",
        "    if not re.search(r\"[A-Z]\", password):\n",
        "        raise InvalidPasswordError(\"Das Passwort muss mindestens einen Großbuchstaben enthalten.\")\n",
        "\n",
        "    if not re.search(r\"[!@#$%^&*(),.?\\\":{}|<>]\", password):\n",
        "        raise InvalidPasswordError(\"Das Passwort muss mindestens ein Sonderzeichen enthalten.\")\n",
        "    return True\n",
        "\n",
        "def passwort_eingabe():\n",
        "    while True:\n",
        "        try:\n",
        "            password = input(\"Gib ein Passwort ein: \")\n",
        "            if validate_password(password):\n",
        "                print(\"Das Passwort ist gültig!\")\n",
        "                break\n",
        "        except InvalidPasswordError as e:\n",
        "            print(f\"Fehler: {e}\")\n",
        "\n",
        "passwort_eingabe()"
      ]
    },
    {
      "cell_type": "markdown",
      "metadata": {
        "id": "ki-oyGf0gh5Q"
      },
      "source": [
        "## Zusammenfassung\n",
        "\n",
        "In diesem Notebook haben wir die wichtigsten Konzepte zu Funktionen, Modulen und Ausnahmebehandlung in Python kennengelernt:\n",
        "\n",
        "1. **Funktionsgrundlagen**\n",
        "   - Definition und Aufruf von Funktionen\n",
        "   - Parameter und Argumente\n",
        "   - Rückgabewerte\n",
        "\n",
        "2. **Fortgeschrittene Funktionskonzepte**\n",
        "   - Funktionen als Objekte\n",
        "   - Lambda-Funktionen\n",
        "   - Positionsparameter vs. Schlüsselwortparameter\n",
        "   - Standardwerte für Parameter\n",
        "\n",
        "3. **Gültigkeitsbereich (Scope)**\n",
        "   - Lokale und globale Variablen\n",
        "   - Namensräume und LEGB-Regel\n",
        "\n",
        "4. **Module und Pakete**\n",
        "   - Importieren von Modulen\n",
        "   - Standardbibliothek\n",
        "\n",
        "5. **Ausnahmebehandlung**\n",
        "   - try-except Blöcke\n",
        "   - Ausnahmetypen\n",
        "   - Eigene Ausnahmen definieren\n",
        "\n",
        "Diese Konzepte bilden die Grundlage für die strukturierte und modulare Programmierung in Python und sind entscheidend für die Entwicklung robuster und wartbarer Software. Für die PCEP-Prüfung ist ein gutes Verständnis dieser Themen wichtig, da sie einen wesentlichen Teil des Prüfungsstoffs abdecken.\n",
        "\n",
        "## Weiterführende Ressourcen\n",
        "\n",
        "- [Offizielle Python-Dokumentation zu Funktionen](https://docs.python.org/3/tutorial/controlflow.html#defining-functions)\n",
        "- [Offizielle Python-Dokumentation zu Modulen](https://docs.python.org/3/tutorial/modules.html)\n",
        "- [Offizielle Python-Dokumentation zu Ausnahmen](https://docs.python.org/3/tutorial/errors.html)\n",
        "- [Offizielle Python-Dokumentation zu Ein-/Ausgabe](https://docs.python.org/3/tutorial/inputoutput.html)\n",
        "- [PCEP – Certified Entry-Level Python Programmer](https://pythoninstitute.org/certification/pcep-certification-entry-level/)\n",
        "- [Python for Everybody - Coursera-Kurs](https://www.coursera.org/specializations/python)\n",
        "- [Automate the Boring Stuff with Python](https://automatetheboringstuff.com/)"
      ]
    }
  ],
  "metadata": {
    "kernelspec": {
      "display_name": "Python 3",
      "language": "python",
      "name": "python3"
    },
    "language_info": {
      "codemirror_mode": {
        "name": "ipython",
        "version": 3
      },
      "file_extension": ".py",
      "mimetype": "text/x-python",
      "name": "python",
      "nbconvert_exporter": "python",
      "pygments_lexer": "ipython3",
      "version": "3.11.11"
    },
    "colab": {
      "provenance": [],
      "include_colab_link": true
    }
  },
  "nbformat": 4,
  "nbformat_minor": 0
}