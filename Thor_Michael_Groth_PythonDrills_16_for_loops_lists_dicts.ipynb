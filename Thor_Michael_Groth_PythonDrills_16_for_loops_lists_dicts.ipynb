{
  "cells": [
    {
      "cell_type": "markdown",
      "metadata": {
        "id": "view-in-github",
        "colab_type": "text"
      },
      "source": [
        "<a href=\"https://colab.research.google.com/github/ThorGroth/D-D/blob/master/Thor_Michael_Groth_PythonDrills_16_for_loops_lists_dicts.ipynb\" target=\"_parent\"><img src=\"https://colab.research.google.com/assets/colab-badge.svg\" alt=\"Open In Colab\"/></a>"
      ]
    },
    {
      "cell_type": "markdown",
      "id": "061dcb9f",
      "metadata": {
        "id": "061dcb9f"
      },
      "source": [
        "## Aufgabe 1: Liste iterieren"
      ]
    },
    {
      "cell_type": "markdown",
      "id": "7b1e3a1c",
      "metadata": {
        "id": "7b1e3a1c"
      },
      "source": [
        "Ergänze den Code, um alle Elemente in der Liste `früchte` auszugeben."
      ]
    },
    {
      "cell_type": "code",
      "execution_count": 1,
      "id": "6fd250e6",
      "metadata": {
        "id": "6fd250e6",
        "colab": {
          "base_uri": "https://localhost:8080/"
        },
        "outputId": "0ecb2313-35a6-4ca9-b0da-15c1f82228cf"
      },
      "outputs": [
        {
          "output_type": "stream",
          "name": "stdout",
          "text": [
            "Apfel\n",
            "Banane\n",
            "Kirsche\n",
            "Mango\n"
          ]
        }
      ],
      "source": [
        "fruechte = [\"Apfel\", \"Banane\", \"Kirsche\", \"Mango\"]\n",
        "for frucht in fruechte:\n",
        "    print(frucht)"
      ]
    },
    {
      "cell_type": "markdown",
      "id": "503bd2ae",
      "metadata": {
        "id": "503bd2ae"
      },
      "source": [
        "## Aufgabe 2: Wortlängen ausgeben"
      ]
    },
    {
      "cell_type": "markdown",
      "id": "f2cebc8e",
      "metadata": {
        "id": "f2cebc8e"
      },
      "source": [
        "Ergänze den Code, um die **Längen** der Wörter in `wörter` auszugeben."
      ]
    },
    {
      "cell_type": "code",
      "execution_count": 2,
      "id": "5fa14726",
      "metadata": {
        "id": "5fa14726",
        "colab": {
          "base_uri": "https://localhost:8080/"
        },
        "outputId": "627814d2-e3df-4794-8d44-5c5b64e93eea"
      },
      "outputs": [
        {
          "output_type": "stream",
          "name": "stdout",
          "text": [
            "5\n",
            "4\n",
            "7\n"
          ]
        }
      ],
      "source": [
        "woerter = [\"Katze\", \"Hund\", \"Elefant\"]\n",
        "for wort in woerter:\n",
        "    print(len(wort))"
      ]
    },
    {
      "cell_type": "markdown",
      "id": "6a0449a5",
      "metadata": {
        "id": "6a0449a5"
      },
      "source": [
        "## Aufgabe 3: Zahlen verdoppeln"
      ]
    },
    {
      "cell_type": "markdown",
      "id": "173a42bd",
      "metadata": {
        "id": "173a42bd"
      },
      "source": [
        "Ergänze den Code, um jedes Element in `zahlen` zu verdoppeln und auszugeben."
      ]
    },
    {
      "cell_type": "code",
      "execution_count": 3,
      "id": "0f344292",
      "metadata": {
        "id": "0f344292",
        "colab": {
          "base_uri": "https://localhost:8080/"
        },
        "outputId": "e62c7e2f-de7e-4453-f038-d21ff989fb8c"
      },
      "outputs": [
        {
          "output_type": "stream",
          "name": "stdout",
          "text": [
            "2\n",
            "4\n",
            "6\n",
            "8\n",
            "10\n"
          ]
        }
      ],
      "source": [
        "zahlen = [1, 2, 3, 4, 5]\n",
        "for zahl in zahlen:\n",
        "    print(zahl * 2)"
      ]
    },
    {
      "cell_type": "markdown",
      "id": "03b94387",
      "metadata": {
        "id": "03b94387"
      },
      "source": [
        "## Aufgabe 4: Quadrate von Zahlen"
      ]
    },
    {
      "cell_type": "markdown",
      "id": "4b2c7802",
      "metadata": {
        "id": "4b2c7802"
      },
      "source": [
        "Ergänze den Code, um die Quadrate aller Zahlen in `werte` auszugeben."
      ]
    },
    {
      "cell_type": "code",
      "execution_count": 4,
      "id": "4d9722a4",
      "metadata": {
        "id": "4d9722a4",
        "colab": {
          "base_uri": "https://localhost:8080/"
        },
        "outputId": "4c9b3c68-6504-404f-e395-f584254e5ce2"
      },
      "outputs": [
        {
          "output_type": "stream",
          "name": "stdout",
          "text": [
            "4\n",
            "16\n",
            "36\n",
            "64\n"
          ]
        }
      ],
      "source": [
        "werte = [2, 4, 6, 8]\n",
        "for wert in werte:\n",
        "    print(wert ** 2)"
      ]
    },
    {
      "cell_type": "markdown",
      "id": "eaec82ce",
      "metadata": {
        "id": "eaec82ce"
      },
      "source": [
        "## Aufgabe 5: Wörter in Großbuchstaben"
      ]
    },
    {
      "cell_type": "markdown",
      "id": "d5db0021",
      "metadata": {
        "id": "d5db0021"
      },
      "source": [
        "Ergänze den Code, um alle Elemente von `buchstaben` in **Großbuchstaben** auszugeben."
      ]
    },
    {
      "cell_type": "code",
      "execution_count": 5,
      "id": "b6b9517e",
      "metadata": {
        "id": "b6b9517e",
        "colab": {
          "base_uri": "https://localhost:8080/"
        },
        "outputId": "1e3110dd-e34b-493c-84ad-fe40e9f29050"
      },
      "outputs": [
        {
          "output_type": "stream",
          "name": "stdout",
          "text": [
            "A\n",
            "B\n",
            "C\n",
            "D\n"
          ]
        }
      ],
      "source": [
        "buchstaben = [\"a\", \"b\", \"c\", \"d\"]\n",
        "for buchstabe in buchstaben:\n",
        "    print(buchstabe.upper())"
      ]
    },
    {
      "cell_type": "markdown",
      "id": "8fcd6f51",
      "metadata": {
        "id": "8fcd6f51"
      },
      "source": [
        "## Aufgabe 6: Nur gerade Zahlen ausgeben"
      ]
    },
    {
      "cell_type": "markdown",
      "id": "f9266e98",
      "metadata": {
        "id": "f9266e98"
      },
      "source": [
        "Ergänze den Code, um nur die **geraden Zahlen** aus `zahlen` auszugeben."
      ]
    },
    {
      "cell_type": "code",
      "execution_count": 6,
      "id": "aa457ad9",
      "metadata": {
        "id": "aa457ad9",
        "colab": {
          "base_uri": "https://localhost:8080/"
        },
        "outputId": "ee2dc68c-0fbd-4f2c-b573-ccc57a5a869a"
      },
      "outputs": [
        {
          "output_type": "stream",
          "name": "stdout",
          "text": [
            "2\n",
            "4\n",
            "6\n",
            "8\n"
          ]
        }
      ],
      "source": [
        "zahlen = [1, 2, 3, 4, 5, 6, 7, 8]\n",
        "for zahl in zahlen:\n",
        "    if zahl % 2 == 0:\n",
        "        print(zahl)"
      ]
    },
    {
      "cell_type": "markdown",
      "id": "5553e21d",
      "metadata": {
        "id": "5553e21d"
      },
      "source": [
        "## Aufgabe 7: Wörter mit mehr als 4 Zeichen"
      ]
    },
    {
      "cell_type": "markdown",
      "id": "a4de6172",
      "metadata": {
        "id": "a4de6172"
      },
      "source": [
        "Ergänze den Code, um nur Wörter mit **mehr als 4 Zeichen** auszugeben."
      ]
    },
    {
      "cell_type": "code",
      "execution_count": 7,
      "id": "9e845872",
      "metadata": {
        "id": "9e845872",
        "colab": {
          "base_uri": "https://localhost:8080/"
        },
        "outputId": "6a5c216e-836f-4b81-8df8-d44ae1ca5966"
      },
      "outputs": [
        {
          "output_type": "stream",
          "name": "stdout",
          "text": [
            "Schmetterling\n"
          ]
        }
      ],
      "source": [
        "woerter = [\"Auto\", \"Haus\", \"Schmetterling\", \"Baum\"]\n",
        "for wort in woerter:\n",
        "    if len(wort) > 4:\n",
        "        print(wort)"
      ]
    },
    {
      "cell_type": "markdown",
      "id": "369736c5",
      "metadata": {
        "id": "369736c5"
      },
      "source": [
        "## Aufgabe 8: Zahlen größer als 5 und gerade"
      ]
    },
    {
      "cell_type": "markdown",
      "id": "7aa295df",
      "metadata": {
        "id": "7aa295df"
      },
      "source": [
        "Ergänze den Code, um nur Zahlen auszugeben, die **größer als 5 und durch 2 teilbar** sind."
      ]
    },
    {
      "cell_type": "code",
      "execution_count": 8,
      "id": "afff2ac1",
      "metadata": {
        "id": "afff2ac1",
        "colab": {
          "base_uri": "https://localhost:8080/"
        },
        "outputId": "7440a4b9-d6a8-4d70-ad27-a50253b13637"
      },
      "outputs": [
        {
          "output_type": "stream",
          "name": "stdout",
          "text": [
            "6\n",
            "8\n",
            "10\n",
            "12\n"
          ]
        }
      ],
      "source": [
        "werte = [2, 4, 6, 8, 10, 12]\n",
        "for wert in werte:\n",
        "    if wert > 5 and wert % 2 == 0:\n",
        "        print(wert)"
      ]
    },
    {
      "cell_type": "markdown",
      "id": "ce6cb1ee",
      "metadata": {
        "id": "ce6cb1ee"
      },
      "source": [
        "## Aufgabe 9: Wörter filtern, die mit A beginnen"
      ]
    },
    {
      "cell_type": "markdown",
      "id": "2be9c000",
      "metadata": {
        "id": "2be9c000"
      },
      "source": [
        "Ergänze den Code, um nur Wörter auszugeben, die mit `'A'` beginnen."
      ]
    },
    {
      "cell_type": "code",
      "execution_count": 9,
      "id": "0464d249",
      "metadata": {
        "id": "0464d249",
        "colab": {
          "base_uri": "https://localhost:8080/"
        },
        "outputId": "9e083a4c-f3e3-43dd-fff7-f7be35af8cdd"
      },
      "outputs": [
        {
          "output_type": "stream",
          "name": "stdout",
          "text": [
            "Anna\n",
            "Alice\n"
          ]
        }
      ],
      "source": [
        "namen = [\"Anna\", \"Ben\", \"Alice\", \"Markus\"]\n",
        "for name in namen:\n",
        "    if name.startswith(\"A\"):\n",
        "        print(name)"
      ]
    },
    {
      "cell_type": "markdown",
      "id": "a8801909",
      "metadata": {
        "id": "a8801909"
      },
      "source": [
        "## Aufgabe 10: Schlüssel aus einem Dictionary ausgeben"
      ]
    },
    {
      "cell_type": "markdown",
      "id": "e4f771c8",
      "metadata": {
        "id": "e4f771c8"
      },
      "source": [
        "Ergänze den Code, um alle **Schlüssel** in `personen` auszugeben."
      ]
    },
    {
      "cell_type": "code",
      "execution_count": 10,
      "id": "7cc485ae",
      "metadata": {
        "id": "7cc485ae",
        "colab": {
          "base_uri": "https://localhost:8080/"
        },
        "outputId": "56245144-0027-49be-f472-29182c8c8af0"
      },
      "outputs": [
        {
          "output_type": "stream",
          "name": "stdout",
          "text": [
            "Anna\n",
            "Ben\n",
            "Clara\n"
          ]
        }
      ],
      "source": [
        "personen = {\"Anna\": 25, \"Ben\": 30, \"Clara\": 22}\n",
        "for person in personen:\n",
        "    print(person)"
      ]
    },
    {
      "cell_type": "markdown",
      "id": "b0a5dcc3",
      "metadata": {
        "id": "b0a5dcc3"
      },
      "source": [
        "## Aufgabe 11: Werte eines Dictionaries ausgeben"
      ]
    },
    {
      "cell_type": "markdown",
      "id": "7bcc6153",
      "metadata": {
        "id": "7bcc6153"
      },
      "source": [
        "Ergänze den Code, um alle **Werte** in `personen` auszugeben."
      ]
    },
    {
      "cell_type": "code",
      "execution_count": 14,
      "id": "ee0417cd",
      "metadata": {
        "id": "ee0417cd",
        "colab": {
          "base_uri": "https://localhost:8080/"
        },
        "outputId": "9e82f568-2291-407f-fd51-d802f526852a"
      },
      "outputs": [
        {
          "output_type": "stream",
          "name": "stdout",
          "text": [
            "25\n",
            "30\n",
            "22\n"
          ]
        }
      ],
      "source": [
        "personen = {\"Anna\": 25, \"Ben\": 30, \"Clara\": 22}\n",
        "for alter in personen.values():\n",
        "    print(alter)"
      ]
    },
    {
      "cell_type": "markdown",
      "id": "63d3b7c2",
      "metadata": {
        "id": "63d3b7c2"
      },
      "source": [
        "## Aufgabe 12: Schlüssel-Wert-Paare ausgeben"
      ]
    },
    {
      "cell_type": "markdown",
      "id": "2909f71d",
      "metadata": {
        "id": "2909f71d"
      },
      "source": [
        "Ergänze den Code, um alle **Schlüssel-Wert-Paare** in `autos` auszugeben."
      ]
    },
    {
      "cell_type": "code",
      "execution_count": 16,
      "id": "036e170a",
      "metadata": {
        "id": "036e170a",
        "colab": {
          "base_uri": "https://localhost:8080/"
        },
        "outputId": "34745521-afbb-4ff9-97a3-ff1fe6304a35"
      },
      "outputs": [
        {
          "output_type": "stream",
          "name": "stdout",
          "text": [
            "BMW : X5\n",
            "Audi : A6\n",
            "Mercedes : C-Klasse\n"
          ]
        }
      ],
      "source": [
        "autos = {\"BMW\": \"X5\", \"Audi\": \"A6\", \"Mercedes\": \"C-Klasse\"}\n",
        "for auto, marke in autos.items():\n",
        "    print(auto, \":\", marke)"
      ]
    },
    {
      "cell_type": "markdown",
      "id": "cae5477b",
      "metadata": {
        "id": "cae5477b"
      },
      "source": [
        "## Aufgabe 13: Personen unter 30 ausgeben"
      ]
    },
    {
      "cell_type": "markdown",
      "id": "7428ea45",
      "metadata": {
        "id": "7428ea45"
      },
      "source": [
        "Ergänze den Code, um nur Personen mit einem Alter **unter 30** auszugeben."
      ]
    },
    {
      "cell_type": "code",
      "execution_count": 17,
      "id": "8fc18c19",
      "metadata": {
        "id": "8fc18c19",
        "colab": {
          "base_uri": "https://localhost:8080/"
        },
        "outputId": "d813ee79-283d-4090-a971-3e4d43a7d0f4"
      },
      "outputs": [
        {
          "output_type": "stream",
          "name": "stdout",
          "text": [
            "Anna\n",
            "Clara\n"
          ]
        }
      ],
      "source": [
        "personen = {\"Anna\": 25, \"Ben\": 30, \"Clara\": 22}\n",
        "for person, alter in personen.items():\n",
        "    if alter < 30:\n",
        "        print(person)"
      ]
    },
    {
      "cell_type": "markdown",
      "id": "6ec912ea",
      "metadata": {
        "id": "6ec912ea"
      },
      "source": [
        "## Aufgabe 14: Liste mit Quadraten erstellen"
      ]
    },
    {
      "cell_type": "markdown",
      "id": "a5fcb0cc",
      "metadata": {
        "id": "a5fcb0cc"
      },
      "source": [
        "Ergänze den Code, um eine neue Liste mit den **Quadraten der Zahlen** in `werte` zu erstellen."
      ]
    },
    {
      "cell_type": "code",
      "execution_count": 18,
      "id": "de938cc0",
      "metadata": {
        "id": "de938cc0",
        "colab": {
          "base_uri": "https://localhost:8080/"
        },
        "outputId": "b953354a-a176-4043-c4a8-b9ae23518597"
      },
      "outputs": [
        {
          "output_type": "stream",
          "name": "stdout",
          "text": [
            "[4, 16, 36, 64]\n"
          ]
        }
      ],
      "source": [
        "werte = [2, 4, 6, 8]\n",
        "quadrate = []\n",
        "for wert in werte:\n",
        "    quadrate.append(wert ** 2)\n",
        "print(quadrate)"
      ]
    },
    {
      "cell_type": "markdown",
      "id": "134a026a",
      "metadata": {
        "id": "134a026a"
      },
      "source": [
        "## Aufgabe 15: Werte in Dictionary erhöhen"
      ]
    },
    {
      "cell_type": "markdown",
      "id": "2d676276",
      "metadata": {
        "id": "2d676276"
      },
      "source": [
        "Ergänze den Code, um alle Werte in `personen` **um 1 zu erhöhen**."
      ]
    },
    {
      "cell_type": "code",
      "execution_count": 20,
      "id": "bc64e345",
      "metadata": {
        "id": "bc64e345",
        "colab": {
          "base_uri": "https://localhost:8080/"
        },
        "outputId": "7aa33dad-c32b-40c9-a56c-63a6660b7233"
      },
      "outputs": [
        {
          "output_type": "stream",
          "name": "stdout",
          "text": [
            "{'Anna': 26, 'Ben': 31, 'Clara': 23}\n"
          ]
        }
      ],
      "source": [
        "personen = {\"Anna\": 25, \"Ben\": 30, \"Clara\": 22}\n",
        "for alter in personen:\n",
        "    personen[alter] += 1\n",
        "print(personen)"
      ]
    },
    {
      "cell_type": "markdown",
      "id": "0f20a9d2",
      "metadata": {
        "id": "0f20a9d2"
      },
      "source": [
        "## Aufgabe 16: Schleife bei einer Zahl stoppen"
      ]
    },
    {
      "cell_type": "markdown",
      "id": "ab322671",
      "metadata": {
        "id": "ab322671"
      },
      "source": [
        "Ergänze den Code, um die Schleife bei der Zahl `5` zu stoppen."
      ]
    },
    {
      "cell_type": "code",
      "execution_count": 21,
      "id": "25a3b237",
      "metadata": {
        "id": "25a3b237",
        "colab": {
          "base_uri": "https://localhost:8080/"
        },
        "outputId": "aba7579d-5107-438e-a808-dd36445f0df9"
      },
      "outputs": [
        {
          "output_type": "stream",
          "name": "stdout",
          "text": [
            "1\n",
            "2\n",
            "3\n",
            "4\n"
          ]
        }
      ],
      "source": [
        "zahlen = [1, 2, 3, 4, 5, 6, 7]\n",
        "for zahl in zahlen:\n",
        "    if zahl == 5:\n",
        "        break\n",
        "    print(zahl)"
      ]
    },
    {
      "cell_type": "markdown",
      "id": "eb3b9d21",
      "metadata": {
        "id": "eb3b9d21"
      },
      "source": [
        "## Aufgabe 17: Eine Zahl überspringen"
      ]
    },
    {
      "cell_type": "markdown",
      "id": "85a35dc8",
      "metadata": {
        "id": "85a35dc8"
      },
      "source": [
        "Ergänze den Code, um die Zahl `5` zu überspringen."
      ]
    },
    {
      "cell_type": "code",
      "execution_count": 22,
      "id": "ec43f7a5",
      "metadata": {
        "id": "ec43f7a5",
        "colab": {
          "base_uri": "https://localhost:8080/"
        },
        "outputId": "6fec0f0c-b2ac-4181-968f-deb1dee6aa1b"
      },
      "outputs": [
        {
          "output_type": "stream",
          "name": "stdout",
          "text": [
            "1\n",
            "2\n",
            "3\n",
            "4\n",
            "6\n",
            "7\n"
          ]
        }
      ],
      "source": [
        "zahlen = [1, 2, 3, 4, 5, 6, 7]\n",
        "for zahl in zahlen:\n",
        "    if zahl == 5:\n",
        "        continue\n",
        "    print(zahl)"
      ]
    },
    {
      "cell_type": "markdown",
      "id": "2328d5ef",
      "metadata": {
        "id": "2328d5ef"
      },
      "source": [
        "## Aufgabe 18: Summe aller Werte in einem Dictionary berechnen"
      ]
    },
    {
      "cell_type": "markdown",
      "id": "dcecc4f1",
      "metadata": {
        "id": "dcecc4f1"
      },
      "source": [
        "Ergänze den Code, um die **Summe aller Werte in `produkte`** zu berechnen."
      ]
    },
    {
      "cell_type": "code",
      "execution_count": 24,
      "id": "c8ff87e9",
      "metadata": {
        "id": "c8ff87e9",
        "colab": {
          "base_uri": "https://localhost:8080/"
        },
        "outputId": "1d73013a-941d-4eab-ce91-47b3e69ba765"
      },
      "outputs": [
        {
          "output_type": "stream",
          "name": "stdout",
          "text": [
            "2500\n"
          ]
        }
      ],
      "source": [
        "produkte = {\"Laptop\": 1200, \"Handy\": 800, \"Tablet\": 500}\n",
        "summe = 0\n",
        "for preis in produkte.values():\n",
        "    summe += preis\n",
        "print(summe)"
      ]
    },
    {
      "cell_type": "markdown",
      "id": "c88ef42f",
      "metadata": {
        "id": "c88ef42f"
      },
      "source": [
        "## Aufgabe 19: Teuerstes Produkt finden"
      ]
    },
    {
      "cell_type": "markdown",
      "id": "59f3b4b2",
      "metadata": {
        "id": "59f3b4b2"
      },
      "source": [
        "Ergänze den Code, um das teuerste Produkt in `produkte` zu finden."
      ]
    },
    {
      "cell_type": "code",
      "execution_count": 25,
      "id": "fbf8dbb1",
      "metadata": {
        "id": "fbf8dbb1",
        "colab": {
          "base_uri": "https://localhost:8080/"
        },
        "outputId": "79fb45f4-90b6-46de-c334-bf372ea12581"
      },
      "outputs": [
        {
          "output_type": "stream",
          "name": "stdout",
          "text": [
            "Laptop 1200\n"
          ]
        }
      ],
      "source": [
        "produkte = {\"Laptop\": 1200, \"Handy\": 800, \"Tablet\": 500}\n",
        "teuerstes_produkt = \"\"\n",
        "max_preis = 0\n",
        "for produkt, preis in produkte.items():\n",
        "    if preis > max_preis:\n",
        "        teuerstes_produkt = produkt\n",
        "        max_preis = preis\n",
        "print(teuerstes_produkt, max_preis)"
      ]
    },
    {
      "cell_type": "markdown",
      "id": "a2cd65e5",
      "metadata": {
        "id": "a2cd65e5"
      },
      "source": [
        "## Aufgabe 20: Wörter mit Vokalen filtern"
      ]
    },
    {
      "cell_type": "markdown",
      "id": "d0b868dd",
      "metadata": {
        "id": "d0b868dd"
      },
      "source": [
        "Ergänze den Code, um eine neue Liste mit Wörtern aus `woerter` zu erstellen, die mindestens einen Vokal enthalten."
      ]
    },
    {
      "cell_type": "code",
      "execution_count": 26,
      "id": "9d80e9c5",
      "metadata": {
        "id": "9d80e9c5",
        "colab": {
          "base_uri": "https://localhost:8080/"
        },
        "outputId": "d054b971-b872-4945-cfd5-67faea2be78e"
      },
      "outputs": [
        {
          "output_type": "stream",
          "name": "stdout",
          "text": [
            "['Apfel', 'Ei']\n"
          ]
        }
      ],
      "source": [
        "woerter = [\"Krt\", \"Apfel\", \"Brn\", \"Ei\"]\n",
        "mit_vokalen = []\n",
        "for wort in woerter:\n",
        "    if any(buchstabe in \"aeiouAEIOU\" for buchstabe in wort):\n",
        "        mit_vokalen.append(wort)\n",
        "print(mit_vokalen)"
      ]
    }
  ],
  "metadata": {
    "colab": {
      "provenance": [],
      "include_colab_link": true
    },
    "language_info": {
      "name": "python"
    },
    "kernelspec": {
      "name": "python3",
      "display_name": "Python 3"
    }
  },
  "nbformat": 4,
  "nbformat_minor": 5
}