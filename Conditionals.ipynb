{
  "nbformat": 4,
  "nbformat_minor": 0,
  "metadata": {
    "colab": {
      "provenance": [],
      "include_colab_link": true
    },
    "kernelspec": {
      "name": "python3",
      "display_name": "Python 3"
    },
    "language_info": {
      "name": "python"
    }
  },
  "cells": [
    {
      "cell_type": "markdown",
      "metadata": {
        "id": "view-in-github",
        "colab_type": "text"
      },
      "source": [
        "<a href=\"https://colab.research.google.com/github/ThorGroth/D-D/blob/master/Conditionals.ipynb\" target=\"_parent\"><img src=\"https://colab.research.google.com/assets/colab-badge.svg\" alt=\"Open In Colab\"/></a>"
      ]
    },
    {
      "cell_type": "markdown",
      "source": [
        "# Willkommen in Google Colab!\n",
        " In Google Colab kannst du Code direkt ausführen und mit den Ergebnissen interaktiv arbeiten.\n",
        "Probier es aus, indem du auf \"Play\" neben der Zelle klickst oder Shift+Enter drückst!\n",
        "\n",
        "Nimm dieses Notebook und füge deinen Code hinzu an den passenden Stellen. Abgabe: Gehe oben links auf Datei, dann auf Herunterladen, dann auf .ipynb. Dann startet ein Download des Notebooks. Diese heruntergeladene Datei fügst du bitte als Abgabe in den Classroom ein."
      ],
      "metadata": {
        "id": "tdgT9asn_DwB"
      }
    },
    {
      "cell_type": "markdown",
      "source": [
        "# Teil 1: Begriffe in der Programmierung\n",
        "\n",
        "Nach diesem Abschnitt\n",
        "\n",
        "Du wirst mit einigen wesentlichen Terminologien in der Programmierung vertraut sein\n",
        "Du kennst den Unterschied zwischen einer Aussage und einem Ausdruck\n",
        "Du kannst den Datentyp eines ausgewerteten Ausdrucks herausfinden\n",
        "Du hast gelernt, Debugging-Methoden zu verwenden, um Fehler in deinem Code zu finden"
      ],
      "metadata": {
        "id": "x14clcQw_J0I"
      }
    },
    {
      "cell_type": "markdown",
      "source": [
        "Bisher haben wir der Terminologie nicht viel Aufmerksamkeit geschenkt, also schauen wir uns einige zentrale Konzepte der Programmierung an.\n",
        "## Anweisung\n",
        "Eine Anweisung ist ein Teil des Programms, der etwas ausführt. Sie bezieht sich oft, aber nicht immer, auf einen einzelnen Befehl.\n",
        "\n",
        "Beispielsweise `print(\"Hi!\")`ist eine Anweisung, die eine Textzeile ausgibt. Ebenso `number = 2`ist eine Anweisung, die einer Variablen einen Wert zuweist.\n",
        "\n",
        "Eine Anweisung kann auch komplizierter sein. Sie kann beispielsweise weitere Anweisungen enthalten. Die folgende Anweisung erstreckt sich über drei Zeilen:"
      ],
      "metadata": {
        "id": "LRzkdGBGDoFI"
      }
    },
    {
      "cell_type": "code",
      "source": [
        "name = \"Anna\"\n",
        "\n",
        "if name == \"Anna\":\n",
        "    print(\"Hi!\")\n",
        "    number = 2"
      ],
      "metadata": {
        "colab": {
          "base_uri": "https://localhost:8080/"
        },
        "id": "XMecc5P1D-dE",
        "outputId": "4084e1b8-eedc-4509-c271-3f459f4a50b0"
      },
      "execution_count": 4,
      "outputs": [
        {
          "output_type": "stream",
          "name": "stdout",
          "text": [
            "Hi!\n"
          ]
        }
      ]
    },
    {
      "cell_type": "markdown",
      "source": [
        "Im obigen Fall gibt es zwei Anweisungen (eine Druckanweisung und eine Zuweisungsanweisung) innerhalb einer bedingten Anweisung."
      ],
      "metadata": {
        "id": "XG9BPIhbECql"
      }
    },
    {
      "cell_type": "markdown",
      "source": [
        "## Block\n",
        "Ein Block ist eine Gruppe aufeinanderfolgender Anweisungen, die sich in der Struktur des Programms auf derselben Ebene befinden. Beispielsweise enthält der Block einer bedingten Anweisung diejenigen Anweisungen, die nur ausgeführt werden, wenn die Bedingung erfüllt ist."
      ],
      "metadata": {
        "id": "UJb8hkolEEGa"
      }
    },
    {
      "cell_type": "code",
      "source": [
        "age = 18\n",
        "if age > 17:\n",
        "    # Beginn des bedingten Blocks\n",
        "    print(\"Du hast folgendes Alter\")\n",
        "    age = age + 1\n",
        "    print(\"Jetzt bist du ein Jahr älter...\")\n",
        "    # Ende des bedingten Blocks\n",
        "\n",
        "print(\"Dieser Teil gehört zu einem anderen Block\")"
      ],
      "metadata": {
        "colab": {
          "base_uri": "https://localhost:8080/"
        },
        "id": "AOAaBn0kEJ-8",
        "outputId": "715b9a7d-ab6a-455b-acc2-398d49ee335c"
      },
      "execution_count": 5,
      "outputs": [
        {
          "output_type": "stream",
          "name": "stdout",
          "text": [
            "Du hast folgendes Alter\n",
            "Jetzt bist du ein Jahr älter...\n",
            "Dieser Teil gehört zu einem anderen Block\n"
          ]
        }
      ]
    },
    {
      "cell_type": "markdown",
      "source": [
        "In diesem Fall gibt die Funktion auch einen Wert zurück . Nachdem die Funktion ausgeführt wurde, wird der Codeabschnitt, in dem sie aufgerufen wurde, durch den zurückgegebenen Wert ersetzt; es handelt sich um einen weiteren Ausdruck, der nun ausgewertet wurde. Die Funktion inputgibt einen Zeichenfolgenwert zurück, der alles enthält, was der Benutzer in der Eingabeaufforderung eingegeben hat. Der von einer Funktion zurückgegebene Wert wird häufig in einer Variablen gespeichert, damit er später im Programm verwendet werden kann."
      ],
      "metadata": {
        "id": "nmWcBf97HqD9"
      }
    },
    {
      "cell_type": "markdown",
      "source": [
        "In Python werden Blöcke ausgedrückt, indem der gesamte Code im Block um die gleiche Menge an Leerzeichen eingerückt wird.\n",
        "\n",
        "Der Hauptblock eines Python-Programms muss immer am äußersten linken Rand der Datei stehen, ohne Einrückung:"
      ],
      "metadata": {
        "id": "3PJqeH6sEb4H"
      }
    },
    {
      "cell_type": "code",
      "source": [
        "# dieses Programm wird nicht funktionieren, weil es nicht an den äußersten linken Rand der Datei geschrieben wird\n",
        "print(\"Hallo Welt\")\n",
        "print(\"Dieses Programm ist nicht sehr gut...\")"
      ],
      "metadata": {
        "colab": {
          "base_uri": "https://localhost:8080/"
        },
        "id": "FKhYBdDDEgbb",
        "outputId": "b9582228-ad1f-40e0-eb84-2c8e9bb09e19"
      },
      "execution_count": 6,
      "outputs": [
        {
          "output_type": "stream",
          "name": "stdout",
          "text": [
            "Hallo Welt\n",
            "Dieses Programm ist nicht sehr gut...\n"
          ]
        }
      ]
    },
    {
      "cell_type": "markdown",
      "source": [
        "## Ausdruck\n",
        "Ein Ausdruck ist ein Codestück, das einen bestimmten Datentyp ergibt. Bei der Ausführung des Programms wird der Ausdruck ausgewertet, sodass er einen Wert hat, der dann im Programm verwendet werden kann.\n",
        "\n",
        "Hier einige Beispiele für Ausdrücke:"
      ],
      "metadata": {
        "id": "BWN4akg3ErTK"
      }
    },
    {
      "cell_type": "markdown",
      "source": [
        "| Ausdruck       | Wert     | Typ                 | Python-Datentyp  |\n",
        "|----------------|----------|---------------------|------------------|\n",
        "| 2 + 4 + 3      | 9        | ganze Zahl          | `int`            |\n",
        "| \"abc\" + \"de\"   | \"abcde\"  | Schnur              | `str`            |\n",
        "| 11 / 2         | 5.5      | Gleitkommazahl      | `float`          |\n",
        "| 2 * 5 > 9      | True     | Boolescher Wert     | `bool`           |\n"
      ],
      "metadata": {
        "id": "mHh4ytLCEzXk"
      }
    },
    {
      "cell_type": "markdown",
      "source": [
        "Da alle Ausdrücke einen Typ haben, können sie Variablen zugewiesen werden:\n",
        "\n"
      ],
      "metadata": {
        "id": "ohi-VekHE5nu"
      }
    },
    {
      "cell_type": "code",
      "source": [
        "# der Variablen x wird der Wert des Ausdrucks 1 + 2 zugewiesen\n",
        "x = 1 + 2\n",
        "print(x)"
      ],
      "metadata": {
        "colab": {
          "base_uri": "https://localhost:8080/"
        },
        "id": "U3_cYTWsE6gA",
        "outputId": "6b8a43b2-433c-468e-d162-f6122ed91cac"
      },
      "execution_count": 7,
      "outputs": [
        {
          "output_type": "stream",
          "name": "stdout",
          "text": [
            "3\n"
          ]
        }
      ]
    },
    {
      "cell_type": "markdown",
      "source": [
        "Einfache Ausdrücke können zu komplizierteren Ausdrücken zusammengesetzt werden, beispielsweise durch Rechenoperationen:"
      ],
      "metadata": {
        "id": "UueIgl7bFFld"
      }
    },
    {
      "cell_type": "code",
      "source": [
        "# der Variablen y wird der Wert des Ausdrucks „3 mal x plus x zum Quadrat“ zugewiesen\n",
        "y = 3 * x + x ** 2\n",
        "print(y)"
      ],
      "metadata": {
        "id": "Omubk6B9FBZt",
        "outputId": "db46745f-5d64-4750-9618-083fd8470a22",
        "colab": {
          "base_uri": "https://localhost:8080/"
        }
      },
      "execution_count": 8,
      "outputs": [
        {
          "output_type": "stream",
          "name": "stdout",
          "text": [
            "18\n"
          ]
        }
      ]
    },
    {
      "cell_type": "markdown",
      "source": [
        "## Funktion\n",
        "Eine Funktion führt eine bestimmte Funktionalität aus. Funktionen können auch ein oder mehrere Argumente annehmen , also Daten, die der Funktion zugeführt und von ihr verarbeitet werden können. Argumente werden manchmal auch als Parameter bezeichnet . Es gibt einen technischen Unterschied zwischen einem Argument und einem Parameter, aber die Wörter werden oft synonym verwendet. Für den Moment sollte es genügen, sich daran zu erinnern, dass sich beide Begriffe auf die Idee einiger Daten beziehen, die an die Funktion übergeben werden.\n",
        "\n",
        "Eine Funktion wird ausgeführt, wenn sie aufgerufen wird . Das heißt, wenn die Funktion (und ihre Argumente, falls vorhanden) im Code erwähnt werden. Die folgende Anweisung ruft die printFunktion mit dem Argument auf \"dies ist ein Argument\":"
      ],
      "metadata": {
        "id": "_gjsd-B5FMZr"
      }
    },
    {
      "cell_type": "code",
      "source": [
        "print(\"dies ist ein Argument\")"
      ],
      "metadata": {
        "colab": {
          "base_uri": "https://localhost:8080/"
        },
        "id": "s9ZS7vWUFTMM",
        "outputId": "591b177b-cd8e-494c-dfaa-c8e5d9f42499"
      },
      "execution_count": 9,
      "outputs": [
        {
          "output_type": "stream",
          "name": "stdout",
          "text": [
            "dies ist ein Argument\n"
          ]
        }
      ]
    },
    {
      "cell_type": "markdown",
      "source": [
        "Eine weitere Funktion, die wir bereits oft verwendet haben, ist die `input`Funktion, die den Benutzer zur Eingabe auffordert. Das Argument dieser Funktion ist die Nachricht, die dem Benutzer angezeigt wird:"
      ],
      "metadata": {
        "id": "ZISNGyDAFmQS"
      }
    },
    {
      "cell_type": "code",
      "source": [
        "name = input(\"Bitte geben Sie Ihren Namen ein: \")\n",
        "print(name)"
      ],
      "metadata": {
        "colab": {
          "base_uri": "https://localhost:8080/"
        },
        "id": "Ub6wYUjYFupE",
        "outputId": "e4a8f088-91df-486b-dc85-373714bad00b"
      },
      "execution_count": 10,
      "outputs": [
        {
          "output_type": "stream",
          "name": "stdout",
          "text": [
            "Bitte geben Sie Ihren Namen ein: Thor\n",
            "Thor\n"
          ]
        }
      ]
    },
    {
      "cell_type": "markdown",
      "source": [
        "## Datentyp\n",
        "Der Datentyp bezieht sich auf die Eigenschaften aller im Programm vorhandenen Werte. Im folgenden Codeabschnitt nameist der Datentyp der Variablen Zeichenfolge oder strund der Datentyp der Variablen resultGanzzahl oder int:"
      ],
      "metadata": {
        "id": "AKAGbccIHt3B"
      }
    },
    {
      "cell_type": "code",
      "source": [
        "name = \"Anna\"\n",
        "result = 100"
      ],
      "metadata": {
        "id": "sZZ3KZaVH40_"
      },
      "execution_count": 11,
      "outputs": []
    },
    {
      "cell_type": "markdown",
      "source": [
        "Mit dieser Funktion kannst du mit `type`den Datentyp eines beliebigen Ausdrucks ermitteln. Ein Anwendungsbeispiel:"
      ],
      "metadata": {
        "id": "VY86nUmGH7kE"
      }
    },
    {
      "cell_type": "code",
      "source": [
        "print(type(\"Anna\"))\n",
        "print(type(100))"
      ],
      "metadata": {
        "colab": {
          "base_uri": "https://localhost:8080/"
        },
        "id": "ZPxHxLaiIBSK",
        "outputId": "940c5d87-5e0f-44e9-b166-ad5f5d7e28ff"
      },
      "execution_count": 12,
      "outputs": [
        {
          "output_type": "stream",
          "name": "stdout",
          "text": [
            "<class 'str'>\n",
            "<class 'int'>\n"
          ]
        }
      ]
    },
    {
      "cell_type": "markdown",
      "source": [
        "## Syntax\n",
        "Ähnlich wie bei natürlichen Sprachen bestimmt die Syntax einer Programmiersprache, wie der Code eines Programms geschrieben werden soll. Jede Programmiersprache hat ihre eigene, spezifische Syntax.\n",
        "\n",
        "Die Syntax von Python gibt unter anderem vor, dass die erste Zeile einer ifAnweisung mit einem Doppelpunkt enden soll und der Block der Anweisung eingerückt werden soll:"
      ],
      "metadata": {
        "id": "BdrQ0MqgTUPj"
      }
    },
    {
      "cell_type": "code",
      "source": [
        "name = \"Anna\"\n",
        "\n",
        "if name == \"Anna\":\n",
        "    print(\"Hi!\")"
      ],
      "metadata": {
        "colab": {
          "base_uri": "https://localhost:8080/"
        },
        "id": "iA1SdPbfTaxv",
        "outputId": "70f5ad00-816a-4876-9538-3a99e83aaac8"
      },
      "execution_count": 13,
      "outputs": [
        {
          "output_type": "stream",
          "name": "stdout",
          "text": [
            "Hi!\n"
          ]
        }
      ]
    },
    {
      "cell_type": "markdown",
      "source": [
        "Werden die syntaktischen Regeln der Programmiersprache nicht beachtet, kommt es zu einem Fehler:\n"
      ],
      "metadata": {
        "id": "BgQTx0HmTgwG"
      }
    },
    {
      "cell_type": "code",
      "source": [
        "name = \"Anna\"\n",
        "\n",
        "if name == \"Anna\":\n",
        "    print(\"Hi!\")"
      ],
      "metadata": {
        "colab": {
          "base_uri": "https://localhost:8080/"
        },
        "id": "dQakPZaDTg9a",
        "outputId": "ffaaae7b-2df5-431e-eb4d-a7d8d253a575"
      },
      "execution_count": 15,
      "outputs": [
        {
          "output_type": "stream",
          "name": "stdout",
          "text": [
            "Hi!\n"
          ]
        }
      ]
    },
    {
      "cell_type": "markdown",
      "source": [
        "## Debuggen\n",
        "Wenn die Syntax des Programms korrekt ist, das Programm jedoch trotzdem nicht wie vorgesehen funktioniert, liegt ein Programmfehler vor.\n",
        "\n",
        "Bugs manifestieren sich auf unterschiedliche Weise. Einige Bugs verursachen einen Fehler während der Ausführung. Das folgende Programm beispielsweise"
      ],
      "metadata": {
        "id": "2NyJ6Ly4TvlE"
      }
    },
    {
      "cell_type": "code",
      "source": [
        "x = 10\n",
        "y = 0\n",
        "result = x / y\n",
        "\n",
        "print(f\"{x} divided by {y} is {result}\")"
      ],
      "metadata": {
        "colab": {
          "base_uri": "https://localhost:8080/",
          "height": 211
        },
        "id": "eic3NloJTzRU",
        "outputId": "72327fbd-38e2-43b0-ac4d-a1d7c32aca26"
      },
      "execution_count": 16,
      "outputs": [
        {
          "output_type": "error",
          "ename": "ZeroDivisionError",
          "evalue": "division by zero",
          "traceback": [
            "\u001b[0;31m---------------------------------------------------------------------------\u001b[0m",
            "\u001b[0;31mZeroDivisionError\u001b[0m                         Traceback (most recent call last)",
            "\u001b[0;32m<ipython-input-16-20622ee9089b>\u001b[0m in \u001b[0;36m<cell line: 0>\u001b[0;34m()\u001b[0m\n\u001b[1;32m      1\u001b[0m \u001b[0mx\u001b[0m \u001b[0;34m=\u001b[0m \u001b[0;36m10\u001b[0m\u001b[0;34m\u001b[0m\u001b[0;34m\u001b[0m\u001b[0m\n\u001b[1;32m      2\u001b[0m \u001b[0my\u001b[0m \u001b[0;34m=\u001b[0m \u001b[0;36m0\u001b[0m\u001b[0;34m\u001b[0m\u001b[0;34m\u001b[0m\u001b[0m\n\u001b[0;32m----> 3\u001b[0;31m \u001b[0mresult\u001b[0m \u001b[0;34m=\u001b[0m \u001b[0mx\u001b[0m \u001b[0;34m/\u001b[0m \u001b[0my\u001b[0m\u001b[0;34m\u001b[0m\u001b[0;34m\u001b[0m\u001b[0m\n\u001b[0m\u001b[1;32m      4\u001b[0m \u001b[0;34m\u001b[0m\u001b[0m\n\u001b[1;32m      5\u001b[0m \u001b[0mprint\u001b[0m\u001b[0;34m(\u001b[0m\u001b[0;34mf\"{x} divided by {y} is {result}\"\u001b[0m\u001b[0;34m)\u001b[0m\u001b[0;34m\u001b[0m\u001b[0;34m\u001b[0m\u001b[0m\n",
            "\u001b[0;31mZeroDivisionError\u001b[0m: division by zero"
          ]
        }
      ]
    },
    {
      "cell_type": "markdown",
      "source": [
        "Das Problem ist hier mathematischer Natur: Eine Division durch Null ist nicht zulässig und führt zum Stoppen der Programmausführung.\n",
        "\n",
        "Fehler während der Ausführung lassen sich normalerweise relativ einfach beheben, da in der Fehlermeldung die Codezeile angegeben wird, die den Fehler verursacht. Natürlich kann die eigentliche Ursache des Fehlers auch ganz woanders liegen als in der Codezeile, die den Fehler verursacht.\n",
        "\n",
        "Manchmal offenbart sich ein Programmfehler dadurch, dass das vom Code erzeugte Ergebnis falsch ist. Das Entdecken und Lokalisieren solcher Fehler kann eine Herausforderung sein. In den Programmierübungen dieses Kurses sind die Tests in der Regel darauf ausgerichtet, Fehler dieser Art aufzudecken. Bevor ein Fehler behoben werden kann, muss zunächst seine Ursache gefunden werden.\n",
        "\n",
        "Im Programmierjargon wird das Entdecken der Ursachen von Fehlern als Debuggen bezeichnet . Es ist eine äußerst wichtige Fähigkeit im Werkzeugkasten eines jeden Programmierers. Professionelle Programmierer verbringen oft mehr Zeit mit dem Debuggen als mit dem Schreiben von neuem Code.\n",
        "\n",
        "Eine einfache, aber effektive Möglichkeit zum Debuggen eines Programms besteht darin, Ihrem Code Debug-Druckanweisungen hinzuzufügen. Durch die Überprüfung der Ergebnisse Ihres Codes mit printBefehlen erhalten Sie schnell eine Bestätigung, dass der Code das tut, was Sie möchten.\n",
        "\n",
        "Nachfolgend ein Versuch, eine der Aufgaben aus dem vorigen Abschnitt zu lösen :"
      ],
      "metadata": {
        "id": "j3YdcchZT30B"
      }
    },
    {
      "cell_type": "code",
      "source": [
        "hourly_wage = float(input(\"Stundenlohn: \"))\n",
        "hours = int(input(\"gearbeitete Stunden: \"))\n",
        "day = input(\"aktueller Tag der Woche: \")\n",
        "\n",
        "daily_wages = hourly_wage * hours\n",
        "if day == \"sonntag\":\n",
        "    daily_wages * 2\n",
        "\n",
        "print(f\"Tageslohn: {daily_wages} euros\")"
      ],
      "metadata": {
        "colab": {
          "base_uri": "https://localhost:8080/"
        },
        "id": "ezmouFmYUYD3",
        "outputId": "3ebf2986-3802-4685-d8e7-d210a277c1a8"
      },
      "execution_count": 17,
      "outputs": [
        {
          "output_type": "stream",
          "name": "stdout",
          "text": [
            "Stundenlohn: 15\n",
            "gearbeitete Stunden: 40\n",
            "aktueller Tag der Woche: freitag\n",
            "Tageslohn: 600.0 euros\n"
          ]
        }
      ]
    },
    {
      "cell_type": "markdown",
      "source": [
        "Das Programm funktioniert nicht richtig. Der Sonntagszuschlag wird nicht korrekt berechnet.\n",
        "Beim Debuggen der Übungen besteht der erste Schritt häufig darin, zu prüfen, wie sich das Programm mit dieser Eingabe verhält.\n",
        "Beim Debuggen wird das Programm normalerweise mehrmals ausgeführt. Es kann praktisch sein, die problematische Eingabe vorübergehend „hart zu codieren“, anstatt den Benutzer jedes Mal um eine Eingabe zu bitten. In diesem Fall könnte die Hartcodierung folgendermaßen aussehen\n"
      ],
      "metadata": {
        "id": "fQYCs17AcUcB"
      }
    },
    {
      "cell_type": "code",
      "source": [
        "# hourly_wage = float(input(\"Stundenlohn: \"))\n",
        "# hours = int(input(\"gearbeitete Stunden: \"))\n",
        "# day = input(\"aktueller Tag der Woche: \")\n",
        "\n",
        "hourly_wage = 20.0\n",
        "hours = 6\n",
        "day = \"Sonntag\"\n",
        "\n",
        "daily_wages = hourly_wage * hours\n",
        "if day == \"sonntag\":\n",
        "    daily_wages * 2\n",
        "\n",
        "print(f\"Tageslohn: {daily_wages} euros\")"
      ],
      "metadata": {
        "colab": {
          "base_uri": "https://localhost:8080/"
        },
        "id": "c-DQdK8bdgsG",
        "outputId": "311fa0f0-b581-4382-c8d5-45b8cf80cc84"
      },
      "execution_count": 18,
      "outputs": [
        {
          "output_type": "stream",
          "name": "stdout",
          "text": [
            "Tageslohn: 120.0 euros\n"
          ]
        }
      ]
    },
    {
      "cell_type": "markdown",
      "source": [
        "Tatsächlich entspricht das Ergebnis nicht dem erwarteten Ergebnis: 240€"
      ],
      "metadata": {
        "id": "-uZyeu4Rdf4Y"
      }
    },
    {
      "cell_type": "markdown",
      "source": [
        "Der nächste Schritt könnte das Hinzufügen von `debugging-print`-Anweisungen sein . Der problematische Teil des Codes befindet sich im Abschnitt, der sich mit Sonntagen befasst. Fügen wir also `print`Befehle vor und nach der Zeile hinzu, die den Tageslohn an Sonntagen verdoppeln soll:"
      ],
      "metadata": {
        "id": "6oHFC2nKd8oO"
      }
    },
    {
      "cell_type": "code",
      "source": [
        "# hourly_wage = float(input(\"Stundenlohn: \"))\n",
        "# hours = int(input(\"gearbeitete Stunden: \"))\n",
        "# day = input(\"aktueller Tag der Woche: \")\n",
        "\n",
        "hourly_wage = 20.0\n",
        "hours = 6\n",
        "day = \"Sonntag\"\n",
        "\n",
        "daily_wages = hourly_wage * hours\n",
        "if day == \"sonntag\":\n",
        "    print(\"Lohn vorher:\", daily_wages)\n",
        "    daily_wages * 2\n",
        "    print(\"Lohn nach Verdoppelung:\", daily_wages)\n",
        "\n",
        "print(f\"Tageslohn: {daily_wages} Euro\")"
      ],
      "metadata": {
        "colab": {
          "base_uri": "https://localhost:8080/"
        },
        "id": "OuAYqkezeHhD",
        "outputId": "023d363f-8331-4bef-e2d6-1d5dd51042b7"
      },
      "execution_count": 19,
      "outputs": [
        {
          "output_type": "stream",
          "name": "stdout",
          "text": [
            "Tageslohn: 120.0 Euro\n"
          ]
        }
      ]
    },
    {
      "cell_type": "markdown",
      "source": [
        "Das Ausführen des Codes bringt jetzt nichts ans Licht – die Debug-Druckanweisungen werden überhaupt nicht gedruckt. Es scheint, dass der Inhalt des `if`Blocks nie ausgeführt wird, also muss es ein Problem mit der bedingten Anweisung geben. Versuchen wir, den Wert des Booleschen Ausdrucks auszudrucken:"
      ],
      "metadata": {
        "id": "kRCXK4gsfp1n"
      }
    },
    {
      "cell_type": "code",
      "source": [
        "# hourly_wage = float(input(\"Stundenlohn: \"))\n",
        "# hours = int(input(\"gearbeitete Stunden: \"))\n",
        "# day = input(\"aktueller Tag der Woche: \")\n",
        "\n",
        "hourly_wage = 20.0\n",
        "hours = 6\n",
        "day = \"Sonntag\"\n",
        "\n",
        "daily_wages = hourly_wage * hours\n",
        "print(\"Bedingung:\", day == \"sonntag\")\n",
        "if day == \"sonntag\":\n",
        "    print(\"Lohn vorher:\", daily_wages)\n",
        "    daily_wages * 2\n",
        "    print(\"Lohn nach Verdoppelung:\", daily_wages)\n",
        "\n",
        "print(f\"Tageslohn: {daily_wages} Euro\")"
      ],
      "metadata": {
        "colab": {
          "base_uri": "https://localhost:8080/"
        },
        "id": "ANQ5kK8XfvWz",
        "outputId": "d8252bd7-ce62-48a0-8f87-83b1274865e1"
      },
      "execution_count": 20,
      "outputs": [
        {
          "output_type": "stream",
          "name": "stdout",
          "text": [
            "Bedingung: False\n",
            "Tageslohn: 120.0 Euro\n"
          ]
        }
      ]
    },
    {
      "cell_type": "markdown",
      "source": [
        "Tatsächlich ist der Wert `False`, sodass der Inhalt des if-Blocks nie ausgeführt wird:\n",
        "\n"
      ],
      "metadata": {
        "id": "9OFSQYopgEb3"
      }
    },
    {
      "cell_type": "markdown",
      "source": [
        "Das Problem muss dann in der Bedingung der ifAnweisung liegen. Wie in so vielen Situationen beim Programmieren ist auch bei Vergleichen die Groß- und Kleinschreibung von Bedeutung. Beachte, dass „sonntag“ im Booleschen Ausdruck nicht groß geschrieben wurde, in der Eingabe jedoch schon. Lass uns dies beheben (sowohl im `print`Befehl als auch in der `if`Anweisung):"
      ],
      "metadata": {
        "id": "TksiqJNUfNi-"
      }
    },
    {
      "cell_type": "code",
      "source": [
        "# hourly_wage = float(input(\"Stundenlohn: \"))\n",
        "# hours = int(input(\"gearbeitete Stunden: \"))\n",
        "# day = input(\"aktueller Tag der Woche: \")\n",
        "\n",
        "hourly_wage = 20.0\n",
        "hours = 6\n",
        "day = \"Sonntag\"\n",
        "\n",
        "daily_wages = hourly_wage * hours\n",
        "print(\"Bedingung:\", day == \"Sonntag\")\n",
        "if day == \"Sonntag\":\n",
        "    print(\"Lohn vorher:\", daily_wages)\n",
        "    daily_wages * 2\n",
        "    print(\"Lohn nach Verdoppelung:\", daily_wages)\n",
        "\n",
        "print(f\"Tageslohn: {daily_wages} Euro\")"
      ],
      "metadata": {
        "colab": {
          "base_uri": "https://localhost:8080/"
        },
        "id": "Dr44dpYagR7A",
        "outputId": "275cfb10-c586-452c-c1a9-8713833db375"
      },
      "execution_count": 21,
      "outputs": [
        {
          "output_type": "stream",
          "name": "stdout",
          "text": [
            "Bedingung: True\n",
            "Lohn vorher: 120.0\n",
            "Lohn nach Verdoppelung: 120.0\n",
            "Tageslohn: 120.0 Euro\n"
          ]
        }
      ]
    },
    {
      "cell_type": "markdown",
      "source": [
        "Zunächst scheint der in gespeicherte Wert korrekt `daily_wages` zu sein: `hourly_wage = 20.0`und `hours = 6`, und `20,0 * 6 = 120,0`. Der Befehl, der die Zahl verdoppeln soll, tut dies jedoch nicht, also muss ein Problem mit dem Befehl vorliegen. Und tatsächlich ist der Befehl: `daily_wages * 2` verdoppelt den Wert, speichert den neuen Wert aber nirgends. Ändern wir es so, dass auch der neue Wert gespeichert wird:"
      ],
      "metadata": {
        "id": "5KGjHu4ngaX6"
      }
    },
    {
      "cell_type": "code",
      "source": [
        "# hourly_wage = float(input(\"Stundenlohn: \"))\n",
        "# hours = int(input(\"gearbeitete Stunden: \"))\n",
        "# day = input(\"aktueller Tag der Woche: \")\n",
        "\n",
        "hourly_wage = 20.0\n",
        "hours = 6\n",
        "day = \"Sonntag\"\n",
        "\n",
        "daily_wages = hourly_wage * hours\n",
        "print(\"Bedingung:\", day == \"Sonntag\")\n",
        "if day == \"Sonntag\":\n",
        "    print(\"Lohn vorher:\", daily_wages)\n",
        "    daily_wages = daily_wages* 2\n",
        "    print(\"Lohn nach Verdoppelung:\", daily_wages)\n",
        "\n",
        "print(f\"Tageslohn: {daily_wages} Euro\")"
      ],
      "metadata": {
        "colab": {
          "base_uri": "https://localhost:8080/"
        },
        "id": "se4nP-n7gu_8",
        "outputId": "2faae40d-94f2-40c8-b31a-3fc692bd34a6"
      },
      "execution_count": 22,
      "outputs": [
        {
          "output_type": "stream",
          "name": "stdout",
          "text": [
            "Bedingung: True\n",
            "Lohn vorher: 120.0\n",
            "Lohn nach Verdoppelung: 240.0\n",
            "Tageslohn: 240.0 Euro\n"
          ]
        }
      ]
    },
    {
      "cell_type": "markdown",
      "source": [
        "Denke nach der Reparatur des Programms daran, alle Debug-Druckanweisungen und anderen zu Debuggingzwecken hinzugefügten Code zu entfernen.\n",
        "\n",
        "Dieses Beispiel war recht einfach und in einem so kurzen Programm könnte man die Fehler wahrscheinlich schon durch sorgfältiges Lesen des Codes herausfinden. Die Verwendung von `Debugging-print`-Anweisungen ist jedoch oft eine schnelle Möglichkeit, ein Gefühl dafür zu bekommen, wo das Problem liegen könnte. Druckanweisungen können verwendet werden, um herauszufinden, welche Teile des Programms korrekt zu funktionieren scheinen, sodass die Fehlerverfolgung auf die Codeabschnitte konzentriert werden kann, die am wahrscheinlichsten die Ursache sind.\n",
        "\n",
        "`Debugging-Print`-Anweisungen sind nur ein Werkzeug zum Debuggen von Programmen. Wir werden später in diesem Kurs auf dieses Thema zurückkommen. Du solltest dir jetzt angewöhnen, Debugging-Print-Anweisungen zu verwenden, um nach Fehlern im Code zu suchen. Programmierprofis kommen nicht ohne sie aus, daher sind sie auch für Anfänger ein sehr nützliches Werkzeug."
      ],
      "metadata": {
        "id": "I1BpLyh3g3CN"
      }
    },
    {
      "cell_type": "markdown",
      "source": [
        "### Übung\n",
        "\n",
        "Das folgende Programm enthält mehrere syntaktische Fehler . Bitte korrigieren Sie das Programm, sodass die Syntax in Ordnung ist und das Programm wie in den folgenden Beispielen angegeben funktioniert.\n",
        "\n",
        "```\n",
        "Bitte geben Sie eine Zahl ein: 13\n",
        "13 muss meine Glückszahl sein!\n",
        "Einen schönen Tag noch!\n",
        "```\n",
        "\n",
        "```\n",
        "Bitte geben Sie eine Zahl ein: 101\n",
        "Die Zahl war größer als hundert\n",
        "Jetzt ist ihr Wert um hundert gesunken\n",
        "Ihr Wert ist jetzt 1\n",
        "1 muss meine Glückszahl sein!\n",
        "Einen schönen Tag noch!\n",
        "```"
      ],
      "metadata": {
        "id": "FSzCrJqEhRwY"
      }
    },
    {
      "cell_type": "code",
      "source": [
        "  number = input(\"Bitte geben Sie eine Zahl ein:\")\n",
        "  if number>100:\n",
        "    print(\"Die Zahl war größer als hundert\")\n",
        "    number - 100\n",
        "    print(\"Jetzt ist der Wert um hundert gesunken\")\n",
        "     print(\"Ihr Wert ist jetzt \"+ number)\n",
        " print(number + \"Das muss meine Glückszahl sein!\")\n",
        " print(\"Einen schönen Tag noch!)"
      ],
      "metadata": {
        "id": "WG2eu_tahoqh",
        "outputId": "fcb1576c-a1d2-47e2-90a8-353a761f14fd",
        "colab": {
          "base_uri": "https://localhost:8080/",
          "height": 263
        }
      },
      "execution_count": 26,
      "outputs": [
        {
          "output_type": "stream",
          "name": "stdout",
          "text": [
            "Bitte geben Sie eine Zahl ein:101\n",
            "Die Zahl war größer als hundert\n",
            "Jetzt ist der Wert um hundert gesunken\n",
            "Ihr Wert ist jetzt 1\n"
          ]
        },
        {
          "output_type": "error",
          "ename": "TypeError",
          "evalue": "unsupported operand type(s) for +: 'int' and 'str'",
          "traceback": [
            "\u001b[0;31m---------------------------------------------------------------------------\u001b[0m",
            "\u001b[0;31mTypeError\u001b[0m                                 Traceback (most recent call last)",
            "\u001b[0;32m<ipython-input-26-3bffa707ebc4>\u001b[0m in \u001b[0;36m<cell line: 0>\u001b[0;34m()\u001b[0m\n\u001b[1;32m      5\u001b[0m     \u001b[0mprint\u001b[0m\u001b[0;34m(\u001b[0m\u001b[0;34m\"Jetzt ist der Wert um hundert gesunken\"\u001b[0m\u001b[0;34m)\u001b[0m\u001b[0;34m\u001b[0m\u001b[0;34m\u001b[0m\u001b[0m\n\u001b[1;32m      6\u001b[0m     \u001b[0mprint\u001b[0m\u001b[0;34m(\u001b[0m\u001b[0;34m\"Ihr Wert ist jetzt \"\u001b[0m \u001b[0;34m+\u001b[0m \u001b[0mstr\u001b[0m\u001b[0;34m(\u001b[0m\u001b[0mnumber\u001b[0m\u001b[0;34m)\u001b[0m\u001b[0;34m)\u001b[0m\u001b[0;34m\u001b[0m\u001b[0;34m\u001b[0m\u001b[0m\n\u001b[0;32m----> 7\u001b[0;31m \u001b[0mprint\u001b[0m\u001b[0;34m(\u001b[0m\u001b[0mnumber\u001b[0m \u001b[0;34m+\u001b[0m \u001b[0;34m\"Das muss meine Glückszahl sein!\"\u001b[0m\u001b[0;34m)\u001b[0m\u001b[0;34m\u001b[0m\u001b[0;34m\u001b[0m\u001b[0m\n\u001b[0m\u001b[1;32m      8\u001b[0m \u001b[0mprint\u001b[0m\u001b[0;34m(\u001b[0m\u001b[0;34m\"Einen schönen Tag noch!\"\u001b[0m\u001b[0;34m)\u001b[0m\u001b[0;34m\u001b[0m\u001b[0;34m\u001b[0m\u001b[0m\n",
            "\u001b[0;31mTypeError\u001b[0m: unsupported operand type(s) for +: 'int' and 'str'"
          ]
        }
      ]
    },
    {
      "cell_type": "code",
      "source": [
        "# Korrektur: Umwandlung in int, damit man mit der Zahl rechnen kann\n",
        "number = int(input(\"Bitte geben Sie eine Zahl ein:\"))\n",
        "\n",
        "# Ursprünglich: Vergleich von String mit int = Fehler\n",
        "# Korrektur: funktioniert jetzt, da number ein int ist\n",
        "if number > 100:\n",
        "    print(\"Die Zahl war größer als hundert\")\n",
        "\n",
        "    # Korrektur: Ergebnis der Subtraktion speichern\n",
        "    number = number - 100\n",
        "\n",
        "    print(\"Jetzt ist ihr Wert um hundert gesunken\")\n",
        "\n",
        "    # Korrektur: Einrückung angepasst + str(number) für Stringverkettung\n",
        "    print(\"Ihr Wert ist jetzt \" + str(number))\n",
        "\n",
        "# Korrektur: str(number) nutzen\n",
        "print(str(number) + \" muss meine Glückszahl sein!\")\n",
        "\n",
        "# Korrektur: Anführungszeichen ergänzt\n",
        "print(\"Einen schönen Tag noch!\")"
      ],
      "metadata": {
        "id": "2Ejv4g5OhVqK",
        "outputId": "4efa28ff-2f02-4663-eb3c-cb99d998427f",
        "colab": {
          "base_uri": "https://localhost:8080/"
        }
      },
      "execution_count": 31,
      "outputs": [
        {
          "output_type": "stream",
          "name": "stdout",
          "text": [
            "Bitte geben Sie eine Zahl ein:101\n",
            "Die Zahl war größer als hundert\n",
            "Jetzt ist ihr Wert um hundert gesunken\n",
            "Ihr Wert ist jetzt 1\n",
            "1 muss meine Glückszahl sein!\n",
            "Einen schönen Tag noch!\n"
          ]
        }
      ]
    },
    {
      "cell_type": "markdown",
      "source": [
        "### Übung 2\n",
        "\n",
        "Mit der Funktion `len`lässt sich unter anderem die Länge eines Strings ermitteln. Die Funktion gibt die Anzahl der Zeichen eines Strings zurück.\n",
        "\n",
        "Einige Beispiele, wie das funktioniert"
      ],
      "metadata": {
        "id": "voY7_kZciKGH"
      }
    },
    {
      "cell_type": "code",
      "source": [
        "word = \"abcd\"\n",
        "print(len(word))\n",
        "\n",
        "print(len(\"hi there\"))\n",
        "\n",
        "word2 = \"howdydoody\"\n",
        "length = len(word2)\n",
        "print(length)\n",
        "\n",
        "empty_string = \"\"\n",
        "length = len(empty_string)\n",
        "print(length)"
      ],
      "metadata": {
        "colab": {
          "base_uri": "https://localhost:8080/"
        },
        "id": "KgrmnUNNiQs6",
        "outputId": "66ee6ca0-6ee0-42f4-896b-386d13813c0f"
      },
      "execution_count": 32,
      "outputs": [
        {
          "output_type": "stream",
          "name": "stdout",
          "text": [
            "4\n",
            "8\n",
            "10\n",
            "0\n"
          ]
        }
      ]
    },
    {
      "cell_type": "markdown",
      "source": [
        "Schreibe ein Programm, das den Benutzer nach einem Wort fragt und anschließend die Anzahl der Zeichen ausgibt, wenn mehr als ein Wort eingegeben wurde.\n",
        "\n",
        "Beispiele für erwartetes Verhalten:\n",
        "```\n",
        "Bitte geben Sie ein Wort ein: hey\n",
        "Das Wort „hey“ besteht aus 3 Buchstaben. Danke!\n",
        "```\n",
        "```\n",
        "Beispielausgabe\n",
        "Bitte geben Sie ein Wort ein: Banane .\n",
        "Das Wort Banane besteht aus 6 Buchstaben. Danke!\n",
        "```\n",
        "\n",
        "```\n",
        "Bitte geben Sie ein Wort ein: b\n",
        "Danke!\n",
        "```\n"
      ],
      "metadata": {
        "id": "y1jdG734iWaU"
      }
    },
    {
      "cell_type": "code",
      "source": [
        "# Dein Code hier\n",
        "wort = input(\"Bitte geben Sie ein Wort ein: \")\n",
        "\n",
        "# Entfernt überflüssige Leerzeichen und Punkt am Ende (z. B. \"Banane .\")\n",
        "wort = wort.strip().rstrip(\".\")  # optional: \".\" entfernen, wenn gewünscht\n",
        "\n",
        "# Prüfen, wie viele Buchstaben eingegeben wurden\n",
        "if len(wort) > 1:\n",
        "    print(f'Das Wort „{wort}“ besteht aus {len(wort)} Buchstaben. Danke!')\n",
        "else:\n",
        "    print(\"Danke!\")"
      ],
      "metadata": {
        "id": "zDApzsDRjOBj",
        "outputId": "65752541-4b12-4158-e822-cf5487751c4e",
        "colab": {
          "base_uri": "https://localhost:8080/"
        }
      },
      "execution_count": 35,
      "outputs": [
        {
          "output_type": "stream",
          "name": "stdout",
          "text": [
            "Bitte geben Sie ein Wort ein: b\n",
            "Danke!\n"
          ]
        }
      ]
    },
    {
      "cell_type": "markdown",
      "source": [
        "---\n",
        "\n",
        "# Teil 2: Weitere Bedingungen\n",
        "\n",
        "Nach diesem Abschnitt\n",
        "\n",
        "- Du erfährst, wie du mehrere Verzweigungen innerhalb bedingter Anweisungen erstellst.\n",
        "- Du wirst den Zweck von `if`-, - `elif`und `else`-Anweisungen innerhalb einer bedingten Anweisung verstehen\n",
        "- Du kannst die Modulo-Operation `%` in Booleschen Ausdrücken verwenden"
      ],
      "metadata": {
        "id": "ntUFtApQkpBa"
      }
    },
    {
      "cell_type": "markdown",
      "source": [
        "Sehen wir uns ein Programm an, das den Benutzer auffordert, eine Zahl einzugeben, und dann unterschiedliche Meldungen ausgibt, je nachdem, ob die Zahl negativ, positiv oder gleich Null ist:"
      ],
      "metadata": {
        "id": "pSU7s5q-k-F7"
      }
    },
    {
      "cell_type": "code",
      "source": [
        "number = int(input(\"Gib eine Zahl ein: \"))\n",
        "\n",
        "if number < 0:\n",
        "    print(\"Die Zahl ist negativ\")\n",
        "\n",
        "if number >= 0:\n",
        "    print(\"Die Zahl ist positiv oder null\")"
      ],
      "metadata": {
        "colab": {
          "base_uri": "https://localhost:8080/"
        },
        "id": "Glm5F5OnlGjf",
        "outputId": "9572164e-7594-4ed7-d962-905316c20985"
      },
      "execution_count": 36,
      "outputs": [
        {
          "output_type": "stream",
          "name": "stdout",
          "text": [
            "Gib eine Zahl ein: 45\n",
            "Die Zahl ist positiv oder null\n"
          ]
        }
      ]
    },
    {
      "cell_type": "markdown",
      "source": [
        "Das sieht etwas umständlich und repetitiv aus. Wir wollen immer nur einen der ifBlöcke ausführen, weil die Eingabe immer entweder unter Null, Null oder darüber liegen wird. Das heißt, entweder `number < 0` oder `number >= 0` ist wahr, aber nie beides gleichzeitig. Die erste bedingte Anweisung enthält also eigentlich alles, was wir hier brauchen. Wenn sie wahr ist, ist die Zahl negativ. Wenn sie falsch ist, ist die Zahl gleich Null oder positiv.\n",
        "\n",
        "Anstatt eine weitere bedingte Anweisung zu erstellen, wie im obigen Beispiel, ist es möglich, einen weiteren Zweig derselben bedingten Anweisung zu erstellen, um alle Fälle abzudecken, in denen die Bedingung falsch war . Dies wird als `else`Anweisung bezeichnet.\n",
        "\n",
        "Das vorherige Beispiel umgeschrieben:"
      ],
      "metadata": {
        "id": "EEsM3oAulZO0"
      }
    },
    {
      "cell_type": "code",
      "source": [
        "number = int(input(\"Gib eine Zahl ein: \"))\n",
        "\n",
        "if number < 0:\n",
        "    print(\"Die Zahl ist negativ\")\n",
        "else:\n",
        "    print(\"Die Zahl ist positiv oder null\")"
      ],
      "metadata": {
        "id": "VrEHAL3Y0_TE",
        "outputId": "54186181-fb1a-47b8-b306-af211f57f318",
        "colab": {
          "base_uri": "https://localhost:8080/"
        }
      },
      "execution_count": 37,
      "outputs": [
        {
          "output_type": "stream",
          "name": "stdout",
          "text": [
            "Gib eine Zahl ein: 45\n",
            "Die Zahl ist positiv oder null\n"
          ]
        }
      ]
    },
    {
      "cell_type": "markdown",
      "source": [
        "Bei einer if-else-Konstruktion wird immer genau einer der Zweige ausgeführt. Das folgende Bild verdeutlicht die Struktur:\n",
        "\n",
        "![Screenshot 2025-02-10 132839.png](data:image/png;base64,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)"
      ],
      "metadata": {
        "id": "dCOtDilm1EXX"
      }
    },
    {
      "cell_type": "markdown",
      "source": [
        "Es kann nie einen else-Zweig ohne einen if-Zweig davor geben. Die if-else-Konstruktion als Ganzes bildet eine einzelne bedingte Anweisung .\n",
        "\n",
        "Das folgende Beispiel prüft, ob eine vom Benutzer eingegebene Zahl gerade ist oder nicht. Die Parität kann mit dem Modulo-Operator geprüft werden %, der den Rest einer ganzzahligen Divisionsoperation erzeugt. Bei einer Division durch zwei ist die Zahl gerade, wenn der Rest Null ist. Andernfalls ist die Zahl ungerade."
      ],
      "metadata": {
        "id": "igqMrZbM1bnf"
      }
    },
    {
      "cell_type": "code",
      "source": [
        "number = int(input(\"Gib eine Zahl ein: \"))\n",
        "\n",
        "if number % 2 == 0:\n",
        "    print(\"Die Zahl ist gerade\")\n",
        "else:\n",
        "    print(\"Die Zahl ist ungerade\")"
      ],
      "metadata": {
        "colab": {
          "base_uri": "https://localhost:8080/"
        },
        "id": "nPqyqX7R1zEn",
        "outputId": "5af9decc-3aa6-4379-acee-f4587c18019b"
      },
      "execution_count": 38,
      "outputs": [
        {
          "output_type": "stream",
          "name": "stdout",
          "text": [
            "Gib eine Zahl ein: 45\n",
            "Die Zahl ist ungerade\n"
          ]
        }
      ]
    },
    {
      "cell_type": "markdown",
      "source": [
        "Ein weiteres Beispiel mit Stringvergleich:\n"
      ],
      "metadata": {
        "id": "jsdIgteH1-2u"
      }
    },
    {
      "cell_type": "code",
      "source": [
        "correct = \"kittycat\"\n",
        "password = input(\"Tippe bitte ein Passwort ein: \")\n",
        "\n",
        "if password == correct:\n",
        "    print(\"Willkommen\")\n",
        "else:\n",
        "    print(\"No admittance\")"
      ],
      "metadata": {
        "id": "Qfq9KbC12HcR",
        "outputId": "12593e4c-4c80-4df6-9d34-da80a2c5e97c",
        "colab": {
          "base_uri": "https://localhost:8080/"
        }
      },
      "execution_count": 40,
      "outputs": [
        {
          "output_type": "stream",
          "name": "stdout",
          "text": [
            "Tippe bitte ein Passwort ein: kittycat\n",
            "Willkommen\n"
          ]
        }
      ]
    },
    {
      "cell_type": "markdown",
      "source": [
        "### Übung\n",
        "\n",
        "Schreibe ein Programm, das den Benutzer nach seinem Alter fragt. Das Programm sollte dann eine Meldung ausgeben, die angibt, ob der Benutzer volljährig ist oder nicht, wobei 18 als Mindestalter gilt.\n",
        "\n",
        "Einige Beispiele für das erwartete Verhalten:\n",
        "\n",
        "\n",
        "\n",
        "```\n",
        "Wie alt bist du? 12\n",
        "Du bist noch nicht volljährig!\n",
        "```\n",
        "\n",
        "```\n",
        "Wie alt bist du? 32\n",
        "Du bist volljährig!\n",
        "```\n"
      ],
      "metadata": {
        "id": "3TS4YjIQFZ_g"
      }
    },
    {
      "cell_type": "code",
      "source": [
        "# Dein Code hier\n",
        "alter = int(input(\"Wie alt bist du? \"))\n",
        "\n",
        "if alter >= 18:\n",
        "    print(\"Du bist volljährig!\")\n",
        "else:\n",
        "    print(\"Du bist noch nicht volljährig!\")"
      ],
      "metadata": {
        "id": "AZuyfPx1F1At",
        "outputId": "150679f9-1a96-411c-cfcc-4362bff75d77",
        "colab": {
          "base_uri": "https://localhost:8080/"
        }
      },
      "execution_count": 41,
      "outputs": [
        {
          "output_type": "stream",
          "name": "stdout",
          "text": [
            "Wie alt bist du? 36\n",
            "Du bist volljährig!\n"
          ]
        }
      ]
    },
    {
      "cell_type": "markdown",
      "source": [
        "## Alternative Verzweigungen mit der elif-Anweisung\n",
        "Oft gibt es mehr als zwei Optionen, die das Programm berücksichtigen muss. Beispielsweise kann das Ergebnis eines Fußballspiels drei verschiedene Varianten haben: Heimsieg, Auswärtssieg oder Unentschieden.\n",
        "\n",
        "Eine bedingte Anweisung kann mit einem Zweig ergänzt werden elif. Es ist die Abkürzung für „else if“, was bedeutet, dass der Zweig eine Alternative zur ursprünglichen Bedingung enthält. Wichtig ist, dass eine elifAnweisung nur ausgeführt wird, wenn keiner der vorhergehenden Zweige ausgeführt wird.\n",
        "\n",
        "![Screenshot 2025-02-10 144302.png](data:image/png;base64,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)"
      ],
      "metadata": {
        "id": "iBHTVaiAF2mY"
      }
    },
    {
      "cell_type": "markdown",
      "source": [],
      "metadata": {
        "id": "a_zsGoIFGdw6"
      }
    },
    {
      "cell_type": "code",
      "source": [
        "goals_home = int(input(\"Heimtore erzielt: \"))\n",
        "goals_away = int(input(\"Auswärtstore: \"))\n",
        "\n",
        "if goals_home > goals_away:\n",
        "    print(\"Die Heimmannschaft hat gewonnen!\")\n",
        "elif goals_away > goals_home:\n",
        "    print(\"Die Auswärtsmannschaft hat gewonnen!\")\n",
        "else:\n",
        "    print(\"Es ist ein unentschieden!\")"
      ],
      "metadata": {
        "id": "UyTFMGfsGmWH",
        "outputId": "7c258af7-ed77-4992-a9fd-026c38456177",
        "colab": {
          "base_uri": "https://localhost:8080/"
        }
      },
      "execution_count": 42,
      "outputs": [
        {
          "output_type": "stream",
          "name": "stdout",
          "text": [
            "Heimtore erzielt: 6\n",
            "Auswärtstore: 3\n",
            "Die Heimmannschaft hat gewonnen!\n"
          ]
        }
      ]
    },
    {
      "cell_type": "markdown",
      "source": [
        "Dieses Programm könnte bei unterschiedlichen Eingaben drei verschiedene Anweisungen ausgeben:\n",
        "\n",
        "\n",
        "\n",
        "```\n",
        "Erzielte Heimtore: 4\n",
        "Erzielte Auswärtstore: 2\n",
        "Die Heimmannschaft hat gewonnen!\n",
        "```\n",
        "\n",
        "\n",
        "\n",
        "```\n",
        "Beispielausgabe\n",
        "Erzielte Heimtore: 0\n",
        "Erzielte Auswärtstore: 6\n",
        "Die Auswärtsmannschaft hat gewonnen!\n",
        "```\n",
        "\n",
        "\n",
        "```\n",
        "Erzielte Heimtore: 3.\n",
        "Erzielte Auswärtstore: 3.\n",
        "Es steht unentschieden!\n",
        "```\n",
        "\n",
        "\n",
        "\n",
        "Im obigen Beispiel gibt es drei alternative Verzweigungen, von denen immer genau eine ausgeführt wird. Es gibt jedoch keine Begrenzung für die Anzahl der elifVerzweigungen, die eine bedingte Anweisung enthalten kann, und die elseVerzweigung ist nicht obligatorisch.\n",
        "\n",
        "Dies ist auch eine gültige bedingte Anweisung:\n"
      ],
      "metadata": {
        "id": "YNfnlQxYG4fH"
      }
    },
    {
      "cell_type": "code",
      "source": [
        "print(\"Ferienkalender\")\n",
        "date = input(\"Welches Datum haben wir heute? \")\n",
        "\n",
        "if date == \"26. Dezember\":\n",
        "    print(\"Heute ist der zweite Weihnachtsfeiertag\")\n",
        "elif date == \"31. Dezember\":\n",
        "    print(\"Heute ist Silvester\")\n",
        "elif date == \"01. Januar\":\n",
        "    print(\"Heute ist Neujahr\")\n",
        "\n",
        "print(\"Danke und Tschüss.\")"
      ],
      "metadata": {
        "id": "LYfBzc2iHt1S",
        "outputId": "8e83ed83-87b7-4711-e84c-5497ba48dfca",
        "colab": {
          "base_uri": "https://localhost:8080/"
        }
      },
      "execution_count": 44,
      "outputs": [
        {
          "output_type": "stream",
          "name": "stdout",
          "text": [
            "Ferienkalender\n",
            "Welches Datum haben wir heute? 01. Januar\n",
            "Heute ist Neujahr\n",
            "Danke und Tschüss.\n"
          ]
        }
      ]
    },
    {
      "cell_type": "markdown",
      "source": [
        "Beachte, dass das vorherige Beispiel keinen `else`Zweig hat. Wenn der Benutzer ein Datum eingibt, das in keinem der Zweige `if`oder erwähnt wird `elif`, oder ein Datum in einem anderen Format eingibt, wird keiner der drei Zweige der bedingten Anweisung ausgeführt.\n",
        "\n",
        "\n",
        "\n",
        "```\n",
        "Feiertagskalender\n",
        "Welches Datum ist heute? 25. Dezember\n",
        "Danke und tschüss.\n",
        "```\n",
        "\n"
      ],
      "metadata": {
        "id": "seUfXttGIgPf"
      }
    },
    {
      "cell_type": "markdown",
      "source": [
        "### Übung\n",
        "\n",
        "Schreibe ein Programm, das nach zwei Ganzzahlen fragt. Das Programm soll dann die größere Zahl ausgeben. Wenn die Zahlen gleich sind, soll das Programm eine andere Meldung ausgeben.\n",
        "\n",
        "Einige Beispiele für das erwartete Verhalten:\n",
        "\n",
        "\n",
        "\n",
        "```\n",
        "Bitte geben Sie die erste Zahl ein: 5\n",
        "Bitte geben Sie eine weitere Zahl ein: 3\n",
        "Die größere Zahl war: 5\n",
        "```\n",
        "\n",
        "\n",
        "```\n",
        "Bitte geben Sie die erste Zahl ein: 5\n",
        "Bitte geben Sie eine weitere Zahl ein: 8\n",
        "Die größere Zahl war: 8\n",
        "```\n",
        "\n",
        "\n",
        "\n",
        "```\n",
        "Bitte geben Sie die erste Zahl ein: 5.\n",
        "Bitte geben Sie eine weitere Zahl ein: 5.\n",
        "Die Zahlen sind gleich!\n",
        "```\n",
        "\n",
        "\n"
      ],
      "metadata": {
        "id": "jIZCi-StIwg9"
      }
    },
    {
      "cell_type": "code",
      "source": [
        "# Dein Code hier\n",
        "zahl1 = int(input(\"Bitte geben Sie die erste Zahl ein: \"))\n",
        "\n",
        "zahl2 = int(input(\"Bitte geben Sie eine weitere Zahl ein: \"))\n",
        "\n",
        "if zahl1 > zahl2:\n",
        "    print(\"Die größere Zahl war: \" + str(zahl1))\n",
        "elif zahl2 > zahl1:\n",
        "    print(\"Die größere Zahl war: \" + str(zahl2))\n",
        "else:\n",
        "    print(\"Die Zahlen sind gleich!\")"
      ],
      "metadata": {
        "id": "AjzuRnDjJBGU",
        "outputId": "2e57b92e-effb-44a3-bf8e-b2b069c9714d",
        "colab": {
          "base_uri": "https://localhost:8080/"
        }
      },
      "execution_count": 47,
      "outputs": [
        {
          "output_type": "stream",
          "name": "stdout",
          "text": [
            "Bitte geben Sie die erste Zahl ein: 5\n",
            "Bitte geben Sie eine weitere Zahl ein: 5\n",
            "Die Zahlen sind gleich!\n"
          ]
        }
      ]
    },
    {
      "cell_type": "markdown",
      "source": [
        "### Übung 2\n",
        "\n",
        "Schriebe ein Programm, das nach den Namen und dem Alter von zwei Personen fragt. Das Programm sollte dann den Namen der älteren Person ausdrucken.\n",
        "\n",
        "Einige Beispiele für das erwartete Verhalten:\n",
        "\n",
        "\n",
        "\n",
        "```\n",
        "Person 1:\n",
        "Name: Alan\n",
        "Alter: 26\n",
        "\n",
        "Person 2:\n",
        "Name: Ada\n",
        "Alter: 27\n",
        "Die Ältere ist Ada\n",
        "```\n",
        "\n",
        "\n",
        "\n",
        "```\n",
        "Person 1:\n",
        "Name: Bill\n",
        "Alter: 1\n",
        "\n",
        "Person 2:\n",
        "Name: Jean\n",
        "Alter: 1\n",
        "Bill und Jean sind gleich alt\n",
        "```\n",
        "\n",
        "\n",
        "\n"
      ],
      "metadata": {
        "id": "VD1gxb4KJL0Y"
      }
    },
    {
      "cell_type": "code",
      "source": [
        "# Dein Code hier\n",
        "print(\"Person 1:\")\n",
        "name1 = input(\"Name: \")\n",
        "alter1 = int(input(\"Alter: \"))\n",
        "\n",
        "# Eingaben für Person 2\n",
        "print(\"\\nPerson 2:\")\n",
        "name2 = input(\"Name: \")\n",
        "alter2 = int(input(\"Alter: \"))\n",
        "\n",
        "# Vergleich der Alter\n",
        "if alter1 > alter2:\n",
        "    print(\"Die Ältere ist \" + name1)\n",
        "elif alter2 > alter1:\n",
        "    print(\"Die Ältere ist \" + name2)\n",
        "else:\n",
        "    print(name1 + \" und \" + name2 + \" sind gleich alt\")"
      ],
      "metadata": {
        "id": "i7G5wyKIJl4F",
        "outputId": "8cec51f0-9bb8-4a4d-d296-515e2773c4eb",
        "colab": {
          "base_uri": "https://localhost:8080/"
        }
      },
      "execution_count": 48,
      "outputs": [
        {
          "output_type": "stream",
          "name": "stdout",
          "text": [
            "Person 1:\n",
            "Name: Thor\n",
            "Alter: 36\n",
            "\n",
            "Person 2:\n",
            "Name: John\n",
            "Alter: 36\n",
            "Thor und John sind gleich alt\n"
          ]
        }
      ]
    },
    {
      "cell_type": "markdown",
      "source": [
        "### Übung 3\n",
        "\n",
        "Python-Vergleichsoperatoren können auch auf Strings angewendet werden. String `a`ist kleiner als string, `b`wenn es alphabetisch vor kommt b. Beachte jedoch, dass der Vergleich nur dann zuverlässig ist, wenn\n",
        "die verglichenen Zeichen die gleiche Schreibweise haben, also entweder beide GROSSBUCHSTABEN oder beide kleingeschrieben\n",
        "Es wird nur das englische Standardalphabet von A bis Z bzw. A bis Z verwendet.\n",
        "Schreibe bitte ein Programm, das den Benutzer nach zwei Wörtern fragt. Das Programm soll dann dasjenige ausgeben, das alphabetisch zuletzt vorkommt.\n",
        "\n",
        "Du kannst davon ausgehen, dass alle Wörter vollständig in Kleinbuchstaben geschrieben werden.\n",
        "\n",
        "Einige Beispiele für das erwartete Verhalten:\n",
        "\n",
        "\n",
        "\n",
        "```\n",
        "Bitte geben Sie das 1. Wort ein: Auto.\n",
        "Bitte geben Sie das 2. Wort ein: Roller.\n",
        "Roller kommt alphabetisch zuletzt.\n",
        "```\n",
        "\n",
        "\n",
        "\n",
        "```\n",
        "Bitte geben Sie das 1. Wort ein: Zorro.\n",
        "Bitte geben Sie das 2. Wort ein: Batman.\n",
        "Zorro kommt alphabetisch zuletzt.\n",
        "```\n",
        "\n",
        "\n",
        "\n",
        "```\n",
        "Bitte geben Sie das 1. Wort ein: Python.\n",
        "Bitte geben Sie das 2. Wort ein: Python.\n",
        "Sie haben das gleiche Wort zweimal eingegeben.\n",
        "```\n",
        "\n",
        "\n",
        "\n"
      ],
      "metadata": {
        "id": "IkS5Zr6SJnYa"
      }
    },
    {
      "cell_type": "code",
      "source": [
        "# Hier mein Code\n",
        "wort1 = input(\"Bitte geben Sie das 1. Wort ein: \")\n",
        "wort2 = input(\"Bitte geben Sie das 2. Wort ein: \")\n",
        "\n",
        "if wort1 < wort2:\n",
        "    print(wort2 + \" kommt alphabetisch zuletzt.\")\n",
        "elif wort2 < wort1:\n",
        "    print(wort1 + \" kommt alphabetisch zuletzt.\")\n",
        "else:\n",
        "    print(\"Sie haben das gleiche Wort zweimal eingegeben.\")"
      ],
      "metadata": {
        "id": "fdaOm5YCwSFd",
        "outputId": "0674ce96-c4dc-4fee-b1d9-7bd1b4d8a92c",
        "colab": {
          "base_uri": "https://localhost:8080/"
        }
      },
      "execution_count": 49,
      "outputs": [
        {
          "output_type": "stream",
          "name": "stdout",
          "text": [
            "Bitte geben Sie das 1. Wort ein: Thor Groth\n",
            "Bitte geben Sie das 2. Wort ein: Joel Hilberg\n",
            "Thor Groth kommt alphabetisch zuletzt.\n"
          ]
        }
      ]
    }
  ]
}