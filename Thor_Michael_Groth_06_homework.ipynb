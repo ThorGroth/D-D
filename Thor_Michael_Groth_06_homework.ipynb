{
  "cells": [
    {
      "cell_type": "markdown",
      "metadata": {
        "id": "view-in-github",
        "colab_type": "text"
      },
      "source": [
        "<a href=\"https://colab.research.google.com/github/ThorGroth/D-D/blob/master/Thor_Michael_Groth_06_homework.ipynb\" target=\"_parent\"><img src=\"https://colab.research.google.com/assets/colab-badge.svg\" alt=\"Open In Colab\"/></a>"
      ]
    },
    {
      "cell_type": "markdown",
      "metadata": {
        "id": "wC0YVkqMS2BY"
      },
      "source": [
        "# Python Übungsaufgaben - Funktionen\n",
        "## 1. Funktionsgrundlagen\n",
        "**Aufgabe 1.1**: Schreibe eine Funktion begrüsse_person, die einen Namen als Parameter annimmt und eine Begrüßung ausgibt."
      ]
    },
    {
      "cell_type": "code",
      "execution_count": 7,
      "metadata": {
        "colab": {
          "base_uri": "https://localhost:8080/"
        },
        "id": "O-pIEPUeS2Ba",
        "outputId": "3fd243a1-4db7-4239-d8d4-452efb96919a"
      },
      "outputs": [
        {
          "output_type": "stream",
          "name": "stdout",
          "text": [
            "Hallo Lisa! Willkommen zum Python-Lernen.\n",
            "Hallo Helen! Willkommen zum Python-Lernen.\n"
          ]
        }
      ],
      "source": [
        "# Beispielaufruf:\n",
        "def begrüsse_person(name): # Soll ausgeben: \"Hallo Lisa! Willkommen zum Python-Lernen.\"\n",
        "  print(f\"Hallo {name}! Willkommen zum Python-Lernen.\")\n",
        "\n",
        "begrüsse_person(\"Lisa\")\n",
        "begrüsse_person(\"Helen\")"
      ]
    },
    {
      "cell_type": "markdown",
      "metadata": {
        "id": "FLjhT-ztS2Bc"
      },
      "source": [
        "**Aufgabe 1.2**: Schreibe eine Funktion zeichne_rechteck, die ein Rechteck aus Sternchen (*) mit einer bestimmten Breite und Höhe ausgibt."
      ]
    },
    {
      "cell_type": "code",
      "execution_count": 8,
      "metadata": {
        "colab": {
          "base_uri": "https://localhost:8080/"
        },
        "id": "QUptKbDpS2Bc",
        "outputId": "5458906c-524a-4dce-a181-7e242d7381ed"
      },
      "outputs": [
        {
          "output_type": "stream",
          "name": "stdout",
          "text": [
            "***\n",
            "***\n"
          ]
        }
      ],
      "source": [
        "# Beispielaufruf:\n",
        "def zeichne_rechteck(breite, hoehe):\n",
        "    for _ in range(hoehe):\n",
        "        print(\"*\" * breite)\n",
        "\n",
        "zeichne_rechteck(3, 2)\n",
        "# Soll ausgeben:\n",
        "# ***\n",
        "# ***"
      ]
    },
    {
      "cell_type": "markdown",
      "metadata": {
        "id": "GfS0KjasS2Bd"
      },
      "source": [
        "## 2. Rückgabewerte\n",
        "**Aufgabe 2.1**: Schreibe eine Funktion summe_berechnen, die zwei Zahlen addiert und das Ergebnis zurückgibt."
      ]
    },
    {
      "cell_type": "code",
      "execution_count": 10,
      "metadata": {
        "colab": {
          "base_uri": "https://localhost:8080/"
        },
        "id": "Gfbef6WAS2Bd",
        "outputId": "bdf50478-9f81-4e1c-df65-d54e937c81e5"
      },
      "outputs": [
        {
          "output_type": "stream",
          "name": "stdout",
          "text": [
            "8\n"
          ]
        }
      ],
      "source": [
        "def summe_berechnen(a, b):\n",
        "    return a + b\n",
        "\n",
        "# Beispielaufruf:\n",
        "ergebnis = summe_berechnen(5, 3)\n",
        "print(ergebnis)  # Soll 8 ausgeben"
      ]
    },
    {
      "cell_type": "markdown",
      "metadata": {
        "id": "iT2ZDM29S2Bd"
      },
      "source": [
        "**Aufgabe 2.2**: Schreibe eine Funktion fahrenheit_zu_celsius, die eine Temperatur in Fahrenheit in Celsius umrechnet und das Ergebnis zurückgibt. Die Formel ist: (fahrenheit - 32) * 5/9."
      ]
    },
    {
      "cell_type": "code",
      "execution_count": 12,
      "metadata": {
        "colab": {
          "base_uri": "https://localhost:8080/"
        },
        "id": "i2fv_88yS2Bd",
        "outputId": "bf40c95d-ed65-4952-e6e6-35b7b7eca0da"
      },
      "outputs": [
        {
          "output_type": "stream",
          "name": "stdout",
          "text": [
            "20.0\n"
          ]
        }
      ],
      "source": [
        "def fahrenheit_zu_celsius(fahrenheit):\n",
        "    celsius = (fahrenheit - 32) * 5 / 9\n",
        "    return celsius\n",
        "\n",
        "# Beispielaufruf:\n",
        "celsius = fahrenheit_zu_celsius(68)\n",
        "print(celsius)  # Soll etwa 20.0 ausgeben"
      ]
    },
    {
      "cell_type": "markdown",
      "metadata": {
        "id": "sKflv_UsS2Bd"
      },
      "source": [
        "## 3. Funktionsparameter\n",
        "**Aufgabe 3.1**: Schreibe eine Funktion begrüssung, die einen Namen und eine Tageszeit (Standardwert: \"Tag\") als Parameter annimmt und eine passende Begrüßung ausgibt."
      ]
    },
    {
      "cell_type": "code",
      "execution_count": 14,
      "metadata": {
        "colab": {
          "base_uri": "https://localhost:8080/"
        },
        "id": "D-PLp4prS2Be",
        "outputId": "f7f1baaa-9851-4b63-a488-b2a73971aadc"
      },
      "outputs": [
        {
          "output_type": "stream",
          "name": "stdout",
          "text": [
            "Guten Tag, Max!\n",
            "Guten Morgen, Anna!\n"
          ]
        }
      ],
      "source": [
        "def begrüssung(name, tageszeit = \"Tag\"):\n",
        "    print(f\"Guten {tageszeit}, {name}!\")\n",
        "\n",
        "# Beispielaufrufe:\n",
        "begrüssung(\"Max\")  # Soll ausgeben: \"Guten Tag, Max!\"\n",
        "begrüssung(\"Anna\", \"Morgen\")  # Soll ausgeben: \"Guten Morgen, Anna!\""
      ]
    },
    {
      "cell_type": "markdown",
      "metadata": {
        "id": "zCfVjhfOS2Be"
      },
      "source": [
        "**Aufgabe 3.2**: Schreibe eine Funktion erstelle_adresse, die Parameter für Straße, Hausnummer, Postleitzahl und Stadt hat. Die Funktion soll eine formatierte Adresse zurückgeben."
      ]
    },
    {
      "cell_type": "code",
      "execution_count": 17,
      "metadata": {
        "colab": {
          "base_uri": "https://localhost:8080/"
        },
        "id": "psrkZbT3S2Be",
        "outputId": "fe3b1b3a-ef45-4503-e691-5bfd1d6bd538"
      },
      "outputs": [
        {
          "output_type": "stream",
          "name": "stdout",
          "text": [
            "Hauptstraße 12, 12345 Berlin\n"
          ]
        }
      ],
      "source": [
        "def erstelle_adresse(strasse, hausnummer, plz, stadt):\n",
        "    return f\"{strasse} {hausnummer}, {plz} {stadt}\"\n",
        "\n",
        "# Beispielaufruf:\n",
        "adresse = erstelle_adresse(\"Hauptstraße\", 12, \"12345\", \"Berlin\")\n",
        "print(adresse)  # Soll ausgeben: \"Hauptstraße 12, 12345 Berlin\""
      ]
    },
    {
      "cell_type": "markdown",
      "metadata": {
        "id": "QYjr9mD2S2Be"
      },
      "source": [
        "## 4.Fortgeschrittene Funktionskonzepte\n",
        "**Aufgabe 4.1**: Schreibe eine Lambda-Funktion, die prüft, ob eine Zahl gerade ist. Teste sie mit den Zahlen 4 und 7."
      ]
    },
    {
      "cell_type": "code",
      "execution_count": 18,
      "metadata": {
        "colab": {
          "base_uri": "https://localhost:8080/"
        },
        "id": "wRqW2Fq0S2Be",
        "outputId": "8fdaf74f-7675-403d-e961-4ecf580527aa"
      },
      "outputs": [
        {
          "output_type": "stream",
          "name": "stdout",
          "text": [
            "True\n",
            "False\n"
          ]
        }
      ],
      "source": [
        "# Beispielaufruf:\n",
        "ist_gerade = lambda x: x % 2 == 0  # Vervollständige die Funktion\n",
        "print(ist_gerade(4))  # Soll True ausgeben\n",
        "print(ist_gerade(7))  # Soll False ausgeben"
      ]
    },
    {
      "cell_type": "markdown",
      "metadata": {
        "id": "L46njFcfS2Be"
      },
      "source": [
        "**Aufgabe 4.2**: Schreibe eine Funktion anwenden, die eine Funktion und eine Zahl als Parameter nimmt und die Funktion auf die Zahl anwendet. Teste sie mit verschiedenen Funktionen (z.B. Quadrieren, Verdoppeln)."
      ]
    },
    {
      "cell_type": "code",
      "execution_count": 19,
      "metadata": {
        "colab": {
          "base_uri": "https://localhost:8080/"
        },
        "id": "M5iKsjkQS2Be",
        "outputId": "e0aa98ee-f15d-474b-bec0-7aac92b9be01"
      },
      "outputs": [
        {
          "output_type": "stream",
          "name": "stdout",
          "text": [
            "9\n",
            "10\n"
          ]
        }
      ],
      "source": [
        "def anwenden(funktion, zahl):\n",
        "    return funktion(zahl)\n",
        "\n",
        "# Beispielaufrufe:\n",
        "def quadriere(x):\n",
        "    return x ** 2\n",
        "\n",
        "def verdopple(x):\n",
        "    return x * 2\n",
        "\n",
        "print(anwenden(quadriere, 3))  # Soll 9 ausgeben\n",
        "print(anwenden(verdopple, 5))  # Soll 10 ausgeben"
      ]
    }
  ],
  "metadata": {
    "kernelspec": {
      "display_name": "Python 3",
      "language": "python",
      "name": "python3"
    },
    "language_info": {
      "codemirror_mode": {
        "name": "ipython",
        "version": 3
      },
      "file_extension": ".py",
      "mimetype": "text/x-python",
      "name": "python",
      "nbconvert_exporter": "python",
      "pygments_lexer": "ipython3",
      "version": "3.11.11"
    },
    "colab": {
      "provenance": [],
      "include_colab_link": true
    }
  },
  "nbformat": 4,
  "nbformat_minor": 0
}