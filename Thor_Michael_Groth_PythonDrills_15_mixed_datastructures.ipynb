{
  "cells": [
    {
      "cell_type": "markdown",
      "metadata": {
        "id": "view-in-github",
        "colab_type": "text"
      },
      "source": [
        "<a href=\"https://colab.research.google.com/github/ThorGroth/D-D/blob/master/Thor_Michael_Groth_PythonDrills_15_mixed_datastructures.ipynb\" target=\"_parent\"><img src=\"https://colab.research.google.com/assets/colab-badge.svg\" alt=\"Open In Colab\"/></a>"
      ]
    },
    {
      "cell_type": "markdown",
      "id": "a26f9232",
      "metadata": {
        "id": "a26f9232"
      },
      "source": [
        "## Aufgabe 1: Liste von Listen erstellen"
      ]
    },
    {
      "cell_type": "markdown",
      "id": "0384bcac",
      "metadata": {
        "id": "0384bcac"
      },
      "source": [
        "Ergänze den Code, um eine Liste mit 3 Listen zu erstellen."
      ]
    },
    {
      "cell_type": "code",
      "execution_count": 3,
      "id": "fc25caef",
      "metadata": {
        "id": "fc25caef",
        "colab": {
          "base_uri": "https://localhost:8080/"
        },
        "outputId": "09d7e936-4daf-4bcd-feef-54a009e234a7"
      },
      "outputs": [
        {
          "output_type": "stream",
          "name": "stdout",
          "text": [
            "[[1, 2, 3], [4, 5, 6], [7, 8, 9]]\n"
          ]
        }
      ],
      "source": [
        "matrix = [\n",
        "    [1, 2, 3],\n",
        "    [4, 5, 6],\n",
        "    [7, 8, 9]\n",
        "]\n",
        "print(matrix)"
      ]
    },
    {
      "cell_type": "markdown",
      "id": "575d5e36",
      "metadata": {
        "id": "575d5e36"
      },
      "source": [
        "## Aufgabe 2: Element aus einer verschachtelten Liste abrufen"
      ]
    },
    {
      "cell_type": "markdown",
      "id": "58ab18be",
      "metadata": {
        "id": "58ab18be"
      },
      "source": [
        "Ergänze den Code, um das Element `6` aus `matrix` zu erhalten."
      ]
    },
    {
      "cell_type": "code",
      "execution_count": 6,
      "id": "c1111959",
      "metadata": {
        "id": "c1111959",
        "colab": {
          "base_uri": "https://localhost:8080/"
        },
        "outputId": "bae19b9c-43cd-4a94-f89e-0203a1087491"
      },
      "outputs": [
        {
          "output_type": "stream",
          "name": "stdout",
          "text": [
            "6\n"
          ]
        }
      ],
      "source": [
        "matrix = [[1, 2, 3], [4, 5, 6], [7, 8, 9]]\n",
        "element = matrix[1][2]\n",
        "print(element)"
      ]
    },
    {
      "cell_type": "markdown",
      "id": "4bd4f145",
      "metadata": {
        "id": "4bd4f145"
      },
      "source": [
        "## Aufgabe 3: Alle Elemente einer bestimmten Liste ausgeben"
      ]
    },
    {
      "cell_type": "markdown",
      "id": "61d8a937",
      "metadata": {
        "id": "61d8a937"
      },
      "source": [
        "Ergänze den Code, um alle Elemente der zweiten Liste auszugeben."
      ]
    },
    {
      "cell_type": "code",
      "execution_count": 7,
      "id": "9ed00a39",
      "metadata": {
        "id": "9ed00a39",
        "colab": {
          "base_uri": "https://localhost:8080/"
        },
        "outputId": "f12a13ec-ad04-4698-ac38-af2e9b17ea3b"
      },
      "outputs": [
        {
          "output_type": "stream",
          "name": "stdout",
          "text": [
            "4\n",
            "5\n",
            "6\n"
          ]
        }
      ],
      "source": [
        "matrix = [[1, 2, 3], [4, 5, 6], [7, 8, 9]]\n",
        "for element in matrix[1]:\n",
        "    print(element)"
      ]
    },
    {
      "cell_type": "markdown",
      "id": "8ab26a2d",
      "metadata": {
        "id": "8ab26a2d"
      },
      "source": [
        "## Aufgabe 4: Letztes Element der letzten Liste abrufen"
      ]
    },
    {
      "cell_type": "markdown",
      "id": "45190304",
      "metadata": {
        "id": "45190304"
      },
      "source": [
        "Ergänze den Code, um das letzte Element der letzten Liste zu erhalten."
      ]
    },
    {
      "cell_type": "code",
      "execution_count": 8,
      "id": "6d061a4a",
      "metadata": {
        "id": "6d061a4a",
        "colab": {
          "base_uri": "https://localhost:8080/"
        },
        "outputId": "1881c620-817e-4ee1-8ed1-e5bbb6d74dc1"
      },
      "outputs": [
        {
          "output_type": "stream",
          "name": "stdout",
          "text": [
            "9\n"
          ]
        }
      ],
      "source": [
        "matrix = [[1, 2, 3], [4, 5, 6], [7, 8, 9]]\n",
        "letztes_element = matrix[2][2]\n",
        "print(letztes_element)"
      ]
    },
    {
      "cell_type": "markdown",
      "id": "16e48da6",
      "metadata": {
        "id": "16e48da6"
      },
      "source": [
        "## Aufgabe 5: Alle Elemente einer Matrix zeilenweise ausgeben"
      ]
    },
    {
      "cell_type": "markdown",
      "id": "e5cf906e",
      "metadata": {
        "id": "e5cf906e"
      },
      "source": [
        "Ergänze den Code, um alle Elemente der Matrix zeilenweise auszugeben."
      ]
    },
    {
      "cell_type": "code",
      "execution_count": 9,
      "id": "e7296757",
      "metadata": {
        "id": "e7296757",
        "colab": {
          "base_uri": "https://localhost:8080/"
        },
        "outputId": "25bc19a5-8ff4-4ce7-adc5-a725f5baec00"
      },
      "outputs": [
        {
          "output_type": "stream",
          "name": "stdout",
          "text": [
            "1\n",
            "2\n",
            "3\n",
            "4\n",
            "5\n",
            "6\n",
            "7\n",
            "8\n",
            "9\n"
          ]
        }
      ],
      "source": [
        "matrix = [[1, 2, 3], [4, 5, 6], [7, 8, 9]]\n",
        "for zeile in matrix:\n",
        "    for wert in zeile:\n",
        "        print(wert)"
      ]
    },
    {
      "cell_type": "markdown",
      "id": "0b8acde1",
      "metadata": {
        "id": "0b8acde1"
      },
      "source": [
        "## Aufgabe 6: Dictionary von Dictionaries erstellen"
      ]
    },
    {
      "cell_type": "markdown",
      "id": "2643b446",
      "metadata": {
        "id": "2643b446"
      },
      "source": [
        "Ergänze den Code, um ein Dictionary mit zwei verschachtelten Dictionaries zu erstellen."
      ]
    },
    {
      "cell_type": "code",
      "execution_count": 11,
      "id": "da174b89",
      "metadata": {
        "id": "da174b89",
        "colab": {
          "base_uri": "https://localhost:8080/"
        },
        "outputId": "97e8ef03-5db7-45a2-895c-f1a263f3b19c"
      },
      "outputs": [
        {
          "output_type": "stream",
          "name": "stdout",
          "text": [
            "{'Ben': {'Alter': 30, 'Stadt': 'Berlin'}, 'Anna': {'Alter': 25, 'Stadt': 'Hamburg'}}\n"
          ]
        }
      ],
      "source": [
        "daten = {\n",
        "    \"Ben\":{\"Alter\": 30, \"Stadt\": \"Berlin\"},\n",
        "    \"Anna\": {\"Alter\": 25, \"Stadt\": \"Hamburg\"}\n",
        "    }\n",
        "print(daten)"
      ]
    },
    {
      "cell_type": "markdown",
      "id": "e0f245ac",
      "metadata": {
        "id": "e0f245ac"
      },
      "source": [
        "## Aufgabe 7: Wert aus einem verschachtelten Dictionary abrufen"
      ]
    },
    {
      "cell_type": "markdown",
      "id": "5ee3f2a9",
      "metadata": {
        "id": "5ee3f2a9"
      },
      "source": [
        "Ergänze den Code, um das Alter von `Ben` aus `daten` abzurufen."
      ]
    },
    {
      "cell_type": "code",
      "execution_count": 12,
      "id": "2b85c5d5",
      "metadata": {
        "id": "2b85c5d5",
        "colab": {
          "base_uri": "https://localhost:8080/"
        },
        "outputId": "311ea774-02e6-4651-dc4d-8e9fbf52e63a"
      },
      "outputs": [
        {
          "output_type": "stream",
          "name": "stdout",
          "text": [
            "30\n"
          ]
        }
      ],
      "source": [
        "daten = {'Ben': {'Alter': 30, 'Stadt': 'Berlin'}, 'Anna': {'Alter': 25, 'Stadt': 'Hamburg'}}\n",
        "alter_ben = daten[\"Ben\"][\"Alter\"]\n",
        "print(alter_ben)"
      ]
    },
    {
      "cell_type": "markdown",
      "id": "1344b73f",
      "metadata": {
        "id": "1344b73f"
      },
      "source": [
        "## Aufgabe 8: Wert in einem verschachtelten Dictionary ändern"
      ]
    },
    {
      "cell_type": "markdown",
      "id": "941b58b7",
      "metadata": {
        "id": "941b58b7"
      },
      "source": [
        "Ergänze den Code, um die Stadt von `Anna` zu ändern."
      ]
    },
    {
      "cell_type": "code",
      "execution_count": 15,
      "id": "5356c25a",
      "metadata": {
        "id": "5356c25a",
        "colab": {
          "base_uri": "https://localhost:8080/"
        },
        "outputId": "196d0f92-4b2c-4f05-fcf1-b6e9af9feb57"
      },
      "outputs": [
        {
          "output_type": "stream",
          "name": "stdout",
          "text": [
            "Hamburg\n"
          ]
        }
      ],
      "source": [
        "daten = {'Ben': {'Alter': 30, 'Stadt': 'Berlin'}, 'Anna': {'Alter': 25, 'Stadt': 'Hamburg'}}\n",
        "stadt_anna = daten[\"Anna\"][\"Stadt\"]\n",
        "print(stadt_anna)"
      ]
    },
    {
      "cell_type": "markdown",
      "id": "b2386d05",
      "metadata": {
        "id": "b2386d05"
      },
      "source": [
        "## Aufgabe 9: Alle Schlüssel aus einem Dictionary von Dictionaries ausgeben"
      ]
    },
    {
      "cell_type": "markdown",
      "id": "9fd17e76",
      "metadata": {
        "id": "9fd17e76"
      },
      "source": [
        "Ergänze den Code, um alle Namen aus `daten` auszugeben."
      ]
    },
    {
      "cell_type": "code",
      "execution_count": 16,
      "id": "4d9b011b",
      "metadata": {
        "id": "4d9b011b",
        "colab": {
          "base_uri": "https://localhost:8080/"
        },
        "outputId": "8a678854-91c6-44da-a918-2a22c4f7a169"
      },
      "outputs": [
        {
          "output_type": "stream",
          "name": "stdout",
          "text": [
            "Ben\n",
            "Anna\n"
          ]
        }
      ],
      "source": [
        "daten = {'Ben': {'Alter': 30, 'Stadt': 'Berlin'}, 'Anna': {'Alter': 25, 'Stadt': 'Hamburg'}}\n",
        "for name in daten:\n",
        "    print(name)"
      ]
    },
    {
      "cell_type": "markdown",
      "id": "c43c9a40",
      "metadata": {
        "id": "c43c9a40"
      },
      "source": [
        "## Aufgabe 10: Alle Werte eines bestimmten Schlüssels ausgeben"
      ]
    },
    {
      "cell_type": "markdown",
      "id": "07357771",
      "metadata": {
        "id": "07357771"
      },
      "source": [
        "Ergänze den Code, um alle Alterswerte aus `daten` auszugeben."
      ]
    },
    {
      "cell_type": "code",
      "execution_count": 20,
      "id": "b3db8568",
      "metadata": {
        "id": "b3db8568",
        "colab": {
          "base_uri": "https://localhost:8080/"
        },
        "outputId": "a1aadc95-3acb-407c-f518-74c012fc4c64"
      },
      "outputs": [
        {
          "output_type": "stream",
          "name": "stdout",
          "text": [
            "30\n",
            "25\n"
          ]
        }
      ],
      "source": [
        "daten = {'Ben': {'Alter': 30, 'Stadt': 'Berlin'}, 'Anna': {'Alter': 25, 'Stadt': 'Hamburg'}}\n",
        "for name in daten:\n",
        "    print(daten[name]['Alter'])"
      ]
    },
    {
      "cell_type": "markdown",
      "id": "0ed82181",
      "metadata": {
        "id": "0ed82181"
      },
      "source": [
        "## Aufgabe 11: Liste von Dictionaries erstellen"
      ]
    },
    {
      "cell_type": "markdown",
      "id": "cbc954ae",
      "metadata": {
        "id": "cbc954ae"
      },
      "source": [
        "Ergänze den Code, um eine Liste mit zwei Dictionaries zu erstellen."
      ]
    },
    {
      "cell_type": "code",
      "execution_count": 21,
      "id": "45feccb6",
      "metadata": {
        "id": "45feccb6",
        "colab": {
          "base_uri": "https://localhost:8080/"
        },
        "outputId": "022c95cf-1450-467b-a633-e2f3d1e97491"
      },
      "outputs": [
        {
          "output_type": "stream",
          "name": "stdout",
          "text": [
            "[{'name': 'Ben', 'alter': 30, 'stadt': 'Berlin'}, {'name': 'Anna', 'alter': 25, 'stadt': 'Hamburg'}]\n"
          ]
        }
      ],
      "source": [
        "personen = [\n",
        "    {\"name\": \"Ben\", \"alter\": 30, \"stadt\": \"Berlin\"},\n",
        "    {\"name\": \"Anna\", \"alter\": 25, \"stadt\": \"Hamburg\"}\n",
        "]\n",
        "print(personen)"
      ]
    },
    {
      "cell_type": "markdown",
      "id": "bd6931a5",
      "metadata": {
        "id": "bd6931a5"
      },
      "source": [
        "## Aufgabe 12: Wert aus einer Liste von Dictionaries abrufen"
      ]
    },
    {
      "cell_type": "markdown",
      "id": "75e1b941",
      "metadata": {
        "id": "75e1b941"
      },
      "source": [
        "Ergänze den Code, um den Namen der zweiten Person in `personen` zu erhalten."
      ]
    },
    {
      "cell_type": "code",
      "execution_count": 23,
      "id": "9c01f6f4",
      "metadata": {
        "id": "9c01f6f4",
        "colab": {
          "base_uri": "https://localhost:8080/"
        },
        "outputId": "19ffa04b-0aa5-4721-c60f-77372cac2714"
      },
      "outputs": [
        {
          "output_type": "stream",
          "name": "stdout",
          "text": [
            "Anna\n"
          ]
        }
      ],
      "source": [
        "personen = [{'Name': 'Ben', 'Alter': 30}, {'Name': 'Anna', 'Alter': 25}]\n",
        "name_zweite_person = personen[1][\"Name\"]\n",
        "print(name_zweite_person)"
      ]
    },
    {
      "cell_type": "markdown",
      "id": "e7b9c1e5",
      "metadata": {
        "id": "e7b9c1e5"
      },
      "source": [
        "## Aufgabe 13: Alle Namen aus einer Liste von Dictionaries ausgeben"
      ]
    },
    {
      "cell_type": "markdown",
      "id": "badb70ed",
      "metadata": {
        "id": "badb70ed"
      },
      "source": [
        "Ergänze den Code, um alle Namen aus `personen` auszugeben."
      ]
    },
    {
      "cell_type": "code",
      "execution_count": 25,
      "id": "ceadb293",
      "metadata": {
        "id": "ceadb293",
        "colab": {
          "base_uri": "https://localhost:8080/"
        },
        "outputId": "0ccfa16e-8eab-4abf-d190-4470069ecf7e"
      },
      "outputs": [
        {
          "output_type": "stream",
          "name": "stdout",
          "text": [
            "Ben\n",
            "Anna\n"
          ]
        }
      ],
      "source": [
        "personen = [{'Name': 'Ben', 'Alter': 30}, {'Name': 'Anna', 'Alter': 25}]\n",
        "for person in personen:\n",
        "    print(person[\"Name\"])"
      ]
    },
    {
      "cell_type": "markdown",
      "id": "50ca4949",
      "metadata": {
        "id": "50ca4949"
      },
      "source": [
        "## Aufgabe 14: Wert in einer Liste von Dictionaries ändern"
      ]
    },
    {
      "cell_type": "markdown",
      "id": "4104e4b5",
      "metadata": {
        "id": "4104e4b5"
      },
      "source": [
        "Ergänze den Code, um das Alter der ersten Person in `personen` zu erhöhen."
      ]
    },
    {
      "cell_type": "code",
      "execution_count": 29,
      "id": "21bebcca",
      "metadata": {
        "id": "21bebcca",
        "colab": {
          "base_uri": "https://localhost:8080/"
        },
        "outputId": "f2c6880e-c31a-49fa-8598-bed3cb994c33"
      },
      "outputs": [
        {
          "output_type": "stream",
          "name": "stdout",
          "text": [
            "31\n"
          ]
        }
      ],
      "source": [
        "personen = [{'Name': 'Ben', 'Alter': 30}, {'Name': 'Anna', 'Alter': 25}]\n",
        "personen[0][\"Alter\"] += 1\n",
        "print(personen[0]['Alter'])"
      ]
    },
    {
      "cell_type": "markdown",
      "id": "c465432c",
      "metadata": {
        "id": "c465432c"
      },
      "source": [
        "## Aufgabe 15: Neues Element zur Liste von Dictionaries hinzufügen"
      ]
    },
    {
      "cell_type": "markdown",
      "id": "5f853ac1",
      "metadata": {
        "id": "5f853ac1"
      },
      "source": [
        "Ergänze den Code, um eine neue Person zu `personen` hinzuzufügen."
      ]
    },
    {
      "cell_type": "code",
      "execution_count": 31,
      "id": "2b3d0a6e",
      "metadata": {
        "id": "2b3d0a6e",
        "colab": {
          "base_uri": "https://localhost:8080/"
        },
        "outputId": "6ccd3091-9829-4351-b615-b184ce810c7e"
      },
      "outputs": [
        {
          "output_type": "stream",
          "name": "stdout",
          "text": [
            "[{'Name': 'Ben', 'Alter': 30}, {'Name': 'Anna', 'Alter': 25}, {'Name': 'Thor', 'Alter': 36}]\n"
          ]
        }
      ],
      "source": [
        "personen = [{'Name': 'Ben', 'Alter': 30}, {'Name': 'Anna', 'Alter': 25}]\n",
        "personen.append({\"Name\": \"Thor\", \"Alter\":36})\n",
        "print(personen)"
      ]
    },
    {
      "cell_type": "markdown",
      "id": "c5e747e3",
      "metadata": {
        "id": "c5e747e3"
      },
      "source": [
        "## Aufgabe 16: Dictionary mit Listen als Werten erstellen"
      ]
    },
    {
      "cell_type": "markdown",
      "id": "997188a2",
      "metadata": {
        "id": "997188a2"
      },
      "source": [
        "Ergänze den Code, um ein Dictionary mit Listen als Werten zu erstellen."
      ]
    },
    {
      "cell_type": "code",
      "execution_count": 33,
      "id": "7add7b26",
      "metadata": {
        "id": "7add7b26",
        "colab": {
          "base_uri": "https://localhost:8080/"
        },
        "outputId": "07ed00ef-ff4f-4da7-e2b8-cef94e4feb16"
      },
      "outputs": [
        {
          "output_type": "stream",
          "name": "stdout",
          "text": [
            "{'Mathe': ['Ben', 'Anna'], 'Englisch': ['Clara', 'Tom']}\n"
          ]
        }
      ],
      "source": [
        "klassen = {\n",
        "    'Mathe': ['Ben', 'Anna'],\n",
        "    'Englisch': ['Clara', 'Tom']\n",
        "}\n",
        "print(klassen)"
      ]
    },
    {
      "cell_type": "markdown",
      "id": "8ea467c2",
      "metadata": {
        "id": "8ea467c2"
      },
      "source": [
        "## Aufgabe 17: Werte aus einem Dictionary mit Listen abrufen"
      ]
    },
    {
      "cell_type": "markdown",
      "id": "e8825546",
      "metadata": {
        "id": "e8825546"
      },
      "source": [
        "Ergänze den Code, um alle Schüler in `Mathe` auszugeben."
      ]
    },
    {
      "cell_type": "code",
      "execution_count": 37,
      "id": "373de786",
      "metadata": {
        "id": "373de786",
        "colab": {
          "base_uri": "https://localhost:8080/"
        },
        "outputId": "db6b0a07-7b2d-4524-ce49-2a1a18062c63"
      },
      "outputs": [
        {
          "output_type": "stream",
          "name": "stdout",
          "text": [
            "['Ben', 'Anna']\n"
          ]
        }
      ],
      "source": [
        "klassen = {'Mathe': ['Ben', 'Anna'], 'Englisch': ['Clara', 'Tom']}\n",
        "print(klassen['Mathe'])"
      ]
    },
    {
      "cell_type": "markdown",
      "id": "ee7e3eeb",
      "metadata": {
        "id": "ee7e3eeb"
      },
      "source": [
        "## Aufgabe 18: Element zu einer Liste in einem Dictionary hinzufügen"
      ]
    },
    {
      "cell_type": "markdown",
      "id": "247058f5",
      "metadata": {
        "id": "247058f5"
      },
      "source": [
        "Ergänze den Code, um `David` zur `Englisch`-Klasse hinzuzufügen."
      ]
    },
    {
      "cell_type": "code",
      "execution_count": 38,
      "id": "5344ed84",
      "metadata": {
        "id": "5344ed84",
        "colab": {
          "base_uri": "https://localhost:8080/"
        },
        "outputId": "67b65585-9abe-4bd5-c94f-00fe148763ce"
      },
      "outputs": [
        {
          "output_type": "stream",
          "name": "stdout",
          "text": [
            "['Clara', 'Tom', 'David']\n"
          ]
        }
      ],
      "source": [
        "klassen = {'Mathe': ['Ben', 'Anna'], 'Englisch': ['Clara', 'Tom']}\n",
        "klassen[\"Englisch\"].append(\"David\")\n",
        "print(klassen['Englisch'])"
      ]
    },
    {
      "cell_type": "markdown",
      "id": "aeb42b99",
      "metadata": {
        "id": "aeb42b99"
      },
      "source": [
        "## Aufgabe 19: Alle Schlüssel eines Dictionaries mit Listen als Werten ausgeben"
      ]
    },
    {
      "cell_type": "markdown",
      "id": "7c8678ae",
      "metadata": {
        "id": "7c8678ae"
      },
      "source": [
        "Ergänze den Code, um alle Fächer in `klassen` auszugeben."
      ]
    },
    {
      "cell_type": "code",
      "execution_count": 39,
      "id": "1abf0309",
      "metadata": {
        "id": "1abf0309",
        "colab": {
          "base_uri": "https://localhost:8080/"
        },
        "outputId": "160002df-ac42-4af2-8bc8-0bb743ecdb1b"
      },
      "outputs": [
        {
          "output_type": "stream",
          "name": "stdout",
          "text": [
            "Mathe\n",
            "Englisch\n"
          ]
        }
      ],
      "source": [
        "klassen = {'Mathe': ['Ben', 'Anna'], 'Englisch': ['Clara', 'Tom']}\n",
        "for fach in klassen:\n",
        "    print(fach)"
      ]
    },
    {
      "cell_type": "markdown",
      "id": "3529c80f",
      "metadata": {
        "id": "3529c80f"
      },
      "source": [
        "## Aufgabe 20: Alle Schlüssel-Wert-Paare in einem Dictionary mit Listen ausgeben"
      ]
    },
    {
      "cell_type": "markdown",
      "id": "9f1df3ff",
      "metadata": {
        "id": "9f1df3ff"
      },
      "source": [
        "Ergänze den Code, um für jedes Fach die Namen der Schüler auszugeben."
      ]
    },
    {
      "cell_type": "code",
      "execution_count": 41,
      "id": "43003655",
      "metadata": {
        "id": "43003655",
        "colab": {
          "base_uri": "https://localhost:8080/"
        },
        "outputId": "e9b938af-bd83-4b91-b1e6-aa3cf3758dee"
      },
      "outputs": [
        {
          "output_type": "stream",
          "name": "stdout",
          "text": [
            "Mathe : Ben,Anna\n",
            "Englisch : Clara,Tom\n"
          ]
        }
      ],
      "source": [
        "klassen = {'Mathe': ['Ben', 'Anna'], 'Englisch': ['Clara', 'Tom']}\n",
        "for fach, schueler in klassen.items():\n",
        "    print(fach, \":\", ','.join(schueler))"
      ]
    }
  ],
  "metadata": {
    "colab": {
      "provenance": [],
      "include_colab_link": true
    },
    "language_info": {
      "name": "python"
    },
    "kernelspec": {
      "name": "python3",
      "display_name": "Python 3"
    }
  },
  "nbformat": 4,
  "nbformat_minor": 5
}