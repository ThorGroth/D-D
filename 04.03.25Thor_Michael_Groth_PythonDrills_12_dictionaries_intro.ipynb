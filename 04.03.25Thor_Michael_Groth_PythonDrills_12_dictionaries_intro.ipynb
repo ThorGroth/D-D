{
  "cells": [
    {
      "cell_type": "markdown",
      "metadata": {
        "id": "view-in-github",
        "colab_type": "text"
      },
      "source": [
        "<a href=\"https://colab.research.google.com/github/ThorGroth/D-D/blob/master/04.03.25Thor_Michael_Groth_PythonDrills_12_dictionaries_intro.ipynb\" target=\"_parent\"><img src=\"https://colab.research.google.com/assets/colab-badge.svg\" alt=\"Open In Colab\"/></a>"
      ]
    },
    {
      "cell_type": "markdown",
      "id": "b19c2e92",
      "metadata": {
        "id": "b19c2e92"
      },
      "source": [
        "## Aufgabe 1: Ein leeres Dictionary erstellen"
      ]
    },
    {
      "cell_type": "markdown",
      "id": "f94923f0",
      "metadata": {
        "id": "f94923f0"
      },
      "source": [
        "Erstelle ein leeres Dictionary und speichere es in der Variable `mein_dict`."
      ]
    },
    {
      "cell_type": "code",
      "execution_count": null,
      "id": "fb747c80",
      "metadata": {
        "id": "fb747c80",
        "colab": {
          "base_uri": "https://localhost:8080/"
        },
        "outputId": "e0d4b59f-f6a3-44fe-fc3e-d098319814cb"
      },
      "outputs": [
        {
          "output_type": "stream",
          "name": "stdout",
          "text": [
            "{}\n"
          ]
        }
      ],
      "source": [
        "mein_dict = {}\n",
        "print(mein_dict)  # Erwartete Ausgabe: {}"
      ]
    },
    {
      "cell_type": "markdown",
      "id": "30167644",
      "metadata": {
        "id": "30167644"
      },
      "source": [
        "## Aufgabe 2: Dictionary mit Namen und Alter"
      ]
    },
    {
      "cell_type": "markdown",
      "id": "eb5f2ee2",
      "metadata": {
        "id": "eb5f2ee2"
      },
      "source": [
        "Erstelle ein Dictionary mit den Namen als Schlüssel und den dazugehörigen Alter als Werte."
      ]
    },
    {
      "cell_type": "code",
      "execution_count": null,
      "id": "7308a161",
      "metadata": {
        "id": "7308a161",
        "colab": {
          "base_uri": "https://localhost:8080/"
        },
        "outputId": "6bd98e9c-2002-47ba-f0cb-c3cf44f0a203"
      },
      "outputs": [
        {
          "output_type": "stream",
          "name": "stdout",
          "text": [
            "{'Anna': 25, 'Ben': 30, 'Clara': 22}\n"
          ]
        }
      ],
      "source": [
        "personen = {\"Anna\": 25, \"Ben\": 30, \"Clara\": 22}\n",
        "print(personen)  # Erwartete Ausgabe: {'Anna': 25, 'Ben': 30, 'Clara': 22}"
      ]
    },
    {
      "cell_type": "markdown",
      "id": "bbc8a79c",
      "metadata": {
        "id": "bbc8a79c"
      },
      "source": [
        "## Aufgabe 3: Wert für einen Schlüssel abrufen"
      ]
    },
    {
      "cell_type": "markdown",
      "id": "864f7322",
      "metadata": {
        "id": "864f7322"
      },
      "source": [
        "Ergänze den Code, um auf den Wert des Schlüssels `'Banane'` in `fruits` zuzugreifen."
      ]
    },
    {
      "cell_type": "code",
      "execution_count": null,
      "id": "12e7511e",
      "metadata": {
        "id": "12e7511e",
        "colab": {
          "base_uri": "https://localhost:8080/"
        },
        "outputId": "bfc4ce4e-3f92-41ce-d052-7039f875aba1"
      },
      "outputs": [
        {
          "output_type": "stream",
          "name": "stdout",
          "text": [
            "5\n"
          ]
        }
      ],
      "source": [
        "fruits = {\"Apfel\": 3, \"Banane\": 5, \"Kirsche\": 8}\n",
        "anzahl_bananen = fruits [\"Banane\"]\n",
        "print(anzahl_bananen)  # Erwartete Ausgabe: 5"
      ]
    },
    {
      "cell_type": "markdown",
      "id": "0f2b4415",
      "metadata": {
        "id": "0f2b4415"
      },
      "source": [
        "## Aufgabe 4: Alter von Clara abrufen"
      ]
    },
    {
      "cell_type": "markdown",
      "id": "30b6d525",
      "metadata": {
        "id": "30b6d525"
      },
      "source": [
        "Ergänze den Code, um auf das Alter von `'Clara'` im Dictionary `personen` zuzugreifen."
      ]
    },
    {
      "cell_type": "code",
      "execution_count": null,
      "id": "bcdc3e99",
      "metadata": {
        "id": "bcdc3e99",
        "colab": {
          "base_uri": "https://localhost:8080/"
        },
        "outputId": "9036ed28-5e29-442a-dd72-e20fa2a0e63d"
      },
      "outputs": [
        {
          "output_type": "stream",
          "name": "stdout",
          "text": [
            "22\n"
          ]
        }
      ],
      "source": [
        "personen = {\"Anna\": 25, \"Ben\": 30, \"Clara\": 22}\n",
        "alter_clara = personen [\"Clara\"]\n",
        "print(alter_clara)  # Erwartete Ausgabe: 22"
      ]
    },
    {
      "cell_type": "markdown",
      "id": "3557b194",
      "metadata": {
        "id": "3557b194"
      },
      "source": [
        "## Aufgabe 5: Neuen Schlüssel-Wert hinzufügen"
      ]
    },
    {
      "cell_type": "markdown",
      "id": "69367787",
      "metadata": {
        "id": "69367787"
      },
      "source": [
        "Ergänze den Code, um einen neuen Eintrag `'Mango': 10` zu `fruits` hinzuzufügen."
      ]
    },
    {
      "cell_type": "code",
      "execution_count": null,
      "id": "94b99755",
      "metadata": {
        "id": "94b99755",
        "colab": {
          "base_uri": "https://localhost:8080/"
        },
        "outputId": "48d4a507-c073-40a4-e5a9-8846242beb65"
      },
      "outputs": [
        {
          "output_type": "stream",
          "name": "stdout",
          "text": [
            "{'Apfel': 3, 'Banane': 5, 'Kirsche': 8, 'Mango': 10}\n"
          ]
        }
      ],
      "source": [
        "fruits = {\"Apfel\": 3, \"Banane\": 5, \"Kirsche\": 8}\n",
        "fruits[\"Mango\"] = 10\n",
        "print(fruits)"
      ]
    },
    {
      "cell_type": "markdown",
      "id": "aa0f8b38",
      "metadata": {
        "id": "aa0f8b38"
      },
      "source": [
        "## Aufgabe 6: Auto-Modell abrufen"
      ]
    },
    {
      "cell_type": "markdown",
      "id": "90d0e6a3",
      "metadata": {
        "id": "90d0e6a3"
      },
      "source": [
        "Ergänze den Code, um das Modell des Autos aus `auto` abzurufen."
      ]
    },
    {
      "cell_type": "code",
      "execution_count": null,
      "id": "952c80c7",
      "metadata": {
        "id": "952c80c7",
        "colab": {
          "base_uri": "https://localhost:8080/"
        },
        "outputId": "86303d4e-8aff-480f-e1bd-41eedfcc7720"
      },
      "outputs": [
        {
          "output_type": "stream",
          "name": "stdout",
          "text": [
            "X5\n"
          ]
        }
      ],
      "source": [
        "auto = {\"Marke\": \"BMW\", \"Modell\": \"X5\", \"Baujahr\": 2020}\n",
        "modell = auto[\"Modell\"]\n",
        "print(modell)  # Erwartete Ausgabe: X5"
      ]
    },
    {
      "cell_type": "markdown",
      "id": "cda82a37",
      "metadata": {
        "id": "cda82a37"
      },
      "source": [
        "## Aufgabe 7: Buch-Dictionary erstellen"
      ]
    },
    {
      "cell_type": "markdown",
      "id": "982dd1cb",
      "metadata": {
        "id": "982dd1cb"
      },
      "source": [
        "Ergänze den Code, um das Dictionary `buch` zu erstellen und den Titel abzurufen."
      ]
    },
    {
      "cell_type": "code",
      "execution_count": null,
      "id": "4bac4236",
      "metadata": {
        "id": "4bac4236",
        "colab": {
          "base_uri": "https://localhost:8080/"
        },
        "outputId": "c56b2d38-09b2-42bb-b4ff-ee8fce00c9f8"
      },
      "outputs": [
        {
          "output_type": "stream",
          "name": "stdout",
          "text": [
            "Harry Potter\n"
          ]
        }
      ],
      "source": [
        "buch = {\"Titel\": \"Harry Potter\"}\n",
        "titel = buch[\"Titel\"]\n",
        "print(titel)  # Erwartete Ausgabe: \"Harry Potter\""
      ]
    },
    {
      "cell_type": "markdown",
      "id": "966dd722",
      "metadata": {
        "id": "966dd722"
      },
      "source": [
        "## Aufgabe 8: Wert eines Schlüssels ändern"
      ]
    },
    {
      "cell_type": "markdown",
      "id": "21145e84",
      "metadata": {
        "id": "21145e84"
      },
      "source": [
        "Ergänze den Code, um das Gehalt von `'Anna'` im Dictionary `mitarbeiter` zu ändern."
      ]
    },
    {
      "cell_type": "code",
      "execution_count": null,
      "id": "b88d91c9",
      "metadata": {
        "id": "b88d91c9",
        "colab": {
          "base_uri": "https://localhost:8080/"
        },
        "outputId": "4f52bd1b-dcdc-473a-8374-8c7bd648fe67"
      },
      "outputs": [
        {
          "output_type": "stream",
          "name": "stdout",
          "text": [
            "{'Anna': 3769, 'Ben': 3500, 'Clara': 2800}\n"
          ]
        }
      ],
      "source": [
        "mitarbeiter = {\"Anna\": 3000, \"Ben\": 3500, \"Clara\": 2800}\n",
        "mitarbeiter[\"Anna\"] = 3769\n",
        "print(mitarbeiter)"
      ]
    },
    {
      "cell_type": "markdown",
      "id": "5f644e09",
      "metadata": {
        "id": "5f644e09"
      },
      "source": [
        "## Aufgabe 9: Schlüssel in Dictionary prüfen"
      ]
    },
    {
      "cell_type": "markdown",
      "id": "b9f5b82f",
      "metadata": {
        "id": "b9f5b82f"
      },
      "source": [
        "Ergänze den Code, um das Vorhandensein des Schlüssels `'Tesla'` in `autos` zu prüfen."
      ]
    },
    {
      "cell_type": "code",
      "execution_count": null,
      "id": "6e8df215",
      "metadata": {
        "id": "6e8df215",
        "colab": {
          "base_uri": "https://localhost:8080/"
        },
        "outputId": "07bc559a-ce7e-479d-d93e-0dc500b3713c"
      },
      "outputs": [
        {
          "output_type": "stream",
          "name": "stdout",
          "text": [
            "False\n"
          ]
        }
      ],
      "source": [
        "autos = {\"BMW\": \"X5\", \"Audi\": \"A6\", \"Mercedes\": \"C-Klasse\"}\n",
        "ist_vorhanden = \"Tesla\" in autos\n",
        "print(ist_vorhanden)  # Erwartete Ausgabe: False"
      ]
    },
    {
      "cell_type": "markdown",
      "id": "004749b6",
      "metadata": {
        "id": "004749b6"
      },
      "source": [
        "## Aufgabe 10: Wert mit `get()` abrufen"
      ]
    },
    {
      "cell_type": "markdown",
      "id": "a221ed51",
      "metadata": {
        "id": "a221ed51"
      },
      "source": [
        "Ergänze den Code, um den Wert für den Schlüssel `'Preis'` aus `produkt` zu holen. Falls der Schlüssel nicht existiert, soll `0` zurückgegeben werden."
      ]
    },
    {
      "cell_type": "code",
      "execution_count": null,
      "id": "14f77426",
      "metadata": {
        "id": "14f77426",
        "colab": {
          "base_uri": "https://localhost:8080/"
        },
        "outputId": "a8194921-ab50-422d-aa8a-fe96d1972582"
      },
      "outputs": [
        {
          "output_type": "stream",
          "name": "stdout",
          "text": [
            "0\n"
          ]
        }
      ],
      "source": [
        "produkt = {\"Name\": \"Laptop\", \"Marke\": \"Dell\"}\n",
        "preis = produkt.get(\"Preis\", 0)\n",
        "print(preis)  # Erwartete Ausgabe: 0"
      ]
    },
    {
      "cell_type": "markdown",
      "id": "d1b77a50",
      "metadata": {
        "id": "d1b77a50"
      },
      "source": [
        "## Aufgabe 11: Schlüssel zu Dictionary hinzufügen"
      ]
    },
    {
      "cell_type": "markdown",
      "id": "eb915bac",
      "metadata": {
        "id": "eb915bac"
      },
      "source": [
        "Ergänze den Code, um eine neue Telefonnummer für `'Clara'` zu `kontakte` hinzuzufügen."
      ]
    },
    {
      "cell_type": "code",
      "execution_count": null,
      "id": "74696af4",
      "metadata": {
        "id": "74696af4",
        "colab": {
          "base_uri": "https://localhost:8080/"
        },
        "outputId": "4af9985c-62af-4ecf-a0d4-1f64d7023213"
      },
      "outputs": [
        {
          "output_type": "stream",
          "name": "stdout",
          "text": [
            "{'Anna': '123-456', 'Ben': '987-654', 'Clara': '555-123'}\n"
          ]
        }
      ],
      "source": [
        "kontakte = {\"Anna\": \"123-456\", \"Ben\": \"987-654\"}\n",
        "kontakte[\"Clara\"] = \"555-123\"\n",
        "print(kontakte)"
      ]
    },
    {
      "cell_type": "markdown",
      "id": "96f2341e",
      "metadata": {
        "id": "96f2341e"
      },
      "source": [
        "## Aufgabe 12: Wert verdoppeln"
      ]
    },
    {
      "cell_type": "markdown",
      "id": "5100cd52",
      "metadata": {
        "id": "5100cd52"
      },
      "source": [
        "Ergänze den Code, um die Anzahl der `'Eier'` in `einkaufsliste` zu verdoppeln."
      ]
    },
    {
      "cell_type": "code",
      "execution_count": null,
      "id": "341db95f",
      "metadata": {
        "id": "341db95f",
        "colab": {
          "base_uri": "https://localhost:8080/"
        },
        "outputId": "059fd3e5-9af8-432c-ce8f-8ce8a100ed80"
      },
      "outputs": [
        {
          "output_type": "stream",
          "name": "stdout",
          "text": [
            "{'Milch': 1, 'Eier': 12, 'Brot': 2}\n"
          ]
        }
      ],
      "source": [
        "einkaufsliste = {\"Milch\": 1, \"Eier\": 6, \"Brot\": 2}\n",
        "einkaufsliste[\"Eier\"] *= 2\n",
        "print(einkaufsliste)"
      ]
    },
    {
      "cell_type": "markdown",
      "id": "5a922cf8",
      "metadata": {
        "id": "5a922cf8"
      },
      "source": [
        "## Aufgabe 13: Alle Schlüssel ausgeben"
      ]
    },
    {
      "cell_type": "markdown",
      "id": "e03e7a83",
      "metadata": {
        "id": "e03e7a83"
      },
      "source": [
        "Ergänze den Code, um alle Schlüssel aus `personen` auszugeben."
      ]
    },
    {
      "cell_type": "code",
      "execution_count": null,
      "id": "508ed700",
      "metadata": {
        "id": "508ed700",
        "colab": {
          "base_uri": "https://localhost:8080/"
        },
        "outputId": "97348241-3439-48d8-a18e-c68a2fc359e4"
      },
      "outputs": [
        {
          "output_type": "stream",
          "name": "stdout",
          "text": [
            "['Anna', 'Ben', 'Clara']\n"
          ]
        }
      ],
      "source": [
        "personen = {\"Anna\": 25, \"Ben\": 30, \"Clara\": 22}\n",
        "schluessel = list(personen.keys())\n",
        "print(schluessel)"
      ]
    },
    {
      "cell_type": "markdown",
      "id": "7f2f107b",
      "metadata": {
        "id": "7f2f107b"
      },
      "source": [
        "## Aufgabe 14: Alle Werte ausgeben"
      ]
    },
    {
      "cell_type": "markdown",
      "id": "304b91a7",
      "metadata": {
        "id": "304b91a7"
      },
      "source": [
        "Ergänze den Code, um alle Werte aus `personen` auszugeben."
      ]
    },
    {
      "cell_type": "code",
      "execution_count": null,
      "id": "54f23f1f",
      "metadata": {
        "id": "54f23f1f",
        "colab": {
          "base_uri": "https://localhost:8080/"
        },
        "outputId": "07dcfd81-acac-434c-9cad-e7adef5fafe6"
      },
      "outputs": [
        {
          "output_type": "stream",
          "name": "stdout",
          "text": [
            "[25, 30, 22]\n"
          ]
        }
      ],
      "source": [
        "personen = {\"Anna\": 25, \"Ben\": 30, \"Clara\": 22}\n",
        "werte = list(personen.values())\n",
        "print(werte)"
      ]
    },
    {
      "cell_type": "markdown",
      "id": "f991dcdb",
      "metadata": {
        "id": "f991dcdb"
      },
      "source": [
        "## Aufgabe 15: Dictionary um neuen Eintrag erweitern"
      ]
    },
    {
      "cell_type": "markdown",
      "id": "59b9b41f",
      "metadata": {
        "id": "59b9b41f"
      },
      "source": [
        "Ergänze den Code, um das Dictionary `tiere` um `'Katze': 2` zu erweitern."
      ]
    },
    {
      "cell_type": "code",
      "execution_count": null,
      "id": "1f31631f",
      "metadata": {
        "id": "1f31631f",
        "colab": {
          "base_uri": "https://localhost:8080/"
        },
        "outputId": "9e6c4620-8ac2-4a43-d830-7e8084439d1b"
      },
      "outputs": [
        {
          "output_type": "stream",
          "name": "stdout",
          "text": [
            "{'Hund': 4, 'Maus': 2, 'Katze': 2}\n"
          ]
        }
      ],
      "source": [
        "tiere = {\"Hund\": 4, \"Maus\": 2}\n",
        "tiere[\"Katze\"] = 2\n",
        "print(tiere)"
      ]
    },
    {
      "cell_type": "markdown",
      "id": "a4da89ed",
      "metadata": {
        "id": "a4da89ed"
      },
      "source": [
        "## Aufgabe 16: Zwei Dictionaries zusammenführen"
      ]
    },
    {
      "cell_type": "markdown",
      "id": "f5b9c637",
      "metadata": {
        "id": "f5b9c637"
      },
      "source": [
        "Ergänze den Code, um `dict1` und `dict2` zu einem neuen Dictionary `gesamt_dict` zu vereinen."
      ]
    },
    {
      "cell_type": "code",
      "execution_count": null,
      "id": "4e6c3f64",
      "metadata": {
        "id": "4e6c3f64",
        "colab": {
          "base_uri": "https://localhost:8080/"
        },
        "outputId": "9d28da3d-13b4-4a8b-91f8-accc830dd367"
      },
      "outputs": [
        {
          "output_type": "stream",
          "name": "stdout",
          "text": [
            "{'a': 1, 'b': 2, 'c': 3, 'd': 4}\n"
          ]
        }
      ],
      "source": [
        "dict1 = {\"a\": 1, \"b\": 2}\n",
        "dict2 = {\"c\": 3, \"d\": 4}\n",
        "gesamt_dict = {**dict1, **dict2}\n",
        "print(gesamt_dict)"
      ]
    },
    {
      "cell_type": "markdown",
      "id": "d3348fcd",
      "metadata": {
        "id": "d3348fcd"
      },
      "source": [
        "## Aufgabe 17: Schlüssel entfernen"
      ]
    },
    {
      "cell_type": "markdown",
      "id": "4d19a39f",
      "metadata": {
        "id": "4d19a39f"
      },
      "source": [
        "Ergänze den Code, um den Schlüssel `'Preis'` aus `produkt` zu entfernen."
      ]
    },
    {
      "cell_type": "code",
      "execution_count": null,
      "id": "dd6dc444",
      "metadata": {
        "id": "dd6dc444",
        "colab": {
          "base_uri": "https://localhost:8080/"
        },
        "outputId": "f62bfdf5-db7c-4552-9d70-68272d6fca5c"
      },
      "outputs": [
        {
          "output_type": "stream",
          "name": "stdout",
          "text": [
            "{'Name': 'Laptop', 'Marke': 'Dell'}\n"
          ]
        }
      ],
      "source": [
        "produkt = {\"Name\": \"Laptop\", \"Marke\": \"Dell\", \"Preis\": 1200}\n",
        "del produkt[\"Preis\"]\n",
        "print(produkt)"
      ]
    },
    {
      "cell_type": "markdown",
      "id": "ce3ed6f9",
      "metadata": {
        "id": "ce3ed6f9"
      },
      "source": [
        "## Aufgabe 18: Alle Schlüssel-Wert-Paare ausgeben"
      ]
    },
    {
      "cell_type": "markdown",
      "id": "8d5fc6d9",
      "metadata": {
        "id": "8d5fc6d9"
      },
      "source": [
        "Ergänze den Code, um alle Schlüssel-Wert-Paare in `personen` mit einer `for`-Schleife auszugeben."
      ]
    },
    {
      "cell_type": "code",
      "execution_count": null,
      "id": "136dd7bf",
      "metadata": {
        "id": "136dd7bf",
        "colab": {
          "base_uri": "https://localhost:8080/"
        },
        "outputId": "9d74ea4c-dd02-4905-9fb2-0d1313e0afd1"
      },
      "outputs": [
        {
          "output_type": "stream",
          "name": "stdout",
          "text": [
            "('Anna', 25)\n",
            "('Ben', 30)\n",
            "('Clara', 22)\n"
          ]
        }
      ],
      "source": [
        "personen = {\"Anna\": 25, \"Ben\": 30, \"Clara\": 22}\n",
        "for person in personen.items():\n",
        "    print(person)"
      ]
    },
    {
      "cell_type": "markdown",
      "id": "1dbd4c6f",
      "metadata": {
        "id": "1dbd4c6f"
      },
      "source": [
        "## Aufgabe 19: Anzahl der Elemente berechnen"
      ]
    },
    {
      "cell_type": "markdown",
      "id": "b784300b",
      "metadata": {
        "id": "b784300b"
      },
      "source": [
        "Ergänze den Code, um die Anzahl der Elemente im Dictionary `produkte` zu berechnen."
      ]
    },
    {
      "cell_type": "code",
      "execution_count": null,
      "id": "51861f1a",
      "metadata": {
        "id": "51861f1a",
        "colab": {
          "base_uri": "https://localhost:8080/"
        },
        "outputId": "947ae70e-7f7e-4d37-9c70-357e7c729a3a"
      },
      "outputs": [
        {
          "output_type": "stream",
          "name": "stdout",
          "text": [
            "3\n"
          ]
        }
      ],
      "source": [
        "produkte = {\"Laptop\": 3, \"Handy\": 5, \"Tablet\": 2}\n",
        "anzahl = len(produkte)\n",
        "print(anzahl)"
      ]
    },
    {
      "cell_type": "markdown",
      "id": "e863f30b",
      "metadata": {
        "id": "e863f30b"
      },
      "source": [
        "## Aufgabe 20: Dictionary nach Werten sortieren"
      ]
    },
    {
      "cell_type": "markdown",
      "id": "a29a8369",
      "metadata": {
        "id": "a29a8369"
      },
      "source": [
        "Ergänze den Code, um das Dictionary `punkte` nach den Werten aufsteigend zu sortieren."
      ]
    },
    {
      "cell_type": "code",
      "execution_count": null,
      "id": "8104f2df",
      "metadata": {
        "id": "8104f2df",
        "colab": {
          "base_uri": "https://localhost:8080/"
        },
        "outputId": "5fc3043f-be9e-4e01-96d1-05a4fbd4a31f"
      },
      "outputs": [
        {
          "output_type": "stream",
          "name": "stdout",
          "text": [
            "{'Clara': 78, 'Anna': 85, 'Ben': 92}\n"
          ]
        }
      ],
      "source": [
        "punkte = {\"Anna\": 85, \"Ben\": 92, \"Clara\": 78}\n",
        "sortiert = dict(sorted(punkte.items(), key=lambda item: item[1]))\n",
        "print(sortiert)"
      ]
    }
  ],
  "metadata": {
    "colab": {
      "provenance": [],
      "include_colab_link": true
    },
    "language_info": {
      "name": "python"
    },
    "kernelspec": {
      "name": "python3",
      "display_name": "Python 3"
    }
  },
  "nbformat": 4,
  "nbformat_minor": 5
}